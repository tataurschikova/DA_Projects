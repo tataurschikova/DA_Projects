{
 "cells": [
  {
   "cell_type": "markdown",
   "metadata": {},
   "source": [
    "# Analysis of the behavior of mobile application users"
   ]
  },
  {
   "cell_type": "markdown",
   "metadata": {},
   "source": [
    "## Project description"
   ]
  },
  {
   "cell_type": "markdown",
   "metadata": {},
   "source": [
    "The customer is a startup that sells food products. It is necessary to analyze how users of the mobile application behave.\n",
    "Study the sales funnel, find out how users reach the purchase. How many users reach the purchase, and how many get “stuck” at the previous steps, on which ones.\n",
    "\n",
    "Then explore the results of the A/A/B experiment. The designers wanted to change the fonts throughout the application, and the managers suggested that it would be unusual for users.\n",
    "Users were divided into 3 groups: 2 control groups with old fonts and one experimental group with new ones. You need to decide which font is best."
   ]
  },
  {
   "cell_type": "markdown",
   "metadata": {},
   "source": [
    "### Data Description"
   ]
  },
  {
   "cell_type": "markdown",
   "metadata": {},
   "source": [
    "Each entry in the log is a user action, or event.\n",
    "* EventName - event name;\n",
    "* DeviceIDHash - unique user identifier;\n",
    "* EventTimestamp - event time;\n",
    "* ExpId is the number of the experiment: 246 and 247 are the control groups, and 248 is the experimental group."
   ]
  },
  {
   "cell_type": "markdown",
   "metadata": {},
   "source": [
    "## Data quality analysis"
   ]
  },
  {
   "cell_type": "code",
   "execution_count": 1,
   "metadata": {},
   "outputs": [],
   "source": [
    "import pandas as pd\n",
    "import datetime as dt\n",
    "import matplotlib.pyplot as plt\n",
    "import seaborn as sns\n",
    "from scipy import stats\n",
    "import numpy as np\n",
    "import math\n",
    "import warnings\n",
    "warnings.filterwarnings(\"ignore\")"
   ]
  },
  {
   "cell_type": "code",
   "execution_count": 2,
   "metadata": {},
   "outputs": [
    {
     "data": {
      "text/html": [
       "<div>\n",
       "<style scoped>\n",
       "    .dataframe tbody tr th:only-of-type {\n",
       "        vertical-align: middle;\n",
       "    }\n",
       "\n",
       "    .dataframe tbody tr th {\n",
       "        vertical-align: top;\n",
       "    }\n",
       "\n",
       "    .dataframe thead th {\n",
       "        text-align: right;\n",
       "    }\n",
       "</style>\n",
       "<table border=\"1\" class=\"dataframe\">\n",
       "  <thead>\n",
       "    <tr style=\"text-align: right;\">\n",
       "      <th></th>\n",
       "      <th>EventName</th>\n",
       "      <th>DeviceIDHash</th>\n",
       "      <th>EventTimestamp</th>\n",
       "      <th>ExpId</th>\n",
       "    </tr>\n",
       "  </thead>\n",
       "  <tbody>\n",
       "    <tr>\n",
       "      <th>0</th>\n",
       "      <td>MainScreenAppear</td>\n",
       "      <td>4575588528974610257</td>\n",
       "      <td>1564029816</td>\n",
       "      <td>246</td>\n",
       "    </tr>\n",
       "    <tr>\n",
       "      <th>1</th>\n",
       "      <td>MainScreenAppear</td>\n",
       "      <td>7416695313311560658</td>\n",
       "      <td>1564053102</td>\n",
       "      <td>246</td>\n",
       "    </tr>\n",
       "    <tr>\n",
       "      <th>2</th>\n",
       "      <td>PaymentScreenSuccessful</td>\n",
       "      <td>3518123091307005509</td>\n",
       "      <td>1564054127</td>\n",
       "      <td>248</td>\n",
       "    </tr>\n",
       "  </tbody>\n",
       "</table>\n",
       "</div>"
      ],
      "text/plain": [
       "                 EventName         DeviceIDHash  EventTimestamp  ExpId\n",
       "0         MainScreenAppear  4575588528974610257      1564029816    246\n",
       "1         MainScreenAppear  7416695313311560658      1564053102    246\n",
       "2  PaymentScreenSuccessful  3518123091307005509      1564054127    248"
      ]
     },
     "execution_count": 2,
     "metadata": {},
     "output_type": "execute_result"
    }
   ],
   "source": [
    "data = pd.read_csv('logs_exp.csv', sep='\\t')\n",
    "data.head(3)"
   ]
  },
  {
   "cell_type": "code",
   "execution_count": 3,
   "metadata": {},
   "outputs": [
    {
     "name": "stdout",
     "output_type": "stream",
     "text": [
      "<class 'pandas.core.frame.DataFrame'>\n",
      "RangeIndex: 244126 entries, 0 to 244125\n",
      "Data columns (total 4 columns):\n",
      " #   Column          Non-Null Count   Dtype \n",
      "---  ------          --------------   ----- \n",
      " 0   EventName       244126 non-null  object\n",
      " 1   DeviceIDHash    244126 non-null  int64 \n",
      " 2   EventTimestamp  244126 non-null  int64 \n",
      " 3   ExpId           244126 non-null  int64 \n",
      "dtypes: int64(3), object(1)\n",
      "memory usage: 7.5+ MB\n"
     ]
    }
   ],
   "source": [
    "data.info()"
   ]
  },
  {
   "cell_type": "code",
   "execution_count": 4,
   "metadata": {},
   "outputs": [
    {
     "data": {
      "text/plain": [
       "413"
      ]
     },
     "execution_count": 4,
     "metadata": {},
     "output_type": "execute_result"
    }
   ],
   "source": [
    "# duplicates\n",
    "data.duplicated().sum()"
   ]
  },
  {
   "cell_type": "code",
   "execution_count": 5,
   "metadata": {},
   "outputs": [
    {
     "data": {
      "text/plain": [
       "0"
      ]
     },
     "execution_count": 5,
     "metadata": {},
     "output_type": "execute_result"
    }
   ],
   "source": [
    "data = data.drop_duplicates()\n",
    "data.duplicated().sum()"
   ]
  },
  {
   "cell_type": "code",
   "execution_count": 6,
   "metadata": {},
   "outputs": [],
   "source": [
    "# rename the column names for convenience\n",
    "data = data.rename (columns= {'EventTimestamp': 'event_time', \n",
    "       'EventName': 'event_name', 'DeviceIDHash': 'user_id', 'ExpId': 'exp_id'})"
   ]
  },
  {
   "cell_type": "code",
   "execution_count": 7,
   "metadata": {},
   "outputs": [
    {
     "data": {
      "text/html": [
       "<div>\n",
       "<style scoped>\n",
       "    .dataframe tbody tr th:only-of-type {\n",
       "        vertical-align: middle;\n",
       "    }\n",
       "\n",
       "    .dataframe tbody tr th {\n",
       "        vertical-align: top;\n",
       "    }\n",
       "\n",
       "    .dataframe thead th {\n",
       "        text-align: right;\n",
       "    }\n",
       "</style>\n",
       "<table border=\"1\" class=\"dataframe\">\n",
       "  <thead>\n",
       "    <tr style=\"text-align: right;\">\n",
       "      <th></th>\n",
       "      <th>event_name</th>\n",
       "      <th>user_id</th>\n",
       "      <th>event_time</th>\n",
       "      <th>exp_id</th>\n",
       "    </tr>\n",
       "  </thead>\n",
       "  <tbody>\n",
       "    <tr>\n",
       "      <th>0</th>\n",
       "      <td>MainScreenAppear</td>\n",
       "      <td>4575588528974610257</td>\n",
       "      <td>1564029816</td>\n",
       "      <td>246</td>\n",
       "    </tr>\n",
       "    <tr>\n",
       "      <th>1</th>\n",
       "      <td>MainScreenAppear</td>\n",
       "      <td>7416695313311560658</td>\n",
       "      <td>1564053102</td>\n",
       "      <td>246</td>\n",
       "    </tr>\n",
       "    <tr>\n",
       "      <th>2</th>\n",
       "      <td>PaymentScreenSuccessful</td>\n",
       "      <td>3518123091307005509</td>\n",
       "      <td>1564054127</td>\n",
       "      <td>248</td>\n",
       "    </tr>\n",
       "    <tr>\n",
       "      <th>3</th>\n",
       "      <td>CartScreenAppear</td>\n",
       "      <td>3518123091307005509</td>\n",
       "      <td>1564054127</td>\n",
       "      <td>248</td>\n",
       "    </tr>\n",
       "    <tr>\n",
       "      <th>4</th>\n",
       "      <td>PaymentScreenSuccessful</td>\n",
       "      <td>6217807653094995999</td>\n",
       "      <td>1564055322</td>\n",
       "      <td>248</td>\n",
       "    </tr>\n",
       "  </tbody>\n",
       "</table>\n",
       "</div>"
      ],
      "text/plain": [
       "                event_name              user_id  event_time  exp_id\n",
       "0         MainScreenAppear  4575588528974610257  1564029816     246\n",
       "1         MainScreenAppear  7416695313311560658  1564053102     246\n",
       "2  PaymentScreenSuccessful  3518123091307005509  1564054127     248\n",
       "3         CartScreenAppear  3518123091307005509  1564054127     248\n",
       "4  PaymentScreenSuccessful  6217807653094995999  1564055322     248"
      ]
     },
     "execution_count": 7,
     "metadata": {},
     "output_type": "execute_result"
    }
   ],
   "source": [
    "data.head()"
   ]
  },
  {
   "cell_type": "code",
   "execution_count": 8,
   "metadata": {},
   "outputs": [],
   "source": [
    "# let's bring the column with the date to the desired format\n",
    "data['event_time'] = pd.to_datetime(data['event_time'], unit='s')"
   ]
  },
  {
   "cell_type": "code",
   "execution_count": 9,
   "metadata": {},
   "outputs": [
    {
     "data": {
      "text/html": [
       "<div>\n",
       "<style scoped>\n",
       "    .dataframe tbody tr th:only-of-type {\n",
       "        vertical-align: middle;\n",
       "    }\n",
       "\n",
       "    .dataframe tbody tr th {\n",
       "        vertical-align: top;\n",
       "    }\n",
       "\n",
       "    .dataframe thead th {\n",
       "        text-align: right;\n",
       "    }\n",
       "</style>\n",
       "<table border=\"1\" class=\"dataframe\">\n",
       "  <thead>\n",
       "    <tr style=\"text-align: right;\">\n",
       "      <th></th>\n",
       "      <th>event_name</th>\n",
       "      <th>user_id</th>\n",
       "      <th>event_time</th>\n",
       "      <th>exp_id</th>\n",
       "      <th>event_date</th>\n",
       "    </tr>\n",
       "  </thead>\n",
       "  <tbody>\n",
       "    <tr>\n",
       "      <th>0</th>\n",
       "      <td>MainScreenAppear</td>\n",
       "      <td>4575588528974610257</td>\n",
       "      <td>2019-07-25 04:43:36</td>\n",
       "      <td>246</td>\n",
       "      <td>2019-07-25</td>\n",
       "    </tr>\n",
       "    <tr>\n",
       "      <th>1</th>\n",
       "      <td>MainScreenAppear</td>\n",
       "      <td>7416695313311560658</td>\n",
       "      <td>2019-07-25 11:11:42</td>\n",
       "      <td>246</td>\n",
       "      <td>2019-07-25</td>\n",
       "    </tr>\n",
       "    <tr>\n",
       "      <th>2</th>\n",
       "      <td>PaymentScreenSuccessful</td>\n",
       "      <td>3518123091307005509</td>\n",
       "      <td>2019-07-25 11:28:47</td>\n",
       "      <td>248</td>\n",
       "      <td>2019-07-25</td>\n",
       "    </tr>\n",
       "    <tr>\n",
       "      <th>3</th>\n",
       "      <td>CartScreenAppear</td>\n",
       "      <td>3518123091307005509</td>\n",
       "      <td>2019-07-25 11:28:47</td>\n",
       "      <td>248</td>\n",
       "      <td>2019-07-25</td>\n",
       "    </tr>\n",
       "    <tr>\n",
       "      <th>4</th>\n",
       "      <td>PaymentScreenSuccessful</td>\n",
       "      <td>6217807653094995999</td>\n",
       "      <td>2019-07-25 11:48:42</td>\n",
       "      <td>248</td>\n",
       "      <td>2019-07-25</td>\n",
       "    </tr>\n",
       "  </tbody>\n",
       "</table>\n",
       "</div>"
      ],
      "text/plain": [
       "                event_name              user_id          event_time  exp_id  \\\n",
       "0         MainScreenAppear  4575588528974610257 2019-07-25 04:43:36     246   \n",
       "1         MainScreenAppear  7416695313311560658 2019-07-25 11:11:42     246   \n",
       "2  PaymentScreenSuccessful  3518123091307005509 2019-07-25 11:28:47     248   \n",
       "3         CartScreenAppear  3518123091307005509 2019-07-25 11:28:47     248   \n",
       "4  PaymentScreenSuccessful  6217807653094995999 2019-07-25 11:48:42     248   \n",
       "\n",
       "   event_date  \n",
       "0  2019-07-25  \n",
       "1  2019-07-25  \n",
       "2  2019-07-25  \n",
       "3  2019-07-25  \n",
       "4  2019-07-25  "
      ]
     },
     "execution_count": 9,
     "metadata": {},
     "output_type": "execute_result"
    }
   ],
   "source": [
    "# add a separate column with only the date\n",
    "data['event_date'] = data['event_time'].dt.date\n",
    "data.head()"
   ]
  },
  {
   "cell_type": "code",
   "execution_count": 10,
   "metadata": {},
   "outputs": [
    {
     "data": {
      "text/plain": [
       "7551"
      ]
     },
     "execution_count": 10,
     "metadata": {},
     "output_type": "execute_result"
    }
   ],
   "source": [
    "# how many users are in the log\n",
    "data['user_id'].nunique()"
   ]
  },
  {
   "cell_type": "code",
   "execution_count": 11,
   "metadata": {},
   "outputs": [
    {
     "data": {
      "text/plain": [
       "243713"
      ]
     },
     "execution_count": 11,
     "metadata": {},
     "output_type": "execute_result"
    }
   ],
   "source": [
    "data['event_name'].count()"
   ]
  },
  {
   "cell_type": "code",
   "execution_count": 12,
   "metadata": {},
   "outputs": [
    {
     "data": {
      "text/plain": [
       "32"
      ]
     },
     "metadata": {},
     "output_type": "display_data"
    }
   ],
   "source": [
    "# how many events per user on average\n",
    "display(round(data.shape[0]/data['user_id'].nunique()))"
   ]
  },
  {
   "cell_type": "code",
   "execution_count": 13,
   "metadata": {},
   "outputs": [
    {
     "data": {
      "text/html": [
       "<div>\n",
       "<style scoped>\n",
       "    .dataframe tbody tr th:only-of-type {\n",
       "        vertical-align: middle;\n",
       "    }\n",
       "\n",
       "    .dataframe tbody tr th {\n",
       "        vertical-align: top;\n",
       "    }\n",
       "\n",
       "    .dataframe thead th {\n",
       "        text-align: right;\n",
       "    }\n",
       "</style>\n",
       "<table border=\"1\" class=\"dataframe\">\n",
       "  <thead>\n",
       "    <tr style=\"text-align: right;\">\n",
       "      <th></th>\n",
       "      <th>event_name</th>\n",
       "    </tr>\n",
       "  </thead>\n",
       "  <tbody>\n",
       "    <tr>\n",
       "      <th>count</th>\n",
       "      <td>7551.000000</td>\n",
       "    </tr>\n",
       "    <tr>\n",
       "      <th>mean</th>\n",
       "      <td>32.275593</td>\n",
       "    </tr>\n",
       "    <tr>\n",
       "      <th>std</th>\n",
       "      <td>65.154219</td>\n",
       "    </tr>\n",
       "    <tr>\n",
       "      <th>min</th>\n",
       "      <td>1.000000</td>\n",
       "    </tr>\n",
       "    <tr>\n",
       "      <th>25%</th>\n",
       "      <td>9.000000</td>\n",
       "    </tr>\n",
       "    <tr>\n",
       "      <th>50%</th>\n",
       "      <td>20.000000</td>\n",
       "    </tr>\n",
       "    <tr>\n",
       "      <th>75%</th>\n",
       "      <td>37.000000</td>\n",
       "    </tr>\n",
       "    <tr>\n",
       "      <th>max</th>\n",
       "      <td>2307.000000</td>\n",
       "    </tr>\n",
       "  </tbody>\n",
       "</table>\n",
       "</div>"
      ],
      "text/plain": [
       "        event_name\n",
       "count  7551.000000\n",
       "mean     32.275593\n",
       "std      65.154219\n",
       "min       1.000000\n",
       "25%       9.000000\n",
       "50%      20.000000\n",
       "75%      37.000000\n",
       "max    2307.000000"
      ]
     },
     "execution_count": 13,
     "metadata": {},
     "output_type": "execute_result"
    }
   ],
   "source": [
    "# display statistics on the number of events per user\n",
    "data_pivot_table = data.pivot_table(index='user_id', values='event_name', aggfunc='count')\n",
    "data_pivot_table.describe()"
   ]
  },
  {
   "cell_type": "code",
   "execution_count": 14,
   "metadata": {},
   "outputs": [
    {
     "data": {
      "text/plain": [
       "datetime.date(2019, 7, 25)"
      ]
     },
     "metadata": {},
     "output_type": "display_data"
    },
    {
     "data": {
      "text/plain": [
       "datetime.date(2019, 8, 7)"
      ]
     },
     "metadata": {},
     "output_type": "display_data"
    }
   ],
   "source": [
    "# minimum and maximum date\n",
    "display(data['event_date'].min())\n",
    "display(data['event_date'].max())"
   ]
  },
  {
   "cell_type": "markdown",
   "metadata": {},
   "source": [
    "Let's see how the events were distributed in time."
   ]
  },
  {
   "cell_type": "code",
   "execution_count": 15,
   "metadata": {},
   "outputs": [
    {
     "data": {
      "image/png": "[encoded data removed]",
      "text/plain": [
       "<Figure size 1080x360 with 1 Axes>"
      ]
     },
     "metadata": {
      "needs_background": "light"
     },
     "output_type": "display_data"
    }
   ],
   "source": [
    "data.groupby('event_date').agg({'event_name':'count'}).plot(kind='bar', figsize=(15,5))\n",
    "plt.xlabel('Date')\n",
    "plt.ylabel('Number of events')\n",
    "plt.title('Distribution of events in time');"
   ]
  },
  {
   "cell_type": "markdown",
   "metadata": {},
   "source": [
    "Events in time are unevenly distributed in the dataset. Technically, in the logs of new days for some users, events from the past can “reach” - this can “skew the data”. User activity begins on August 1, 2019.\n",
    "In this regard, for further analysis, we will filter the data from August 1 to August 7, 2019."
   ]
  },
  {
   "cell_type": "code",
   "execution_count": 16,
   "metadata": {},
   "outputs": [],
   "source": [
    "cut_date = pd.to_datetime('2019-08-01') \n",
    "pd.to_datetime(data['event_date'])\n",
    "data = data.set_index(['event_date'])\n",
    "data = data.loc[cut_date:]"
   ]
  },
  {
   "cell_type": "code",
   "execution_count": 17,
   "metadata": {},
   "outputs": [
    {
     "data": {
      "text/plain": [
       "7534"
      ]
     },
     "execution_count": 17,
     "metadata": {},
     "output_type": "execute_result"
    }
   ],
   "source": [
    "# how many users lost after date filtering?\n",
    "data['user_id'].nunique()"
   ]
  },
  {
   "cell_type": "markdown",
   "metadata": {},
   "source": [
    "After filtering dates, only 17 users lost, 0.2%"
   ]
  },
  {
   "cell_type": "code",
   "execution_count": 18,
   "metadata": {},
   "outputs": [
    {
     "data": {
      "text/plain": [
       "2826"
      ]
     },
     "metadata": {},
     "output_type": "display_data"
    },
    {
     "data": {
      "text/plain": [
       "1.2"
      ]
     },
     "metadata": {},
     "output_type": "display_data"
    }
   ],
   "source": [
    "# how many lines have been removed?\n",
    "before_filtered = 243713 #df after removing 413 duplicates\n",
    "after_filtered = data['user_id'].count()\n",
    "data_delited = before_filtered - after_filtered\n",
    "display(data_delited)\n",
    "data_delited_perc = (1-after_filtered/before_filtered)*100\n",
    "display(data_delited_perc.round(1))"
   ]
  },
  {
   "cell_type": "code",
   "execution_count": 19,
   "metadata": {},
   "outputs": [
    {
     "data": {
      "text/html": [
       "<div>\n",
       "<style scoped>\n",
       "    .dataframe tbody tr th:only-of-type {\n",
       "        vertical-align: middle;\n",
       "    }\n",
       "\n",
       "    .dataframe tbody tr th {\n",
       "        vertical-align: top;\n",
       "    }\n",
       "\n",
       "    .dataframe thead th {\n",
       "        text-align: right;\n",
       "    }\n",
       "</style>\n",
       "<table border=\"1\" class=\"dataframe\">\n",
       "  <thead>\n",
       "    <tr style=\"text-align: right;\">\n",
       "      <th></th>\n",
       "      <th>user_id</th>\n",
       "    </tr>\n",
       "    <tr>\n",
       "      <th>exp_id</th>\n",
       "      <th></th>\n",
       "    </tr>\n",
       "  </thead>\n",
       "  <tbody>\n",
       "    <tr>\n",
       "      <th>246</th>\n",
       "      <td>2484</td>\n",
       "    </tr>\n",
       "    <tr>\n",
       "      <th>247</th>\n",
       "      <td>2513</td>\n",
       "    </tr>\n",
       "    <tr>\n",
       "      <th>248</th>\n",
       "      <td>2537</td>\n",
       "    </tr>\n",
       "  </tbody>\n",
       "</table>\n",
       "</div>"
      ],
      "text/plain": [
       "        user_id\n",
       "exp_id         \n",
       "246        2484\n",
       "247        2513\n",
       "248        2537"
      ]
     },
     "execution_count": 19,
     "metadata": {},
     "output_type": "execute_result"
    }
   ],
   "source": [
    "# check that there are users from all three experimental groups\n",
    "data.pivot_table(index='exp_id', values='user_id', aggfunc='nunique')"
   ]
  },
  {
   "cell_type": "markdown",
   "metadata": {},
   "source": [
    "Yes, there are users in all three experimental groups."
   ]
  },
  {
   "cell_type": "markdown",
   "metadata": {},
   "source": [
    "Conclusion on data quality analysis:\n",
    "\n",
    "1. There were no gaps in the original data, but there were 413 duplicates, they were removed.\n",
    "2. The column with the date and time is brought to the desired format, and the names of the columns are replaced with understandable ones.\n",
    "3. Unique users in the log 7551 (after date filter 7534), on average there are 32 events per user.\n",
    "4. The dataset contains events from July 25 to August 7, 2019. However, the period of active use of the application is from August 1. Therefore, the data is filtered from 1 to 7 August. As a result of filtering, the number of unique users decreased by 0.2%."
   ]
  },
  {
   "cell_type": "markdown",
   "metadata": {},
   "source": [
    "## Event funnel analysis"
   ]
  },
  {
   "cell_type": "markdown",
   "metadata": {},
   "source": [
    "At this step, we will analyze the behavior of users at different stages of using the application."
   ]
  },
  {
   "cell_type": "markdown",
   "metadata": {},
   "source": [
    "Let's see what events are in the logs and how often they occur."
   ]
  },
  {
   "cell_type": "code",
   "execution_count": 20,
   "metadata": {},
   "outputs": [
    {
     "data": {
      "text/plain": [
       "MainScreenAppear           117328\n",
       "OffersScreenAppear          46333\n",
       "CartScreenAppear            42303\n",
       "PaymentScreenSuccessful     33918\n",
       "Tutorial                     1005\n",
       "Name: event_name, dtype: int64"
      ]
     },
     "execution_count": 20,
     "metadata": {},
     "output_type": "execute_result"
    }
   ],
   "source": [
    "data['event_name'].value_counts()"
   ]
  },
  {
   "cell_type": "markdown",
   "metadata": {},
   "source": [
    "The log contains the following events:\n",
    "\n",
    "* Appearance of the main screen\n",
    "* Offers appear on the screen\n",
    "* Cart screen will appear\n",
    "* Appearance screens with successful payment\n",
    "* Manual/instruction\n",
    "\n",
    "Most often, the event of the appearance of the main screen occurs, least often - users open the instruction."
   ]
  },
  {
   "cell_type": "markdown",
   "metadata": {},
   "source": [
    "Let's count how many users made each of these events; sort events by the number of users; Calculate the proportion of users who have made an event at least once."
   ]
  },
  {
   "cell_type": "code",
   "execution_count": 21,
   "metadata": {},
   "outputs": [
    {
     "data": {
      "text/html": [
       "<style  type=\"text/css\" >\n",
       "</style><table id=\"T_766ab_\" ><thead>    <tr>        <th class=\"blank level0\" ></th>        <th class=\"col_heading level0 col0\" >event_name</th>        <th class=\"col_heading level0 col1\" >user_id</th>        <th class=\"col_heading level0 col2\" >%</th>    </tr></thead><tbody>\n",
       "                <tr>\n",
       "                        <th id=\"T_766ab_level0_row0\" class=\"row_heading level0 row0\" >0</th>\n",
       "                        <td id=\"T_766ab_row0_col0\" class=\"data row0 col0\" >MainScreenAppear</td>\n",
       "                        <td id=\"T_766ab_row0_col1\" class=\"data row0 col1\" >7419</td>\n",
       "                        <td id=\"T_766ab_row0_col2\" class=\"data row0 col2\" >98.5%</td>\n",
       "            </tr>\n",
       "            <tr>\n",
       "                        <th id=\"T_766ab_level0_row1\" class=\"row_heading level0 row1\" >1</th>\n",
       "                        <td id=\"T_766ab_row1_col0\" class=\"data row1 col0\" >OffersScreenAppear</td>\n",
       "                        <td id=\"T_766ab_row1_col1\" class=\"data row1 col1\" >4593</td>\n",
       "                        <td id=\"T_766ab_row1_col2\" class=\"data row1 col2\" >61.0%</td>\n",
       "            </tr>\n",
       "            <tr>\n",
       "                        <th id=\"T_766ab_level0_row2\" class=\"row_heading level0 row2\" >2</th>\n",
       "                        <td id=\"T_766ab_row2_col0\" class=\"data row2 col0\" >CartScreenAppear</td>\n",
       "                        <td id=\"T_766ab_row2_col1\" class=\"data row2 col1\" >3734</td>\n",
       "                        <td id=\"T_766ab_row2_col2\" class=\"data row2 col2\" >49.6%</td>\n",
       "            </tr>\n",
       "            <tr>\n",
       "                        <th id=\"T_766ab_level0_row3\" class=\"row_heading level0 row3\" >3</th>\n",
       "                        <td id=\"T_766ab_row3_col0\" class=\"data row3 col0\" >PaymentScreenSuccessful</td>\n",
       "                        <td id=\"T_766ab_row3_col1\" class=\"data row3 col1\" >3539</td>\n",
       "                        <td id=\"T_766ab_row3_col2\" class=\"data row3 col2\" >47.0%</td>\n",
       "            </tr>\n",
       "            <tr>\n",
       "                        <th id=\"T_766ab_level0_row4\" class=\"row_heading level0 row4\" >4</th>\n",
       "                        <td id=\"T_766ab_row4_col0\" class=\"data row4 col0\" >Tutorial</td>\n",
       "                        <td id=\"T_766ab_row4_col1\" class=\"data row4 col1\" >840</td>\n",
       "                        <td id=\"T_766ab_row4_col2\" class=\"data row4 col2\" >11.1%</td>\n",
       "            </tr>\n",
       "    </tbody></table>"
      ],
      "text/plain": [
       "<pandas.io.formats.style.Styler at 0x149235460>"
      ]
     },
     "execution_count": 21,
     "metadata": {},
     "output_type": "execute_result"
    }
   ],
   "source": [
    "total = data['user_id'].nunique()\n",
    "user_event = data.groupby('event_name')['user_id'].nunique().sort_values(ascending=False)\n",
    "user_event = user_event.to_frame().reset_index()\n",
    "user_event['%'] = user_event['user_id']/total\n",
    "user_event.style.format({'%':'{:.1%}'})"
   ]
  },
  {
   "cell_type": "markdown",
   "metadata": {},
   "source": [
    "7419 users have ever opened the home page: 98% of all users. 61% went to the page with offers, 50% added to the cart, 47% paid."
   ]
  },
  {
   "cell_type": "markdown",
   "metadata": {},
   "source": [
    "Let's assume the order in which events occur; whether they all line up in a sequential chain.\n",
    "\n",
    "Sales funnel:\n",
    "\n",
    "Appearance of the main screen -> Appearance of the catalog with goods on the screen -> Appearance of the screen with a shopping cart\n",
    "  -> Appearance of the screen with successful payment\n",
    "\n",
    "The Tutorial step is not related to the main flow of events (purchase funnel), and judging by the number of events at this step for unique users, most people skip this step. "
   ]
  },
  {
   "cell_type": "markdown",
   "metadata": {},
   "source": [
    "Let's calculate what percentage of users go to the next step of the funnel."
   ]
  },
  {
   "cell_type": "code",
   "execution_count": 22,
   "metadata": {},
   "outputs": [
    {
     "data": {
      "text/html": [
       "<div>\n",
       "<style scoped>\n",
       "    .dataframe tbody tr th:only-of-type {\n",
       "        vertical-align: middle;\n",
       "    }\n",
       "\n",
       "    .dataframe tbody tr th {\n",
       "        vertical-align: top;\n",
       "    }\n",
       "\n",
       "    .dataframe thead th {\n",
       "        text-align: right;\n",
       "    }\n",
       "</style>\n",
       "<table border=\"1\" class=\"dataframe\">\n",
       "  <thead>\n",
       "    <tr style=\"text-align: right;\">\n",
       "      <th></th>\n",
       "      <th>user_id</th>\n",
       "      <th>conversion</th>\n",
       "      <th>previous_step</th>\n",
       "      <th>step_conversion</th>\n",
       "    </tr>\n",
       "    <tr>\n",
       "      <th>event_name</th>\n",
       "      <th></th>\n",
       "      <th></th>\n",
       "      <th></th>\n",
       "      <th></th>\n",
       "    </tr>\n",
       "  </thead>\n",
       "  <tbody>\n",
       "    <tr>\n",
       "      <th>MainScreenAppear</th>\n",
       "      <td>7419</td>\n",
       "      <td>1.000000</td>\n",
       "      <td>NaN</td>\n",
       "      <td>NaN</td>\n",
       "    </tr>\n",
       "    <tr>\n",
       "      <th>OffersScreenAppear</th>\n",
       "      <td>4593</td>\n",
       "      <td>0.619086</td>\n",
       "      <td>7419.0</td>\n",
       "      <td>0.619086</td>\n",
       "    </tr>\n",
       "    <tr>\n",
       "      <th>CartScreenAppear</th>\n",
       "      <td>3734</td>\n",
       "      <td>0.503302</td>\n",
       "      <td>4593.0</td>\n",
       "      <td>0.812976</td>\n",
       "    </tr>\n",
       "    <tr>\n",
       "      <th>PaymentScreenSuccessful</th>\n",
       "      <td>3539</td>\n",
       "      <td>0.477018</td>\n",
       "      <td>3734.0</td>\n",
       "      <td>0.947777</td>\n",
       "    </tr>\n",
       "  </tbody>\n",
       "</table>\n",
       "</div>"
      ],
      "text/plain": [
       "                         user_id  conversion  previous_step  step_conversion\n",
       "event_name                                                                  \n",
       "MainScreenAppear            7419    1.000000            NaN              NaN\n",
       "OffersScreenAppear          4593    0.619086         7419.0         0.619086\n",
       "CartScreenAppear            3734    0.503302         4593.0         0.812976\n",
       "PaymentScreenSuccessful     3539    0.477018         3734.0         0.947777"
      ]
     },
     "metadata": {},
     "output_type": "display_data"
    },
    {
     "data": {
      "image/png": "[encoded data removed]",
      "text/plain": [
       "<Figure size 432x288 with 1 Axes>"
      ]
     },
     "metadata": {
      "needs_background": "light"
     },
     "output_type": "display_data"
    }
   ],
   "source": [
    "report = data.query('event_name != \"Tutorial\"').groupby('event_name').agg({'user_id': 'nunique'}).sort_values(by='user_id', ascending=False)\n",
    "report['conversion'] = report['user_id']/report['user_id'].values[0]\n",
    "report['previous_step'] = report['user_id'].shift()\n",
    "report['step_conversion'] = report['user_id'] / report['previous_step']#conversion to next step\n",
    "display(report)\n",
    "report['conversion'].plot(kind='bar');"
   ]
  },
  {
   "cell_type": "markdown",
   "metadata": {},
   "source": [
    "Most users are lost at the step of transition from the main page to the catalog with goods: 62% of users reach the catalog with goods. 48% of users make it from the first event to payment."
   ]
  },
  {
   "cell_type": "markdown",
   "metadata": {},
   "source": [
    "Conclusions on the analysis of the funnel of events:\n",
    "1. Events pass in the following order\n",
    "\n",
    "Appearance of the main screen -> Appearance of the catalog with goods on the screen -> Appearance of the screen with a shopping cart\n",
    "  -> Appearance of the screen with successful payment\n",
    "\n",
    "2. Only 11% of users use training, this step does not apply to the purchase funnel.\n",
    "3. Most of the users are lost when they go to the product catalog, and 48% of users reach the step with payment."
   ]
  },
  {
   "cell_type": "markdown",
   "metadata": {},
   "source": [
    "## Analysis of A/B test results"
   ]
  },
  {
   "cell_type": "markdown",
   "metadata": {},
   "source": [
    "In this section:\n",
    "* check the correctness of the calculations on the control groups for the A / A experiment\n",
    "* let's choose a somae popular event and calculate the number of users who made this event in each of the control groups, as well as the share of users who made this event; check if the difference between the groups is statistically significant\n",
    "* compare the results of groups with different fonts."
   ]
  },
  {
   "cell_type": "code",
   "execution_count": 23,
   "metadata": {},
   "outputs": [
    {
     "data": {
      "text/html": [
       "<div>\n",
       "<style scoped>\n",
       "    .dataframe tbody tr th:only-of-type {\n",
       "        vertical-align: middle;\n",
       "    }\n",
       "\n",
       "    .dataframe tbody tr th {\n",
       "        vertical-align: top;\n",
       "    }\n",
       "\n",
       "    .dataframe thead th {\n",
       "        text-align: right;\n",
       "    }\n",
       "</style>\n",
       "<table border=\"1\" class=\"dataframe\">\n",
       "  <thead>\n",
       "    <tr style=\"text-align: right;\">\n",
       "      <th></th>\n",
       "      <th>user_id</th>\n",
       "    </tr>\n",
       "    <tr>\n",
       "      <th>exp_id</th>\n",
       "      <th></th>\n",
       "    </tr>\n",
       "  </thead>\n",
       "  <tbody>\n",
       "    <tr>\n",
       "      <th>246</th>\n",
       "      <td>2484</td>\n",
       "    </tr>\n",
       "    <tr>\n",
       "      <th>247</th>\n",
       "      <td>2513</td>\n",
       "    </tr>\n",
       "    <tr>\n",
       "      <th>248</th>\n",
       "      <td>2537</td>\n",
       "    </tr>\n",
       "  </tbody>\n",
       "</table>\n",
       "</div>"
      ],
      "text/plain": [
       "        user_id\n",
       "exp_id         \n",
       "246        2484\n",
       "247        2513\n",
       "248        2537"
      ]
     },
     "execution_count": 23,
     "metadata": {},
     "output_type": "execute_result"
    }
   ],
   "source": [
    "# number of users in each experimental group\n",
    "data.pivot_table(index='exp_id', values='user_id', aggfunc='nunique')"
   ]
  },
  {
   "cell_type": "markdown",
   "metadata": {},
   "source": [
    "There are 2 control groups for the A / A experiment, to check the correctness of all mechanisms and calculations, we will check if the statistical criteria find a difference between samples 246 and 247.\n",
    "\n",
    "The number of users in group 247 differs from the number of users in group 246 by 1%. The difference, of course, is not critical, but it is better to make the groups the same, so the test turns out to be of optimal duration."
   ]
  },
  {
   "cell_type": "markdown",
   "metadata": {},
   "source": [
    "Let's check that a user who is in one group remains in it until the end of the experiment using the set() function, which selects unique values from the list.\n",
    "We will pass to it a list of users belonging to group 246, and using the intersection operator with\n",
    "group 247, we get a set of users falling into both groups.\n",
    "\n",
    "If the set is empty, then there are no intersections."
   ]
  },
  {
   "cell_type": "code",
   "execution_count": 24,
   "metadata": {},
   "outputs": [
    {
     "data": {
      "text/plain": [
       "set()"
      ]
     },
     "execution_count": 24,
     "metadata": {},
     "output_type": "execute_result"
    }
   ],
   "source": [
    "set(data[data['exp_id'] == 246]['user_id']) & set(data[data['exp_id'] == 247]['user_id'])"
   ]
  },
  {
   "cell_type": "markdown",
   "metadata": {},
   "source": [
    "There are no intersections."
   ]
  },
  {
   "cell_type": "markdown",
   "metadata": {},
   "source": [
    "Let's choose the most popular event and count the number of users who made this event in each of the control groups."
   ]
  },
  {
   "cell_type": "code",
   "execution_count": 25,
   "metadata": {},
   "outputs": [
    {
     "data": {
      "text/html": [
       "<div>\n",
       "<style scoped>\n",
       "    .dataframe tbody tr th:only-of-type {\n",
       "        vertical-align: middle;\n",
       "    }\n",
       "\n",
       "    .dataframe tbody tr th {\n",
       "        vertical-align: top;\n",
       "    }\n",
       "\n",
       "    .dataframe thead th {\n",
       "        text-align: right;\n",
       "    }\n",
       "</style>\n",
       "<table border=\"1\" class=\"dataframe\">\n",
       "  <thead>\n",
       "    <tr style=\"text-align: right;\">\n",
       "      <th></th>\n",
       "      <th>user_id</th>\n",
       "    </tr>\n",
       "    <tr>\n",
       "      <th>exp_id</th>\n",
       "      <th></th>\n",
       "    </tr>\n",
       "  </thead>\n",
       "  <tbody>\n",
       "    <tr>\n",
       "      <th>246</th>\n",
       "      <td>2484</td>\n",
       "    </tr>\n",
       "    <tr>\n",
       "      <th>247</th>\n",
       "      <td>2513</td>\n",
       "    </tr>\n",
       "    <tr>\n",
       "      <th>248</th>\n",
       "      <td>2537</td>\n",
       "    </tr>\n",
       "  </tbody>\n",
       "</table>\n",
       "</div>"
      ],
      "text/plain": [
       "        user_id\n",
       "exp_id         \n",
       "246        2484\n",
       "247        2513\n",
       "248        2537"
      ]
     },
     "metadata": {},
     "output_type": "display_data"
    },
    {
     "data": {
      "text/html": [
       "<div>\n",
       "<style scoped>\n",
       "    .dataframe tbody tr th:only-of-type {\n",
       "        vertical-align: middle;\n",
       "    }\n",
       "\n",
       "    .dataframe tbody tr th {\n",
       "        vertical-align: top;\n",
       "    }\n",
       "\n",
       "    .dataframe thead th {\n",
       "        text-align: right;\n",
       "    }\n",
       "</style>\n",
       "<table border=\"1\" class=\"dataframe\">\n",
       "  <thead>\n",
       "    <tr style=\"text-align: right;\">\n",
       "      <th>exp_id</th>\n",
       "      <th>246</th>\n",
       "      <th>247</th>\n",
       "      <th>248</th>\n",
       "    </tr>\n",
       "    <tr>\n",
       "      <th>event_name</th>\n",
       "      <th></th>\n",
       "      <th></th>\n",
       "      <th></th>\n",
       "    </tr>\n",
       "  </thead>\n",
       "  <tbody>\n",
       "    <tr>\n",
       "      <th>CartScreenAppear</th>\n",
       "      <td>1266</td>\n",
       "      <td>1238</td>\n",
       "      <td>1230</td>\n",
       "    </tr>\n",
       "    <tr>\n",
       "      <th>MainScreenAppear</th>\n",
       "      <td>2450</td>\n",
       "      <td>2476</td>\n",
       "      <td>2493</td>\n",
       "    </tr>\n",
       "    <tr>\n",
       "      <th>OffersScreenAppear</th>\n",
       "      <td>1542</td>\n",
       "      <td>1520</td>\n",
       "      <td>1531</td>\n",
       "    </tr>\n",
       "    <tr>\n",
       "      <th>PaymentScreenSuccessful</th>\n",
       "      <td>1200</td>\n",
       "      <td>1158</td>\n",
       "      <td>1181</td>\n",
       "    </tr>\n",
       "    <tr>\n",
       "      <th>Tutorial</th>\n",
       "      <td>278</td>\n",
       "      <td>283</td>\n",
       "      <td>279</td>\n",
       "    </tr>\n",
       "  </tbody>\n",
       "</table>\n",
       "</div>"
      ],
      "text/plain": [
       "exp_id                    246   247   248\n",
       "event_name                               \n",
       "CartScreenAppear         1266  1238  1230\n",
       "MainScreenAppear         2450  2476  2493\n",
       "OffersScreenAppear       1542  1520  1531\n",
       "PaymentScreenSuccessful  1200  1158  1181\n",
       "Tutorial                  278   283   279"
      ]
     },
     "metadata": {},
     "output_type": "display_data"
    }
   ],
   "source": [
    "trials = data.groupby('exp_id').agg({'user_id':'nunique'})\n",
    "display(trials)\n",
    "funnel = data.pivot_table(index='event_name', columns='exp_id', values='user_id', aggfunc='nunique')\n",
    "display(funnel) # the number of users who committed an event in each of the control groups"
   ]
  },
  {
   "cell_type": "markdown",
   "metadata": {},
   "source": [
    "The event performed by the largest number of users is the Main Screen, i.e. the opening of the main page. It is made by 98% of users of each group (% of events made by users was found in section 3)."
   ]
  },
  {
   "cell_type": "markdown",
   "metadata": {},
   "source": [
    "For all events, we will check whether the difference between groups 246 and 247 is statistically significant.\n",
    "\n",
    "Let's formulate hypotheses.\n",
    "\n",
    "But: There is no statistically significant difference in purchase conversion between groups; no differences between groups\n",
    "\n",
    "H1: The conversion funnel in groups is different"
   ]
  },
  {
   "cell_type": "code",
   "execution_count": 26,
   "metadata": {},
   "outputs": [],
   "source": [
    "def check_hypothesis(successes1, successes2, trials1, trials2):\n",
    "    p1 = successes1/trials1\n",
    "    p2 = successes2/trials2\n",
    "    p_combined = (successes1 + successes2) / (trials1 + trials2)\n",
    "    difference = p1 - p2\n",
    "    z_value = difference / math.sqrt(p_combined * (1 - p_combined)*(1/trials1 + 1/trials2))\n",
    "    distr = stats.norm(0,1)\n",
    "    p_value = (1 - distr.cdf(abs(z_value))) * 2\n",
    "    return p_value"
   ]
  },
  {
   "cell_type": "code",
   "execution_count": 27,
   "metadata": {},
   "outputs": [
    {
     "name": "stdout",
     "output_type": "stream",
     "text": [
      "Difference between groups 246 and 247 by event MainScreenAppear statistically not significant, p-value=  0.7570597232046099\n",
      "Difference between groups 246 and 247 by event OffersScreenAppear statistically not significant, p-value=  0.2480954578522181\n",
      "Difference between groups 246 and 247 by event CartScreenAppear statistically not significant, p-value=  0.22883372237997213\n",
      "Difference between groups 246 and 247 by event PaymentScreenSuccessful statistically not significant, p-value=  0.11456679313141849\n"
     ]
    }
   ],
   "source": [
    "# apply the function\n",
    "alpha = 0.01\n",
    "\n",
    "for event in['MainScreenAppear', 'OffersScreenAppear', 'CartScreenAppear', 'PaymentScreenSuccessful']:\n",
    "    if check_hypothesis(funnel.loc[event, 246], funnel.loc[event, 247],\n",
    "                        trials.loc[246].values[0], trials.loc[247].values[0]) < alpha:\n",
    "        trig = 'significant'\n",
    "    else:\n",
    "        trig = 'not significant'\n",
    "        print(f\"Difference between groups 246 and 247 by event {event} statistically {trig}, p-value= \",\n",
    "               check_hypothesis(funnel.loc[event,246], funnel.loc[event,247],\n",
    "                               trials.loc[246].values[0], trials.loc[247].values[0]))"
   ]
  },
  {
   "cell_type": "markdown",
   "metadata": {},
   "source": [
    "Conclusion: there are no statistically significant differences between groups 246 and 247 for all events, the groups are formed correctly."
   ]
  },
  {
   "cell_type": "markdown",
   "metadata": {},
   "source": [
    "Let's compare the results of each of the control groups (246, 247) with the group with a changed font (248)\n",
    "\n",
    "Let's formulate hypotheses.\n",
    "\n",
    "But: There is no statistically significant difference in purchase conversion between groups after changing the font; there are no differences between the groups before and after the font change\n",
    "\n",
    "H1: The conversion funnel in groups after changing the font is different"
   ]
  },
  {
   "cell_type": "code",
   "execution_count": 28,
   "metadata": {},
   "outputs": [
    {
     "name": "stdout",
     "output_type": "stream",
     "text": [
      "Difference between groups 246 and 248 by event MainScreenAppear statistically not significant, p-value=  0.2949721933554552\n",
      "Difference between groups 246 and 248 by event OffersScreenAppear statistically not significant, p-value=  0.20836205402738917\n",
      "Difference between groups 246 and 248 by event CartScreenAppear statistically not significant, p-value=  0.07842923237520116\n",
      "Difference between groups 246 and 248 by event PaymentScreenSuccessful statistically not significant, p-value=  0.2122553275697796\n"
     ]
    }
   ],
   "source": [
    "alpha = 0.01\n",
    "\n",
    "for event in['MainScreenAppear', 'OffersScreenAppear', 'CartScreenAppear', 'PaymentScreenSuccessful']:\n",
    "    if check_hypothesis(funnel.loc[event, 246], funnel.loc[event, 248],\n",
    "                        trials.loc[246].values[0], trials.loc[248].values[0]) < alpha:\n",
    "        trig = 'significant'\n",
    "    else:\n",
    "        trig = 'not significant'\n",
    "        print(f\"Difference between groups 246 and 248 by event {event} statistically {trig}, p-value= \",\n",
    "               check_hypothesis(funnel.loc[event,246], funnel.loc[event,248],\n",
    "                               trials.loc[246].values[0], trials.loc[248].values[0]))"
   ]
  },
  {
   "cell_type": "code",
   "execution_count": 29,
   "metadata": {},
   "outputs": [
    {
     "name": "stdout",
     "output_type": "stream",
     "text": [
      "Difference between groups 246 and 248 by event MainScreenAppear statistically not significant, p-value=  0.4587053616621515\n",
      "Difference between groups 246 and 248 by event OffersScreenAppear statistically not significant, p-value=  0.9197817830592261\n",
      "Difference between groups 246 and 248 by event CartScreenAppear statistically not significant, p-value=  0.5786197879539783\n",
      "Difference between groups 246 and 248 by event PaymentScreenSuccessful statistically not significant, p-value=  0.7373415053803964\n"
     ]
    }
   ],
   "source": [
    "alpha = 0.01\n",
    "\n",
    "for event in['MainScreenAppear', 'OffersScreenAppear', 'CartScreenAppear', 'PaymentScreenSuccessful']:\n",
    "    if check_hypothesis(funnel.loc[event, 247], funnel.loc[event, 248],\n",
    "                        trials.loc[247].values[0], trials.loc[248].values[0]) < alpha:\n",
    "        trig = 'significant'\n",
    "    else:\n",
    "        trig = 'not significant'\n",
    "        print(f\"Difference between groups 246 and 248 by event {event} statistically {trig}, p-value= \",\n",
    "               check_hypothesis(funnel.loc[event,247], funnel.loc[event,248],\n",
    "                               trials.loc[247].values[0], trials.loc[248].values[0]))"
   ]
  },
  {
   "cell_type": "markdown",
   "metadata": {},
   "source": [
    "Сравним результаты с объединённой контрольной группой"
   ]
  },
  {
   "cell_type": "code",
   "execution_count": 30,
   "metadata": {},
   "outputs": [
    {
     "data": {
      "text/html": [
       "<div>\n",
       "<style scoped>\n",
       "    .dataframe tbody tr th:only-of-type {\n",
       "        vertical-align: middle;\n",
       "    }\n",
       "\n",
       "    .dataframe tbody tr th {\n",
       "        vertical-align: top;\n",
       "    }\n",
       "\n",
       "    .dataframe thead th {\n",
       "        text-align: right;\n",
       "    }\n",
       "</style>\n",
       "<table border=\"1\" class=\"dataframe\">\n",
       "  <thead>\n",
       "    <tr style=\"text-align: right;\">\n",
       "      <th></th>\n",
       "      <th>user_id</th>\n",
       "    </tr>\n",
       "    <tr>\n",
       "      <th>exp_id</th>\n",
       "      <th></th>\n",
       "    </tr>\n",
       "  </thead>\n",
       "  <tbody>\n",
       "    <tr>\n",
       "      <th>246</th>\n",
       "      <td>2484</td>\n",
       "    </tr>\n",
       "    <tr>\n",
       "      <th>247</th>\n",
       "      <td>2513</td>\n",
       "    </tr>\n",
       "    <tr>\n",
       "      <th>248</th>\n",
       "      <td>2537</td>\n",
       "    </tr>\n",
       "    <tr>\n",
       "      <th>246 + 247</th>\n",
       "      <td>4997</td>\n",
       "    </tr>\n",
       "  </tbody>\n",
       "</table>\n",
       "</div>"
      ],
      "text/plain": [
       "           user_id\n",
       "exp_id            \n",
       "246           2484\n",
       "247           2513\n",
       "248           2537\n",
       "246 + 247     4997"
      ]
     },
     "metadata": {},
     "output_type": "display_data"
    },
    {
     "data": {
      "text/html": [
       "<div>\n",
       "<style scoped>\n",
       "    .dataframe tbody tr th:only-of-type {\n",
       "        vertical-align: middle;\n",
       "    }\n",
       "\n",
       "    .dataframe tbody tr th {\n",
       "        vertical-align: top;\n",
       "    }\n",
       "\n",
       "    .dataframe thead th {\n",
       "        text-align: right;\n",
       "    }\n",
       "</style>\n",
       "<table border=\"1\" class=\"dataframe\">\n",
       "  <thead>\n",
       "    <tr style=\"text-align: right;\">\n",
       "      <th>exp_id</th>\n",
       "      <th>246</th>\n",
       "      <th>247</th>\n",
       "      <th>248</th>\n",
       "      <th>246 + 247</th>\n",
       "    </tr>\n",
       "    <tr>\n",
       "      <th>event_name</th>\n",
       "      <th></th>\n",
       "      <th></th>\n",
       "      <th></th>\n",
       "      <th></th>\n",
       "    </tr>\n",
       "  </thead>\n",
       "  <tbody>\n",
       "    <tr>\n",
       "      <th>CartScreenAppear</th>\n",
       "      <td>1266</td>\n",
       "      <td>1238</td>\n",
       "      <td>1230</td>\n",
       "      <td>2504</td>\n",
       "    </tr>\n",
       "    <tr>\n",
       "      <th>MainScreenAppear</th>\n",
       "      <td>2450</td>\n",
       "      <td>2476</td>\n",
       "      <td>2493</td>\n",
       "      <td>4926</td>\n",
       "    </tr>\n",
       "    <tr>\n",
       "      <th>OffersScreenAppear</th>\n",
       "      <td>1542</td>\n",
       "      <td>1520</td>\n",
       "      <td>1531</td>\n",
       "      <td>3062</td>\n",
       "    </tr>\n",
       "    <tr>\n",
       "      <th>PaymentScreenSuccessful</th>\n",
       "      <td>1200</td>\n",
       "      <td>1158</td>\n",
       "      <td>1181</td>\n",
       "      <td>2358</td>\n",
       "    </tr>\n",
       "    <tr>\n",
       "      <th>Tutorial</th>\n",
       "      <td>278</td>\n",
       "      <td>283</td>\n",
       "      <td>279</td>\n",
       "      <td>561</td>\n",
       "    </tr>\n",
       "  </tbody>\n",
       "</table>\n",
       "</div>"
      ],
      "text/plain": [
       "exp_id                    246   247   248  246 + 247\n",
       "event_name                                          \n",
       "CartScreenAppear         1266  1238  1230       2504\n",
       "MainScreenAppear         2450  2476  2493       4926\n",
       "OffersScreenAppear       1542  1520  1531       3062\n",
       "PaymentScreenSuccessful  1200  1158  1181       2358\n",
       "Tutorial                  278   283   279        561"
      ]
     },
     "metadata": {},
     "output_type": "display_data"
    }
   ],
   "source": [
    "# form a united group\n",
    "combined = data.query('exp_id in [246, 247]')\n",
    "combined['exp_id'] = '246 + 247'\n",
    "\n",
    "# add to the main data\n",
    "data_new = data.append(combined)\n",
    "\n",
    "# form a funnel\n",
    "trials = data_new.groupby('exp_id').agg({'user_id':'nunique'})\n",
    "display(trials)\n",
    "funnel = data_new.pivot_table(index='event_name', columns='exp_id', values='user_id', aggfunc='nunique')\n",
    "display(funnel)"
   ]
  },
  {
   "cell_type": "code",
   "execution_count": 31,
   "metadata": {},
   "outputs": [
    {
     "name": "stdout",
     "output_type": "stream",
     "text": [
      "Difference between groups 248 and 246+247 by event MainScreenAppear statistically not significant, p-value=  0.29424526837179577\n",
      "Difference between groups 248 and 246+247 by event OffersScreenAppear statistically not significant, p-value=  0.43425549655188256\n",
      "Difference between groups 248 and 246+247 by event CartScreenAppear statistically not significant, p-value=  0.18175875284404386\n",
      "Difference between groups 248 and 246+247 by event PaymentScreenSuccessful statistically not significant, p-value=  0.6004294282308704\n"
     ]
    }
   ],
   "source": [
    "alpha = 0.01\n",
    "\n",
    "for event in['MainScreenAppear', 'OffersScreenAppear', 'CartScreenAppear', 'PaymentScreenSuccessful']:\n",
    "    if check_hypothesis(funnel.loc[event, 248], funnel.loc[event, '246 + 247'],\n",
    "                        trials.loc[248].values[0], trials.loc['246 + 247'].values[0]) < alpha:\n",
    "        trig = 'significant'\n",
    "    else:\n",
    "        trig = 'not significant'\n",
    "        print(f\"Difference between groups 248 and 246+247 by event {event} statistically {trig}, p-value= \",\n",
    "               check_hypothesis(funnel.loc[event,248], funnel.loc[event,'246 + 247'],\n",
    "                               trials.loc[248].values[0], trials.loc['246 + 247'].values[0]))"
   ]
  },
  {
   "cell_type": "markdown",
   "metadata": {},
   "source": [
    "Conclusion: after all the tests carried out - no result showed a statistically significant difference between groups 246,247 and 248."
   ]
  },
  {
   "cell_type": "markdown",
   "metadata": {},
   "source": [
    "The significance level for testing statistical hypotheses was chosen as 0.01.\n",
    "\n",
    "Tests of statistical hypotheses were made:\n",
    "\n",
    "Number of group combinations: 4 (246 and 247; 246 and 248; 247 and 248; 246+247 and 248) multiplied by the number of conversions: 4 (MainScreenAppear, OffersScreenAppear, CartScreenAppear, PaymentScreenSuccessful).\n",
    "\n",
    "Total 4 * 4 = 16 checks."
   ]
  },
  {
   "cell_type": "markdown",
   "metadata": {},
   "source": [
    "Let's check the result with the combined control group taking into account the Bonferroni correction."
   ]
  },
  {
   "cell_type": "code",
   "execution_count": 32,
   "metadata": {},
   "outputs": [
    {
     "name": "stdout",
     "output_type": "stream",
     "text": [
      "Difference between groups 248 and 246+247 by event MainScreenAppear statistically not significant, p-value=  0.29424526837179577\n",
      "Difference between groups 248 and 246+247 by event OffersScreenAppear statistically not significant, p-value=  0.43425549655188256\n",
      "Difference between groups 248 and 246+247 by event CartScreenAppear statistically not significant, p-value=  0.18175875284404386\n",
      "Difference between groups 248 and 246+247 by event PaymentScreenSuccessful statistically not significant, p-value=  0.6004294282308704\n"
     ]
    }
   ],
   "source": [
    "alpha = 0.01\n",
    "bonferroni_alpha = alpha / 16\n",
    "\n",
    "for event in['MainScreenAppear', 'OffersScreenAppear', 'CartScreenAppear', 'PaymentScreenSuccessful']:\n",
    "    if check_hypothesis(funnel.loc[event, 248], funnel.loc[event, '246 + 247'],\n",
    "                        trials.loc[248].values[0], trials.loc['246 + 247'].values[0]) < bonferroni_alpha:\n",
    "        trig = 'significant'\n",
    "    else:\n",
    "        trig = 'not significant'\n",
    "        print(f\"Difference between groups 248 and 246+247 by event {event} statistically {trig}, p-value= \",\n",
    "               check_hypothesis(funnel.loc[event,248], funnel.loc[event,'246 + 247'],\n",
    "                               trials.loc[248].values[0], trials.loc['246 + 247'].values[0]))"
   ]
  },
  {
   "cell_type": "markdown",
   "metadata": {},
   "source": [
    "The result has not changed, which is logical, because. at the selected significance level of 0.01, the null hypothesis is not rejected in any comparison."
   ]
  },
  {
   "cell_type": "markdown",
   "metadata": {},
   "source": [
    "## Conclusions"
   ]
  },
  {
   "cell_type": "markdown",
   "metadata": {},
   "source": [
    "As a result of the analysis of the behavior of users of the mobile application, it was found that\n",
    "Most users are lost at the step of transition from the main page to the catalog with goods: 62% of users reach the catalog with goods. 48% of users make it from the first event to payment.\n",
    "\n",
    "The results of A / A and A / B tests were studied (determining the impact of changing the font on user behavior). The following conclusions were obtained:\n",
    "\n",
    "1. The results of the A / A test showed that the groups for analysis were formed correctly, no statistically significant difference was found between them.\n",
    "2. 3 combinations of test results were tested (in addition to control groups). There was no statistically significant difference between the groups in any test.\n",
    "\n",
    "Managers' fears that users would be unaccustomed to using the changed font, according to the results of the A / B test, did not materialize."
   ]
  }
 ],
 "metadata": {
  "ExecuteTimeLog": [
   {
    "duration": 1785,
    "start_time": "2022-03-23T18:24:39.600Z"
   },
   {
    "duration": 1343,
    "start_time": "2022-03-23T18:25:34.370Z"
   },
   {
    "duration": 15,
    "start_time": "2022-03-23T18:26:01.568Z"
   },
   {
    "duration": 358,
    "start_time": "2022-03-23T18:26:35.134Z"
   },
   {
    "duration": 206,
    "start_time": "2022-03-23T18:31:01.609Z"
   },
   {
    "duration": 29,
    "start_time": "2022-03-23T18:31:10.360Z"
   },
   {
    "duration": 52,
    "start_time": "2022-03-23T18:34:13.196Z"
   },
   {
    "duration": 25,
    "start_time": "2022-03-23T18:34:24.131Z"
   },
   {
    "duration": 125,
    "start_time": "2022-03-23T18:34:59.869Z"
   },
   {
    "duration": 78,
    "start_time": "2022-03-23T18:37:36.484Z"
   },
   {
    "duration": 1632,
    "start_time": "2022-03-23T18:38:00.547Z"
   },
   {
    "duration": 213,
    "start_time": "2022-03-23T18:38:02.181Z"
   },
   {
    "duration": 30,
    "start_time": "2022-03-23T18:38:02.397Z"
   },
   {
    "duration": 102,
    "start_time": "2022-03-23T18:38:02.444Z"
   },
   {
    "duration": 169,
    "start_time": "2022-03-23T18:38:02.548Z"
   },
   {
    "duration": 132,
    "start_time": "2022-03-23T18:39:05.276Z"
   },
   {
    "duration": 125,
    "start_time": "2022-03-23T18:39:13.892Z"
   },
   {
    "duration": 1670,
    "start_time": "2022-03-23T18:39:29.642Z"
   },
   {
    "duration": 220,
    "start_time": "2022-03-23T18:39:31.315Z"
   },
   {
    "duration": 34,
    "start_time": "2022-03-23T18:39:31.537Z"
   },
   {
    "duration": 136,
    "start_time": "2022-03-23T18:39:31.574Z"
   },
   {
    "duration": 262,
    "start_time": "2022-03-23T18:39:31.712Z"
   },
   {
    "duration": 93,
    "start_time": "2022-03-23T18:39:31.977Z"
   },
   {
    "duration": 3,
    "start_time": "2022-03-23T18:39:48.690Z"
   },
   {
    "duration": 111,
    "start_time": "2022-03-23T18:39:55.730Z"
   },
   {
    "duration": 116,
    "start_time": "2022-03-23T18:40:05.813Z"
   },
   {
    "duration": 189,
    "start_time": "2022-03-23T18:42:24.156Z"
   },
   {
    "duration": 3565,
    "start_time": "2022-03-23T18:42:59.166Z"
   },
   {
    "duration": 3541,
    "start_time": "2022-03-23T18:43:31.684Z"
   },
   {
    "duration": 3260,
    "start_time": "2022-03-23T18:43:49.088Z"
   },
   {
    "duration": 12,
    "start_time": "2022-03-23T18:44:59.609Z"
   },
   {
    "duration": 1611,
    "start_time": "2022-03-23T18:45:36.404Z"
   },
   {
    "duration": 213,
    "start_time": "2022-03-23T18:45:38.018Z"
   },
   {
    "duration": 33,
    "start_time": "2022-03-23T18:45:38.234Z"
   },
   {
    "duration": 119,
    "start_time": "2022-03-23T18:45:38.270Z"
   },
   {
    "duration": 207,
    "start_time": "2022-03-23T18:45:38.392Z"
   },
   {
    "duration": 11,
    "start_time": "2022-03-23T18:45:38.602Z"
   },
   {
    "duration": 75,
    "start_time": "2022-03-23T18:45:38.616Z"
   },
   {
    "duration": 3464,
    "start_time": "2022-03-23T18:48:55.694Z"
   },
   {
    "duration": 1593,
    "start_time": "2022-03-23T18:49:20.386Z"
   },
   {
    "duration": 224,
    "start_time": "2022-03-23T18:49:21.982Z"
   },
   {
    "duration": 51,
    "start_time": "2022-03-23T18:49:22.209Z"
   },
   {
    "duration": 127,
    "start_time": "2022-03-23T18:49:22.263Z"
   },
   {
    "duration": 256,
    "start_time": "2022-03-23T18:49:22.392Z"
   },
   {
    "duration": 74,
    "start_time": "2022-03-23T18:49:22.651Z"
   },
   {
    "duration": 3669,
    "start_time": "2022-03-23T18:49:22.728Z"
   },
   {
    "duration": 3284,
    "start_time": "2022-03-23T18:49:47.097Z"
   },
   {
    "duration": 8,
    "start_time": "2022-03-23T18:54:13.275Z"
   },
   {
    "duration": 22,
    "start_time": "2022-03-23T18:54:26.041Z"
   },
   {
    "duration": 104,
    "start_time": "2022-03-23T18:57:50.852Z"
   },
   {
    "duration": 15,
    "start_time": "2022-03-23T18:57:58.011Z"
   },
   {
    "duration": 120,
    "start_time": "2022-03-23T18:58:04.692Z"
   },
   {
    "duration": 119,
    "start_time": "2022-03-23T18:58:45.502Z"
   },
   {
    "duration": 77,
    "start_time": "2022-03-23T18:58:54.639Z"
   },
   {
    "duration": 194,
    "start_time": "2022-03-23T18:59:03.386Z"
   },
   {
    "duration": 1524,
    "start_time": "2022-03-23T18:59:21.841Z"
   },
   {
    "duration": 217,
    "start_time": "2022-03-23T18:59:23.368Z"
   },
   {
    "duration": 28,
    "start_time": "2022-03-23T18:59:23.587Z"
   },
   {
    "duration": 103,
    "start_time": "2022-03-23T18:59:23.618Z"
   },
   {
    "duration": 207,
    "start_time": "2022-03-23T18:59:23.723Z"
   },
   {
    "duration": 60,
    "start_time": "2022-03-23T18:59:23.932Z"
   },
   {
    "duration": 10,
    "start_time": "2022-03-23T18:59:23.995Z"
   },
   {
    "duration": 159,
    "start_time": "2022-03-23T18:59:24.007Z"
   },
   {
    "duration": 78,
    "start_time": "2022-03-23T18:59:24.169Z"
   },
   {
    "duration": 6,
    "start_time": "2022-03-23T19:19:08.621Z"
   },
   {
    "duration": 18,
    "start_time": "2022-03-23T19:19:44.107Z"
   },
   {
    "duration": 12,
    "start_time": "2022-03-23T19:20:00.761Z"
   },
   {
    "duration": 59,
    "start_time": "2022-03-23T19:20:24.507Z"
   },
   {
    "duration": 23,
    "start_time": "2022-03-23T19:23:32.842Z"
   },
   {
    "duration": 159,
    "start_time": "2022-03-23T19:24:27.991Z"
   },
   {
    "duration": 14,
    "start_time": "2022-03-23T19:24:39.071Z"
   },
   {
    "duration": 12,
    "start_time": "2022-03-23T19:25:28.864Z"
   },
   {
    "duration": 209,
    "start_time": "2022-03-23T19:25:35.240Z"
   },
   {
    "duration": 11,
    "start_time": "2022-03-23T19:25:40.134Z"
   },
   {
    "duration": 72,
    "start_time": "2022-03-23T19:28:48.229Z"
   },
   {
    "duration": 66,
    "start_time": "2022-03-23T19:29:08.722Z"
   },
   {
    "duration": 7,
    "start_time": "2022-03-23T19:29:49.542Z"
   },
   {
    "duration": 1718,
    "start_time": "2022-03-23T19:29:57.576Z"
   },
   {
    "duration": 254,
    "start_time": "2022-03-23T19:29:59.297Z"
   },
   {
    "duration": 40,
    "start_time": "2022-03-23T19:29:59.555Z"
   },
   {
    "duration": 127,
    "start_time": "2022-03-23T19:29:59.598Z"
   },
   {
    "duration": 216,
    "start_time": "2022-03-23T19:29:59.728Z"
   },
   {
    "duration": 54,
    "start_time": "2022-03-23T19:29:59.946Z"
   },
   {
    "duration": 12,
    "start_time": "2022-03-23T19:30:00.003Z"
   },
   {
    "duration": 141,
    "start_time": "2022-03-23T19:30:00.017Z"
   },
   {
    "duration": 15,
    "start_time": "2022-03-23T19:30:00.166Z"
   },
   {
    "duration": 30,
    "start_time": "2022-03-23T19:30:00.185Z"
   },
   {
    "duration": 34,
    "start_time": "2022-03-23T19:30:00.218Z"
   },
   {
    "duration": 65,
    "start_time": "2022-03-23T19:30:00.258Z"
   },
   {
    "duration": 232,
    "start_time": "2022-03-23T19:30:22.790Z"
   },
   {
    "duration": 216,
    "start_time": "2022-03-23T19:31:35.506Z"
   },
   {
    "duration": 257,
    "start_time": "2022-03-23T19:31:47.326Z"
   },
   {
    "duration": 329,
    "start_time": "2022-03-23T19:32:00.332Z"
   },
   {
    "duration": 256,
    "start_time": "2022-03-23T19:32:05.405Z"
   },
   {
    "duration": 253,
    "start_time": "2022-03-23T19:32:23.552Z"
   },
   {
    "duration": 31,
    "start_time": "2022-03-23T19:34:28.732Z"
   },
   {
    "duration": 68,
    "start_time": "2022-03-23T19:34:51.857Z"
   },
   {
    "duration": 37,
    "start_time": "2022-03-23T19:35:06.280Z"
   },
   {
    "duration": 24,
    "start_time": "2022-03-23T19:35:23.999Z"
   },
   {
    "duration": 23,
    "start_time": "2022-03-23T19:35:29.375Z"
   },
   {
    "duration": 66,
    "start_time": "2022-03-23T19:35:57.907Z"
   },
   {
    "duration": 3658,
    "start_time": "2022-03-23T19:38:32.917Z"
   },
   {
    "duration": 1568,
    "start_time": "2022-03-23T19:38:42.699Z"
   },
   {
    "duration": 239,
    "start_time": "2022-03-23T19:38:44.270Z"
   },
   {
    "duration": 42,
    "start_time": "2022-03-23T19:38:44.512Z"
   },
   {
    "duration": 110,
    "start_time": "2022-03-23T19:38:44.557Z"
   },
   {
    "duration": 219,
    "start_time": "2022-03-23T19:38:44.669Z"
   },
   {
    "duration": 68,
    "start_time": "2022-03-23T19:38:44.890Z"
   },
   {
    "duration": 8,
    "start_time": "2022-03-23T19:38:44.960Z"
   },
   {
    "duration": 140,
    "start_time": "2022-03-23T19:38:44.970Z"
   },
   {
    "duration": 13,
    "start_time": "2022-03-23T19:38:45.112Z"
   },
   {
    "duration": 20,
    "start_time": "2022-03-23T19:38:45.147Z"
   },
   {
    "duration": 11,
    "start_time": "2022-03-23T19:38:45.170Z"
   },
   {
    "duration": 101,
    "start_time": "2022-03-23T19:38:45.183Z"
   },
   {
    "duration": 23,
    "start_time": "2022-03-23T19:38:45.286Z"
   },
   {
    "duration": 43,
    "start_time": "2022-03-23T19:38:45.312Z"
   },
   {
    "duration": 46,
    "start_time": "2022-03-23T19:38:45.357Z"
   },
   {
    "duration": 13,
    "start_time": "2022-03-23T19:43:13.245Z"
   },
   {
    "duration": 1482,
    "start_time": "2022-03-23T19:43:20.179Z"
   },
   {
    "duration": 214,
    "start_time": "2022-03-23T19:43:21.664Z"
   },
   {
    "duration": 28,
    "start_time": "2022-03-23T19:43:21.880Z"
   },
   {
    "duration": 112,
    "start_time": "2022-03-23T19:43:21.911Z"
   },
   {
    "duration": 195,
    "start_time": "2022-03-23T19:43:22.026Z"
   },
   {
    "duration": 20,
    "start_time": "2022-03-23T19:43:22.223Z"
   },
   {
    "duration": 14,
    "start_time": "2022-03-23T19:43:22.245Z"
   },
   {
    "duration": 165,
    "start_time": "2022-03-23T19:43:22.261Z"
   },
   {
    "duration": 0,
    "start_time": "2022-03-23T19:43:22.429Z"
   },
   {
    "duration": 0,
    "start_time": "2022-03-23T19:43:22.430Z"
   },
   {
    "duration": 0,
    "start_time": "2022-03-23T19:43:22.431Z"
   },
   {
    "duration": 0,
    "start_time": "2022-03-23T19:43:22.433Z"
   },
   {
    "duration": 0,
    "start_time": "2022-03-23T19:43:22.443Z"
   },
   {
    "duration": 0,
    "start_time": "2022-03-23T19:43:22.444Z"
   },
   {
    "duration": 0,
    "start_time": "2022-03-23T19:43:22.446Z"
   },
   {
    "duration": 18,
    "start_time": "2022-03-23T19:45:45.277Z"
   },
   {
    "duration": 3267,
    "start_time": "2022-03-23T19:45:57.674Z"
   },
   {
    "duration": 3350,
    "start_time": "2022-03-23T19:46:20.776Z"
   },
   {
    "duration": 3196,
    "start_time": "2022-03-23T19:46:43.643Z"
   },
   {
    "duration": 3144,
    "start_time": "2022-03-23T19:49:24.750Z"
   },
   {
    "duration": 1588,
    "start_time": "2022-03-23T19:49:30.784Z"
   },
   {
    "duration": 2209,
    "start_time": "2022-03-23T19:49:32.374Z"
   },
   {
    "duration": 30,
    "start_time": "2022-03-23T19:49:34.585Z"
   },
   {
    "duration": 103,
    "start_time": "2022-03-23T19:49:34.617Z"
   },
   {
    "duration": 216,
    "start_time": "2022-03-23T19:49:34.723Z"
   },
   {
    "duration": 8,
    "start_time": "2022-03-23T19:49:34.942Z"
   },
   {
    "duration": 11,
    "start_time": "2022-03-23T19:49:34.952Z"
   },
   {
    "duration": 18,
    "start_time": "2022-03-23T19:49:34.965Z"
   },
   {
    "duration": 146,
    "start_time": "2022-03-23T19:49:34.985Z"
   },
   {
    "duration": 22,
    "start_time": "2022-03-23T19:49:35.133Z"
   },
   {
    "duration": 17,
    "start_time": "2022-03-23T19:49:35.157Z"
   },
   {
    "duration": 10,
    "start_time": "2022-03-23T19:49:35.176Z"
   },
   {
    "duration": 100,
    "start_time": "2022-03-23T19:49:35.188Z"
   },
   {
    "duration": 25,
    "start_time": "2022-03-23T19:49:35.293Z"
   },
   {
    "duration": 41,
    "start_time": "2022-03-23T19:49:35.320Z"
   },
   {
    "duration": 43,
    "start_time": "2022-03-23T19:49:35.363Z"
   },
   {
    "duration": 33,
    "start_time": "2022-03-23T19:49:45.739Z"
   },
   {
    "duration": 3439,
    "start_time": "2022-03-23T19:50:14.865Z"
   },
   {
    "duration": 3225,
    "start_time": "2022-03-23T19:50:33.328Z"
   },
   {
    "duration": 6889,
    "start_time": "2022-03-23T19:51:07.277Z"
   },
   {
    "duration": 1566,
    "start_time": "2022-03-23T19:51:34.601Z"
   },
   {
    "duration": 230,
    "start_time": "2022-03-23T19:51:36.170Z"
   },
   {
    "duration": 41,
    "start_time": "2022-03-23T19:51:36.402Z"
   },
   {
    "duration": 98,
    "start_time": "2022-03-23T19:51:36.446Z"
   },
   {
    "duration": 209,
    "start_time": "2022-03-23T19:51:36.546Z"
   },
   {
    "duration": 8,
    "start_time": "2022-03-23T19:51:36.757Z"
   },
   {
    "duration": 20,
    "start_time": "2022-03-23T19:51:36.767Z"
   },
   {
    "duration": 45,
    "start_time": "2022-03-23T19:51:36.789Z"
   },
   {
    "duration": 116,
    "start_time": "2022-03-23T19:51:36.837Z"
   },
   {
    "duration": 14,
    "start_time": "2022-03-23T19:51:36.956Z"
   },
   {
    "duration": 15,
    "start_time": "2022-03-23T19:51:36.972Z"
   },
   {
    "duration": 10,
    "start_time": "2022-03-23T19:51:36.990Z"
   },
   {
    "duration": 97,
    "start_time": "2022-03-23T19:51:37.002Z"
   },
   {
    "duration": 23,
    "start_time": "2022-03-23T19:51:37.102Z"
   },
   {
    "duration": 23,
    "start_time": "2022-03-23T19:51:37.142Z"
   },
   {
    "duration": 39,
    "start_time": "2022-03-23T19:51:37.167Z"
   },
   {
    "duration": 18,
    "start_time": "2022-03-23T19:52:10.236Z"
   },
   {
    "duration": 44,
    "start_time": "2022-03-23T19:52:52.715Z"
   },
   {
    "duration": 41,
    "start_time": "2022-03-23T19:53:12.747Z"
   },
   {
    "duration": 4,
    "start_time": "2022-03-23T19:57:36.702Z"
   },
   {
    "duration": 47,
    "start_time": "2022-03-23T19:58:05.648Z"
   },
   {
    "duration": 77,
    "start_time": "2022-03-25T16:51:52.529Z"
   },
   {
    "duration": 1845,
    "start_time": "2022-03-25T16:51:59.843Z"
   },
   {
    "duration": 360,
    "start_time": "2022-03-25T16:52:01.691Z"
   },
   {
    "duration": 28,
    "start_time": "2022-03-25T16:52:02.053Z"
   },
   {
    "duration": 96,
    "start_time": "2022-03-25T16:52:02.085Z"
   },
   {
    "duration": 191,
    "start_time": "2022-03-25T16:52:02.183Z"
   },
   {
    "duration": 7,
    "start_time": "2022-03-25T16:52:02.377Z"
   },
   {
    "duration": 13,
    "start_time": "2022-03-25T16:52:02.386Z"
   },
   {
    "duration": 11,
    "start_time": "2022-03-25T16:52:02.402Z"
   },
   {
    "duration": 160,
    "start_time": "2022-03-25T16:52:02.416Z"
   },
   {
    "duration": 13,
    "start_time": "2022-03-25T16:52:02.579Z"
   },
   {
    "duration": 15,
    "start_time": "2022-03-25T16:52:02.594Z"
   },
   {
    "duration": 11,
    "start_time": "2022-03-25T16:52:02.612Z"
   },
   {
    "duration": 100,
    "start_time": "2022-03-25T16:52:02.625Z"
   },
   {
    "duration": 59,
    "start_time": "2022-03-25T16:52:02.728Z"
   },
   {
    "duration": 4,
    "start_time": "2022-03-25T16:52:02.790Z"
   },
   {
    "duration": 164,
    "start_time": "2022-03-25T16:52:02.796Z"
   },
   {
    "duration": 475,
    "start_time": "2022-03-25T16:52:25.420Z"
   },
   {
    "duration": 409,
    "start_time": "2022-03-25T16:58:42.915Z"
   },
   {
    "duration": 53,
    "start_time": "2022-03-25T16:59:02.887Z"
   },
   {
    "duration": 1408,
    "start_time": "2022-03-25T17:01:09.838Z"
   },
   {
    "duration": 1721,
    "start_time": "2022-03-25T17:01:25.766Z"
   },
   {
    "duration": 217,
    "start_time": "2022-03-25T17:01:27.490Z"
   },
   {
    "duration": 33,
    "start_time": "2022-03-25T17:01:27.709Z"
   },
   {
    "duration": 110,
    "start_time": "2022-03-25T17:01:27.746Z"
   },
   {
    "duration": 206,
    "start_time": "2022-03-25T17:01:27.858Z"
   },
   {
    "duration": 8,
    "start_time": "2022-03-25T17:01:28.074Z"
   },
   {
    "duration": 20,
    "start_time": "2022-03-25T17:01:28.084Z"
   },
   {
    "duration": 14,
    "start_time": "2022-03-25T17:01:28.106Z"
   },
   {
    "duration": 132,
    "start_time": "2022-03-25T17:01:28.122Z"
   },
   {
    "duration": 26,
    "start_time": "2022-03-25T17:01:28.257Z"
   },
   {
    "duration": 17,
    "start_time": "2022-03-25T17:01:28.286Z"
   },
   {
    "duration": 10,
    "start_time": "2022-03-25T17:01:28.306Z"
   },
   {
    "duration": 105,
    "start_time": "2022-03-25T17:01:28.319Z"
   },
   {
    "duration": 51,
    "start_time": "2022-03-25T17:01:28.426Z"
   },
   {
    "duration": 3,
    "start_time": "2022-03-25T17:01:28.480Z"
   },
   {
    "duration": 550,
    "start_time": "2022-03-25T17:01:28.485Z"
   },
   {
    "duration": 1687,
    "start_time": "2022-03-25T17:01:29.037Z"
   },
   {
    "duration": 14,
    "start_time": "2022-03-25T17:02:04.213Z"
   },
   {
    "duration": 1391,
    "start_time": "2022-03-25T17:03:47.312Z"
   },
   {
    "duration": 1471,
    "start_time": "2022-03-25T17:04:16.198Z"
   },
   {
    "duration": 1540,
    "start_time": "2022-03-25T17:04:49.679Z"
   },
   {
    "duration": 1447,
    "start_time": "2022-03-25T17:07:12.018Z"
   },
   {
    "duration": 1848,
    "start_time": "2022-03-25T17:07:42.304Z"
   },
   {
    "duration": 209,
    "start_time": "2022-03-25T17:07:44.157Z"
   },
   {
    "duration": 31,
    "start_time": "2022-03-25T17:07:44.368Z"
   },
   {
    "duration": 106,
    "start_time": "2022-03-25T17:07:44.402Z"
   },
   {
    "duration": 300,
    "start_time": "2022-03-25T17:07:44.513Z"
   },
   {
    "duration": 9,
    "start_time": "2022-03-25T17:07:44.815Z"
   },
   {
    "duration": 14,
    "start_time": "2022-03-25T17:07:44.826Z"
   },
   {
    "duration": 34,
    "start_time": "2022-03-25T17:07:44.843Z"
   },
   {
    "duration": 126,
    "start_time": "2022-03-25T17:07:44.879Z"
   },
   {
    "duration": 14,
    "start_time": "2022-03-25T17:07:45.007Z"
   },
   {
    "duration": 20,
    "start_time": "2022-03-25T17:07:45.023Z"
   },
   {
    "duration": 35,
    "start_time": "2022-03-25T17:07:45.045Z"
   },
   {
    "duration": 66,
    "start_time": "2022-03-25T17:07:45.082Z"
   },
   {
    "duration": 57,
    "start_time": "2022-03-25T17:07:45.152Z"
   },
   {
    "duration": 3,
    "start_time": "2022-03-25T17:07:45.212Z"
   },
   {
    "duration": 437,
    "start_time": "2022-03-25T17:07:45.217Z"
   },
   {
    "duration": 100,
    "start_time": "2022-03-25T17:07:45.656Z"
   },
   {
    "duration": 319,
    "start_time": "2022-03-25T17:08:14.264Z"
   },
   {
    "duration": 16,
    "start_time": "2022-03-25T17:10:38.463Z"
   },
   {
    "duration": 12,
    "start_time": "2022-03-25T17:10:52.258Z"
   },
   {
    "duration": 56,
    "start_time": "2022-03-25T17:15:59.767Z"
   },
   {
    "duration": 61,
    "start_time": "2022-03-25T17:16:34.559Z"
   },
   {
    "duration": 53,
    "start_time": "2022-03-25T17:43:20.695Z"
   },
   {
    "duration": 81,
    "start_time": "2022-03-25T18:26:25.699Z"
   },
   {
    "duration": 70,
    "start_time": "2022-03-25T18:26:53.897Z"
   },
   {
    "duration": 109,
    "start_time": "2022-03-25T18:35:01.583Z"
   },
   {
    "duration": 161,
    "start_time": "2022-03-25T18:35:46.647Z"
   },
   {
    "duration": 11,
    "start_time": "2022-03-25T18:36:11.035Z"
   },
   {
    "duration": 16,
    "start_time": "2022-03-25T18:36:18.032Z"
   },
   {
    "duration": 77,
    "start_time": "2022-03-25T18:37:49.646Z"
   },
   {
    "duration": 1814,
    "start_time": "2022-03-25T18:38:58.945Z"
   },
   {
    "duration": 76,
    "start_time": "2022-03-25T18:39:20.997Z"
   },
   {
    "duration": 84,
    "start_time": "2022-03-25T18:39:28.030Z"
   },
   {
    "duration": 1843,
    "start_time": "2022-03-25T18:45:36.356Z"
   },
   {
    "duration": 85,
    "start_time": "2022-03-25T18:47:08.634Z"
   },
   {
    "duration": 87,
    "start_time": "2022-03-25T18:47:49.763Z"
   },
   {
    "duration": 1577,
    "start_time": "2022-03-25T18:51:02.616Z"
   },
   {
    "duration": 216,
    "start_time": "2022-03-25T18:51:04.195Z"
   },
   {
    "duration": 27,
    "start_time": "2022-03-25T18:51:04.413Z"
   },
   {
    "duration": 100,
    "start_time": "2022-03-25T18:51:04.443Z"
   },
   {
    "duration": 262,
    "start_time": "2022-03-25T18:51:04.546Z"
   },
   {
    "duration": 9,
    "start_time": "2022-03-25T18:51:04.810Z"
   },
   {
    "duration": 10,
    "start_time": "2022-03-25T18:51:04.821Z"
   },
   {
    "duration": 10,
    "start_time": "2022-03-25T18:51:04.833Z"
   },
   {
    "duration": 126,
    "start_time": "2022-03-25T18:51:04.873Z"
   },
   {
    "duration": 13,
    "start_time": "2022-03-25T18:51:05.003Z"
   },
   {
    "duration": 17,
    "start_time": "2022-03-25T18:51:05.018Z"
   },
   {
    "duration": 43,
    "start_time": "2022-03-25T18:51:05.038Z"
   },
   {
    "duration": 62,
    "start_time": "2022-03-25T18:51:05.084Z"
   },
   {
    "duration": 63,
    "start_time": "2022-03-25T18:51:05.149Z"
   },
   {
    "duration": 5,
    "start_time": "2022-03-25T18:51:05.214Z"
   },
   {
    "duration": 552,
    "start_time": "2022-03-25T18:51:05.221Z"
   },
   {
    "duration": 104,
    "start_time": "2022-03-25T18:51:05.775Z"
   },
   {
    "duration": 15,
    "start_time": "2022-03-25T18:51:05.881Z"
   },
   {
    "duration": 75,
    "start_time": "2022-03-25T18:51:05.898Z"
   },
   {
    "duration": 30,
    "start_time": "2022-03-25T18:51:05.975Z"
   },
   {
    "duration": 103,
    "start_time": "2022-03-25T18:51:06.007Z"
   },
   {
    "duration": 335,
    "start_time": "2022-03-25T18:52:04.772Z"
   },
   {
    "duration": 86,
    "start_time": "2022-03-25T18:52:27.121Z"
   },
   {
    "duration": 88,
    "start_time": "2022-03-25T18:54:14.077Z"
   },
   {
    "duration": 85,
    "start_time": "2022-03-25T18:54:20.876Z"
   },
   {
    "duration": 86,
    "start_time": "2022-03-25T18:55:10.546Z"
   },
   {
    "duration": 148,
    "start_time": "2022-03-25T18:55:14.960Z"
   },
   {
    "duration": 82,
    "start_time": "2022-03-25T18:55:20.387Z"
   },
   {
    "duration": 1426,
    "start_time": "2022-03-26T11:58:24.759Z"
   },
   {
    "duration": 157,
    "start_time": "2022-03-26T11:58:26.187Z"
   },
   {
    "duration": 19,
    "start_time": "2022-03-26T11:58:26.346Z"
   },
   {
    "duration": 71,
    "start_time": "2022-03-26T11:58:26.367Z"
   },
   {
    "duration": 126,
    "start_time": "2022-03-26T11:58:26.440Z"
   },
   {
    "duration": 5,
    "start_time": "2022-03-26T11:58:26.568Z"
   },
   {
    "duration": 7,
    "start_time": "2022-03-26T11:58:26.574Z"
   },
   {
    "duration": 19,
    "start_time": "2022-03-26T11:58:26.583Z"
   },
   {
    "duration": 71,
    "start_time": "2022-03-26T11:58:26.603Z"
   },
   {
    "duration": 24,
    "start_time": "2022-03-26T11:58:26.677Z"
   },
   {
    "duration": 12,
    "start_time": "2022-03-26T11:58:26.703Z"
   },
   {
    "duration": 8,
    "start_time": "2022-03-26T11:58:26.716Z"
   },
   {
    "duration": 44,
    "start_time": "2022-03-26T11:58:26.725Z"
   },
   {
    "duration": 53,
    "start_time": "2022-03-26T11:58:26.770Z"
   },
   {
    "duration": 2,
    "start_time": "2022-03-26T11:58:26.825Z"
   },
   {
    "duration": 256,
    "start_time": "2022-03-26T11:58:26.829Z"
   },
   {
    "duration": 62,
    "start_time": "2022-03-26T11:58:27.088Z"
   },
   {
    "duration": 9,
    "start_time": "2022-03-26T11:58:27.151Z"
   },
   {
    "duration": 51,
    "start_time": "2022-03-26T11:58:27.162Z"
   },
   {
    "duration": 21,
    "start_time": "2022-03-26T11:58:27.214Z"
   },
   {
    "duration": 97,
    "start_time": "2022-03-26T11:58:27.236Z"
   },
   {
    "duration": 47,
    "start_time": "2022-03-26T11:58:27.335Z"
   },
   {
    "duration": 170,
    "start_time": "2022-03-26T11:58:39.339Z"
   },
   {
    "duration": 193,
    "start_time": "2022-03-26T12:04:58.266Z"
   },
   {
    "duration": 233,
    "start_time": "2022-03-26T12:05:19.684Z"
   },
   {
    "duration": 182,
    "start_time": "2022-03-26T12:06:03.655Z"
   },
   {
    "duration": 158,
    "start_time": "2022-03-26T12:06:50.746Z"
   },
   {
    "duration": 212,
    "start_time": "2022-03-26T12:09:12.147Z"
   },
   {
    "duration": 301,
    "start_time": "2022-03-26T12:27:23.078Z"
   },
   {
    "duration": 147,
    "start_time": "2022-03-26T12:27:41.781Z"
   },
   {
    "duration": 167,
    "start_time": "2022-03-26T12:28:19.964Z"
   },
   {
    "duration": 97,
    "start_time": "2022-03-26T12:29:34.660Z"
   },
   {
    "duration": 204,
    "start_time": "2022-03-26T12:29:55.627Z"
   },
   {
    "duration": 148,
    "start_time": "2022-03-26T12:30:13.640Z"
   },
   {
    "duration": 147,
    "start_time": "2022-03-26T12:30:56.432Z"
   },
   {
    "duration": 107,
    "start_time": "2022-03-26T12:31:16.400Z"
   },
   {
    "duration": 200,
    "start_time": "2022-03-26T12:31:40.137Z"
   },
   {
    "duration": 273,
    "start_time": "2022-03-26T12:32:55.138Z"
   },
   {
    "duration": 216,
    "start_time": "2022-03-26T12:33:19.824Z"
   },
   {
    "duration": 330,
    "start_time": "2022-03-26T12:33:39.349Z"
   },
   {
    "duration": 44,
    "start_time": "2022-03-26T12:49:38.279Z"
   },
   {
    "duration": 36,
    "start_time": "2022-03-26T12:59:29.886Z"
   },
   {
    "duration": 187,
    "start_time": "2022-03-26T13:00:32.550Z"
   },
   {
    "duration": 42,
    "start_time": "2022-03-26T13:00:41.718Z"
   },
   {
    "duration": 73,
    "start_time": "2022-03-26T13:01:19.793Z"
   },
   {
    "duration": 76,
    "start_time": "2022-03-26T13:01:30.248Z"
   },
   {
    "duration": 75,
    "start_time": "2022-03-26T13:02:20.837Z"
   },
   {
    "duration": 77,
    "start_time": "2022-03-26T13:02:30.425Z"
   },
   {
    "duration": 68,
    "start_time": "2022-03-26T13:02:42.586Z"
   },
   {
    "duration": 36,
    "start_time": "2022-03-26T13:21:44.953Z"
   },
   {
    "duration": 34,
    "start_time": "2022-03-26T13:26:16.863Z"
   },
   {
    "duration": 3,
    "start_time": "2022-03-26T13:42:44.638Z"
   },
   {
    "duration": 1215,
    "start_time": "2022-03-26T13:42:53.108Z"
   },
   {
    "duration": 158,
    "start_time": "2022-03-26T13:42:54.325Z"
   },
   {
    "duration": 20,
    "start_time": "2022-03-26T13:42:54.485Z"
   },
   {
    "duration": 57,
    "start_time": "2022-03-26T13:42:54.506Z"
   },
   {
    "duration": 138,
    "start_time": "2022-03-26T13:42:54.564Z"
   },
   {
    "duration": 6,
    "start_time": "2022-03-26T13:42:54.703Z"
   },
   {
    "duration": 10,
    "start_time": "2022-03-26T13:42:54.710Z"
   },
   {
    "duration": 9,
    "start_time": "2022-03-26T13:42:54.721Z"
   },
   {
    "duration": 98,
    "start_time": "2022-03-26T13:42:54.732Z"
   },
   {
    "duration": 14,
    "start_time": "2022-03-26T13:42:54.833Z"
   },
   {
    "duration": 20,
    "start_time": "2022-03-26T13:42:54.848Z"
   },
   {
    "duration": 10,
    "start_time": "2022-03-26T13:42:54.870Z"
   },
   {
    "duration": 52,
    "start_time": "2022-03-26T13:42:54.882Z"
   },
   {
    "duration": 28,
    "start_time": "2022-03-26T13:42:54.935Z"
   },
   {
    "duration": 2,
    "start_time": "2022-03-26T13:42:54.964Z"
   },
   {
    "duration": 257,
    "start_time": "2022-03-26T13:42:54.968Z"
   },
   {
    "duration": 79,
    "start_time": "2022-03-26T13:42:55.227Z"
   },
   {
    "duration": 13,
    "start_time": "2022-03-26T13:42:55.307Z"
   },
   {
    "duration": 46,
    "start_time": "2022-03-26T13:42:55.321Z"
   },
   {
    "duration": 34,
    "start_time": "2022-03-26T13:42:55.368Z"
   },
   {
    "duration": 96,
    "start_time": "2022-03-26T13:42:55.403Z"
   },
   {
    "duration": 201,
    "start_time": "2022-03-26T13:42:55.501Z"
   },
   {
    "duration": 41,
    "start_time": "2022-03-26T13:42:55.704Z"
   },
   {
    "duration": 30,
    "start_time": "2022-03-26T13:42:55.746Z"
   },
   {
    "duration": 108,
    "start_time": "2022-03-26T14:23:12.894Z"
   },
   {
    "duration": 45,
    "start_time": "2022-03-26T14:24:53.208Z"
   },
   {
    "duration": 55,
    "start_time": "2022-03-26T14:25:23.267Z"
   },
   {
    "duration": 105,
    "start_time": "2022-03-26T14:25:36.029Z"
   },
   {
    "duration": 78,
    "start_time": "2022-03-26T14:25:41.318Z"
   },
   {
    "duration": 107,
    "start_time": "2022-03-26T14:37:05.643Z"
   },
   {
    "duration": 102,
    "start_time": "2022-03-26T14:37:37.476Z"
   },
   {
    "duration": 14,
    "start_time": "2022-03-26T14:46:34.063Z"
   },
   {
    "duration": 102,
    "start_time": "2022-03-26T14:47:51.538Z"
   },
   {
    "duration": 12,
    "start_time": "2022-03-26T14:47:56.661Z"
   },
   {
    "duration": 21,
    "start_time": "2022-03-26T14:48:11.642Z"
   },
   {
    "duration": 26,
    "start_time": "2022-03-26T14:48:59.636Z"
   },
   {
    "duration": 21,
    "start_time": "2022-03-26T14:54:47.867Z"
   },
   {
    "duration": 16,
    "start_time": "2022-03-26T14:55:00.353Z"
   },
   {
    "duration": 101,
    "start_time": "2022-03-26T14:55:21.647Z"
   },
   {
    "duration": 16,
    "start_time": "2022-03-26T14:55:26.255Z"
   },
   {
    "duration": 16,
    "start_time": "2022-03-26T14:57:37.208Z"
   },
   {
    "duration": 99,
    "start_time": "2022-03-26T14:59:14.043Z"
   },
   {
    "duration": 15,
    "start_time": "2022-03-26T14:59:17.044Z"
   },
   {
    "duration": 106,
    "start_time": "2022-03-26T15:00:18.308Z"
   },
   {
    "duration": 16,
    "start_time": "2022-03-26T15:05:30.479Z"
   },
   {
    "duration": 3,
    "start_time": "2022-03-26T15:20:21.909Z"
   },
   {
    "duration": 101,
    "start_time": "2022-03-26T15:20:50.542Z"
   },
   {
    "duration": 5,
    "start_time": "2022-03-26T15:21:34.759Z"
   },
   {
    "duration": 19,
    "start_time": "2022-03-26T15:26:21.542Z"
   },
   {
    "duration": 14,
    "start_time": "2022-03-26T15:26:48.235Z"
   },
   {
    "duration": 14,
    "start_time": "2022-03-26T15:27:26.005Z"
   },
   {
    "duration": 10,
    "start_time": "2022-03-26T15:27:39.491Z"
   },
   {
    "duration": 38,
    "start_time": "2022-03-26T15:27:57.638Z"
   },
   {
    "duration": 67,
    "start_time": "2022-03-26T15:28:06.881Z"
   },
   {
    "duration": 74,
    "start_time": "2022-03-26T15:28:15.234Z"
   },
   {
    "duration": 67,
    "start_time": "2022-03-26T15:28:27.573Z"
   },
   {
    "duration": 3167,
    "start_time": "2022-03-26T15:29:11.393Z"
   },
   {
    "duration": 67,
    "start_time": "2022-03-26T15:29:36.822Z"
   },
   {
    "duration": 63,
    "start_time": "2022-03-26T15:30:28.005Z"
   },
   {
    "duration": 65,
    "start_time": "2022-03-26T15:30:36.366Z"
   },
   {
    "duration": 65,
    "start_time": "2022-03-26T15:30:41.466Z"
   },
   {
    "duration": 58,
    "start_time": "2022-03-26T15:31:47.468Z"
   },
   {
    "duration": 79,
    "start_time": "2022-03-26T15:34:43.862Z"
   },
   {
    "duration": 91,
    "start_time": "2022-03-26T15:34:54.218Z"
   },
   {
    "duration": 10639,
    "start_time": "2022-03-26T15:35:12.390Z"
   },
   {
    "duration": 84,
    "start_time": "2022-03-26T15:35:58.982Z"
   },
   {
    "duration": 86,
    "start_time": "2022-03-26T16:00:06.827Z"
   },
   {
    "duration": 2304,
    "start_time": "2022-03-26T16:00:12.874Z"
   },
   {
    "duration": 240,
    "start_time": "2022-03-26T16:00:15.182Z"
   },
   {
    "duration": 43,
    "start_time": "2022-03-26T16:00:15.424Z"
   },
   {
    "duration": 106,
    "start_time": "2022-03-26T16:00:15.471Z"
   },
   {
    "duration": 212,
    "start_time": "2022-03-26T16:00:15.580Z"
   },
   {
    "duration": 9,
    "start_time": "2022-03-26T16:00:15.794Z"
   },
   {
    "duration": 38,
    "start_time": "2022-03-26T16:00:15.805Z"
   },
   {
    "duration": 18,
    "start_time": "2022-03-26T16:00:15.850Z"
   },
   {
    "duration": 130,
    "start_time": "2022-03-26T16:00:15.870Z"
   },
   {
    "duration": 16,
    "start_time": "2022-03-26T16:00:16.004Z"
   },
   {
    "duration": 45,
    "start_time": "2022-03-26T16:00:16.023Z"
   },
   {
    "duration": 13,
    "start_time": "2022-03-26T16:00:16.070Z"
   },
   {
    "duration": 112,
    "start_time": "2022-03-26T16:00:16.085Z"
   },
   {
    "duration": 57,
    "start_time": "2022-03-26T16:00:16.200Z"
   },
   {
    "duration": 5,
    "start_time": "2022-03-26T16:00:16.261Z"
   },
   {
    "duration": 661,
    "start_time": "2022-03-26T16:00:16.268Z"
   },
   {
    "duration": 126,
    "start_time": "2022-03-26T16:00:16.932Z"
   },
   {
    "duration": 14,
    "start_time": "2022-03-26T16:00:17.060Z"
   },
   {
    "duration": 82,
    "start_time": "2022-03-26T16:00:17.077Z"
   },
   {
    "duration": 43,
    "start_time": "2022-03-26T16:00:17.161Z"
   },
   {
    "duration": 172,
    "start_time": "2022-03-26T16:00:17.207Z"
   },
   {
    "duration": 443,
    "start_time": "2022-03-26T16:00:17.381Z"
   },
   {
    "duration": 67,
    "start_time": "2022-03-26T16:00:17.827Z"
   },
   {
    "duration": 80,
    "start_time": "2022-03-26T16:00:17.897Z"
   },
   {
    "duration": 149,
    "start_time": "2022-03-26T16:00:17.980Z"
   },
   {
    "duration": 14,
    "start_time": "2022-03-26T16:00:18.131Z"
   },
   {
    "duration": 30,
    "start_time": "2022-03-26T16:00:18.148Z"
   },
   {
    "duration": 7,
    "start_time": "2022-03-26T16:01:07.780Z"
   },
   {
    "duration": 12,
    "start_time": "2022-03-26T16:01:14.720Z"
   },
   {
    "duration": 156,
    "start_time": "2022-03-26T16:02:43.801Z"
   },
   {
    "duration": 6,
    "start_time": "2022-03-26T16:03:11.533Z"
   },
   {
    "duration": 13,
    "start_time": "2022-03-26T16:03:21.232Z"
   },
   {
    "duration": 2449,
    "start_time": "2022-03-26T16:05:23.924Z"
   },
   {
    "duration": 6,
    "start_time": "2022-03-26T16:05:42.580Z"
   },
   {
    "duration": 11,
    "start_time": "2022-03-26T16:05:57.004Z"
   },
   {
    "duration": 16,
    "start_time": "2022-03-26T16:07:36.241Z"
   },
   {
    "duration": 47,
    "start_time": "2022-03-26T16:08:08.318Z"
   },
   {
    "duration": 40,
    "start_time": "2022-03-26T16:08:28.342Z"
   },
   {
    "duration": 45,
    "start_time": "2022-03-26T16:08:40.966Z"
   },
   {
    "duration": 2625,
    "start_time": "2022-03-26T16:09:26.770Z"
   },
   {
    "duration": 2509,
    "start_time": "2022-03-26T16:10:18.315Z"
   },
   {
    "duration": 2414,
    "start_time": "2022-03-26T16:11:13.017Z"
   },
   {
    "duration": 143,
    "start_time": "2022-03-26T16:12:04.812Z"
   },
   {
    "duration": 24,
    "start_time": "2022-03-26T16:33:02.545Z"
   },
   {
    "duration": 26,
    "start_time": "2022-03-26T16:33:36.279Z"
   },
   {
    "duration": 205,
    "start_time": "2022-03-26T18:15:34.991Z"
   },
   {
    "duration": 403,
    "start_time": "2022-03-26T18:15:52.484Z"
   },
   {
    "duration": 370,
    "start_time": "2022-03-26T18:16:51.287Z"
   },
   {
    "duration": 24,
    "start_time": "2022-03-26T18:19:30.727Z"
   },
   {
    "duration": 24,
    "start_time": "2022-03-26T18:19:57.076Z"
   },
   {
    "duration": 22,
    "start_time": "2022-03-26T18:20:03.544Z"
   },
   {
    "duration": 23,
    "start_time": "2022-03-26T18:20:12.103Z"
   },
   {
    "duration": 24,
    "start_time": "2022-03-26T18:20:31.248Z"
   },
   {
    "duration": 5,
    "start_time": "2022-03-26T18:21:27.617Z"
   },
   {
    "duration": 1474,
    "start_time": "2022-03-26T18:21:33.669Z"
   },
   {
    "duration": 247,
    "start_time": "2022-03-26T18:21:35.145Z"
   },
   {
    "duration": 26,
    "start_time": "2022-03-26T18:21:35.395Z"
   },
   {
    "duration": 101,
    "start_time": "2022-03-26T18:21:35.443Z"
   },
   {
    "duration": 210,
    "start_time": "2022-03-26T18:21:35.547Z"
   },
   {
    "duration": 10,
    "start_time": "2022-03-26T18:21:35.759Z"
   },
   {
    "duration": 25,
    "start_time": "2022-03-26T18:21:35.772Z"
   },
   {
    "duration": 18,
    "start_time": "2022-03-26T18:21:35.799Z"
   },
   {
    "duration": 134,
    "start_time": "2022-03-26T18:21:35.820Z"
   },
   {
    "duration": 14,
    "start_time": "2022-03-26T18:21:35.957Z"
   },
   {
    "duration": 30,
    "start_time": "2022-03-26T18:21:35.973Z"
   },
   {
    "duration": 25,
    "start_time": "2022-03-26T18:21:36.005Z"
   },
   {
    "duration": 91,
    "start_time": "2022-03-26T18:21:36.032Z"
   },
   {
    "duration": 42,
    "start_time": "2022-03-26T18:21:36.125Z"
   },
   {
    "duration": 3,
    "start_time": "2022-03-26T18:21:36.169Z"
   },
   {
    "duration": 423,
    "start_time": "2022-03-26T18:21:36.175Z"
   },
   {
    "duration": 99,
    "start_time": "2022-03-26T18:21:36.600Z"
   },
   {
    "duration": 14,
    "start_time": "2022-03-26T18:21:36.701Z"
   },
   {
    "duration": 69,
    "start_time": "2022-03-26T18:21:36.717Z"
   },
   {
    "duration": 29,
    "start_time": "2022-03-26T18:21:36.788Z"
   },
   {
    "duration": 134,
    "start_time": "2022-03-26T18:21:36.842Z"
   },
   {
    "duration": 341,
    "start_time": "2022-03-26T18:21:36.979Z"
   },
   {
    "duration": 62,
    "start_time": "2022-03-26T18:21:37.322Z"
   },
   {
    "duration": 67,
    "start_time": "2022-03-26T18:21:37.386Z"
   },
   {
    "duration": 152,
    "start_time": "2022-03-26T18:21:37.455Z"
   },
   {
    "duration": 5,
    "start_time": "2022-03-26T18:21:37.610Z"
   },
   {
    "duration": 40,
    "start_time": "2022-03-26T18:21:37.617Z"
   },
   {
    "duration": 23,
    "start_time": "2022-03-26T18:21:37.661Z"
   },
   {
    "duration": 25,
    "start_time": "2022-03-26T18:21:37.686Z"
   },
   {
    "duration": 472,
    "start_time": "2022-03-26T18:21:37.713Z"
   },
   {
    "duration": 22,
    "start_time": "2022-03-26T18:21:38.187Z"
   },
   {
    "duration": 23,
    "start_time": "2022-03-26T18:29:30.838Z"
   },
   {
    "duration": 23,
    "start_time": "2022-03-26T18:29:37.337Z"
   },
   {
    "duration": 23,
    "start_time": "2022-03-26T18:29:41.949Z"
   },
   {
    "duration": 22,
    "start_time": "2022-03-26T18:29:53.471Z"
   },
   {
    "duration": 23,
    "start_time": "2022-03-26T18:43:00.297Z"
   },
   {
    "duration": 1495,
    "start_time": "2022-03-26T18:57:58.250Z"
   },
   {
    "duration": 213,
    "start_time": "2022-03-26T18:57:59.748Z"
   },
   {
    "duration": 28,
    "start_time": "2022-03-26T18:57:59.963Z"
   },
   {
    "duration": 109,
    "start_time": "2022-03-26T18:57:59.993Z"
   },
   {
    "duration": 194,
    "start_time": "2022-03-26T18:58:00.105Z"
   },
   {
    "duration": 8,
    "start_time": "2022-03-26T18:58:00.301Z"
   },
   {
    "duration": 37,
    "start_time": "2022-03-26T18:58:00.312Z"
   },
   {
    "duration": 22,
    "start_time": "2022-03-26T18:58:00.351Z"
   },
   {
    "duration": 119,
    "start_time": "2022-03-26T18:58:00.375Z"
   },
   {
    "duration": 14,
    "start_time": "2022-03-26T18:58:00.496Z"
   },
   {
    "duration": 38,
    "start_time": "2022-03-26T18:58:00.512Z"
   },
   {
    "duration": 15,
    "start_time": "2022-03-26T18:58:00.552Z"
   },
   {
    "duration": 80,
    "start_time": "2022-03-26T18:58:00.569Z"
   },
   {
    "duration": 44,
    "start_time": "2022-03-26T18:58:00.654Z"
   },
   {
    "duration": 3,
    "start_time": "2022-03-26T18:58:00.700Z"
   },
   {
    "duration": 439,
    "start_time": "2022-03-26T18:58:00.706Z"
   },
   {
    "duration": 101,
    "start_time": "2022-03-26T18:58:01.147Z"
   },
   {
    "duration": 15,
    "start_time": "2022-03-26T18:58:01.251Z"
   },
   {
    "duration": 80,
    "start_time": "2022-03-26T18:58:01.268Z"
   },
   {
    "duration": 30,
    "start_time": "2022-03-26T18:58:01.350Z"
   },
   {
    "duration": 161,
    "start_time": "2022-03-26T18:58:01.383Z"
   },
   {
    "duration": 337,
    "start_time": "2022-03-26T18:58:01.546Z"
   },
   {
    "duration": 68,
    "start_time": "2022-03-26T18:58:01.885Z"
   },
   {
    "duration": 48,
    "start_time": "2022-03-26T18:58:01.956Z"
   },
   {
    "duration": 165,
    "start_time": "2022-03-26T18:58:02.006Z"
   },
   {
    "duration": 7,
    "start_time": "2022-03-26T18:58:02.173Z"
   },
   {
    "duration": 22,
    "start_time": "2022-03-26T18:58:02.182Z"
   },
   {
    "duration": 47,
    "start_time": "2022-03-26T18:58:02.206Z"
   },
   {
    "duration": 22,
    "start_time": "2022-03-26T18:58:02.255Z"
   },
   {
    "duration": 465,
    "start_time": "2022-03-26T18:58:02.279Z"
   },
   {
    "duration": 22,
    "start_time": "2022-03-26T18:58:02.746Z"
   },
   {
    "duration": 22,
    "start_time": "2022-03-26T18:58:02.770Z"
   },
   {
    "duration": 1200,
    "start_time": "2022-03-27T07:22:51.128Z"
   },
   {
    "duration": 159,
    "start_time": "2022-03-27T07:22:52.330Z"
   },
   {
    "duration": 21,
    "start_time": "2022-03-27T07:22:52.491Z"
   },
   {
    "duration": 71,
    "start_time": "2022-03-27T07:22:52.513Z"
   },
   {
    "duration": 172,
    "start_time": "2022-03-27T07:22:52.586Z"
   },
   {
    "duration": 6,
    "start_time": "2022-03-27T07:22:52.759Z"
   },
   {
    "duration": 10,
    "start_time": "2022-03-27T07:22:52.766Z"
   },
   {
    "duration": 12,
    "start_time": "2022-03-27T07:22:52.778Z"
   },
   {
    "duration": 87,
    "start_time": "2022-03-27T07:22:52.791Z"
   },
   {
    "duration": 10,
    "start_time": "2022-03-27T07:22:52.879Z"
   },
   {
    "duration": 13,
    "start_time": "2022-03-27T07:22:52.891Z"
   },
   {
    "duration": 32,
    "start_time": "2022-03-27T07:22:52.905Z"
   },
   {
    "duration": 43,
    "start_time": "2022-03-27T07:22:52.938Z"
   },
   {
    "duration": 31,
    "start_time": "2022-03-27T07:22:52.983Z"
   },
   {
    "duration": 3,
    "start_time": "2022-03-27T07:22:53.033Z"
   },
   {
    "duration": 251,
    "start_time": "2022-03-27T07:22:53.037Z"
   },
   {
    "duration": 74,
    "start_time": "2022-03-27T07:22:53.290Z"
   },
   {
    "duration": 10,
    "start_time": "2022-03-27T07:22:53.366Z"
   },
   {
    "duration": 42,
    "start_time": "2022-03-27T07:22:53.377Z"
   },
   {
    "duration": 24,
    "start_time": "2022-03-27T07:22:53.432Z"
   },
   {
    "duration": 101,
    "start_time": "2022-03-27T07:22:53.458Z"
   },
   {
    "duration": 212,
    "start_time": "2022-03-27T07:22:53.560Z"
   },
   {
    "duration": 41,
    "start_time": "2022-03-27T07:22:53.774Z"
   },
   {
    "duration": 44,
    "start_time": "2022-03-27T07:22:53.817Z"
   },
   {
    "duration": 118,
    "start_time": "2022-03-27T07:22:53.863Z"
   },
   {
    "duration": 3,
    "start_time": "2022-03-27T07:22:53.983Z"
   },
   {
    "duration": 18,
    "start_time": "2022-03-27T07:22:53.988Z"
   },
   {
    "duration": 32,
    "start_time": "2022-03-27T07:22:54.007Z"
   },
   {
    "duration": 16,
    "start_time": "2022-03-27T07:22:54.041Z"
   },
   {
    "duration": 328,
    "start_time": "2022-03-27T07:22:54.058Z"
   },
   {
    "duration": 16,
    "start_time": "2022-03-27T07:22:54.388Z"
   },
   {
    "duration": 33,
    "start_time": "2022-03-27T07:22:54.406Z"
   },
   {
    "duration": 49,
    "start_time": "2022-03-27T07:58:51.620Z"
   },
   {
    "duration": 1359,
    "start_time": "2022-03-27T07:58:58.779Z"
   },
   {
    "duration": 164,
    "start_time": "2022-03-27T07:59:00.141Z"
   },
   {
    "duration": 22,
    "start_time": "2022-03-27T07:59:00.306Z"
   },
   {
    "duration": 83,
    "start_time": "2022-03-27T07:59:00.330Z"
   },
   {
    "duration": 148,
    "start_time": "2022-03-27T07:59:00.416Z"
   },
   {
    "duration": 6,
    "start_time": "2022-03-27T07:59:00.565Z"
   },
   {
    "duration": 11,
    "start_time": "2022-03-27T07:59:00.572Z"
   },
   {
    "duration": 34,
    "start_time": "2022-03-27T07:59:00.584Z"
   },
   {
    "duration": 82,
    "start_time": "2022-03-27T07:59:00.620Z"
   },
   {
    "duration": 13,
    "start_time": "2022-03-27T07:59:00.704Z"
   },
   {
    "duration": 13,
    "start_time": "2022-03-27T07:59:00.719Z"
   },
   {
    "duration": 9,
    "start_time": "2022-03-27T07:59:00.734Z"
   },
   {
    "duration": 65,
    "start_time": "2022-03-27T07:59:00.744Z"
   },
   {
    "duration": 33,
    "start_time": "2022-03-27T07:59:00.812Z"
   },
   {
    "duration": 3,
    "start_time": "2022-03-27T07:59:00.847Z"
   },
   {
    "duration": 298,
    "start_time": "2022-03-27T07:59:00.852Z"
   },
   {
    "duration": 75,
    "start_time": "2022-03-27T07:59:01.152Z"
   },
   {
    "duration": 11,
    "start_time": "2022-03-27T07:59:01.228Z"
   },
   {
    "duration": 14,
    "start_time": "2022-03-27T07:59:01.240Z"
   },
   {
    "duration": 61,
    "start_time": "2022-03-27T07:59:01.255Z"
   },
   {
    "duration": 24,
    "start_time": "2022-03-27T07:59:01.318Z"
   },
   {
    "duration": 110,
    "start_time": "2022-03-27T07:59:01.344Z"
   },
   {
    "duration": 243,
    "start_time": "2022-03-27T07:59:01.456Z"
   },
   {
    "duration": 51,
    "start_time": "2022-03-27T07:59:01.701Z"
   },
   {
    "duration": 33,
    "start_time": "2022-03-27T07:59:01.754Z"
   },
   {
    "duration": 131,
    "start_time": "2022-03-27T07:59:01.788Z"
   },
   {
    "duration": 4,
    "start_time": "2022-03-27T07:59:01.921Z"
   },
   {
    "duration": 22,
    "start_time": "2022-03-27T07:59:01.927Z"
   },
   {
    "duration": 23,
    "start_time": "2022-03-27T07:59:01.952Z"
   },
   {
    "duration": 39,
    "start_time": "2022-03-27T07:59:01.977Z"
   },
   {
    "duration": 355,
    "start_time": "2022-03-27T07:59:02.018Z"
   },
   {
    "duration": 19,
    "start_time": "2022-03-27T07:59:02.374Z"
   },
   {
    "duration": 29,
    "start_time": "2022-03-27T07:59:02.394Z"
   },
   {
    "duration": 3,
    "start_time": "2022-03-27T08:09:38.938Z"
   },
   {
    "duration": 4,
    "start_time": "2022-03-27T08:12:37.198Z"
   },
   {
    "duration": 4,
    "start_time": "2022-03-27T08:12:49.894Z"
   },
   {
    "duration": 5,
    "start_time": "2022-03-27T08:12:59.506Z"
   },
   {
    "duration": 5,
    "start_time": "2022-03-27T08:13:32.391Z"
   },
   {
    "duration": 5,
    "start_time": "2022-03-27T08:13:36.472Z"
   },
   {
    "duration": 251,
    "start_time": "2022-03-27T08:14:32.151Z"
   },
   {
    "duration": 6,
    "start_time": "2022-03-27T08:14:46.736Z"
   },
   {
    "duration": 63,
    "start_time": "2022-03-27T08:16:43.621Z"
   },
   {
    "duration": 7,
    "start_time": "2022-03-27T08:17:01.300Z"
   },
   {
    "duration": 6,
    "start_time": "2022-03-27T08:17:38.513Z"
   },
   {
    "duration": 7,
    "start_time": "2022-03-27T08:18:11.560Z"
   },
   {
    "duration": 7,
    "start_time": "2022-03-27T08:18:22.459Z"
   },
   {
    "duration": 7,
    "start_time": "2022-03-27T08:18:27.766Z"
   },
   {
    "duration": 9,
    "start_time": "2022-03-27T08:22:09.607Z"
   },
   {
    "duration": 67,
    "start_time": "2022-03-27T08:52:35.743Z"
   },
   {
    "duration": 64,
    "start_time": "2022-03-27T08:56:23.045Z"
   },
   {
    "duration": 1115,
    "start_time": "2022-03-27T08:57:30.398Z"
   },
   {
    "duration": 154,
    "start_time": "2022-03-27T08:57:31.515Z"
   },
   {
    "duration": 21,
    "start_time": "2022-03-27T08:57:31.671Z"
   },
   {
    "duration": 69,
    "start_time": "2022-03-27T08:57:31.694Z"
   },
   {
    "duration": 136,
    "start_time": "2022-03-27T08:57:31.765Z"
   },
   {
    "duration": 8,
    "start_time": "2022-03-27T08:57:31.903Z"
   },
   {
    "duration": 7,
    "start_time": "2022-03-27T08:57:31.913Z"
   },
   {
    "duration": 19,
    "start_time": "2022-03-27T08:57:31.922Z"
   },
   {
    "duration": 91,
    "start_time": "2022-03-27T08:57:31.943Z"
   },
   {
    "duration": 11,
    "start_time": "2022-03-27T08:57:32.037Z"
   },
   {
    "duration": 14,
    "start_time": "2022-03-27T08:57:32.049Z"
   },
   {
    "duration": 11,
    "start_time": "2022-03-27T08:57:32.064Z"
   },
   {
    "duration": 65,
    "start_time": "2022-03-27T08:57:32.076Z"
   },
   {
    "duration": 31,
    "start_time": "2022-03-27T08:57:32.143Z"
   },
   {
    "duration": 2,
    "start_time": "2022-03-27T08:57:32.176Z"
   },
   {
    "duration": 287,
    "start_time": "2022-03-27T08:57:32.180Z"
   },
   {
    "duration": 71,
    "start_time": "2022-03-27T08:57:32.469Z"
   },
   {
    "duration": 10,
    "start_time": "2022-03-27T08:57:32.542Z"
   },
   {
    "duration": 7,
    "start_time": "2022-03-27T08:57:32.553Z"
   },
   {
    "duration": 67,
    "start_time": "2022-03-27T08:57:32.561Z"
   },
   {
    "duration": 22,
    "start_time": "2022-03-27T08:57:32.630Z"
   },
   {
    "duration": 99,
    "start_time": "2022-03-27T08:57:32.654Z"
   },
   {
    "duration": 233,
    "start_time": "2022-03-27T08:57:32.755Z"
   },
   {
    "duration": 53,
    "start_time": "2022-03-27T08:57:32.990Z"
   },
   {
    "duration": 36,
    "start_time": "2022-03-27T08:57:33.044Z"
   },
   {
    "duration": 128,
    "start_time": "2022-03-27T08:57:33.081Z"
   },
   {
    "duration": 4,
    "start_time": "2022-03-27T08:57:33.211Z"
   },
   {
    "duration": 15,
    "start_time": "2022-03-27T08:57:33.218Z"
   },
   {
    "duration": 19,
    "start_time": "2022-03-27T08:57:33.234Z"
   },
   {
    "duration": 16,
    "start_time": "2022-03-27T08:57:33.254Z"
   },
   {
    "duration": 358,
    "start_time": "2022-03-27T08:57:33.271Z"
   },
   {
    "duration": 17,
    "start_time": "2022-03-27T08:57:33.631Z"
   },
   {
    "duration": 16,
    "start_time": "2022-03-27T08:57:33.650Z"
   }
  ],
  "kernelspec": {
   "display_name": "Python 3 (ipykernel)",
   "language": "python",
   "name": "python3"
  },
  "language_info": {
   "codemirror_mode": {
    "name": "ipython",
    "version": 3
   },
   "file_extension": ".py",
   "mimetype": "text/x-python",
   "name": "python",
   "nbconvert_exporter": "python",
   "pygments_lexer": "ipython3",
   "version": "3.9.12"
  },
  "toc": {
   "base_numbering": 1,
   "nav_menu": {},
   "number_sections": true,
   "sideBar": true,
   "skip_h1_title": true,
   "title_cell": "Table of Contents",
   "title_sidebar": "Contents",
   "toc_cell": false,
   "toc_position": {},
   "toc_section_display": true,
   "toc_window_display": true
  }
 },
 "nbformat": 4,
 "nbformat_minor": 2
}
