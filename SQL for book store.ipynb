{
 "cells": [
  {
   "cell_type": "markdown",
   "id": "dda91acb",
   "metadata": {},
   "source": [
    "# Parsing a book reader database with SQL"
   ]
  },
  {
   "cell_type": "markdown",
   "id": "836e8af5",
   "metadata": {},
   "source": [
    "## Project description"
   ]
  },
  {
   "cell_type": "markdown",
   "id": "258562e3",
   "metadata": {},
   "source": [
    "The purpose of the project is to analyze the database of a large service for reading books by subscription.\n",
    "\n",
    "Tasks:\n",
    "1. Calculate how many books have been published since January 1, 2000;\n",
    "2. For each book, count the number of reviews and the average rating;\n",
    "3. Determine the publishing agency that has released the largest number of books thicker than 50 pages (to exclude brochures from the analysis);\n",
    "5. Determine the author with the highest average book rating, considering only books with 50 or more ratings;\n",
    "6. Calculate the average number of reviews from users who have given more than 50 ratings."
   ]
  },
  {
   "cell_type": "markdown",
   "id": "15b9f0ec",
   "metadata": {},
   "source": [
    "### Data Description"
   ]
  },
  {
   "cell_type": "markdown",
   "id": "d7258748",
   "metadata": {},
   "source": [
    "1. The books table contains data about books:\n",
    "\n",
    "* book_id — book identifier;\n",
    "* author_id - author ID;\n",
    "* title — title of the book;\n",
    "* num_pages - number of pages;\n",
    "* publication_date — publication date of the book;\n",
    "* publisher_id - publisher ID.\n",
    "\n",
    "2. The authors table contains data about the authors:\n",
    "\n",
    "* author_id - author ID;\n",
    "* author - the name of the author.\n",
    "\n",
    "3. The publishers table contains data about publishers:\n",
    "\n",
    "* publisher_id - publisher identifier;\n",
    "* publisher — publisher name;\n",
    "\n",
    "4. The ratings table contains data on user ratings of books:\n",
    "\n",
    "* rating_id — rating identifier;\n",
    "* book_id — book identifier;\n",
    "* username - the name of the user who left the rating;\n",
    "* rating — book rating.\n",
    "\n",
    "5. The reviews table contains data about user reviews of books:\n",
    "\n",
    "* review_id — review ID;\n",
    "* book_id — book identifier;\n",
    "* username - the name of the user who wrote the review;\n",
    "* text - review text."
   ]
  },
  {
   "cell_type": "markdown",
   "id": "334a8eeb",
   "metadata": {},
   "source": [
    "Let's prepare the connection to the database."
   ]
  },
  {
   "cell_type": "code",
   "execution_count": 1,
   "id": "4ba1f52e",
   "metadata": {},
   "outputs": [],
   "source": [
    "# import libraries\n",
    "import pandas as pd\n",
    "from sqlalchemy import create_engine\n",
    "# set parameters\n",
    "db_config = {'user': '***', # user \n",
    " 'pwd': '***', # pass\n",
    " 'host': '***',\n",
    " 'port': 1234, # connecting port\n",
    " 'db': '***'} # database name\n",
    "connection_string = 'postgresql://{}:{}@{}:{}/{}'.format(db_config['user'],\n",
    " db_config['pwd'],\n",
    " db_config['host'],\n",
    " db_config['port'],\n",
    " db_config['db'])\n",
    "# save the connector\n",
    "engine = create_engine(connection_string, connect_args={'sslmode':'require'})"
   ]
  },
  {
   "cell_type": "markdown",
   "id": "0e0e61dc",
   "metadata": {},
   "source": [
    "## Task 1"
   ]
  },
  {
   "cell_type": "markdown",
   "id": "7f508bfe",
   "metadata": {},
   "source": [
    "Let's count how many books came out after January 1, 2000."
   ]
  },
  {
   "cell_type": "code",
   "execution_count": 6,
   "id": "18340e59",
   "metadata": {},
   "outputs": [
    {
     "data": {
      "text/html": [
       "<div>\n",
       "<style scoped>\n",
       "    .dataframe tbody tr th:only-of-type {\n",
       "        vertical-align: middle;\n",
       "    }\n",
       "\n",
       "    .dataframe tbody tr th {\n",
       "        vertical-align: top;\n",
       "    }\n",
       "\n",
       "    .dataframe thead th {\n",
       "        text-align: right;\n",
       "    }\n",
       "</style>\n",
       "<table border=\"1\" class=\"dataframe\">\n",
       "  <thead>\n",
       "    <tr style=\"text-align: right;\">\n",
       "      <th></th>\n",
       "      <th>books_number</th>\n",
       "    </tr>\n",
       "  </thead>\n",
       "  <tbody>\n",
       "    <tr>\n",
       "      <th>0</th>\n",
       "      <td>819</td>\n",
       "    </tr>\n",
       "  </tbody>\n",
       "</table>\n",
       "</div>"
      ],
      "text/plain": [
       "   books_number\n",
       "0           819"
      ]
     },
     "execution_count": 6,
     "metadata": {},
     "output_type": "execute_result"
    }
   ],
   "source": [
    "query = '''\n",
    "            SELECT COUNT(book_id) AS books_number\n",
    "            FROM books\n",
    "            WHERE CAST(publication_date AS date) > '2000-01-01'\n",
    "        '''\n",
    "pd.io.sql.read_sql(query, con = engine)"
   ]
  },
  {
   "cell_type": "markdown",
   "id": "5b56c6cc",
   "metadata": {},
   "source": [
    "Conclusion: since January 1, 2000, 819 books have been published."
   ]
  },
  {
   "cell_type": "markdown",
   "id": "03b3220e",
   "metadata": {},
   "source": [
    "## Task 2"
   ]
  },
  {
   "cell_type": "markdown",
   "id": "4fa958e3",
   "metadata": {},
   "source": [
    "For each book, you need to count the number of reviews and the average rating."
   ]
  },
  {
   "cell_type": "code",
   "execution_count": 7,
   "id": "15a4d62f",
   "metadata": {},
   "outputs": [
    {
     "data": {
      "text/html": [
       "<div>\n",
       "<style scoped>\n",
       "    .dataframe tbody tr th:only-of-type {\n",
       "        vertical-align: middle;\n",
       "    }\n",
       "\n",
       "    .dataframe tbody tr th {\n",
       "        vertical-align: top;\n",
       "    }\n",
       "\n",
       "    .dataframe thead th {\n",
       "        text-align: right;\n",
       "    }\n",
       "</style>\n",
       "<table border=\"1\" class=\"dataframe\">\n",
       "  <thead>\n",
       "    <tr style=\"text-align: right;\">\n",
       "      <th></th>\n",
       "      <th>title</th>\n",
       "      <th>id</th>\n",
       "      <th>reviews</th>\n",
       "      <th>avg_rating</th>\n",
       "    </tr>\n",
       "  </thead>\n",
       "  <tbody>\n",
       "    <tr>\n",
       "      <th>0</th>\n",
       "      <td>The Body in the Library (Miss Marple  #3)</td>\n",
       "      <td>652</td>\n",
       "      <td>2.0</td>\n",
       "      <td>4.500000</td>\n",
       "    </tr>\n",
       "    <tr>\n",
       "      <th>1</th>\n",
       "      <td>Galápagos</td>\n",
       "      <td>273</td>\n",
       "      <td>2.0</td>\n",
       "      <td>4.500000</td>\n",
       "    </tr>\n",
       "    <tr>\n",
       "      <th>2</th>\n",
       "      <td>A Tree Grows in Brooklyn</td>\n",
       "      <td>51</td>\n",
       "      <td>5.0</td>\n",
       "      <td>4.250000</td>\n",
       "    </tr>\n",
       "    <tr>\n",
       "      <th>3</th>\n",
       "      <td>Undaunted Courage: The Pioneering First Mission to Explore America's Wild Frontier</td>\n",
       "      <td>951</td>\n",
       "      <td>2.0</td>\n",
       "      <td>4.000000</td>\n",
       "    </tr>\n",
       "    <tr>\n",
       "      <th>4</th>\n",
       "      <td>The Prophet</td>\n",
       "      <td>839</td>\n",
       "      <td>4.0</td>\n",
       "      <td>4.285714</td>\n",
       "    </tr>\n",
       "    <tr>\n",
       "      <th>...</th>\n",
       "      <td>...</td>\n",
       "      <td>...</td>\n",
       "      <td>...</td>\n",
       "      <td>...</td>\n",
       "    </tr>\n",
       "    <tr>\n",
       "      <th>995</th>\n",
       "      <td>Alice in Wonderland</td>\n",
       "      <td>64</td>\n",
       "      <td>4.0</td>\n",
       "      <td>4.230769</td>\n",
       "    </tr>\n",
       "    <tr>\n",
       "      <th>996</th>\n",
       "      <td>A Woman of Substance (Emma Harte Saga #1)</td>\n",
       "      <td>55</td>\n",
       "      <td>2.0</td>\n",
       "      <td>5.000000</td>\n",
       "    </tr>\n",
       "    <tr>\n",
       "      <th>997</th>\n",
       "      <td>Christine</td>\n",
       "      <td>148</td>\n",
       "      <td>3.0</td>\n",
       "      <td>3.428571</td>\n",
       "    </tr>\n",
       "    <tr>\n",
       "      <th>998</th>\n",
       "      <td>The Magicians' Guild (Black Magician Trilogy  #1)</td>\n",
       "      <td>790</td>\n",
       "      <td>2.0</td>\n",
       "      <td>3.500000</td>\n",
       "    </tr>\n",
       "    <tr>\n",
       "      <th>999</th>\n",
       "      <td>The Plot Against America</td>\n",
       "      <td>828</td>\n",
       "      <td>2.0</td>\n",
       "      <td>3.000000</td>\n",
       "    </tr>\n",
       "  </tbody>\n",
       "</table>\n",
       "<p>1000 rows × 4 columns</p>\n",
       "</div>"
      ],
      "text/plain": [
       "                                                                                  title  \\\n",
       "0                                             The Body in the Library (Miss Marple  #3)   \n",
       "1                                                                             Galápagos   \n",
       "2                                                              A Tree Grows in Brooklyn   \n",
       "3    Undaunted Courage: The Pioneering First Mission to Explore America's Wild Frontier   \n",
       "4                                                                           The Prophet   \n",
       "..                                                                                  ...   \n",
       "995                                                                 Alice in Wonderland   \n",
       "996                                           A Woman of Substance (Emma Harte Saga #1)   \n",
       "997                                                                           Christine   \n",
       "998                                   The Magicians' Guild (Black Magician Trilogy  #1)   \n",
       "999                                                            The Plot Against America   \n",
       "\n",
       "      id  reviews  avg_rating  \n",
       "0    652      2.0    4.500000  \n",
       "1    273      2.0    4.500000  \n",
       "2     51      5.0    4.250000  \n",
       "3    951      2.0    4.000000  \n",
       "4    839      4.0    4.285714  \n",
       "..   ...      ...         ...  \n",
       "995   64      4.0    4.230769  \n",
       "996   55      2.0    5.000000  \n",
       "997  148      3.0    3.428571  \n",
       "998  790      2.0    3.500000  \n",
       "999  828      2.0    3.000000  \n",
       "\n",
       "[1000 rows x 4 columns]"
      ]
     },
     "execution_count": 7,
     "metadata": {},
     "output_type": "execute_result"
    }
   ],
   "source": [
    "query = ''' SELECT b.title AS title,\n",
    "                   b.book_id AS id,\n",
    "                   rev.r_count AS reviews,\n",
    "                   rat.avg_rat AS avg_rating\n",
    "            FROM books AS b\n",
    "            LEFT JOIN \n",
    "                (SELECT book_id,\n",
    "                        AVG(rating) AS avg_rat\n",
    "                 FROM ratings\n",
    "                 GROUP BY book_id\n",
    "                ) AS rat ON rat.book_id = b.book_id\n",
    "            LEFT JOIN\n",
    "                (SELECT book_id,\n",
    "                        COUNT(review_id) AS r_count\n",
    "                 FROM reviews\n",
    "                 GROUP BY book_id\n",
    "                ) AS rev ON rev.book_id = b.book_id\n",
    "\n",
    "        '''\n",
    "pd.set_option('display.max_columns', None)  \n",
    "pd.options.display.max_colwidth = 150\n",
    "pd.io.sql.read_sql(query, con = engine)\n",
    "\n"
   ]
  },
  {
   "cell_type": "markdown",
   "id": "0916382c",
   "metadata": {},
   "source": [
    "Top 3 books by number of ratings:\n",
    "\n",
    "1. Twilight - 1120\n",
    "2. Hobbit - 528\n",
    "3. Catcher in the Rye - 516."
   ]
  },
  {
   "cell_type": "markdown",
   "id": "a6e119f4",
   "metadata": {},
   "source": [
    "## Task 3"
   ]
  },
  {
   "cell_type": "markdown",
   "id": "8f355a62",
   "metadata": {},
   "source": [
    "Determine the publishing house that produced the largest number of books thicker than 50 pages (to exclude brochures from the analysis)."
   ]
  },
  {
   "cell_type": "code",
   "execution_count": 8,
   "id": "6b1f62ec",
   "metadata": {},
   "outputs": [
    {
     "data": {
      "text/html": [
       "<div>\n",
       "<style scoped>\n",
       "    .dataframe tbody tr th:only-of-type {\n",
       "        vertical-align: middle;\n",
       "    }\n",
       "\n",
       "    .dataframe tbody tr th {\n",
       "        vertical-align: top;\n",
       "    }\n",
       "\n",
       "    .dataframe thead th {\n",
       "        text-align: right;\n",
       "    }\n",
       "</style>\n",
       "<table border=\"1\" class=\"dataframe\">\n",
       "  <thead>\n",
       "    <tr style=\"text-align: right;\">\n",
       "      <th></th>\n",
       "      <th>publisher_title</th>\n",
       "      <th>books_count</th>\n",
       "    </tr>\n",
       "  </thead>\n",
       "  <tbody>\n",
       "    <tr>\n",
       "      <th>0</th>\n",
       "      <td>Penguin Books</td>\n",
       "      <td>42</td>\n",
       "    </tr>\n",
       "  </tbody>\n",
       "</table>\n",
       "</div>"
      ],
      "text/plain": [
       "  publisher_title  books_count\n",
       "0   Penguin Books           42"
      ]
     },
     "execution_count": 8,
     "metadata": {},
     "output_type": "execute_result"
    }
   ],
   "source": [
    "query = '''\n",
    "            SELECT p.publisher AS publisher_title,\n",
    "                   COUNT(b.book_id) AS books_count\n",
    "            FROM publishers AS p\n",
    "            JOIN books AS b ON b.publisher_id = p.publisher_id\n",
    "            WHERE b.num_pages > 50\n",
    "            GROUP BY p.publisher\n",
    "            ORDER BY books_count DESC\n",
    "            LIMIT 1\n",
    "            \n",
    "        '''\n",
    "pd.io.sql.read_sql(query, con = engine)"
   ]
  },
  {
   "cell_type": "markdown",
   "id": "53ce7671",
   "metadata": {},
   "source": [
    "The publisher with the most books published is Penguin Books, with 42 books."
   ]
  },
  {
   "cell_type": "markdown",
   "id": "1b50529d",
   "metadata": {},
   "source": [
    "## Task 4"
   ]
  },
  {
   "cell_type": "markdown",
   "id": "e6a12a84",
   "metadata": {},
   "source": [
    "Determine the author with the highest average book rating, considering only books with 50 or more ratings."
   ]
  },
  {
   "cell_type": "code",
   "execution_count": 12,
   "id": "1a4dd8c4",
   "metadata": {},
   "outputs": [
    {
     "data": {
      "text/html": [
       "<div>\n",
       "<style scoped>\n",
       "    .dataframe tbody tr th:only-of-type {\n",
       "        vertical-align: middle;\n",
       "    }\n",
       "\n",
       "    .dataframe tbody tr th {\n",
       "        vertical-align: top;\n",
       "    }\n",
       "\n",
       "    .dataframe thead th {\n",
       "        text-align: right;\n",
       "    }\n",
       "</style>\n",
       "<table border=\"1\" class=\"dataframe\">\n",
       "  <thead>\n",
       "    <tr style=\"text-align: right;\">\n",
       "      <th></th>\n",
       "      <th>author</th>\n",
       "      <th>books_rating</th>\n",
       "    </tr>\n",
       "  </thead>\n",
       "  <tbody>\n",
       "    <tr>\n",
       "      <th>0</th>\n",
       "      <td>J.K. Rowling/Mary GrandPré</td>\n",
       "      <td>4.283844</td>\n",
       "    </tr>\n",
       "  </tbody>\n",
       "</table>\n",
       "</div>"
      ],
      "text/plain": [
       "                       author  books_rating\n",
       "0  J.K. Rowling/Mary GrandPré      4.283844"
      ]
     },
     "execution_count": 12,
     "metadata": {},
     "output_type": "execute_result"
    }
   ],
   "source": [
    "query = '''\n",
    "           SELECT i.author,\n",
    "                  AVG(i.avg_rating) AS books_rating\n",
    "           FROM\n",
    "               (SELECT a.author AS author, \n",
    "                       AVG(rat.rating) AS avg_rating\n",
    "                FROM books AS b\n",
    "                LEFT JOIN authors AS a ON b.author_id = a.author_id\n",
    "                LEFT JOIN ratings AS rat ON b.book_id = rat.book_id\n",
    "                GROUP BY b.book_id, a.author_id\n",
    "                HAVING COUNT(rat.rating_id) >=50) AS i\n",
    "                \n",
    "           GROUP BY i.author\n",
    "           ORDER BY books_rating DESC\n",
    "           LIMIT 1\n",
    "\n",
    "        '''\n",
    "pd.io.sql.read_sql(query, con = engine)\n"
   ]
  },
  {
   "cell_type": "markdown",
   "id": "c8c9034b",
   "metadata": {},
   "source": [
    "The author with the highest average rating among books with 50 or more ratings is J.K. Rowling/Mary GrandPré (4.29)."
   ]
  },
  {
   "cell_type": "markdown",
   "id": "c1e4a7d4",
   "metadata": {},
   "source": [
    "## Task 5"
   ]
  },
  {
   "cell_type": "markdown",
   "id": "9b5ebb0d",
   "metadata": {},
   "source": [
    "Calculate the average number of reviews from users who have given more than 50 ratings."
   ]
  },
  {
   "cell_type": "code",
   "execution_count": 10,
   "id": "d7d70807",
   "metadata": {},
   "outputs": [
    {
     "data": {
      "text/html": [
       "<div>\n",
       "<style scoped>\n",
       "    .dataframe tbody tr th:only-of-type {\n",
       "        vertical-align: middle;\n",
       "    }\n",
       "\n",
       "    .dataframe tbody tr th {\n",
       "        vertical-align: top;\n",
       "    }\n",
       "\n",
       "    .dataframe thead th {\n",
       "        text-align: right;\n",
       "    }\n",
       "</style>\n",
       "<table border=\"1\" class=\"dataframe\">\n",
       "  <thead>\n",
       "    <tr style=\"text-align: right;\">\n",
       "      <th></th>\n",
       "      <th>avg_reviews_count</th>\n",
       "    </tr>\n",
       "  </thead>\n",
       "  <tbody>\n",
       "    <tr>\n",
       "      <th>0</th>\n",
       "      <td>24.0</td>\n",
       "    </tr>\n",
       "  </tbody>\n",
       "</table>\n",
       "</div>"
      ],
      "text/plain": [
       "   avg_reviews_count\n",
       "0               24.0"
      ]
     },
     "execution_count": 10,
     "metadata": {},
     "output_type": "execute_result"
    }
   ],
   "source": [
    "query = '''\n",
    "            SELECT ROUND(AVG(i.review_number)) AS avg_reviews_count\n",
    "            FROM\n",
    "            (SELECT DISTINCT(r.username),\n",
    "                   COUNT (DISTINCT(r.review_id)) AS review_number,\n",
    "                   COUNT (DISTINCT(rat.rating_id)) AS rating_number\n",
    "            FROM reviews AS r\n",
    "            JOIN ratings AS rat ON r.username = rat.username\n",
    "            GROUP BY r.username\n",
    "            HAVING COUNT(DISTINCT(rat.rating_id)) > 50) AS i\n",
    "        '''\n",
    "pd.io.sql.read_sql(query, con = engine)"
   ]
  },
  {
   "cell_type": "markdown",
   "id": "a7effddf",
   "metadata": {},
   "source": [
    "The average number of reviews from users who have given more than 50 ratings is 24 reviews."
   ]
  }
 ],
 "metadata": {
  "ExecuteTimeLog": [
   {
    "duration": 74,
    "start_time": "2022-05-01T07:41:30.613Z"
   },
   {
    "duration": 7406,
    "start_time": "2022-05-01T07:41:44.722Z"
   },
   {
    "duration": 72,
    "start_time": "2022-05-01T07:42:15.891Z"
   },
   {
    "duration": 10,
    "start_time": "2022-05-01T07:43:39.108Z"
   },
   {
    "duration": 240,
    "start_time": "2022-05-01T07:54:37.861Z"
   },
   {
    "duration": 66,
    "start_time": "2022-05-01T08:02:19.121Z"
   },
   {
    "duration": 66,
    "start_time": "2022-05-01T08:02:34.207Z"
   },
   {
    "duration": 65,
    "start_time": "2022-05-01T08:03:27.752Z"
   },
   {
    "duration": 63,
    "start_time": "2022-05-01T08:03:47.814Z"
   },
   {
    "duration": 64,
    "start_time": "2022-05-01T08:04:45.164Z"
   },
   {
    "duration": 63,
    "start_time": "2022-05-01T08:05:25.739Z"
   },
   {
    "duration": 63,
    "start_time": "2022-05-01T08:45:29.494Z"
   },
   {
    "duration": 65,
    "start_time": "2022-05-01T08:45:56.131Z"
   },
   {
    "duration": 63,
    "start_time": "2022-05-01T08:46:05.372Z"
   },
   {
    "duration": 63,
    "start_time": "2022-05-01T08:46:28.633Z"
   },
   {
    "duration": 64,
    "start_time": "2022-05-01T08:46:32.549Z"
   },
   {
    "duration": 2,
    "start_time": "2022-05-01T08:47:05.263Z"
   },
   {
    "duration": 131,
    "start_time": "2022-05-01T09:08:37.945Z"
   },
   {
    "duration": 139,
    "start_time": "2022-05-01T09:09:29.731Z"
   },
   {
    "duration": 138,
    "start_time": "2022-05-01T09:09:44.986Z"
   },
   {
    "duration": 144,
    "start_time": "2022-05-01T09:10:41.381Z"
   },
   {
    "duration": 88,
    "start_time": "2022-05-01T09:11:45.224Z"
   },
   {
    "duration": 87,
    "start_time": "2022-05-01T09:12:23.124Z"
   },
   {
    "duration": 87,
    "start_time": "2022-05-01T09:12:40.469Z"
   },
   {
    "duration": 96,
    "start_time": "2022-05-01T09:14:48.412Z"
   },
   {
    "duration": 96,
    "start_time": "2022-05-01T09:15:07.559Z"
   },
   {
    "duration": 97,
    "start_time": "2022-05-01T09:16:10.138Z"
   },
   {
    "duration": 144,
    "start_time": "2022-05-01T09:16:47.877Z"
   },
   {
    "duration": 1046,
    "start_time": "2022-05-01T09:16:55.396Z"
   },
   {
    "duration": 104,
    "start_time": "2022-05-01T09:17:18.116Z"
   },
   {
    "duration": 106,
    "start_time": "2022-05-01T09:19:24.011Z"
   },
   {
    "duration": 104,
    "start_time": "2022-05-01T09:19:55.784Z"
   },
   {
    "duration": 76,
    "start_time": "2022-05-01T09:20:12.605Z"
   },
   {
    "duration": 77,
    "start_time": "2022-05-01T09:20:19.428Z"
   },
   {
    "duration": 77,
    "start_time": "2022-05-01T09:26:15.044Z"
   },
   {
    "duration": 73,
    "start_time": "2022-05-01T09:26:23.153Z"
   },
   {
    "duration": 70,
    "start_time": "2022-05-01T09:27:33.991Z"
   },
   {
    "duration": 69,
    "start_time": "2022-05-01T09:27:37.932Z"
   },
   {
    "duration": 74,
    "start_time": "2022-05-01T09:27:57.644Z"
   },
   {
    "duration": 75,
    "start_time": "2022-05-01T09:28:02.183Z"
   },
   {
    "duration": 3,
    "start_time": "2022-05-01T09:52:02.908Z"
   },
   {
    "duration": 65,
    "start_time": "2022-05-01T09:52:18.555Z"
   },
   {
    "duration": 65,
    "start_time": "2022-05-01T09:52:38.216Z"
   },
   {
    "duration": 67,
    "start_time": "2022-05-01T09:53:41.653Z"
   },
   {
    "duration": 69,
    "start_time": "2022-05-01T09:53:55.240Z"
   },
   {
    "duration": 65,
    "start_time": "2022-05-01T09:54:08.495Z"
   },
   {
    "duration": 65,
    "start_time": "2022-05-01T09:54:58.471Z"
   },
   {
    "duration": 65,
    "start_time": "2022-05-01T09:55:07.679Z"
   },
   {
    "duration": 65,
    "start_time": "2022-05-01T09:55:12.978Z"
   },
   {
    "duration": 65,
    "start_time": "2022-05-01T09:55:15.750Z"
   },
   {
    "duration": 64,
    "start_time": "2022-05-01T09:56:04.516Z"
   },
   {
    "duration": 8081,
    "start_time": "2022-05-01T09:56:14.574Z"
   },
   {
    "duration": 178,
    "start_time": "2022-05-01T09:56:22.657Z"
   },
   {
    "duration": 53,
    "start_time": "2022-05-01T09:56:22.837Z"
   },
   {
    "duration": 54,
    "start_time": "2022-05-01T09:56:22.892Z"
   },
   {
    "duration": 52,
    "start_time": "2022-05-01T09:56:22.948Z"
   },
   {
    "duration": 53,
    "start_time": "2022-05-01T09:56:23.002Z"
   },
   {
    "duration": 68,
    "start_time": "2022-05-01T09:56:23.057Z"
   },
   {
    "duration": 54,
    "start_time": "2022-05-01T09:56:23.126Z"
   },
   {
    "duration": 64,
    "start_time": "2022-05-01T09:56:35.292Z"
   },
   {
    "duration": 7711,
    "start_time": "2022-05-01T09:56:58.025Z"
   },
   {
    "duration": 174,
    "start_time": "2022-05-01T09:57:05.738Z"
   },
   {
    "duration": 54,
    "start_time": "2022-05-01T09:57:05.914Z"
   },
   {
    "duration": 56,
    "start_time": "2022-05-01T09:57:05.969Z"
   },
   {
    "duration": 54,
    "start_time": "2022-05-01T09:57:06.027Z"
   },
   {
    "duration": 53,
    "start_time": "2022-05-01T09:57:06.083Z"
   },
   {
    "duration": 66,
    "start_time": "2022-05-01T09:57:06.138Z"
   },
   {
    "duration": 53,
    "start_time": "2022-05-01T09:57:06.206Z"
   },
   {
    "duration": 65,
    "start_time": "2022-05-01T09:57:25.642Z"
   },
   {
    "duration": 66,
    "start_time": "2022-05-01T09:57:29.232Z"
   },
   {
    "duration": 65,
    "start_time": "2022-05-01T09:57:42.122Z"
   },
   {
    "duration": 59,
    "start_time": "2022-05-01T09:57:52.495Z"
   },
   {
    "duration": 60,
    "start_time": "2022-05-01T09:58:03.805Z"
   },
   {
    "duration": 65,
    "start_time": "2022-05-01T09:58:16.352Z"
   },
   {
    "duration": 128,
    "start_time": "2022-05-01T09:58:36.602Z"
   },
   {
    "duration": 8,
    "start_time": "2022-05-01T09:58:54.277Z"
   },
   {
    "duration": 65,
    "start_time": "2022-05-01T09:59:01.112Z"
   },
   {
    "duration": 4,
    "start_time": "2022-05-01T09:59:54.263Z"
   },
   {
    "duration": 202,
    "start_time": "2022-05-01T10:00:01.796Z"
   },
   {
    "duration": 4,
    "start_time": "2022-05-01T10:00:11.625Z"
   },
   {
    "duration": 187,
    "start_time": "2022-05-01T10:00:20.625Z"
   },
   {
    "duration": 66,
    "start_time": "2022-05-01T10:00:45.271Z"
   },
   {
    "duration": 67,
    "start_time": "2022-05-01T10:00:57.167Z"
   },
   {
    "duration": 66,
    "start_time": "2022-05-01T10:01:05.514Z"
   },
   {
    "duration": 68,
    "start_time": "2022-05-01T10:01:09.972Z"
   },
   {
    "duration": 66,
    "start_time": "2022-05-01T10:01:15.898Z"
   },
   {
    "duration": 67,
    "start_time": "2022-05-01T10:01:21.936Z"
   },
   {
    "duration": 66,
    "start_time": "2022-05-01T10:01:33.894Z"
   },
   {
    "duration": 67,
    "start_time": "2022-05-01T10:01:41.926Z"
   },
   {
    "duration": 68,
    "start_time": "2022-05-01T10:01:49.073Z"
   },
   {
    "duration": 8366,
    "start_time": "2022-05-01T10:01:54.903Z"
   },
   {
    "duration": 181,
    "start_time": "2022-05-01T10:02:03.271Z"
   },
   {
    "duration": 57,
    "start_time": "2022-05-01T10:02:03.454Z"
   },
   {
    "duration": 57,
    "start_time": "2022-05-01T10:02:03.513Z"
   },
   {
    "duration": 56,
    "start_time": "2022-05-01T10:02:03.572Z"
   },
   {
    "duration": 56,
    "start_time": "2022-05-01T10:02:03.630Z"
   },
   {
    "duration": 70,
    "start_time": "2022-05-01T10:02:03.687Z"
   },
   {
    "duration": 58,
    "start_time": "2022-05-01T10:02:03.758Z"
   },
   {
    "duration": 193,
    "start_time": "2022-05-01T10:21:53.259Z"
   },
   {
    "duration": 125,
    "start_time": "2022-05-01T10:22:32.384Z"
   },
   {
    "duration": 63,
    "start_time": "2022-05-01T10:22:47.221Z"
   },
   {
    "duration": 209,
    "start_time": "2022-05-01T10:24:05.874Z"
   },
   {
    "duration": 205,
    "start_time": "2022-05-01T10:24:16.668Z"
   },
   {
    "duration": 1445,
    "start_time": "2022-05-01T10:24:55.991Z"
   },
   {
    "duration": 61,
    "start_time": "2022-05-01T10:25:06.781Z"
   },
   {
    "duration": 60,
    "start_time": "2022-05-01T10:25:33.226Z"
   },
   {
    "duration": 60,
    "start_time": "2022-05-01T10:26:22.701Z"
   },
   {
    "duration": 60,
    "start_time": "2022-05-01T10:26:58.019Z"
   },
   {
    "duration": 62,
    "start_time": "2022-05-01T10:27:04.503Z"
   },
   {
    "duration": 59,
    "start_time": "2022-05-01T10:27:54.150Z"
   },
   {
    "duration": 130,
    "start_time": "2022-05-01T10:38:07.701Z"
   },
   {
    "duration": 56,
    "start_time": "2022-05-01T10:38:28.795Z"
   },
   {
    "duration": 124,
    "start_time": "2022-05-01T10:39:06.605Z"
   },
   {
    "duration": 141,
    "start_time": "2022-05-01T10:39:31.865Z"
   },
   {
    "duration": 58,
    "start_time": "2022-05-01T10:40:01.477Z"
   },
   {
    "duration": 83,
    "start_time": "2022-05-01T10:50:56.417Z"
   },
   {
    "duration": 84,
    "start_time": "2022-05-01T10:51:22.322Z"
   },
   {
    "duration": 86,
    "start_time": "2022-05-01T10:54:06.527Z"
   },
   {
    "duration": 86,
    "start_time": "2022-05-01T10:54:25.476Z"
   },
   {
    "duration": 83,
    "start_time": "2022-05-01T10:55:03.736Z"
   },
   {
    "duration": 81,
    "start_time": "2022-05-01T10:55:11.462Z"
   },
   {
    "duration": 85,
    "start_time": "2022-05-01T10:55:45.475Z"
   },
   {
    "duration": 82,
    "start_time": "2022-05-01T10:55:51.893Z"
   },
   {
    "duration": 132,
    "start_time": "2022-05-01T10:57:57.474Z"
   },
   {
    "duration": 58,
    "start_time": "2022-05-01T10:58:02.902Z"
   },
   {
    "duration": 58,
    "start_time": "2022-05-01T10:58:43.495Z"
   },
   {
    "duration": 58,
    "start_time": "2022-05-01T10:59:48.700Z"
   },
   {
    "duration": 59,
    "start_time": "2022-05-01T11:00:24.073Z"
   },
   {
    "duration": 57,
    "start_time": "2022-05-01T11:00:56.818Z"
   },
   {
    "duration": 58,
    "start_time": "2022-05-01T11:01:02.843Z"
   },
   {
    "duration": 57,
    "start_time": "2022-05-01T11:01:58.422Z"
   },
   {
    "duration": 56,
    "start_time": "2022-05-01T11:02:44.254Z"
   },
   {
    "duration": 70,
    "start_time": "2022-05-01T11:09:32.048Z"
   },
   {
    "duration": 56,
    "start_time": "2022-05-01T11:09:43.756Z"
   },
   {
    "duration": 159,
    "start_time": "2022-05-01T11:11:16.793Z"
   },
   {
    "duration": 154,
    "start_time": "2022-05-01T11:11:58.114Z"
   },
   {
    "duration": 57,
    "start_time": "2022-05-01T11:12:13.876Z"
   },
   {
    "duration": 122,
    "start_time": "2022-05-01T11:21:27.067Z"
   },
   {
    "duration": 189,
    "start_time": "2022-05-01T11:22:04.464Z"
   },
   {
    "duration": 125,
    "start_time": "2022-05-01T11:22:39.096Z"
   },
   {
    "duration": 151,
    "start_time": "2022-05-01T11:32:18.804Z"
   },
   {
    "duration": 126,
    "start_time": "2022-05-01T11:32:26.715Z"
   },
   {
    "duration": 82,
    "start_time": "2022-05-01T11:32:49.506Z"
   },
   {
    "duration": 82,
    "start_time": "2022-05-01T11:34:01.201Z"
   },
   {
    "duration": 84,
    "start_time": "2022-05-01T11:35:07.713Z"
   },
   {
    "duration": 133,
    "start_time": "2022-05-01T11:35:31.912Z"
   },
   {
    "duration": 90,
    "start_time": "2022-05-01T11:35:43.560Z"
   },
   {
    "duration": 130,
    "start_time": "2022-05-01T11:36:41.936Z"
   },
   {
    "duration": 129,
    "start_time": "2022-05-01T11:36:51.797Z"
   },
   {
    "duration": 88,
    "start_time": "2022-05-01T11:37:02.763Z"
   },
   {
    "duration": 140,
    "start_time": "2022-05-01T11:38:02.237Z"
   },
   {
    "duration": 124,
    "start_time": "2022-05-01T11:39:29.593Z"
   },
   {
    "duration": 143,
    "start_time": "2022-05-01T11:40:59.638Z"
   },
   {
    "duration": 90,
    "start_time": "2022-05-01T11:41:25.068Z"
   },
   {
    "duration": 130,
    "start_time": "2022-05-01T11:42:46.005Z"
   },
   {
    "duration": 132,
    "start_time": "2022-05-01T11:43:24.949Z"
   },
   {
    "duration": 87,
    "start_time": "2022-05-01T11:45:05.313Z"
   },
   {
    "duration": 128,
    "start_time": "2022-05-01T11:46:36.107Z"
   },
   {
    "duration": 88,
    "start_time": "2022-05-01T11:48:32.394Z"
   },
   {
    "duration": 88,
    "start_time": "2022-05-01T11:50:16.327Z"
   },
   {
    "duration": 89,
    "start_time": "2022-05-01T11:50:43.145Z"
   },
   {
    "duration": 85,
    "start_time": "2022-05-01T11:50:59.446Z"
   },
   {
    "duration": 87,
    "start_time": "2022-05-01T11:51:35.105Z"
   },
   {
    "duration": 86,
    "start_time": "2022-05-01T11:51:49.229Z"
   },
   {
    "duration": 525,
    "start_time": "2022-05-18T21:13:28.633Z"
   },
   {
    "duration": 63,
    "start_time": "2022-05-18T21:13:29.160Z"
   },
   {
    "duration": 11,
    "start_time": "2022-05-18T21:13:29.225Z"
   },
   {
    "duration": 13,
    "start_time": "2022-05-18T21:13:29.238Z"
   },
   {
    "duration": 11,
    "start_time": "2022-05-18T21:13:29.252Z"
   },
   {
    "duration": 9,
    "start_time": "2022-05-18T21:13:29.265Z"
   },
   {
    "duration": 22,
    "start_time": "2022-05-18T21:13:29.276Z"
   },
   {
    "duration": 12,
    "start_time": "2022-05-18T21:13:29.300Z"
   },
   {
    "duration": 17,
    "start_time": "2022-05-18T21:13:29.314Z"
   },
   {
    "duration": 42,
    "start_time": "2022-05-18T21:13:29.333Z"
   },
   {
    "duration": 28,
    "start_time": "2022-05-18T21:14:24.228Z"
   },
   {
    "duration": 23,
    "start_time": "2022-05-18T21:14:29.434Z"
   },
   {
    "duration": 509,
    "start_time": "2022-05-19T17:55:45.910Z"
   },
   {
    "duration": 245,
    "start_time": "2022-05-19T17:55:46.422Z"
   },
   {
    "duration": 72,
    "start_time": "2022-05-19T17:55:46.669Z"
   },
   {
    "duration": 68,
    "start_time": "2022-05-19T17:55:46.744Z"
   },
   {
    "duration": 67,
    "start_time": "2022-05-19T17:55:46.813Z"
   },
   {
    "duration": 67,
    "start_time": "2022-05-19T17:55:46.882Z"
   },
   {
    "duration": 105,
    "start_time": "2022-05-19T17:55:46.951Z"
   },
   {
    "duration": 70,
    "start_time": "2022-05-19T17:55:47.057Z"
   },
   {
    "duration": 81,
    "start_time": "2022-05-19T17:55:47.129Z"
   },
   {
    "duration": 102,
    "start_time": "2022-05-19T17:55:47.213Z"
   },
   {
    "duration": 95,
    "start_time": "2022-05-19T17:58:43.539Z"
   },
   {
    "duration": 115,
    "start_time": "2022-05-19T18:00:35.205Z"
   },
   {
    "duration": 195,
    "start_time": "2022-05-19T18:20:31.996Z"
   },
   {
    "duration": 72,
    "start_time": "2022-05-19T18:22:48.475Z"
   },
   {
    "duration": 80,
    "start_time": "2022-05-19T18:23:17.468Z"
   },
   {
    "duration": 116,
    "start_time": "2022-05-19T18:24:08.515Z"
   },
   {
    "duration": 76,
    "start_time": "2022-05-19T18:26:32.510Z"
   },
   {
    "duration": 128,
    "start_time": "2022-05-19T18:26:50.959Z"
   },
   {
    "duration": 78,
    "start_time": "2022-05-19T18:27:03.297Z"
   },
   {
    "duration": 76,
    "start_time": "2022-05-19T18:27:12.209Z"
   },
   {
    "duration": 124,
    "start_time": "2022-05-19T18:28:16.812Z"
   },
   {
    "duration": 104,
    "start_time": "2022-05-19T18:28:49.520Z"
   },
   {
    "duration": 114,
    "start_time": "2022-05-19T18:29:37.312Z"
   },
   {
    "duration": 175,
    "start_time": "2022-05-19T18:30:08.667Z"
   },
   {
    "duration": 77,
    "start_time": "2022-05-19T18:30:20.684Z"
   },
   {
    "duration": 74,
    "start_time": "2022-05-19T18:30:58.572Z"
   },
   {
    "duration": 73,
    "start_time": "2022-05-19T18:32:05.680Z"
   },
   {
    "duration": 119,
    "start_time": "2022-05-19T19:15:14.059Z"
   },
   {
    "duration": 115,
    "start_time": "2022-05-19T19:17:31.290Z"
   },
   {
    "duration": 105,
    "start_time": "2022-05-19T19:17:55.086Z"
   },
   {
    "duration": 129,
    "start_time": "2022-05-19T19:17:58.452Z"
   },
   {
    "duration": 108,
    "start_time": "2022-05-19T19:18:28.894Z"
   },
   {
    "duration": 107,
    "start_time": "2022-05-19T19:19:19.586Z"
   },
   {
    "duration": 107,
    "start_time": "2022-05-19T19:19:26.662Z"
   },
   {
    "duration": 71,
    "start_time": "2022-05-19T19:19:36.752Z"
   },
   {
    "duration": 114,
    "start_time": "2022-05-19T19:24:57.642Z"
   },
   {
    "duration": 73,
    "start_time": "2022-05-19T19:25:23.772Z"
   },
   {
    "duration": 72,
    "start_time": "2022-05-19T19:25:52.599Z"
   },
   {
    "duration": 117,
    "start_time": "2022-05-19T19:26:07.277Z"
   },
   {
    "duration": 102,
    "start_time": "2022-05-19T19:27:58.544Z"
   },
   {
    "duration": 73,
    "start_time": "2022-05-19T20:14:35.880Z"
   },
   {
    "duration": 547,
    "start_time": "2022-05-19T22:14:17.048Z"
   },
   {
    "duration": 240,
    "start_time": "2022-05-19T22:14:17.598Z"
   },
   {
    "duration": 71,
    "start_time": "2022-05-19T22:14:17.840Z"
   },
   {
    "duration": 72,
    "start_time": "2022-05-19T22:14:17.913Z"
   },
   {
    "duration": 78,
    "start_time": "2022-05-19T22:14:17.987Z"
   },
   {
    "duration": 72,
    "start_time": "2022-05-19T22:14:18.067Z"
   },
   {
    "duration": 109,
    "start_time": "2022-05-19T22:14:18.140Z"
   },
   {
    "duration": 71,
    "start_time": "2022-05-19T22:14:18.251Z"
   },
   {
    "duration": 77,
    "start_time": "2022-05-19T22:14:18.324Z"
   },
   {
    "duration": 99,
    "start_time": "2022-05-19T22:14:18.403Z"
   },
   {
    "duration": 76,
    "start_time": "2022-05-19T22:14:21.987Z"
   },
   {
    "duration": 75,
    "start_time": "2022-05-19T22:14:32.388Z"
   },
   {
    "duration": 532,
    "start_time": "2022-05-20T18:50:18.364Z"
   },
   {
    "duration": 70,
    "start_time": "2022-05-20T18:50:19.660Z"
   },
   {
    "duration": 10,
    "start_time": "2022-05-20T18:50:19.732Z"
   },
   {
    "duration": 10,
    "start_time": "2022-05-20T18:50:19.744Z"
   },
   {
    "duration": 9,
    "start_time": "2022-05-20T18:50:19.756Z"
   },
   {
    "duration": 10,
    "start_time": "2022-05-20T18:50:19.767Z"
   },
   {
    "duration": 26,
    "start_time": "2022-05-20T18:50:19.778Z"
   },
   {
    "duration": 21,
    "start_time": "2022-05-20T18:50:19.806Z"
   },
   {
    "duration": 12,
    "start_time": "2022-05-20T18:50:19.828Z"
   },
   {
    "duration": 23,
    "start_time": "2022-05-20T18:50:19.842Z"
   },
   {
    "duration": 56,
    "start_time": "2022-05-20T18:50:19.866Z"
   },
   {
    "duration": 118,
    "start_time": "2022-05-20T18:54:15.800Z"
   },
   {
    "duration": 33,
    "start_time": "2022-05-20T18:54:41.192Z"
   },
   {
    "duration": 77,
    "start_time": "2022-05-20T19:00:11.935Z"
   },
   {
    "duration": 27,
    "start_time": "2022-05-20T19:01:42.301Z"
   },
   {
    "duration": 26,
    "start_time": "2022-05-20T19:02:08.671Z"
   },
   {
    "duration": 28,
    "start_time": "2022-05-20T19:02:43.833Z"
   },
   {
    "duration": 15,
    "start_time": "2022-05-20T19:04:11.309Z"
   },
   {
    "duration": 57,
    "start_time": "2022-05-20T19:08:07.584Z"
   },
   {
    "duration": 14,
    "start_time": "2022-05-20T19:08:16.152Z"
   },
   {
    "duration": 15,
    "start_time": "2022-05-20T19:08:24.569Z"
   },
   {
    "duration": 18,
    "start_time": "2022-05-20T19:37:47.492Z"
   },
   {
    "duration": 14,
    "start_time": "2022-05-20T19:38:25.322Z"
   },
   {
    "duration": 13,
    "start_time": "2022-05-20T19:38:40.479Z"
   },
   {
    "duration": 524,
    "start_time": "2022-05-20T19:39:57.081Z"
   },
   {
    "duration": 87,
    "start_time": "2022-05-20T19:39:57.607Z"
   },
   {
    "duration": 18,
    "start_time": "2022-05-20T19:39:57.695Z"
   },
   {
    "duration": 16,
    "start_time": "2022-05-20T19:39:57.715Z"
   },
   {
    "duration": 11,
    "start_time": "2022-05-20T19:39:57.733Z"
   },
   {
    "duration": 18,
    "start_time": "2022-05-20T19:39:57.746Z"
   },
   {
    "duration": 43,
    "start_time": "2022-05-20T19:39:57.765Z"
   },
   {
    "duration": 21,
    "start_time": "2022-05-20T19:39:57.810Z"
   },
   {
    "duration": 34,
    "start_time": "2022-05-20T19:39:57.833Z"
   },
   {
    "duration": 27,
    "start_time": "2022-05-20T19:39:57.870Z"
   },
   {
    "duration": 33,
    "start_time": "2022-05-20T19:39:57.899Z"
   },
   {
    "duration": 19,
    "start_time": "2022-05-20T19:39:57.934Z"
   },
   {
    "duration": 15,
    "start_time": "2022-05-20T19:39:57.955Z"
   },
   {
    "duration": 18,
    "start_time": "2022-05-20T19:39:57.972Z"
   },
   {
    "duration": 40,
    "start_time": "2022-05-20T19:39:57.991Z"
   },
   {
    "duration": 12,
    "start_time": "2022-05-20T19:40:52.482Z"
   },
   {
    "duration": 11,
    "start_time": "2022-05-20T19:40:59.454Z"
   },
   {
    "duration": 12,
    "start_time": "2022-05-20T19:43:59.966Z"
   },
   {
    "duration": 11,
    "start_time": "2022-05-20T19:45:20.147Z"
   },
   {
    "duration": 10,
    "start_time": "2022-05-20T19:45:26.805Z"
   },
   {
    "duration": 17,
    "start_time": "2022-05-20T19:50:24.667Z"
   },
   {
    "duration": 17,
    "start_time": "2022-05-20T19:50:52.354Z"
   },
   {
    "duration": 17,
    "start_time": "2022-05-20T19:51:11.943Z"
   },
   {
    "duration": 11,
    "start_time": "2022-05-20T19:52:01.331Z"
   },
   {
    "duration": 17,
    "start_time": "2022-05-20T19:53:25.362Z"
   },
   {
    "duration": 18,
    "start_time": "2022-05-20T19:54:41.518Z"
   },
   {
    "duration": 11,
    "start_time": "2022-05-20T19:56:28.329Z"
   },
   {
    "duration": 123,
    "start_time": "2022-05-20T19:57:31.431Z"
   },
   {
    "duration": 55,
    "start_time": "2022-05-20T19:57:50.196Z"
   },
   {
    "duration": 17,
    "start_time": "2022-05-20T20:00:01.147Z"
   },
   {
    "duration": 18,
    "start_time": "2022-05-20T20:00:27.722Z"
   },
   {
    "duration": 21,
    "start_time": "2022-05-20T20:02:04.916Z"
   },
   {
    "duration": 20,
    "start_time": "2022-05-20T20:02:54.017Z"
   },
   {
    "duration": 20,
    "start_time": "2022-05-20T20:04:16.483Z"
   },
   {
    "duration": 21,
    "start_time": "2022-05-20T20:05:08.948Z"
   },
   {
    "duration": 58,
    "start_time": "2022-05-20T20:06:05.157Z"
   },
   {
    "duration": 20,
    "start_time": "2022-05-20T20:06:14.368Z"
   },
   {
    "duration": 53,
    "start_time": "2022-05-20T20:06:42.103Z"
   },
   {
    "duration": 20,
    "start_time": "2022-05-20T20:06:49.626Z"
   },
   {
    "duration": 60,
    "start_time": "2022-05-20T20:07:13.770Z"
   },
   {
    "duration": 13,
    "start_time": "2022-05-20T20:07:34.273Z"
   },
   {
    "duration": 63,
    "start_time": "2022-05-20T20:08:53.511Z"
   },
   {
    "duration": 12,
    "start_time": "2022-05-20T20:10:10.452Z"
   },
   {
    "duration": 59,
    "start_time": "2022-05-20T20:11:05.893Z"
   },
   {
    "duration": 17,
    "start_time": "2022-05-20T20:11:20.231Z"
   },
   {
    "duration": 20,
    "start_time": "2022-05-20T20:11:57.605Z"
   },
   {
    "duration": 1891,
    "start_time": "2022-05-20T20:14:09.477Z"
   },
   {
    "duration": 26,
    "start_time": "2022-05-20T20:14:53.464Z"
   },
   {
    "duration": 70,
    "start_time": "2022-05-20T20:15:45.063Z"
   },
   {
    "duration": 23,
    "start_time": "2022-05-20T20:16:27.822Z"
   },
   {
    "duration": 18,
    "start_time": "2022-05-20T20:17:05.125Z"
   },
   {
    "duration": 17,
    "start_time": "2022-05-20T20:18:42.608Z"
   },
   {
    "duration": 61,
    "start_time": "2022-05-20T20:19:29.434Z"
   },
   {
    "duration": 49,
    "start_time": "2022-05-20T20:19:41.524Z"
   },
   {
    "duration": 54,
    "start_time": "2022-05-20T20:19:52.346Z"
   },
   {
    "duration": 19,
    "start_time": "2022-05-20T20:20:08.843Z"
   },
   {
    "duration": 13,
    "start_time": "2022-05-20T20:20:31.744Z"
   },
   {
    "duration": 27,
    "start_time": "2022-05-20T20:20:48.593Z"
   },
   {
    "duration": 21,
    "start_time": "2022-05-20T20:21:33.898Z"
   },
   {
    "duration": 71,
    "start_time": "2022-05-20T20:22:43.654Z"
   },
   {
    "duration": 19,
    "start_time": "2022-05-20T20:23:00.441Z"
   },
   {
    "duration": 30,
    "start_time": "2022-05-20T20:23:42.925Z"
   },
   {
    "duration": 25,
    "start_time": "2022-05-20T20:23:51.349Z"
   },
   {
    "duration": 58,
    "start_time": "2022-05-20T20:24:17.522Z"
   },
   {
    "duration": 16,
    "start_time": "2022-05-20T20:24:56.165Z"
   },
   {
    "duration": 39,
    "start_time": "2022-05-20T20:29:41.102Z"
   },
   {
    "duration": 21,
    "start_time": "2022-05-20T20:30:42.605Z"
   },
   {
    "duration": 24,
    "start_time": "2022-05-20T20:33:01.507Z"
   },
   {
    "duration": 22,
    "start_time": "2022-05-20T20:33:22.554Z"
   },
   {
    "duration": 136,
    "start_time": "2022-05-20T20:40:02.932Z"
   },
   {
    "duration": 108,
    "start_time": "2022-05-20T20:40:08.523Z"
   },
   {
    "duration": 51,
    "start_time": "2022-05-20T20:42:15.371Z"
   },
   {
    "duration": 59,
    "start_time": "2022-05-20T20:42:26.009Z"
   },
   {
    "duration": 66,
    "start_time": "2022-05-20T20:42:51.675Z"
   },
   {
    "duration": 56,
    "start_time": "2022-05-20T20:43:01.804Z"
   },
   {
    "duration": 30,
    "start_time": "2022-05-20T20:43:51.718Z"
   },
   {
    "duration": 23,
    "start_time": "2022-05-20T20:44:19.595Z"
   },
   {
    "duration": 11,
    "start_time": "2022-05-20T21:04:21.422Z"
   },
   {
    "duration": 61,
    "start_time": "2022-05-20T21:09:14.881Z"
   },
   {
    "duration": 65,
    "start_time": "2022-05-20T21:09:24.991Z"
   },
   {
    "duration": 35,
    "start_time": "2022-05-20T21:09:50.973Z"
   },
   {
    "duration": 62,
    "start_time": "2022-05-20T21:12:50.956Z"
   },
   {
    "duration": 19,
    "start_time": "2022-05-20T21:13:01.479Z"
   },
   {
    "duration": 28,
    "start_time": "2022-05-20T21:13:21.103Z"
   },
   {
    "duration": 61,
    "start_time": "2022-05-20T21:14:14.263Z"
   },
   {
    "duration": 56,
    "start_time": "2022-05-20T21:14:24.544Z"
   },
   {
    "duration": 63,
    "start_time": "2022-05-20T21:15:26.229Z"
   },
   {
    "duration": 101,
    "start_time": "2022-05-20T21:15:41.303Z"
   },
   {
    "duration": 19,
    "start_time": "2022-05-20T21:15:56.797Z"
   },
   {
    "duration": 25,
    "start_time": "2022-05-20T21:21:22.272Z"
   },
   {
    "duration": 31,
    "start_time": "2022-05-20T21:21:35.640Z"
   },
   {
    "duration": 56,
    "start_time": "2022-05-20T21:27:07.457Z"
   },
   {
    "duration": 62,
    "start_time": "2022-05-20T21:27:16.084Z"
   },
   {
    "duration": 51,
    "start_time": "2022-05-20T21:28:28.272Z"
   },
   {
    "duration": 52,
    "start_time": "2022-05-20T21:28:36.366Z"
   },
   {
    "duration": 57,
    "start_time": "2022-05-20T21:28:41.597Z"
   },
   {
    "duration": 67,
    "start_time": "2022-05-20T21:34:54.694Z"
   },
   {
    "duration": 23,
    "start_time": "2022-05-20T21:35:11.101Z"
   },
   {
    "duration": 22,
    "start_time": "2022-05-20T21:35:22.302Z"
   },
   {
    "duration": 23,
    "start_time": "2022-05-20T21:38:02.172Z"
   },
   {
    "duration": 20,
    "start_time": "2022-05-20T21:40:05.261Z"
   },
   {
    "duration": 50,
    "start_time": "2022-05-20T21:42:52.379Z"
   },
   {
    "duration": 53,
    "start_time": "2022-05-20T21:43:13.612Z"
   },
   {
    "duration": 43,
    "start_time": "2022-05-20T21:47:27.850Z"
   },
   {
    "duration": 22,
    "start_time": "2022-05-20T21:50:22.982Z"
   },
   {
    "duration": 29,
    "start_time": "2022-05-20T21:50:48.755Z"
   },
   {
    "duration": 25,
    "start_time": "2022-05-20T21:52:42.755Z"
   },
   {
    "duration": 23,
    "start_time": "2022-05-20T21:53:51.874Z"
   },
   {
    "duration": 22,
    "start_time": "2022-05-20T21:54:34.780Z"
   },
   {
    "duration": 21,
    "start_time": "2022-05-20T21:56:44.589Z"
   },
   {
    "duration": 64,
    "start_time": "2022-05-20T21:57:43.678Z"
   },
   {
    "duration": 56,
    "start_time": "2022-05-20T21:57:57.398Z"
   },
   {
    "duration": 15,
    "start_time": "2022-05-20T21:58:19.908Z"
   },
   {
    "duration": 43,
    "start_time": "2022-05-20T21:58:35.856Z"
   },
   {
    "duration": 57,
    "start_time": "2022-05-20T22:07:18.597Z"
   },
   {
    "duration": 58,
    "start_time": "2022-05-20T22:07:45.815Z"
   },
   {
    "duration": 64,
    "start_time": "2022-05-20T22:11:45.874Z"
   },
   {
    "duration": 59,
    "start_time": "2022-05-20T22:14:03.215Z"
   },
   {
    "duration": 87,
    "start_time": "2022-05-20T22:14:19.429Z"
   },
   {
    "duration": 59,
    "start_time": "2022-05-20T22:16:47.552Z"
   },
   {
    "duration": 15,
    "start_time": "2022-05-20T22:17:05.373Z"
   },
   {
    "duration": 14,
    "start_time": "2022-05-20T22:17:10.723Z"
   },
   {
    "duration": 15,
    "start_time": "2022-05-20T22:19:42.949Z"
   },
   {
    "duration": 16,
    "start_time": "2022-05-20T22:19:51.118Z"
   },
   {
    "duration": 15,
    "start_time": "2022-05-20T22:20:21.399Z"
   },
   {
    "duration": 14,
    "start_time": "2022-05-20T22:20:45.821Z"
   },
   {
    "duration": 55,
    "start_time": "2022-05-20T22:21:58.988Z"
   },
   {
    "duration": 16,
    "start_time": "2022-05-20T22:22:12.196Z"
   },
   {
    "duration": 15,
    "start_time": "2022-05-20T22:22:38.944Z"
   },
   {
    "duration": 37,
    "start_time": "2022-05-20T22:23:15.172Z"
   },
   {
    "duration": 490,
    "start_time": "2022-05-20T22:23:47.878Z"
   },
   {
    "duration": 58,
    "start_time": "2022-05-20T22:23:48.370Z"
   },
   {
    "duration": 8,
    "start_time": "2022-05-20T22:23:48.430Z"
   },
   {
    "duration": 9,
    "start_time": "2022-05-20T22:23:48.440Z"
   },
   {
    "duration": 11,
    "start_time": "2022-05-20T22:23:48.450Z"
   },
   {
    "duration": 11,
    "start_time": "2022-05-20T22:23:48.462Z"
   },
   {
    "duration": 21,
    "start_time": "2022-05-20T22:23:48.474Z"
   },
   {
    "duration": 10,
    "start_time": "2022-05-20T22:23:48.496Z"
   },
   {
    "duration": 13,
    "start_time": "2022-05-20T22:23:48.507Z"
   },
   {
    "duration": 50,
    "start_time": "2022-05-20T22:23:48.523Z"
   },
   {
    "duration": 585,
    "start_time": "2022-05-21T10:43:00.408Z"
   },
   {
    "duration": 352,
    "start_time": "2022-05-21T10:43:00.996Z"
   },
   {
    "duration": 69,
    "start_time": "2022-05-21T10:43:01.352Z"
   },
   {
    "duration": 67,
    "start_time": "2022-05-21T10:43:01.423Z"
   },
   {
    "duration": 83,
    "start_time": "2022-05-21T10:43:01.492Z"
   },
   {
    "duration": 66,
    "start_time": "2022-05-21T10:43:01.577Z"
   },
   {
    "duration": 96,
    "start_time": "2022-05-21T10:43:01.645Z"
   },
   {
    "duration": 67,
    "start_time": "2022-05-21T10:43:01.743Z"
   },
   {
    "duration": 71,
    "start_time": "2022-05-21T10:43:01.812Z"
   },
   {
    "duration": 97,
    "start_time": "2022-05-21T10:43:01.885Z"
   },
   {
    "duration": 71,
    "start_time": "2022-05-21T10:43:22.264Z"
   },
   {
    "duration": 72,
    "start_time": "2022-05-21T10:43:39.586Z"
   }
  ],
  "kernelspec": {
   "display_name": "Python 3 (ipykernel)",
   "language": "python",
   "name": "python3"
  },
  "language_info": {
   "codemirror_mode": {
    "name": "ipython",
    "version": 3
   },
   "file_extension": ".py",
   "mimetype": "text/x-python",
   "name": "python",
   "nbconvert_exporter": "python",
   "pygments_lexer": "ipython3",
   "version": "3.9.12"
  },
  "toc": {
   "base_numbering": 1,
   "nav_menu": {},
   "number_sections": false,
   "sideBar": true,
   "skip_h1_title": false,
   "title_cell": "Table of Contents",
   "title_sidebar": "Contents",
   "toc_cell": false,
   "toc_position": {
    "height": "calc(100% - 180px)",
    "left": "10px",
    "top": "150px",
    "width": "288px"
   },
   "toc_section_display": true,
   "toc_window_display": true
  }
 },
 "nbformat": 4,
 "nbformat_minor": 5
}
