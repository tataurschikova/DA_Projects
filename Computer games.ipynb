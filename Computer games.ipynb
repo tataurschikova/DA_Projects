{
 "cells": [
  {
   "cell_type": "markdown",
   "metadata": {},
   "source": [
    "# Determining patterns that affect the success of computer games\n",
    "\n",
    "Description: Streamchik online store sells computer games all over the world. Historical game sales data, user and expert ratings, genres and platforms (such as Xbox or PlayStation) are available from public sources. It is necessary to identify patterns that determine the success of the game. This will allow management to bid on a potentially popular product and plan advertising campaigns.\n",
    "\n",
    "Data Description\n",
    "\n",
    "* Name - the name of the game\n",
    "* Platform - platform\n",
    "* Year_of_Release - year of release\n",
    "* Genre - game genre\n",
    "* NA_sales - sales in North America (millions of copies sold)\n",
    "* EU_sales - sales in Europe (millions of copies sold)\n",
    "* JP_sales - sales in Japan (millions of copies sold)\n",
    "* Other_sales - sales in other countries (millions of copies sold)\n",
    "* Critic_Score - Critics score (maximum 100)\n",
    "* User_Score - user score (maximum 10)\n",
    "* Rating - rating from the ESRB (Entertainment Software Rating Board). This association determines the rating of computer games and assigns them an appropriate age category."
   ]
  },
  {
   "cell_type": "markdown",
   "metadata": {},
   "source": [
    "## Examining data from a file"
   ]
  },
  {
   "cell_type": "code",
   "execution_count": 1,
   "metadata": {},
   "outputs": [],
   "source": [
    "import pandas as pd\n",
    "import matplotlib.pyplot as plt\n",
    "from scipy import stats as st"
   ]
  },
  {
   "cell_type": "code",
   "execution_count": 2,
   "metadata": {},
   "outputs": [
    {
     "name": "stdout",
     "output_type": "stream",
     "text": [
      "<class 'pandas.core.frame.DataFrame'>\n",
      "RangeIndex: 16715 entries, 0 to 16714\n",
      "Data columns (total 11 columns):\n",
      " #   Column           Non-Null Count  Dtype  \n",
      "---  ------           --------------  -----  \n",
      " 0   Name             16713 non-null  object \n",
      " 1   Platform         16715 non-null  object \n",
      " 2   Year_of_Release  16446 non-null  float64\n",
      " 3   Genre            16713 non-null  object \n",
      " 4   NA_sales         16715 non-null  float64\n",
      " 5   EU_sales         16715 non-null  float64\n",
      " 6   JP_sales         16715 non-null  float64\n",
      " 7   Other_sales      16715 non-null  float64\n",
      " 8   Critic_Score     8137 non-null   float64\n",
      " 9   User_Score       10014 non-null  object \n",
      " 10  Rating           9949 non-null   object \n",
      "dtypes: float64(6), object(5)\n",
      "memory usage: 1.4+ MB\n"
     ]
    },
    {
     "data": {
      "text/html": [
       "<div>\n",
       "<style scoped>\n",
       "    .dataframe tbody tr th:only-of-type {\n",
       "        vertical-align: middle;\n",
       "    }\n",
       "\n",
       "    .dataframe tbody tr th {\n",
       "        vertical-align: top;\n",
       "    }\n",
       "\n",
       "    .dataframe thead th {\n",
       "        text-align: right;\n",
       "    }\n",
       "</style>\n",
       "<table border=\"1\" class=\"dataframe\">\n",
       "  <thead>\n",
       "    <tr style=\"text-align: right;\">\n",
       "      <th></th>\n",
       "      <th>Name</th>\n",
       "      <th>Platform</th>\n",
       "      <th>Year_of_Release</th>\n",
       "      <th>Genre</th>\n",
       "      <th>NA_sales</th>\n",
       "      <th>EU_sales</th>\n",
       "      <th>JP_sales</th>\n",
       "      <th>Other_sales</th>\n",
       "      <th>Critic_Score</th>\n",
       "      <th>User_Score</th>\n",
       "      <th>Rating</th>\n",
       "    </tr>\n",
       "  </thead>\n",
       "  <tbody>\n",
       "    <tr>\n",
       "      <th>0</th>\n",
       "      <td>Wii Sports</td>\n",
       "      <td>Wii</td>\n",
       "      <td>2006.0</td>\n",
       "      <td>Sports</td>\n",
       "      <td>41.36</td>\n",
       "      <td>28.96</td>\n",
       "      <td>3.77</td>\n",
       "      <td>8.45</td>\n",
       "      <td>76.0</td>\n",
       "      <td>8</td>\n",
       "      <td>E</td>\n",
       "    </tr>\n",
       "    <tr>\n",
       "      <th>1</th>\n",
       "      <td>Super Mario Bros.</td>\n",
       "      <td>NES</td>\n",
       "      <td>1985.0</td>\n",
       "      <td>Platform</td>\n",
       "      <td>29.08</td>\n",
       "      <td>3.58</td>\n",
       "      <td>6.81</td>\n",
       "      <td>0.77</td>\n",
       "      <td>NaN</td>\n",
       "      <td>NaN</td>\n",
       "      <td>NaN</td>\n",
       "    </tr>\n",
       "    <tr>\n",
       "      <th>2</th>\n",
       "      <td>Mario Kart Wii</td>\n",
       "      <td>Wii</td>\n",
       "      <td>2008.0</td>\n",
       "      <td>Racing</td>\n",
       "      <td>15.68</td>\n",
       "      <td>12.76</td>\n",
       "      <td>3.79</td>\n",
       "      <td>3.29</td>\n",
       "      <td>82.0</td>\n",
       "      <td>8.3</td>\n",
       "      <td>E</td>\n",
       "    </tr>\n",
       "    <tr>\n",
       "      <th>3</th>\n",
       "      <td>Wii Sports Resort</td>\n",
       "      <td>Wii</td>\n",
       "      <td>2009.0</td>\n",
       "      <td>Sports</td>\n",
       "      <td>15.61</td>\n",
       "      <td>10.93</td>\n",
       "      <td>3.28</td>\n",
       "      <td>2.95</td>\n",
       "      <td>80.0</td>\n",
       "      <td>8</td>\n",
       "      <td>E</td>\n",
       "    </tr>\n",
       "    <tr>\n",
       "      <th>4</th>\n",
       "      <td>Pokemon Red/Pokemon Blue</td>\n",
       "      <td>GB</td>\n",
       "      <td>1996.0</td>\n",
       "      <td>Role-Playing</td>\n",
       "      <td>11.27</td>\n",
       "      <td>8.89</td>\n",
       "      <td>10.22</td>\n",
       "      <td>1.00</td>\n",
       "      <td>NaN</td>\n",
       "      <td>NaN</td>\n",
       "      <td>NaN</td>\n",
       "    </tr>\n",
       "  </tbody>\n",
       "</table>\n",
       "</div>"
      ],
      "text/plain": [
       "                       Name Platform  Year_of_Release         Genre  NA_sales  \\\n",
       "0                Wii Sports      Wii           2006.0        Sports     41.36   \n",
       "1         Super Mario Bros.      NES           1985.0      Platform     29.08   \n",
       "2            Mario Kart Wii      Wii           2008.0        Racing     15.68   \n",
       "3         Wii Sports Resort      Wii           2009.0        Sports     15.61   \n",
       "4  Pokemon Red/Pokemon Blue       GB           1996.0  Role-Playing     11.27   \n",
       "\n",
       "   EU_sales  JP_sales  Other_sales  Critic_Score User_Score Rating  \n",
       "0     28.96      3.77         8.45          76.0          8      E  \n",
       "1      3.58      6.81         0.77           NaN        NaN    NaN  \n",
       "2     12.76      3.79         3.29          82.0        8.3      E  \n",
       "3     10.93      3.28         2.95          80.0          8      E  \n",
       "4      8.89     10.22         1.00           NaN        NaN    NaN  "
      ]
     },
     "execution_count": 2,
     "metadata": {},
     "output_type": "execute_result"
    }
   ],
   "source": [
    "data = pd.read_csv('games.csv')\n",
    "data.info()\n",
    "data.head()"
   ]
  },
  {
   "cell_type": "markdown",
   "metadata": {},
   "source": [
    "There are 16k rows in the table, in the rows with ratings and ratings - almost half of the data is missing."
   ]
  },
  {
   "cell_type": "markdown",
   "metadata": {},
   "source": [
    "## Data preprocessing"
   ]
  },
  {
   "cell_type": "markdown",
   "metadata": {},
   "source": [
    "Let's do the following to preprocess the data:\n",
    "* change the column names to lowercase\n",
    "* replace the data type in year_of_release with datetime\n",
    "* process gaps where necessary\n",
    "* in the column with user rating there is an abbreviation tbd (To Be Determined), that is, \"to be determined\". Let's replace it with nan"
   ]
  },
  {
   "cell_type": "code",
   "execution_count": 3,
   "metadata": {},
   "outputs": [
    {
     "data": {
      "text/plain": [
       "Index(['name', 'platform', 'year_of_release', 'genre', 'na_sales', 'eu_sales',\n",
       "       'jp_sales', 'other_sales', 'critic_score', 'user_score', 'rating'],\n",
       "      dtype='object')"
      ]
     },
     "execution_count": 3,
     "metadata": {},
     "output_type": "execute_result"
    }
   ],
   "source": [
    "data.columns = data.columns.str.lower()\n",
    "data.columns"
   ]
  },
  {
   "cell_type": "code",
   "execution_count": 4,
   "metadata": {},
   "outputs": [],
   "source": [
    "data['year_of_release'] = pd.to_datetime(data['year_of_release'], format='%Y')"
   ]
  },
  {
   "cell_type": "code",
   "execution_count": 5,
   "metadata": {},
   "outputs": [
    {
     "data": {
      "text/plain": [
       "name                  2\n",
       "platform              0\n",
       "year_of_release     269\n",
       "genre                 2\n",
       "na_sales              0\n",
       "eu_sales              0\n",
       "jp_sales              0\n",
       "other_sales           0\n",
       "critic_score       8578\n",
       "user_score         6701\n",
       "rating             6766\n",
       "dtype: int64"
      ]
     },
     "execution_count": 5,
     "metadata": {},
     "output_type": "execute_result"
    }
   ],
   "source": [
    "data.isna().sum()"
   ]
  },
  {
   "cell_type": "code",
   "execution_count": 6,
   "metadata": {},
   "outputs": [],
   "source": [
    "data = data.dropna(subset=['name', 'year_of_release', 'genre'])"
   ]
  },
  {
   "cell_type": "code",
   "execution_count": 7,
   "metadata": {},
   "outputs": [],
   "source": [
    "data['rating'] = data['rating'].fillna('not determined')"
   ]
  },
  {
   "cell_type": "code",
   "execution_count": 8,
   "metadata": {},
   "outputs": [],
   "source": [
    "data.loc[data['user_score'] == 'tbd', 'user_score'] = float('nan')"
   ]
  },
  {
   "cell_type": "code",
   "execution_count": 9,
   "metadata": {},
   "outputs": [],
   "source": [
    "data['total_sales'] = data['na_sales'] + data['eu_sales'] + data['jp_sales'] + data['other_sales']"
   ]
  },
  {
   "cell_type": "markdown",
   "metadata": {},
   "source": [
    "**Conclusion:**\n",
    "\n",
    "* Lines with gaps in name, year_of_release, genre - filtered out, because they make up less than 2% of the total data;\n",
    "* In the rating column, because this is a categorical variable gaps changed to \"not defined\"\n",
    "* Gaps in the columns with ratings (users and critics) - could have occurred due to the fact that the game has no ratings yet, you do not need to replace these gaps, because. there are too many of them to delete rows, and replacing with a median/mean is incorrect, because may skew the results in the future.\n",
    "* Added a column with total sales for all regions"
   ]
  },
  {
   "cell_type": "markdown",
   "metadata": {},
   "source": [
    "## Exploratory data analysis"
   ]
  },
  {
   "cell_type": "markdown",
   "metadata": {},
   "source": [
    "First, let's look at how many games were released in different years to determine the trend; how sales by platform changed over the years and how many years the life cycle of a platform is approximately.\n",
    "\n",
    "Since in further work there is no need to use the data of old periods, we will create a dataset with the current\n",
    "period.\n",
    "\n",
    "Let's determine what factors affect the volume of sales."
   ]
  },
  {
   "cell_type": "code",
   "execution_count": 10,
   "metadata": {},
   "outputs": [
    {
     "data": {
      "image/png": "[encoded data removed]",
      "text/plain": [
       "<Figure size 1080x360 with 1 Axes>"
      ]
     },
     "metadata": {
      "needs_background": "light"
     },
     "output_type": "display_data"
    }
   ],
   "source": [
    "data.groupby(['year_of_release']).agg({'name':'count'}).reset_index().plot(x='year_of_release', grid=True, figsize=(15,5)).set_title(\"Number of released games by year\");"
   ]
  },
  {
   "cell_type": "markdown",
   "metadata": {},
   "source": [
    "\"Boom\" in the release of computer games - 2008-2009: more than 1400. For further analysis - we will consider only the last years: 2009-2016."
   ]
  },
  {
   "cell_type": "code",
   "execution_count": 11,
   "metadata": {},
   "outputs": [
    {
     "data": {
      "image/png": "[encoded data removed]",
      "text/plain": [
       "<Figure size 864x144 with 1 Axes>"
      ]
     },
     "metadata": {
      "needs_background": "light"
     },
     "output_type": "display_data"
    }
   ],
   "source": [
    "data.query('year_of_release >= 2009').groupby(['year_of_release']).agg({'name':'count'}).reset_index().plot(x='year_of_release', grid=True, figsize=(12,2)).set_title(\"Number of released games by year\");"
   ]
  },
  {
   "cell_type": "markdown",
   "metadata": {},
   "source": [
    "If we consider the last 8 years, then the number of released games by 2016 is declining."
   ]
  },
  {
   "cell_type": "code",
   "execution_count": 12,
   "metadata": {},
   "outputs": [
    {
     "data": {
      "image/png": "[encoded data removed]",
      "text/plain": [
       "<Figure size 1296x576 with 1 Axes>"
      ]
     },
     "metadata": {
      "needs_background": "light"
     },
     "output_type": "display_data"
    }
   ],
   "source": [
    "platform_sales = data.groupby(['platform']).agg({'total_sales':'sum'}).sort_values(by='total_sales').tail(25).index\n",
    "data.query('platform in @platform_sales').pivot_table(index='year_of_release', columns='platform', values='total_sales', aggfunc='sum').plot(grid=True, figsize=(18,8)).set_title(\"Sales by platform, million copies\");"
   ]
  },
  {
   "cell_type": "markdown",
   "metadata": {},
   "source": [
    "A few observations from the graph:\n",
    "\n",
    "* since about 2005, the variety of platforms has increased\n",
    "* sales of games on various platforms have their peak, then due to the emergence of newer models, sales on older ones fall sharply; the period of use of a certain platform model is about 8 years\n",
    "* in 2015-2016 the most popular platform is PS4 and XOne."
   ]
  },
  {
   "cell_type": "code",
   "execution_count": 13,
   "metadata": {},
   "outputs": [
    {
     "data": {
      "text/plain": [
       "year_of_release    7.92\n",
       "dtype: float64"
      ]
     },
     "execution_count": 13,
     "metadata": {},
     "output_type": "execute_result"
    }
   ],
   "source": [
    "actual_period = data.groupby(['platform', 'year_of_release']).agg({'total_sales': 'sum'}).query('total_sales > 1')\n",
    "actual_period = actual_period.reset_index().groupby('platform').agg({'year_of_release': 'count'})\n",
    "actual_period.mean()"
   ]
  },
  {
   "cell_type": "markdown",
   "metadata": {},
   "source": [
    "The estimated value of the life of the platform corresponds to what was previously determined using the graph - 8 years. But since the field of computer games is a rapidly developing one, for further analysis we will use data for the last 3 years."
   ]
  },
  {
   "cell_type": "code",
   "execution_count": 14,
   "metadata": {},
   "outputs": [
    {
     "data": {
      "image/png": "[encoded data removed]",
      "text/plain": [
       "<Figure size 1224x648 with 1 Axes>"
      ]
     },
     "metadata": {
      "needs_background": "light"
     },
     "output_type": "display_data"
    }
   ],
   "source": [
    "data.query('platform in @platform_sales and year_of_release >= 2014').pivot_table(index='year_of_release', columns='platform', values='total_sales', aggfunc='sum').plot(grid=True, figsize=(17,9)).set_title(\"Sales by platform, million copies\");"
   ]
  },
  {
   "cell_type": "markdown",
   "metadata": {},
   "source": [
    "In 2016, the newest (at that time) PS4 model leads in sales. In second place is the XOne game console, in third place is the 3DS. Judging by the graph, sales across all platforms are falling by 2016, but since The data are incomplete, so it is incorrect to draw such a conclusion based on them."
   ]
  },
  {
   "cell_type": "code",
   "execution_count": 15,
   "metadata": {},
   "outputs": [],
   "source": [
    "data_new = data.query('year_of_release >= 2014')"
   ]
  },
  {
   "cell_type": "code",
   "execution_count": 16,
   "metadata": {},
   "outputs": [
    {
     "data": {
      "image/png": "[encoded data removed]",
      "text/plain": [
       "<Figure size 648x504 with 1 Axes>"
      ]
     },
     "metadata": {
      "needs_background": "light"
     },
     "output_type": "display_data"
    }
   ],
   "source": [
    "import warnings\n",
    "warnings.filterwarnings('ignore')\n",
    "data_new.query('platform in [\"PS4\",\"XOne\",\"3DS\", \"PS3\", \"X360\"]').boxplot(column='total_sales', by = 'platform', grid=True, figsize=(9,7)).set_title(\"Boxplot of game sales by platform\")\n",
    "plt.ylim(0,2.5);"
   ]
  },
  {
   "cell_type": "markdown",
   "metadata": {},
   "source": [
    "According to the resulting graph, you can compare the median sales values for the most popular platforms for the current period. PS3 has the highest median sales value (but sales tend to 0 by 2015-2016 due to the newer PS4 model), followed by XOne and 3DS. I would also like to note that the latest PS4 and XOne models have a larger spread of values."
   ]
  },
  {
   "cell_type": "markdown",
   "metadata": {},
   "source": [
    "On the example of one of the popular and relevant PS4 platforms, let's determine the impact on sales of user reviews and critics. To do this, we calculate the correlation coefficient and construct a scatterplot."
   ]
  },
  {
   "cell_type": "code",
   "execution_count": 17,
   "metadata": {},
   "outputs": [
    {
     "data": {
      "text/plain": [
       "-0.04"
      ]
     },
     "execution_count": 17,
     "metadata": {},
     "output_type": "execute_result"
    }
   ],
   "source": [
    "data_new['user_score'] = data_new['user_score'].astype(float) #for calculation it is necessary to convert the type to float\n",
    "data_new.query('platform == \"PS4\"')['total_sales'].corr(data_new['user_score']).round(2)"
   ]
  },
  {
   "cell_type": "code",
   "execution_count": 18,
   "metadata": {},
   "outputs": [
    {
     "data": {
      "image/png": "[encoded data removed]",
      "text/plain": [
       "<Figure size 576x432 with 1 Axes>"
      ]
     },
     "metadata": {
      "needs_background": "light"
     },
     "output_type": "display_data"
    }
   ],
   "source": [
    "data_new.query('platform == \"PS4\"').plot(kind = 'scatter', x='user_score', y = 'total_sales', alpha = 0.5, figsize=(8,6)).set_title(\"Relationship between user ratings and sales of PS4 games\");"
   ]
  },
  {
   "cell_type": "markdown",
   "metadata": {},
   "source": [
    "Based on the obtained correlation coefficient, we can conclude that there is no linear relationship between user ratings and sales. However, the scatterplot shows that there is a non-linear relationship between the parameters."
   ]
  },
  {
   "cell_type": "code",
   "execution_count": 19,
   "metadata": {},
   "outputs": [
    {
     "data": {
      "text/plain": [
       "0.4"
      ]
     },
     "execution_count": 19,
     "metadata": {},
     "output_type": "execute_result"
    }
   ],
   "source": [
    "data_new['critic_score'] = data_new['critic_score'].astype(float) #for calculation it is necessary to convert the type to float\n",
    "data_new.query('platform == \"PS4\"')['total_sales'].corr(data_new['critic_score']).round(2)"
   ]
  },
  {
   "cell_type": "code",
   "execution_count": 20,
   "metadata": {},
   "outputs": [
    {
     "data": {
      "image/png": "[encoded data removed]",
      "text/plain": [
       "<Figure size 576x432 with 1 Axes>"
      ]
     },
     "metadata": {
      "needs_background": "light"
     },
     "output_type": "display_data"
    }
   ],
   "source": [
    "data_new.query('platform == \"PS4\"').plot(kind = 'scatter', x='critic_score', y = 'total_sales', alpha = 0.5, figsize=(8,6)).set_title(\"Relationship between critical acclaim and PS4 game sales\");"
   ]
  },
  {
   "cell_type": "markdown",
   "metadata": {},
   "source": [
    "The correlation coefficient and the scatterplot show that the rating of critics has a stronger effect on sales than the rating of users. As you can see from the graph, PS4 game sales are higher at a score of 70-90 than at a score of 20-60."
   ]
  },
  {
   "cell_type": "markdown",
   "metadata": {},
   "source": [
    "Now let's see if the same dependency remains for other popular platforms."
   ]
  },
  {
   "cell_type": "code",
   "execution_count": 21,
   "metadata": {},
   "outputs": [
    {
     "data": {
      "image/png": "[encoded data removed]",
      "text/plain": [
       "<Figure size 576x432 with 1 Axes>"
      ]
     },
     "metadata": {
      "needs_background": "light"
     },
     "output_type": "display_data"
    },
    {
     "data": {
      "image/png": "[encoded data removed]",
      "text/plain": [
       "<Figure size 576x432 with 1 Axes>"
      ]
     },
     "metadata": {
      "needs_background": "light"
     },
     "output_type": "display_data"
    }
   ],
   "source": [
    "data_new.query('platform in [\"3DS\", \"PS3\", \"X360\", \"XOne\"]').plot(kind = 'scatter', x='user_score', y = 'total_sales', alpha = 0.5, figsize=(8,6)).set_title(\"The dependence of user ratings and game sales on other popular platforms\");\n",
    "data_new.query('platform in [\"3DS\", \"PS3\", \"X360\", \"XOne\"]').plot(kind = 'scatter', x='critic_score', y = 'total_sales', alpha = 0.5, figsize=(8,6)).set_title(\"Relationship between critic scores and game sales on other popular platforms\");"
   ]
  },
  {
   "cell_type": "code",
   "execution_count": 22,
   "metadata": {},
   "outputs": [
    {
     "data": {
      "text/plain": [
       "-0.05"
      ]
     },
     "execution_count": 22,
     "metadata": {},
     "output_type": "execute_result"
    }
   ],
   "source": [
    "data_new.query('platform in [\"3DS\", \"PS3\", \"X360\", \"XOne\"]')['total_sales'].corr(data_new['user_score']).round(2)"
   ]
  },
  {
   "cell_type": "code",
   "execution_count": 23,
   "metadata": {},
   "outputs": [
    {
     "data": {
      "text/plain": [
       "0.42"
      ]
     },
     "execution_count": 23,
     "metadata": {},
     "output_type": "execute_result"
    }
   ],
   "source": [
    "data_new.query('platform in [\"3DS\", \"PS3\", \"X360\", \"XOne\"]')['total_sales'].corr(data_new['critic_score']).round(2)"
   ]
  },
  {
   "cell_type": "markdown",
   "metadata": {},
   "source": [
    "For other popular platforms, the same situation is observed: there is no linear dependence, or it is weak in terms of the critics' assessment parameter. But the graphs show a non-linear relationship, i.e. with a higher estimate - sales of games more."
   ]
  },
  {
   "cell_type": "markdown",
   "metadata": {},
   "source": [
    "Let's see the distribution of games by genre: which of them are the most profitable."
   ]
  },
  {
   "cell_type": "code",
   "execution_count": 24,
   "metadata": {},
   "outputs": [
    {
     "data": {
      "text/plain": [
       "Action          619\n",
       "Role-Playing    221\n",
       "Adventure       185\n",
       "Sports          161\n",
       "Shooter         128\n",
       "Misc            113\n",
       "Racing           69\n",
       "Fighting         60\n",
       "Simulation       44\n",
       "Platform         38\n",
       "Strategy         37\n",
       "Puzzle           14\n",
       "Name: genre, dtype: int64"
      ]
     },
     "execution_count": 24,
     "metadata": {},
     "output_type": "execute_result"
    }
   ],
   "source": [
    "data_new['genre'].value_counts()"
   ]
  },
  {
   "cell_type": "code",
   "execution_count": 25,
   "metadata": {},
   "outputs": [
    {
     "data": {
      "image/png": "[encoded data removed]",
      "text/plain": [
       "<Figure size 648x432 with 1 Axes>"
      ]
     },
     "metadata": {
      "needs_background": "light"
     },
     "output_type": "display_data"
    }
   ],
   "source": [
    "data_new.pivot_table(index='genre', values='total_sales', aggfunc='median').plot(kind='bar', title=\"Distribution of game sales by genre\", figsize=(9,6));"
   ]
  },
  {
   "cell_type": "markdown",
   "metadata": {},
   "source": [
    "The most profitable genres are \"shooters\" (thrillers); in second place - sports. Among the genres with the lowest sales are puzzles and adventures."
   ]
  },
  {
   "cell_type": "markdown",
   "metadata": {},
   "source": [
    "**Conclusion:**\n",
    "\n",
    "At the stage of exploratory analysis, the life cycle of the platform is determined - 8 years, the most popular platforms for the current period of 2014-2016 are PS4, XOne and 3DS. The dependence of sales on the assessment of users and critics was revealed, and the assessment of critics has a stronger effect on sales. Based on the median value of sales, the most popular genres were identified: Shooter and Sports."
   ]
  },
  {
   "cell_type": "markdown",
   "metadata": {},
   "source": [
    "## User portrait by region"
   ]
  },
  {
   "cell_type": "markdown",
   "metadata": {},
   "source": [
    "In this section, let's see how user preferences differ by region: North America, Europe, Japan.\n",
    "\n",
    "* Which platforms are popular in each region\n",
    "* Which genres users prefer by region\n",
    "* How sales are affected by ESRB rating in different regions"
   ]
  },
  {
   "cell_type": "markdown",
   "metadata": {},
   "source": [
    "Let's display the top 5 most popular platforms for the user of each region."
   ]
  },
  {
   "cell_type": "code",
   "execution_count": 26,
   "metadata": {},
   "outputs": [
    {
     "data": {
      "text/html": [
       "<div>\n",
       "<style scoped>\n",
       "    .dataframe tbody tr th:only-of-type {\n",
       "        vertical-align: middle;\n",
       "    }\n",
       "\n",
       "    .dataframe tbody tr th {\n",
       "        vertical-align: top;\n",
       "    }\n",
       "\n",
       "    .dataframe thead th {\n",
       "        text-align: right;\n",
       "    }\n",
       "</style>\n",
       "<table border=\"1\" class=\"dataframe\">\n",
       "  <thead>\n",
       "    <tr style=\"text-align: right;\">\n",
       "      <th></th>\n",
       "      <th>na_sales</th>\n",
       "    </tr>\n",
       "    <tr>\n",
       "      <th>platform</th>\n",
       "      <th></th>\n",
       "    </tr>\n",
       "  </thead>\n",
       "  <tbody>\n",
       "    <tr>\n",
       "      <th>PS4</th>\n",
       "      <td>98.61</td>\n",
       "    </tr>\n",
       "    <tr>\n",
       "      <th>XOne</th>\n",
       "      <td>81.27</td>\n",
       "    </tr>\n",
       "    <tr>\n",
       "      <th>X360</th>\n",
       "      <td>28.30</td>\n",
       "    </tr>\n",
       "    <tr>\n",
       "      <th>3DS</th>\n",
       "      <td>22.64</td>\n",
       "    </tr>\n",
       "    <tr>\n",
       "      <th>PS3</th>\n",
       "      <td>22.05</td>\n",
       "    </tr>\n",
       "  </tbody>\n",
       "</table>\n",
       "</div>"
      ],
      "text/plain": [
       "          na_sales\n",
       "platform          \n",
       "PS4          98.61\n",
       "XOne         81.27\n",
       "X360         28.30\n",
       "3DS          22.64\n",
       "PS3          22.05"
      ]
     },
     "metadata": {},
     "output_type": "display_data"
    },
    {
     "data": {
      "image/png": "[encoded data removed]",
      "text/plain": [
       "<Figure size 720x360 with 1 Axes>"
      ]
     },
     "metadata": {},
     "output_type": "display_data"
    }
   ],
   "source": [
    "na_platform = data_new.pivot_table(index='platform', values=['na_sales'], aggfunc=sum).sort_values(by='na_sales', ascending=False).head()\n",
    "display(na_platform) \n",
    "na_platform.plot.pie(subplots=True, figsize=(10,5), autopct='%1.1f%%', \n",
    "                     title=\"Most played gaming platforms in North America\")\n",
    "plt.show()"
   ]
  },
  {
   "cell_type": "code",
   "execution_count": 27,
   "metadata": {},
   "outputs": [
    {
     "data": {
      "text/html": [
       "<div>\n",
       "<style scoped>\n",
       "    .dataframe tbody tr th:only-of-type {\n",
       "        vertical-align: middle;\n",
       "    }\n",
       "\n",
       "    .dataframe tbody tr th {\n",
       "        vertical-align: top;\n",
       "    }\n",
       "\n",
       "    .dataframe thead th {\n",
       "        text-align: right;\n",
       "    }\n",
       "</style>\n",
       "<table border=\"1\" class=\"dataframe\">\n",
       "  <thead>\n",
       "    <tr style=\"text-align: right;\">\n",
       "      <th></th>\n",
       "      <th>eu_sales</th>\n",
       "    </tr>\n",
       "    <tr>\n",
       "      <th>platform</th>\n",
       "      <th></th>\n",
       "    </tr>\n",
       "  </thead>\n",
       "  <tbody>\n",
       "    <tr>\n",
       "      <th>PS4</th>\n",
       "      <td>130.04</td>\n",
       "    </tr>\n",
       "    <tr>\n",
       "      <th>XOne</th>\n",
       "      <td>46.25</td>\n",
       "    </tr>\n",
       "    <tr>\n",
       "      <th>PS3</th>\n",
       "      <td>25.54</td>\n",
       "    </tr>\n",
       "    <tr>\n",
       "      <th>PC</th>\n",
       "      <td>17.97</td>\n",
       "    </tr>\n",
       "    <tr>\n",
       "      <th>3DS</th>\n",
       "      <td>16.12</td>\n",
       "    </tr>\n",
       "  </tbody>\n",
       "</table>\n",
       "</div>"
      ],
      "text/plain": [
       "          eu_sales\n",
       "platform          \n",
       "PS4         130.04\n",
       "XOne         46.25\n",
       "PS3          25.54\n",
       "PC           17.97\n",
       "3DS          16.12"
      ]
     },
     "metadata": {},
     "output_type": "display_data"
    },
    {
     "data": {
      "image/png": "[encoded data removed]",
      "text/plain": [
       "<Figure size 720x360 with 1 Axes>"
      ]
     },
     "metadata": {},
     "output_type": "display_data"
    }
   ],
   "source": [
    "eu_platform = data_new.pivot_table(index='platform', values=['eu_sales'], aggfunc=sum).sort_values(by='eu_sales', ascending=False).head()\n",
    "display(eu_platform) \n",
    "eu_platform.plot.pie(subplots=True, figsize=(10,5), title=\"The most popular gaming platforms in Europe\");"
   ]
  },
  {
   "cell_type": "code",
   "execution_count": 28,
   "metadata": {},
   "outputs": [
    {
     "data": {
      "text/html": [
       "<div>\n",
       "<style scoped>\n",
       "    .dataframe tbody tr th:only-of-type {\n",
       "        vertical-align: middle;\n",
       "    }\n",
       "\n",
       "    .dataframe tbody tr th {\n",
       "        vertical-align: top;\n",
       "    }\n",
       "\n",
       "    .dataframe thead th {\n",
       "        text-align: right;\n",
       "    }\n",
       "</style>\n",
       "<table border=\"1\" class=\"dataframe\">\n",
       "  <thead>\n",
       "    <tr style=\"text-align: right;\">\n",
       "      <th></th>\n",
       "      <th>jp_sales</th>\n",
       "    </tr>\n",
       "    <tr>\n",
       "      <th>platform</th>\n",
       "      <th></th>\n",
       "    </tr>\n",
       "  </thead>\n",
       "  <tbody>\n",
       "    <tr>\n",
       "      <th>3DS</th>\n",
       "      <td>44.24</td>\n",
       "    </tr>\n",
       "    <tr>\n",
       "      <th>PS4</th>\n",
       "      <td>15.02</td>\n",
       "    </tr>\n",
       "    <tr>\n",
       "      <th>PSV</th>\n",
       "      <td>14.54</td>\n",
       "    </tr>\n",
       "    <tr>\n",
       "      <th>PS3</th>\n",
       "      <td>11.22</td>\n",
       "    </tr>\n",
       "    <tr>\n",
       "      <th>WiiU</th>\n",
       "      <td>7.31</td>\n",
       "    </tr>\n",
       "  </tbody>\n",
       "</table>\n",
       "</div>"
      ],
      "text/plain": [
       "          jp_sales\n",
       "platform          \n",
       "3DS          44.24\n",
       "PS4          15.02\n",
       "PSV          14.54\n",
       "PS3          11.22\n",
       "WiiU          7.31"
      ]
     },
     "metadata": {},
     "output_type": "display_data"
    },
    {
     "data": {
      "image/png": "[encoded data removed]",
      "text/plain": [
       "<Figure size 720x360 with 1 Axes>"
      ]
     },
     "metadata": {},
     "output_type": "display_data"
    }
   ],
   "source": [
    "jp_platform = data_new.pivot_table(index='platform', values=['jp_sales'], aggfunc=sum).sort_values(by='jp_sales', ascending=False).head()\n",
    "display(jp_platform) \n",
    "jp_platform.plot.pie(subplots=True, figsize=(10,5), title=\"The most popular gaming platforms in Japan\");"
   ]
  },
  {
   "cell_type": "code",
   "execution_count": 29,
   "metadata": {},
   "outputs": [
    {
     "data": {
      "text/html": [
       "<div>\n",
       "<style scoped>\n",
       "    .dataframe tbody tr th:only-of-type {\n",
       "        vertical-align: middle;\n",
       "    }\n",
       "\n",
       "    .dataframe tbody tr th {\n",
       "        vertical-align: top;\n",
       "    }\n",
       "\n",
       "    .dataframe thead th {\n",
       "        text-align: right;\n",
       "    }\n",
       "</style>\n",
       "<table border=\"1\" class=\"dataframe\">\n",
       "  <thead>\n",
       "    <tr style=\"text-align: right;\">\n",
       "      <th></th>\n",
       "      <th>other_sales</th>\n",
       "    </tr>\n",
       "    <tr>\n",
       "      <th>platform</th>\n",
       "      <th></th>\n",
       "    </tr>\n",
       "  </thead>\n",
       "  <tbody>\n",
       "    <tr>\n",
       "      <th>PS4</th>\n",
       "      <td>44.48</td>\n",
       "    </tr>\n",
       "    <tr>\n",
       "      <th>XOne</th>\n",
       "      <td>12.52</td>\n",
       "    </tr>\n",
       "    <tr>\n",
       "      <th>PS3</th>\n",
       "      <td>9.37</td>\n",
       "    </tr>\n",
       "    <tr>\n",
       "      <th>X360</th>\n",
       "      <td>4.35</td>\n",
       "    </tr>\n",
       "    <tr>\n",
       "      <th>3DS</th>\n",
       "      <td>3.68</td>\n",
       "    </tr>\n",
       "  </tbody>\n",
       "</table>\n",
       "</div>"
      ],
      "text/plain": [
       "          other_sales\n",
       "platform             \n",
       "PS4             44.48\n",
       "XOne            12.52\n",
       "PS3              9.37\n",
       "X360             4.35\n",
       "3DS              3.68"
      ]
     },
     "metadata": {},
     "output_type": "display_data"
    },
    {
     "data": {
      "image/png": "[encoded data removed]",
      "text/plain": [
       "<Figure size 720x360 with 1 Axes>"
      ]
     },
     "metadata": {},
     "output_type": "display_data"
    }
   ],
   "source": [
    "other_platform = data_new.pivot_table(index='platform', values=['other_sales'], aggfunc=sum).sort_values(by='other_sales', ascending=False).head()\n",
    "display(other_platform) \n",
    "other_platform.plot.pie(subplots=True, figsize=(10,5), title=\"The most popular gaming platforms in other countries\");"
   ]
  },
  {
   "cell_type": "markdown",
   "metadata": {},
   "source": [
    "**Conclusion:**\n",
    "\n",
    "In different regions, users prefer different platforms. In North America, the X360 is the most popular console, and in Europe, the Play Station 3, in Japan, the Nintendo 3DS platform is generally in the lead."
   ]
  },
  {
   "cell_type": "code",
   "execution_count": 30,
   "metadata": {},
   "outputs": [
    {
     "data": {
      "text/html": [
       "<div>\n",
       "<style scoped>\n",
       "    .dataframe tbody tr th:only-of-type {\n",
       "        vertical-align: middle;\n",
       "    }\n",
       "\n",
       "    .dataframe tbody tr th {\n",
       "        vertical-align: top;\n",
       "    }\n",
       "\n",
       "    .dataframe thead th {\n",
       "        text-align: right;\n",
       "    }\n",
       "</style>\n",
       "<table border=\"1\" class=\"dataframe\">\n",
       "  <thead>\n",
       "    <tr style=\"text-align: right;\">\n",
       "      <th></th>\n",
       "      <th>na_sales</th>\n",
       "    </tr>\n",
       "    <tr>\n",
       "      <th>genre</th>\n",
       "      <th></th>\n",
       "    </tr>\n",
       "  </thead>\n",
       "  <tbody>\n",
       "    <tr>\n",
       "      <th>Shooter</th>\n",
       "      <td>79.02</td>\n",
       "    </tr>\n",
       "    <tr>\n",
       "      <th>Action</th>\n",
       "      <td>72.53</td>\n",
       "    </tr>\n",
       "    <tr>\n",
       "      <th>Sports</th>\n",
       "      <td>46.13</td>\n",
       "    </tr>\n",
       "    <tr>\n",
       "      <th>Role-Playing</th>\n",
       "      <td>33.47</td>\n",
       "    </tr>\n",
       "    <tr>\n",
       "      <th>Misc</th>\n",
       "      <td>15.05</td>\n",
       "    </tr>\n",
       "  </tbody>\n",
       "</table>\n",
       "</div>"
      ],
      "text/plain": [
       "              na_sales\n",
       "genre                 \n",
       "Shooter          79.02\n",
       "Action           72.53\n",
       "Sports           46.13\n",
       "Role-Playing     33.47\n",
       "Misc             15.05"
      ]
     },
     "metadata": {},
     "output_type": "display_data"
    },
    {
     "data": {
      "text/html": [
       "<div>\n",
       "<style scoped>\n",
       "    .dataframe tbody tr th:only-of-type {\n",
       "        vertical-align: middle;\n",
       "    }\n",
       "\n",
       "    .dataframe tbody tr th {\n",
       "        vertical-align: top;\n",
       "    }\n",
       "\n",
       "    .dataframe thead th {\n",
       "        text-align: right;\n",
       "    }\n",
       "</style>\n",
       "<table border=\"1\" class=\"dataframe\">\n",
       "  <thead>\n",
       "    <tr style=\"text-align: right;\">\n",
       "      <th></th>\n",
       "      <th>eu_sales</th>\n",
       "    </tr>\n",
       "    <tr>\n",
       "      <th>genre</th>\n",
       "      <th></th>\n",
       "    </tr>\n",
       "  </thead>\n",
       "  <tbody>\n",
       "    <tr>\n",
       "      <th>Action</th>\n",
       "      <td>74.68</td>\n",
       "    </tr>\n",
       "    <tr>\n",
       "      <th>Shooter</th>\n",
       "      <td>65.52</td>\n",
       "    </tr>\n",
       "    <tr>\n",
       "      <th>Sports</th>\n",
       "      <td>45.73</td>\n",
       "    </tr>\n",
       "    <tr>\n",
       "      <th>Role-Playing</th>\n",
       "      <td>28.17</td>\n",
       "    </tr>\n",
       "    <tr>\n",
       "      <th>Racing</th>\n",
       "      <td>14.13</td>\n",
       "    </tr>\n",
       "  </tbody>\n",
       "</table>\n",
       "</div>"
      ],
      "text/plain": [
       "              eu_sales\n",
       "genre                 \n",
       "Action           74.68\n",
       "Shooter          65.52\n",
       "Sports           45.73\n",
       "Role-Playing     28.17\n",
       "Racing           14.13"
      ]
     },
     "metadata": {},
     "output_type": "display_data"
    },
    {
     "data": {
      "text/html": [
       "<div>\n",
       "<style scoped>\n",
       "    .dataframe tbody tr th:only-of-type {\n",
       "        vertical-align: middle;\n",
       "    }\n",
       "\n",
       "    .dataframe tbody tr th {\n",
       "        vertical-align: top;\n",
       "    }\n",
       "\n",
       "    .dataframe thead th {\n",
       "        text-align: right;\n",
       "    }\n",
       "</style>\n",
       "<table border=\"1\" class=\"dataframe\">\n",
       "  <thead>\n",
       "    <tr style=\"text-align: right;\">\n",
       "      <th></th>\n",
       "      <th>jp_sales</th>\n",
       "    </tr>\n",
       "    <tr>\n",
       "      <th>genre</th>\n",
       "      <th></th>\n",
       "    </tr>\n",
       "  </thead>\n",
       "  <tbody>\n",
       "    <tr>\n",
       "      <th>Role-Playing</th>\n",
       "      <td>31.16</td>\n",
       "    </tr>\n",
       "    <tr>\n",
       "      <th>Action</th>\n",
       "      <td>29.58</td>\n",
       "    </tr>\n",
       "    <tr>\n",
       "      <th>Fighting</th>\n",
       "      <td>6.37</td>\n",
       "    </tr>\n",
       "    <tr>\n",
       "      <th>Misc</th>\n",
       "      <td>5.61</td>\n",
       "    </tr>\n",
       "    <tr>\n",
       "      <th>Shooter</th>\n",
       "      <td>4.87</td>\n",
       "    </tr>\n",
       "  </tbody>\n",
       "</table>\n",
       "</div>"
      ],
      "text/plain": [
       "              jp_sales\n",
       "genre                 \n",
       "Role-Playing     31.16\n",
       "Action           29.58\n",
       "Fighting          6.37\n",
       "Misc              5.61\n",
       "Shooter           4.87"
      ]
     },
     "metadata": {},
     "output_type": "display_data"
    },
    {
     "data": {
      "text/html": [
       "<div>\n",
       "<style scoped>\n",
       "    .dataframe tbody tr th:only-of-type {\n",
       "        vertical-align: middle;\n",
       "    }\n",
       "\n",
       "    .dataframe tbody tr th {\n",
       "        vertical-align: top;\n",
       "    }\n",
       "\n",
       "    .dataframe thead th {\n",
       "        text-align: right;\n",
       "    }\n",
       "</style>\n",
       "<table border=\"1\" class=\"dataframe\">\n",
       "  <thead>\n",
       "    <tr style=\"text-align: right;\">\n",
       "      <th></th>\n",
       "      <th>other_sales</th>\n",
       "    </tr>\n",
       "    <tr>\n",
       "      <th>genre</th>\n",
       "      <th></th>\n",
       "    </tr>\n",
       "  </thead>\n",
       "  <tbody>\n",
       "    <tr>\n",
       "      <th>Action</th>\n",
       "      <td>22.57</td>\n",
       "    </tr>\n",
       "    <tr>\n",
       "      <th>Shooter</th>\n",
       "      <td>21.53</td>\n",
       "    </tr>\n",
       "    <tr>\n",
       "      <th>Sports</th>\n",
       "      <td>14.36</td>\n",
       "    </tr>\n",
       "    <tr>\n",
       "      <th>Role-Playing</th>\n",
       "      <td>8.64</td>\n",
       "    </tr>\n",
       "    <tr>\n",
       "      <th>Misc</th>\n",
       "      <td>4.03</td>\n",
       "    </tr>\n",
       "  </tbody>\n",
       "</table>\n",
       "</div>"
      ],
      "text/plain": [
       "              other_sales\n",
       "genre                    \n",
       "Action              22.57\n",
       "Shooter             21.53\n",
       "Sports              14.36\n",
       "Role-Playing         8.64\n",
       "Misc                 4.03"
      ]
     },
     "metadata": {},
     "output_type": "display_data"
    }
   ],
   "source": [
    "# Most popular genres by region\n",
    "na_genre = data_new.pivot_table(index='genre', values=['na_sales'], aggfunc=sum).sort_values(by='na_sales', ascending=False).head()\n",
    "display(na_genre)\n",
    "eu_genre = data_new.pivot_table(index='genre', values=['eu_sales'], aggfunc=sum).sort_values(by='eu_sales', ascending=False).head()\n",
    "display(eu_genre)\n",
    "jp_genre = data_new.pivot_table(index='genre', values=['jp_sales'], aggfunc=sum).sort_values(by='jp_sales', ascending=False).head()\n",
    "display(jp_genre)\n",
    "other_genre = data_new.pivot_table(index='genre', values=['other_sales'], aggfunc=sum).sort_values(by='other_sales', ascending=False).head()\n",
    "display(other_genre)"
   ]
  },
  {
   "cell_type": "markdown",
   "metadata": {},
   "source": [
    "In almost all countries, the Actoin genre is in the lead, followed by Shooter. Interestingly, in Japan, users prefer the Role-Playing genre."
   ]
  },
  {
   "cell_type": "code",
   "execution_count": 31,
   "metadata": {},
   "outputs": [
    {
     "data": {
      "image/png": "[encoded data removed]",
      "text/plain": [
       "<Figure size 432x288 with 1 Axes>"
      ]
     },
     "metadata": {
      "needs_background": "light"
     },
     "output_type": "display_data"
    }
   ],
   "source": [
    "# Let's see with the help of a graph whether the ESRB rating affects sales in a particular region\n",
    "data_new.pivot_table(index='rating', values='na_sales', aggfunc=sum).plot(kind='bar')\n",
    "plt.title('Impact of the ESRB rating on sales in North America');"
   ]
  },
  {
   "cell_type": "code",
   "execution_count": 32,
   "metadata": {},
   "outputs": [
    {
     "data": {
      "image/png": "[encoded data removed]",
      "text/plain": [
       "<Figure size 432x288 with 1 Axes>"
      ]
     },
     "metadata": {
      "needs_background": "light"
     },
     "output_type": "display_data"
    }
   ],
   "source": [
    "data_new.pivot_table(index='rating', values='eu_sales', aggfunc=sum).plot(kind='bar')\n",
    "plt.title('The impact of the ESRB rating on sales in Europe');"
   ]
  },
  {
   "cell_type": "code",
   "execution_count": 33,
   "metadata": {},
   "outputs": [
    {
     "data": {
      "image/png": "[encoded data removed]",
      "text/plain": [
       "<Figure size 432x288 with 1 Axes>"
      ]
     },
     "metadata": {
      "needs_background": "light"
     },
     "output_type": "display_data"
    }
   ],
   "source": [
    "data_new.pivot_table(index='rating', values='jp_sales', aggfunc=sum).plot(kind='bar')\n",
    "plt.title('Impact of the ESRB rating on sales in Japan');"
   ]
  },
  {
   "cell_type": "markdown",
   "metadata": {},
   "source": [
    "The graphs show that the highest sales in North America and Europe are for games with an \"M\" rating, from 17 years old. In Japan, unfortunately, most of the games are not rated; and games with a rating of \"T\" are in the lead, i.e. \"teen\", teenagers from 13 years old."
   ]
  },
  {
   "cell_type": "markdown",
   "metadata": {},
   "source": [
    "## Testing hypotheses\n",
    "Let's test 2 hypotheses:\n",
    "1. The average user ratings of the Xbox One and PC platforms are the same\n",
    "2. The average user ratings of the genres Action and Sports are different."
   ]
  },
  {
   "cell_type": "code",
   "execution_count": 34,
   "metadata": {},
   "outputs": [
    {
     "data": {
      "text/html": [
       "<div>\n",
       "<style scoped>\n",
       "    .dataframe tbody tr th:only-of-type {\n",
       "        vertical-align: middle;\n",
       "    }\n",
       "\n",
       "    .dataframe tbody tr th {\n",
       "        vertical-align: top;\n",
       "    }\n",
       "\n",
       "    .dataframe thead th {\n",
       "        text-align: right;\n",
       "    }\n",
       "</style>\n",
       "<table border=\"1\" class=\"dataframe\">\n",
       "  <thead>\n",
       "    <tr style=\"text-align: right;\">\n",
       "      <th></th>\n",
       "      <th>user_score</th>\n",
       "    </tr>\n",
       "    <tr>\n",
       "      <th>platform</th>\n",
       "      <th></th>\n",
       "    </tr>\n",
       "  </thead>\n",
       "  <tbody>\n",
       "    <tr>\n",
       "      <th>PC</th>\n",
       "      <td>6.30</td>\n",
       "    </tr>\n",
       "    <tr>\n",
       "      <th>XOne</th>\n",
       "      <td>6.59</td>\n",
       "    </tr>\n",
       "  </tbody>\n",
       "</table>\n",
       "</div>"
      ],
      "text/plain": [
       "          user_score\n",
       "platform            \n",
       "PC              6.30\n",
       "XOne            6.59"
      ]
     },
     "execution_count": 34,
     "metadata": {},
     "output_type": "execute_result"
    }
   ],
   "source": [
    "# Remove all gaps in columns before testing hypotheses\n",
    "data_new = data_new.dropna(subset=['user_score'])\n",
    "data_new.query('platform in [\"PC\", \"XOne\"]').pivot_table(index='platform', values='user_score', aggfunc='mean').round(2)"
   ]
  },
  {
   "cell_type": "markdown",
   "metadata": {},
   "source": [
    "1: Hypothesis test of equality of the average user rating of the Xbox One and PC platforms.\n",
    "\n",
    "Null hypothesis H₀: the average user rating of the Xbox One platform is equal to PC.\n",
    "\n",
    "Alternative Hypothesis H₁: The average user rating of the Xbox One and PC platform is different."
   ]
  },
  {
   "cell_type": "code",
   "execution_count": 35,
   "metadata": {},
   "outputs": [
    {
     "name": "stdout",
     "output_type": "stream",
     "text": [
      "p-value:  0.10450507919348415\n",
      "Failed to reject the null hypothesis\n"
     ]
    }
   ],
   "source": [
    "user_score_xbox = data_new[data_new['platform'] == 'XOne']['user_score']\n",
    "user_score_pc = data_new[data_new['platform'] == 'PC']['user_score']\n",
    "\n",
    "alpha = 0.01 # critical level of statistical significance\n",
    "# if p-value is less than it, we reject the hypothesis\n",
    "\n",
    "results = st.ttest_ind(user_score_xbox, user_score_pc)\n",
    "\n",
    "print('p-value: ', results.pvalue)\n",
    "\n",
    "if results.pvalue < alpha:\n",
    "    print(\"Rejecting the null hypothesis\")\n",
    "else:\n",
    "    print(\"Failed to reject the null hypothesis\")"
   ]
  },
  {
   "cell_type": "markdown",
   "metadata": {},
   "source": [
    "It will not be possible to reject the null hypothesis. The calculated value also shows that the user ratings for PC and XOne are the same - 6 points."
   ]
  },
  {
   "cell_type": "code",
   "execution_count": 36,
   "metadata": {},
   "outputs": [
    {
     "data": {
      "text/html": [
       "<div>\n",
       "<style scoped>\n",
       "    .dataframe tbody tr th:only-of-type {\n",
       "        vertical-align: middle;\n",
       "    }\n",
       "\n",
       "    .dataframe tbody tr th {\n",
       "        vertical-align: top;\n",
       "    }\n",
       "\n",
       "    .dataframe thead th {\n",
       "        text-align: right;\n",
       "    }\n",
       "</style>\n",
       "<table border=\"1\" class=\"dataframe\">\n",
       "  <thead>\n",
       "    <tr style=\"text-align: right;\">\n",
       "      <th></th>\n",
       "      <th>user_score</th>\n",
       "    </tr>\n",
       "    <tr>\n",
       "      <th>genre</th>\n",
       "      <th></th>\n",
       "    </tr>\n",
       "  </thead>\n",
       "  <tbody>\n",
       "    <tr>\n",
       "      <th>Action</th>\n",
       "      <td>6.76</td>\n",
       "    </tr>\n",
       "    <tr>\n",
       "      <th>Sports</th>\n",
       "      <td>5.23</td>\n",
       "    </tr>\n",
       "  </tbody>\n",
       "</table>\n",
       "</div>"
      ],
      "text/plain": [
       "        user_score\n",
       "genre             \n",
       "Action        6.76\n",
       "Sports        5.23"
      ]
     },
     "execution_count": 36,
     "metadata": {},
     "output_type": "execute_result"
    }
   ],
   "source": [
    "data_new.query('genre in [\"Action\", \"Sports\"]').pivot_table(index='genre', values='user_score', aggfunc='mean').round(2)"
   ]
  },
  {
   "cell_type": "markdown",
   "metadata": {},
   "source": [
    "2: Testing the hypothesis about the difference between the average user ratings of Action and Sports genres.\n",
    "\n",
    "Null hypothesis H₀: the average user ratings of the Action and Sports genres are equal.\n",
    "\n",
    "Alternative H₁ Hypothesis: Average User Ratings for Action and Sports Are Different."
   ]
  },
  {
   "cell_type": "code",
   "execution_count": 37,
   "metadata": {},
   "outputs": [
    {
     "name": "stdout",
     "output_type": "stream",
     "text": [
      "p-value:  2.8711147985105864e-19\n",
      "Rejecting the null hypothesis\n"
     ]
    }
   ],
   "source": [
    "user_score_action = data_new[data_new['genre'] == 'Action']['user_score']\n",
    "user_score_sports = data_new[data_new['genre'] == 'Sports']['user_score']\n",
    "\n",
    "alpha = 0.01 # critical level of statistical significance\n",
    "# if p-value is less than it, we reject the hypothesis\n",
    "\n",
    "results = st.ttest_ind(user_score_action, user_score_sports)\n",
    "\n",
    "print('p-value: ', results.pvalue)\n",
    "\n",
    "if results.pvalue < alpha:\n",
    "    print(\"Rejecting the null hypothesis\")\n",
    "else:\n",
    "    print(\"Failed to reject the null hypothesis\")"
   ]
  },
  {
   "cell_type": "markdown",
   "metadata": {},
   "source": [
    "The null hypothesis of equality must be rejected, a p-value of almost 0 indicates that, with a probability of 99%, the average user ratings of the sports genre and the action game are different; according to the calculated value, rating Action - 7, Sports - 5."
   ]
  },
  {
   "cell_type": "markdown",
   "metadata": {},
   "source": [
    "## General conclusion"
   ]
  },
  {
   "cell_type": "markdown",
   "metadata": {},
   "source": [
    "As a result of the analysis of data on sales of computer games on various platforms, first of all, the \"lifetime\" of one platform model was determined to perform further calculations only for the current period (because the original dataset contains data from the 80s) - about 8 years.\n",
    "\n",
    "The most popular consoles over the past 3 years are PS4, XOne, 3DS.\n",
    "\n",
    "The most popular genres by a wide margin are Shooter and Sports, they are in the lead in almost all countries except Japan, where users prefer Role-Playing.\n",
    "\n",
    "In addition, when planning an advertising campaign, it is worth considering that users use different platforms in different regions: Play Station 4 in North America and Europe, 3DS in Japan.\n",
    "\n",
    "Various ratings also affect sales: user and critic ratings, as well as the ESRB rating (the highest sales for \"M\" are from 17 years old)."
   ]
  }
 ],
 "metadata": {
  "ExecuteTimeLog": [
   {
    "duration": 784,
    "start_time": "2022-01-08T09:06:58.967Z"
   },
   {
    "duration": 76,
    "start_time": "2022-01-08T09:07:20.475Z"
   },
   {
    "duration": 380,
    "start_time": "2022-01-08T09:31:27.109Z"
   },
   {
    "duration": 5,
    "start_time": "2022-01-08T09:31:43.165Z"
   },
   {
    "duration": 7,
    "start_time": "2022-01-08T09:32:53.992Z"
   },
   {
    "duration": 10,
    "start_time": "2022-01-08T09:41:11.832Z"
   },
   {
    "duration": 11,
    "start_time": "2022-01-08T09:41:42.032Z"
   },
   {
    "duration": 506,
    "start_time": "2022-01-08T09:42:20.651Z"
   },
   {
    "duration": 5,
    "start_time": "2022-01-08T09:43:59.244Z"
   },
   {
    "duration": 10,
    "start_time": "2022-01-08T09:44:13.315Z"
   },
   {
    "duration": 811,
    "start_time": "2022-01-08T09:44:26.705Z"
   },
   {
    "duration": 6,
    "start_time": "2022-01-08T09:44:27.519Z"
   },
   {
    "duration": 3327,
    "start_time": "2022-01-08T09:44:27.527Z"
   },
   {
    "duration": 16,
    "start_time": "2022-01-08T09:44:55.272Z"
   },
   {
    "duration": 285,
    "start_time": "2022-01-08T09:46:15.912Z"
   },
   {
    "duration": 11,
    "start_time": "2022-01-08T09:47:04.004Z"
   },
   {
    "duration": 13,
    "start_time": "2022-01-08T09:51:24.547Z"
   },
   {
    "duration": 424,
    "start_time": "2022-01-08T09:54:23.287Z"
   },
   {
    "duration": 294,
    "start_time": "2022-01-08T09:54:41.892Z"
   },
   {
    "duration": 12,
    "start_time": "2022-01-08T09:55:09.219Z"
   },
   {
    "duration": 22,
    "start_time": "2022-01-08T09:55:38.328Z"
   },
   {
    "duration": 17,
    "start_time": "2022-01-08T09:56:06.079Z"
   },
   {
    "duration": 13,
    "start_time": "2022-01-08T09:56:17.936Z"
   },
   {
    "duration": 15,
    "start_time": "2022-01-08T09:56:34.963Z"
   },
   {
    "duration": 15,
    "start_time": "2022-01-08T09:56:45.108Z"
   },
   {
    "duration": 11,
    "start_time": "2022-01-08T10:01:50.783Z"
   },
   {
    "duration": 10,
    "start_time": "2022-01-08T10:02:49.327Z"
   },
   {
    "duration": 6,
    "start_time": "2022-01-08T10:02:55.971Z"
   },
   {
    "duration": 12,
    "start_time": "2022-01-08T10:05:47.571Z"
   },
   {
    "duration": 23,
    "start_time": "2022-01-08T10:27:30.832Z"
   },
   {
    "duration": 13,
    "start_time": "2022-01-08T10:27:40.581Z"
   },
   {
    "duration": 10,
    "start_time": "2022-01-08T10:34:58.028Z"
   },
   {
    "duration": 14,
    "start_time": "2022-01-08T10:35:13.056Z"
   },
   {
    "duration": 6,
    "start_time": "2022-01-08T10:36:52.752Z"
   },
   {
    "duration": 355,
    "start_time": "2022-01-08T18:10:02.626Z"
   },
   {
    "duration": 849,
    "start_time": "2022-01-08T18:10:12.816Z"
   },
   {
    "duration": 7,
    "start_time": "2022-01-08T18:10:13.669Z"
   },
   {
    "duration": 10,
    "start_time": "2022-01-08T18:10:13.680Z"
   },
   {
    "duration": 43,
    "start_time": "2022-01-08T18:10:13.693Z"
   },
   {
    "duration": 13,
    "start_time": "2022-01-08T18:10:13.739Z"
   },
   {
    "duration": 6,
    "start_time": "2022-01-08T18:10:13.754Z"
   },
   {
    "duration": 15,
    "start_time": "2022-01-08T18:10:13.763Z"
   },
   {
    "duration": 7,
    "start_time": "2022-01-08T18:10:35.080Z"
   },
   {
    "duration": 31,
    "start_time": "2022-01-08T18:16:07.785Z"
   },
   {
    "duration": 6,
    "start_time": "2022-01-08T18:16:25.449Z"
   },
   {
    "duration": 20,
    "start_time": "2022-01-08T18:24:57.616Z"
   },
   {
    "duration": 904,
    "start_time": "2022-01-08T18:28:04.020Z"
   },
   {
    "duration": 7,
    "start_time": "2022-01-08T18:28:04.927Z"
   },
   {
    "duration": 13,
    "start_time": "2022-01-08T18:28:04.937Z"
   },
   {
    "duration": 13,
    "start_time": "2022-01-08T18:28:04.953Z"
   },
   {
    "duration": 16,
    "start_time": "2022-01-08T18:28:04.968Z"
   },
   {
    "duration": 8,
    "start_time": "2022-01-08T18:28:05.025Z"
   },
   {
    "duration": 22,
    "start_time": "2022-01-08T18:28:05.037Z"
   },
   {
    "duration": 14,
    "start_time": "2022-01-08T18:28:05.064Z"
   },
   {
    "duration": 154,
    "start_time": "2022-01-08T18:28:05.081Z"
   },
   {
    "duration": 5,
    "start_time": "2022-01-08T18:35:10.880Z"
   },
   {
    "duration": 13,
    "start_time": "2022-01-08T18:35:32.216Z"
   },
   {
    "duration": 68,
    "start_time": "2022-01-08T18:35:49.040Z"
   },
   {
    "duration": 7,
    "start_time": "2022-01-08T18:38:15.920Z"
   },
   {
    "duration": 1001,
    "start_time": "2022-01-08T18:38:25.280Z"
   },
   {
    "duration": 7,
    "start_time": "2022-01-08T18:38:26.283Z"
   },
   {
    "duration": 30,
    "start_time": "2022-01-08T18:38:26.293Z"
   },
   {
    "duration": 12,
    "start_time": "2022-01-08T18:38:26.326Z"
   },
   {
    "duration": 13,
    "start_time": "2022-01-08T18:38:26.341Z"
   },
   {
    "duration": 6,
    "start_time": "2022-01-08T18:38:26.356Z"
   },
   {
    "duration": 12,
    "start_time": "2022-01-08T18:38:26.364Z"
   },
   {
    "duration": 44,
    "start_time": "2022-01-08T18:38:26.379Z"
   },
   {
    "duration": 76,
    "start_time": "2022-01-08T18:38:26.426Z"
   },
   {
    "duration": 17,
    "start_time": "2022-01-08T18:39:03.491Z"
   },
   {
    "duration": 7,
    "start_time": "2022-01-08T18:39:33.576Z"
   },
   {
    "duration": 933,
    "start_time": "2022-01-08T18:39:40.645Z"
   },
   {
    "duration": 6,
    "start_time": "2022-01-08T18:39:41.581Z"
   },
   {
    "duration": 31,
    "start_time": "2022-01-08T18:39:41.592Z"
   },
   {
    "duration": 14,
    "start_time": "2022-01-08T18:39:41.627Z"
   },
   {
    "duration": 13,
    "start_time": "2022-01-08T18:39:41.644Z"
   },
   {
    "duration": 5,
    "start_time": "2022-01-08T18:39:41.660Z"
   },
   {
    "duration": 13,
    "start_time": "2022-01-08T18:39:41.668Z"
   },
   {
    "duration": 43,
    "start_time": "2022-01-08T18:39:41.685Z"
   },
   {
    "duration": 94,
    "start_time": "2022-01-08T18:39:41.731Z"
   },
   {
    "duration": 77,
    "start_time": "2022-01-08T18:40:28.081Z"
   },
   {
    "duration": 21,
    "start_time": "2022-01-08T18:40:36.481Z"
   },
   {
    "duration": 8,
    "start_time": "2022-01-08T18:42:08.929Z"
   },
   {
    "duration": 21,
    "start_time": "2022-01-08T18:42:14.481Z"
   },
   {
    "duration": 19,
    "start_time": "2022-01-08T18:42:16.829Z"
   },
   {
    "duration": 7,
    "start_time": "2022-01-08T18:43:45.484Z"
   },
   {
    "duration": 842,
    "start_time": "2022-01-08T18:43:53.065Z"
   },
   {
    "duration": 6,
    "start_time": "2022-01-08T18:43:53.910Z"
   },
   {
    "duration": 13,
    "start_time": "2022-01-08T18:43:53.919Z"
   },
   {
    "duration": 12,
    "start_time": "2022-01-08T18:43:53.935Z"
   },
   {
    "duration": 12,
    "start_time": "2022-01-08T18:43:53.949Z"
   },
   {
    "duration": 5,
    "start_time": "2022-01-08T18:43:53.964Z"
   },
   {
    "duration": 51,
    "start_time": "2022-01-08T18:43:53.972Z"
   },
   {
    "duration": 13,
    "start_time": "2022-01-08T18:43:54.027Z"
   },
   {
    "duration": 21,
    "start_time": "2022-01-08T18:43:54.043Z"
   },
   {
    "duration": 13,
    "start_time": "2022-01-08T18:45:26.435Z"
   },
   {
    "duration": 72,
    "start_time": "2022-01-08T18:46:02.648Z"
   },
   {
    "duration": 382,
    "start_time": "2022-01-08T18:46:29.144Z"
   },
   {
    "duration": 55,
    "start_time": "2022-01-08T18:47:26.335Z"
   },
   {
    "duration": 20,
    "start_time": "2022-01-08T18:47:49.698Z"
   },
   {
    "duration": 73,
    "start_time": "2022-01-08T18:47:59.703Z"
   },
   {
    "duration": 512,
    "start_time": "2022-01-08T18:49:04.815Z"
   },
   {
    "duration": 19,
    "start_time": "2022-01-08T18:49:36.127Z"
   },
   {
    "duration": 576,
    "start_time": "2022-01-08T18:51:03.063Z"
   },
   {
    "duration": 142,
    "start_time": "2022-01-08T18:52:02.299Z"
   },
   {
    "duration": 21,
    "start_time": "2022-01-08T18:52:13.354Z"
   },
   {
    "duration": 525,
    "start_time": "2022-01-08T18:52:24.667Z"
   },
   {
    "duration": 21,
    "start_time": "2022-01-08T18:56:44.986Z"
   },
   {
    "duration": 20,
    "start_time": "2022-01-08T18:57:05.114Z"
   },
   {
    "duration": 20,
    "start_time": "2022-01-08T18:57:24.882Z"
   },
   {
    "duration": 357,
    "start_time": "2022-01-08T18:57:36.354Z"
   },
   {
    "duration": 397,
    "start_time": "2022-01-08T19:23:50.376Z"
   },
   {
    "duration": 501,
    "start_time": "2022-01-08T19:24:13.596Z"
   },
   {
    "duration": 336,
    "start_time": "2022-01-08T20:09:29.837Z"
   },
   {
    "duration": 286,
    "start_time": "2022-01-08T20:12:19.108Z"
   },
   {
    "duration": 298,
    "start_time": "2022-01-08T20:12:25.320Z"
   },
   {
    "duration": 244,
    "start_time": "2022-01-08T20:12:37.660Z"
   },
   {
    "duration": 723,
    "start_time": "2022-01-08T20:25:59.783Z"
   },
   {
    "duration": 747,
    "start_time": "2022-01-08T20:26:30.587Z"
   },
   {
    "duration": 691,
    "start_time": "2022-01-08T20:33:14.047Z"
   },
   {
    "duration": 15,
    "start_time": "2022-01-08T20:40:47.334Z"
   },
   {
    "duration": 118,
    "start_time": "2022-01-08T20:43:42.654Z"
   },
   {
    "duration": 95,
    "start_time": "2022-01-08T20:44:40.075Z"
   },
   {
    "duration": 20,
    "start_time": "2022-01-08T20:44:59.189Z"
   },
   {
    "duration": 23,
    "start_time": "2022-01-08T20:45:19.741Z"
   },
   {
    "duration": 261,
    "start_time": "2022-01-08T20:47:47.209Z"
   },
   {
    "duration": 241,
    "start_time": "2022-01-08T20:49:45.125Z"
   },
   {
    "duration": 23,
    "start_time": "2022-01-08T20:51:12.205Z"
   },
   {
    "duration": 510,
    "start_time": "2022-01-08T20:59:19.857Z"
   },
   {
    "duration": 464,
    "start_time": "2022-01-11T06:16:40.685Z"
   },
   {
    "duration": 1134,
    "start_time": "2022-01-11T06:16:48.555Z"
   },
   {
    "duration": 6,
    "start_time": "2022-01-11T06:16:49.691Z"
   },
   {
    "duration": 23,
    "start_time": "2022-01-11T06:16:49.700Z"
   },
   {
    "duration": 10,
    "start_time": "2022-01-11T06:16:49.726Z"
   },
   {
    "duration": 12,
    "start_time": "2022-01-11T06:16:49.739Z"
   },
   {
    "duration": 6,
    "start_time": "2022-01-11T06:16:49.753Z"
   },
   {
    "duration": 11,
    "start_time": "2022-01-11T06:16:49.761Z"
   },
   {
    "duration": 14,
    "start_time": "2022-01-11T06:16:49.776Z"
   },
   {
    "duration": 566,
    "start_time": "2022-01-11T06:16:49.792Z"
   },
   {
    "duration": 297,
    "start_time": "2022-01-11T06:16:50.360Z"
   },
   {
    "duration": 514,
    "start_time": "2022-01-11T06:16:50.659Z"
   },
   {
    "duration": 24,
    "start_time": "2022-01-11T06:16:51.176Z"
   },
   {
    "duration": 612,
    "start_time": "2022-01-11T06:16:51.222Z"
   },
   {
    "duration": 8,
    "start_time": "2022-01-11T06:30:38.873Z"
   },
   {
    "duration": 587,
    "start_time": "2022-01-11T06:33:57.804Z"
   },
   {
    "duration": 550,
    "start_time": "2022-01-11T06:34:56.013Z"
   },
   {
    "duration": 321,
    "start_time": "2022-01-11T07:47:29.383Z"
   },
   {
    "duration": 392,
    "start_time": "2022-01-11T07:50:15.890Z"
   },
   {
    "duration": 399,
    "start_time": "2022-01-11T07:50:46.946Z"
   },
   {
    "duration": 433,
    "start_time": "2022-01-11T07:51:21.194Z"
   },
   {
    "duration": 397,
    "start_time": "2022-01-11T07:52:08.111Z"
   },
   {
    "duration": 1091,
    "start_time": "2022-01-11T08:31:59.084Z"
   },
   {
    "duration": 15,
    "start_time": "2022-01-11T08:35:26.533Z"
   },
   {
    "duration": 103,
    "start_time": "2022-01-11T08:43:00.975Z"
   },
   {
    "duration": 7,
    "start_time": "2022-01-11T08:43:10.326Z"
   },
   {
    "duration": 368,
    "start_time": "2022-01-11T08:46:28.066Z"
   },
   {
    "duration": 309,
    "start_time": "2022-01-11T08:47:31.678Z"
   },
   {
    "duration": 942,
    "start_time": "2022-01-11T08:49:02.747Z"
   },
   {
    "duration": 6,
    "start_time": "2022-01-11T08:49:03.691Z"
   },
   {
    "duration": 23,
    "start_time": "2022-01-11T08:49:03.700Z"
   },
   {
    "duration": 11,
    "start_time": "2022-01-11T08:49:03.726Z"
   },
   {
    "duration": 11,
    "start_time": "2022-01-11T08:49:03.739Z"
   },
   {
    "duration": 5,
    "start_time": "2022-01-11T08:49:03.753Z"
   },
   {
    "duration": 15,
    "start_time": "2022-01-11T08:49:03.761Z"
   },
   {
    "duration": 13,
    "start_time": "2022-01-11T08:49:03.779Z"
   },
   {
    "duration": 547,
    "start_time": "2022-01-11T08:49:03.823Z"
   },
   {
    "duration": 459,
    "start_time": "2022-01-11T08:49:04.373Z"
   },
   {
    "duration": 624,
    "start_time": "2022-01-11T08:49:04.836Z"
   },
   {
    "duration": 24,
    "start_time": "2022-01-11T08:49:05.464Z"
   },
   {
    "duration": 571,
    "start_time": "2022-01-11T08:49:05.491Z"
   },
   {
    "duration": 9,
    "start_time": "2022-01-11T08:49:06.064Z"
   },
   {
    "duration": 543,
    "start_time": "2022-01-11T08:49:06.075Z"
   },
   {
    "duration": 13,
    "start_time": "2022-01-11T08:49:06.624Z"
   },
   {
    "duration": 366,
    "start_time": "2022-01-11T08:49:06.639Z"
   },
   {
    "duration": 10,
    "start_time": "2022-01-11T08:49:34.263Z"
   },
   {
    "duration": 8,
    "start_time": "2022-01-11T08:49:43.696Z"
   },
   {
    "duration": 143,
    "start_time": "2022-01-11T08:50:01.807Z"
   },
   {
    "duration": 317,
    "start_time": "2022-01-11T08:50:08.523Z"
   },
   {
    "duration": 319,
    "start_time": "2022-01-11T08:52:02.231Z"
   },
   {
    "duration": 355,
    "start_time": "2022-01-11T08:52:27.271Z"
   },
   {
    "duration": 302,
    "start_time": "2022-01-11T08:52:42.923Z"
   },
   {
    "duration": 461,
    "start_time": "2022-01-11T11:15:29.568Z"
   },
   {
    "duration": 289,
    "start_time": "2022-01-11T11:16:12.748Z"
   },
   {
    "duration": 894,
    "start_time": "2022-01-11T11:16:34.977Z"
   },
   {
    "duration": 6,
    "start_time": "2022-01-11T11:16:35.874Z"
   },
   {
    "duration": 39,
    "start_time": "2022-01-11T11:16:35.884Z"
   },
   {
    "duration": 14,
    "start_time": "2022-01-11T11:16:35.926Z"
   },
   {
    "duration": 15,
    "start_time": "2022-01-11T11:16:35.942Z"
   },
   {
    "duration": 7,
    "start_time": "2022-01-11T11:16:35.959Z"
   },
   {
    "duration": 14,
    "start_time": "2022-01-11T11:16:35.969Z"
   },
   {
    "duration": 44,
    "start_time": "2022-01-11T11:16:35.987Z"
   },
   {
    "duration": 573,
    "start_time": "2022-01-11T11:16:36.034Z"
   },
   {
    "duration": 300,
    "start_time": "2022-01-11T11:16:36.610Z"
   },
   {
    "duration": 525,
    "start_time": "2022-01-11T11:16:36.913Z"
   },
   {
    "duration": 24,
    "start_time": "2022-01-11T11:16:37.440Z"
   },
   {
    "duration": 557,
    "start_time": "2022-01-11T11:16:37.466Z"
   },
   {
    "duration": 7,
    "start_time": "2022-01-11T11:16:38.025Z"
   },
   {
    "duration": 432,
    "start_time": "2022-01-11T11:16:38.035Z"
   },
   {
    "duration": 13,
    "start_time": "2022-01-11T11:16:38.470Z"
   },
   {
    "duration": 500,
    "start_time": "2022-01-11T11:16:38.486Z"
   },
   {
    "duration": 516,
    "start_time": "2022-01-11T11:17:28.593Z"
   },
   {
    "duration": 478,
    "start_time": "2022-01-11T11:18:10.683Z"
   },
   {
    "duration": 14830,
    "start_time": "2022-01-11T11:19:08.480Z"
   },
   {
    "duration": 1068,
    "start_time": "2022-01-11T11:19:40.812Z"
   },
   {
    "duration": 7,
    "start_time": "2022-01-11T11:19:41.882Z"
   },
   {
    "duration": 10,
    "start_time": "2022-01-11T11:19:41.891Z"
   },
   {
    "duration": 14,
    "start_time": "2022-01-11T11:19:41.925Z"
   },
   {
    "duration": 14,
    "start_time": "2022-01-11T11:19:41.941Z"
   },
   {
    "duration": 7,
    "start_time": "2022-01-11T11:19:41.957Z"
   },
   {
    "duration": 57,
    "start_time": "2022-01-11T11:19:41.967Z"
   },
   {
    "duration": 11,
    "start_time": "2022-01-11T11:19:42.029Z"
   },
   {
    "duration": 848,
    "start_time": "2022-01-11T11:19:42.043Z"
   },
   {
    "duration": 346,
    "start_time": "2022-01-11T11:19:42.893Z"
   },
   {
    "duration": 567,
    "start_time": "2022-01-11T11:19:43.242Z"
   },
   {
    "duration": 35,
    "start_time": "2022-01-11T11:19:43.812Z"
   },
   {
    "duration": 561,
    "start_time": "2022-01-11T11:19:43.850Z"
   },
   {
    "duration": 16,
    "start_time": "2022-01-11T11:19:44.413Z"
   },
   {
    "duration": 433,
    "start_time": "2022-01-11T11:19:44.431Z"
   },
   {
    "duration": 13,
    "start_time": "2022-01-11T11:19:44.867Z"
   },
   {
    "duration": 8365,
    "start_time": "2022-01-11T11:19:44.883Z"
   },
   {
    "duration": 393,
    "start_time": "2022-01-11T11:27:57.943Z"
   },
   {
    "duration": 296,
    "start_time": "2022-01-11T11:43:46.359Z"
   },
   {
    "duration": 455,
    "start_time": "2022-01-11T11:44:07.018Z"
   },
   {
    "duration": 537,
    "start_time": "2022-01-11T11:44:43.003Z"
   },
   {
    "duration": 15,
    "start_time": "2022-01-11T12:10:36.786Z"
   },
   {
    "duration": 517,
    "start_time": "2022-01-11T12:11:09.072Z"
   },
   {
    "duration": 215,
    "start_time": "2022-01-11T18:40:54.311Z"
   },
   {
    "duration": 666,
    "start_time": "2022-01-11T18:42:04.516Z"
   },
   {
    "duration": 4,
    "start_time": "2022-01-11T18:42:05.184Z"
   },
   {
    "duration": 8,
    "start_time": "2022-01-11T18:42:05.189Z"
   },
   {
    "duration": 8,
    "start_time": "2022-01-11T18:42:05.199Z"
   },
   {
    "duration": 8,
    "start_time": "2022-01-11T18:42:05.209Z"
   },
   {
    "duration": 4,
    "start_time": "2022-01-11T18:42:05.219Z"
   },
   {
    "duration": 11,
    "start_time": "2022-01-11T18:42:05.224Z"
   },
   {
    "duration": 5,
    "start_time": "2022-01-11T18:42:05.237Z"
   },
   {
    "duration": 352,
    "start_time": "2022-01-11T18:42:05.244Z"
   },
   {
    "duration": 200,
    "start_time": "2022-01-11T18:42:05.598Z"
   },
   {
    "duration": 333,
    "start_time": "2022-01-11T18:42:05.800Z"
   },
   {
    "duration": 15,
    "start_time": "2022-01-11T18:42:06.134Z"
   },
   {
    "duration": 368,
    "start_time": "2022-01-11T18:42:06.151Z"
   },
   {
    "duration": 6,
    "start_time": "2022-01-11T18:42:06.521Z"
   },
   {
    "duration": 266,
    "start_time": "2022-01-11T18:42:06.528Z"
   },
   {
    "duration": 10,
    "start_time": "2022-01-11T18:42:06.796Z"
   },
   {
    "duration": 342,
    "start_time": "2022-01-11T18:42:06.808Z"
   },
   {
    "duration": 9,
    "start_time": "2022-01-11T18:42:07.152Z"
   },
   {
    "duration": 374,
    "start_time": "2022-01-11T18:42:07.163Z"
   },
   {
    "duration": 632,
    "start_time": "2022-01-11T18:42:07.539Z"
   },
   {
    "duration": 659,
    "start_time": "2022-01-11T18:42:58.200Z"
   },
   {
    "duration": 12,
    "start_time": "2022-01-11T18:43:07.992Z"
   },
   {
    "duration": 9,
    "start_time": "2022-01-11T18:43:31.819Z"
   },
   {
    "duration": 10,
    "start_time": "2022-01-11T18:43:42.271Z"
   },
   {
    "duration": 9,
    "start_time": "2022-01-11T18:43:44.597Z"
   },
   {
    "duration": 737,
    "start_time": "2022-01-11T19:01:11.168Z"
   },
   {
    "duration": 4,
    "start_time": "2022-01-11T19:01:11.907Z"
   },
   {
    "duration": 14,
    "start_time": "2022-01-11T19:01:11.913Z"
   },
   {
    "duration": 46,
    "start_time": "2022-01-11T19:01:11.929Z"
   },
   {
    "duration": 41,
    "start_time": "2022-01-11T19:01:11.977Z"
   },
   {
    "duration": 32,
    "start_time": "2022-01-11T19:01:12.020Z"
   },
   {
    "duration": 33,
    "start_time": "2022-01-11T19:01:12.054Z"
   },
   {
    "duration": 29,
    "start_time": "2022-01-11T19:01:12.088Z"
   },
   {
    "duration": 467,
    "start_time": "2022-01-11T19:01:12.120Z"
   },
   {
    "duration": 200,
    "start_time": "2022-01-11T19:01:12.591Z"
   },
   {
    "duration": 348,
    "start_time": "2022-01-11T19:01:12.793Z"
   },
   {
    "duration": 16,
    "start_time": "2022-01-11T19:01:13.142Z"
   },
   {
    "duration": 393,
    "start_time": "2022-01-11T19:01:13.160Z"
   },
   {
    "duration": 6,
    "start_time": "2022-01-11T19:01:13.555Z"
   },
   {
    "duration": 309,
    "start_time": "2022-01-11T19:01:13.562Z"
   },
   {
    "duration": 19,
    "start_time": "2022-01-11T19:01:13.874Z"
   },
   {
    "duration": 347,
    "start_time": "2022-01-11T19:01:13.895Z"
   },
   {
    "duration": 9,
    "start_time": "2022-01-11T19:01:14.244Z"
   },
   {
    "duration": 378,
    "start_time": "2022-01-11T19:01:14.254Z"
   },
   {
    "duration": 627,
    "start_time": "2022-01-11T19:01:14.634Z"
   },
   {
    "duration": 9,
    "start_time": "2022-01-11T19:01:15.263Z"
   },
   {
    "duration": 28,
    "start_time": "2022-01-11T19:01:15.274Z"
   },
   {
    "duration": 63128,
    "start_time": "2022-01-11T19:01:15.304Z"
   },
   {
    "duration": 7,
    "start_time": "2022-01-11T19:03:27.295Z"
   },
   {
    "duration": 64539,
    "start_time": "2022-01-11T19:08:16.003Z"
   },
   {
    "duration": 56,
    "start_time": "2022-01-11T19:11:22.842Z"
   },
   {
    "duration": 4414,
    "start_time": "2022-01-11T19:11:28.946Z"
   },
   {
    "duration": 4675,
    "start_time": "2022-01-11T19:12:32.635Z"
   },
   {
    "duration": 679,
    "start_time": "2022-01-11T19:14:01.758Z"
   },
   {
    "duration": 4,
    "start_time": "2022-01-11T19:14:02.439Z"
   },
   {
    "duration": 42,
    "start_time": "2022-01-11T19:14:02.445Z"
   },
   {
    "duration": 31,
    "start_time": "2022-01-11T19:14:02.489Z"
   },
   {
    "duration": 31,
    "start_time": "2022-01-11T19:14:02.522Z"
   },
   {
    "duration": 39,
    "start_time": "2022-01-11T19:14:02.555Z"
   },
   {
    "duration": 41,
    "start_time": "2022-01-11T19:14:02.596Z"
   },
   {
    "duration": 39,
    "start_time": "2022-01-11T19:14:02.639Z"
   },
   {
    "duration": 359,
    "start_time": "2022-01-11T19:14:02.680Z"
   },
   {
    "duration": 208,
    "start_time": "2022-01-11T19:14:03.041Z"
   },
   {
    "duration": 339,
    "start_time": "2022-01-11T19:14:03.250Z"
   },
   {
    "duration": 16,
    "start_time": "2022-01-11T19:14:03.591Z"
   },
   {
    "duration": 370,
    "start_time": "2022-01-11T19:14:03.608Z"
   },
   {
    "duration": 11,
    "start_time": "2022-01-11T19:14:03.980Z"
   },
   {
    "duration": 266,
    "start_time": "2022-01-11T19:14:03.993Z"
   },
   {
    "duration": 10,
    "start_time": "2022-01-11T19:14:04.260Z"
   },
   {
    "duration": 360,
    "start_time": "2022-01-11T19:14:04.271Z"
   },
   {
    "duration": 9,
    "start_time": "2022-01-11T19:14:04.633Z"
   },
   {
    "duration": 381,
    "start_time": "2022-01-11T19:14:04.644Z"
   },
   {
    "duration": 631,
    "start_time": "2022-01-11T19:14:05.027Z"
   },
   {
    "duration": 8,
    "start_time": "2022-01-11T19:14:05.659Z"
   },
   {
    "duration": 23,
    "start_time": "2022-01-11T19:14:05.669Z"
   },
   {
    "duration": 22,
    "start_time": "2022-01-11T19:14:05.695Z"
   },
   {
    "duration": 65037,
    "start_time": "2022-01-11T19:14:05.719Z"
   },
   {
    "duration": 396,
    "start_time": "2022-01-11T19:16:46.102Z"
   },
   {
    "duration": 65890,
    "start_time": "2022-01-11T19:17:00.242Z"
   },
   {
    "duration": 56,
    "start_time": "2022-01-11T19:34:49.664Z"
   },
   {
    "duration": 4828,
    "start_time": "2022-01-11T19:34:55.752Z"
   },
   {
    "duration": 5037,
    "start_time": "2022-01-11T19:35:21.100Z"
   },
   {
    "duration": 179,
    "start_time": "2022-01-11T19:40:54.211Z"
   },
   {
    "duration": 241,
    "start_time": "2022-01-11T19:41:32.287Z"
   },
   {
    "duration": 220,
    "start_time": "2022-01-11T19:46:06.010Z"
   },
   {
    "duration": 241,
    "start_time": "2022-01-11T19:46:46.494Z"
   },
   {
    "duration": 2108,
    "start_time": "2022-01-16T10:27:08.066Z"
   },
   {
    "duration": 1167,
    "start_time": "2022-01-16T10:27:09.010Z"
   },
   {
    "duration": 1164,
    "start_time": "2022-01-16T10:27:09.014Z"
   },
   {
    "duration": 1162,
    "start_time": "2022-01-16T10:27:09.017Z"
   },
   {
    "duration": 1160,
    "start_time": "2022-01-16T10:27:09.020Z"
   },
   {
    "duration": 1157,
    "start_time": "2022-01-16T10:27:09.024Z"
   },
   {
    "duration": 1155,
    "start_time": "2022-01-16T10:27:09.027Z"
   },
   {
    "duration": 1153,
    "start_time": "2022-01-16T10:27:09.030Z"
   },
   {
    "duration": 1151,
    "start_time": "2022-01-16T10:27:09.033Z"
   },
   {
    "duration": 1148,
    "start_time": "2022-01-16T10:27:09.037Z"
   },
   {
    "duration": 1146,
    "start_time": "2022-01-16T10:27:09.040Z"
   },
   {
    "duration": 1143,
    "start_time": "2022-01-16T10:27:09.043Z"
   },
   {
    "duration": 1141,
    "start_time": "2022-01-16T10:27:09.046Z"
   },
   {
    "duration": 1139,
    "start_time": "2022-01-16T10:27:09.049Z"
   },
   {
    "duration": 1137,
    "start_time": "2022-01-16T10:27:09.052Z"
   },
   {
    "duration": 1135,
    "start_time": "2022-01-16T10:27:09.055Z"
   },
   {
    "duration": 1133,
    "start_time": "2022-01-16T10:27:09.058Z"
   },
   {
    "duration": 1131,
    "start_time": "2022-01-16T10:27:09.061Z"
   },
   {
    "duration": 1120,
    "start_time": "2022-01-16T10:27:09.073Z"
   },
   {
    "duration": 1118,
    "start_time": "2022-01-16T10:27:09.076Z"
   },
   {
    "duration": 1116,
    "start_time": "2022-01-16T10:27:09.079Z"
   },
   {
    "duration": 1114,
    "start_time": "2022-01-16T10:27:09.082Z"
   },
   {
    "duration": 1112,
    "start_time": "2022-01-16T10:27:09.085Z"
   },
   {
    "duration": 1110,
    "start_time": "2022-01-16T10:27:09.088Z"
   },
   {
    "duration": 1107,
    "start_time": "2022-01-16T10:27:09.091Z"
   },
   {
    "duration": 1105,
    "start_time": "2022-01-16T10:27:09.094Z"
   },
   {
    "duration": 1103,
    "start_time": "2022-01-16T10:27:09.097Z"
   },
   {
    "duration": 1101,
    "start_time": "2022-01-16T10:27:09.100Z"
   },
   {
    "duration": 1099,
    "start_time": "2022-01-16T10:27:09.103Z"
   },
   {
    "duration": 1097,
    "start_time": "2022-01-16T10:27:09.106Z"
   },
   {
    "duration": 1095,
    "start_time": "2022-01-16T10:27:09.109Z"
   },
   {
    "duration": 1093,
    "start_time": "2022-01-16T10:27:09.112Z"
   },
   {
    "duration": 1092,
    "start_time": "2022-01-16T10:27:09.114Z"
   },
   {
    "duration": 1090,
    "start_time": "2022-01-16T10:27:09.117Z"
   },
   {
    "duration": 1088,
    "start_time": "2022-01-16T10:27:09.120Z"
   },
   {
    "duration": 1086,
    "start_time": "2022-01-16T10:27:09.123Z"
   },
   {
    "duration": 61,
    "start_time": "2022-01-16T10:27:34.982Z"
   },
   {
    "duration": 1205,
    "start_time": "2022-01-16T10:27:33.841Z"
   },
   {
    "duration": 1198,
    "start_time": "2022-01-16T10:27:33.849Z"
   },
   {
    "duration": 1196,
    "start_time": "2022-01-16T10:27:33.853Z"
   },
   {
    "duration": 1195,
    "start_time": "2022-01-16T10:27:33.855Z"
   },
   {
    "duration": 1193,
    "start_time": "2022-01-16T10:27:33.859Z"
   },
   {
    "duration": 1177,
    "start_time": "2022-01-16T10:27:33.876Z"
   },
   {
    "duration": 1176,
    "start_time": "2022-01-16T10:27:33.879Z"
   },
   {
    "duration": 1174,
    "start_time": "2022-01-16T10:27:33.882Z"
   },
   {
    "duration": 1171,
    "start_time": "2022-01-16T10:27:33.886Z"
   },
   {
    "duration": 1170,
    "start_time": "2022-01-16T10:27:33.889Z"
   },
   {
    "duration": 1167,
    "start_time": "2022-01-16T10:27:33.893Z"
   },
   {
    "duration": 1166,
    "start_time": "2022-01-16T10:27:33.896Z"
   },
   {
    "duration": 1164,
    "start_time": "2022-01-16T10:27:33.899Z"
   },
   {
    "duration": 1162,
    "start_time": "2022-01-16T10:27:33.902Z"
   },
   {
    "duration": 1160,
    "start_time": "2022-01-16T10:27:33.906Z"
   },
   {
    "duration": 1158,
    "start_time": "2022-01-16T10:27:33.909Z"
   },
   {
    "duration": 1157,
    "start_time": "2022-01-16T10:27:33.912Z"
   },
   {
    "duration": 1155,
    "start_time": "2022-01-16T10:27:33.915Z"
   },
   {
    "duration": 1154,
    "start_time": "2022-01-16T10:27:33.917Z"
   },
   {
    "duration": 1152,
    "start_time": "2022-01-16T10:27:33.920Z"
   },
   {
    "duration": 1151,
    "start_time": "2022-01-16T10:27:33.922Z"
   },
   {
    "duration": 1149,
    "start_time": "2022-01-16T10:27:33.925Z"
   },
   {
    "duration": 1147,
    "start_time": "2022-01-16T10:27:33.928Z"
   },
   {
    "duration": 1145,
    "start_time": "2022-01-16T10:27:33.931Z"
   },
   {
    "duration": 1143,
    "start_time": "2022-01-16T10:27:33.934Z"
   },
   {
    "duration": 1141,
    "start_time": "2022-01-16T10:27:33.937Z"
   },
   {
    "duration": 1139,
    "start_time": "2022-01-16T10:27:33.940Z"
   },
   {
    "duration": 1137,
    "start_time": "2022-01-16T10:27:33.943Z"
   },
   {
    "duration": 1152,
    "start_time": "2022-01-16T10:27:33.946Z"
   },
   {
    "duration": 354,
    "start_time": "2022-01-16T10:27:35.100Z"
   },
   {
    "duration": 1220,
    "start_time": "2022-01-16T10:27:34.236Z"
   },
   {
    "duration": 1217,
    "start_time": "2022-01-16T10:27:34.240Z"
   },
   {
    "duration": 1215,
    "start_time": "2022-01-16T10:27:34.243Z"
   },
   {
    "duration": 1207,
    "start_time": "2022-01-16T10:27:34.251Z"
   },
   {
    "duration": 1206,
    "start_time": "2022-01-16T10:27:34.255Z"
   },
   {
    "duration": 720,
    "start_time": "2022-01-16T10:27:49.580Z"
   },
   {
    "duration": 4,
    "start_time": "2022-01-16T10:27:50.302Z"
   },
   {
    "duration": 10,
    "start_time": "2022-01-16T10:27:50.308Z"
   },
   {
    "duration": 10,
    "start_time": "2022-01-16T10:27:50.320Z"
   },
   {
    "duration": 11,
    "start_time": "2022-01-16T10:27:50.332Z"
   },
   {
    "duration": 5,
    "start_time": "2022-01-16T10:27:50.345Z"
   },
   {
    "duration": 11,
    "start_time": "2022-01-16T10:27:50.351Z"
   },
   {
    "duration": 36,
    "start_time": "2022-01-16T10:27:50.363Z"
   },
   {
    "duration": 374,
    "start_time": "2022-01-16T10:27:50.402Z"
   },
   {
    "duration": 208,
    "start_time": "2022-01-16T10:27:50.778Z"
   },
   {
    "duration": 351,
    "start_time": "2022-01-16T10:27:50.988Z"
   },
   {
    "duration": 16,
    "start_time": "2022-01-16T10:27:51.341Z"
   },
   {
    "duration": 396,
    "start_time": "2022-01-16T10:27:51.359Z"
   },
   {
    "duration": 6,
    "start_time": "2022-01-16T10:27:51.756Z"
   },
   {
    "duration": 282,
    "start_time": "2022-01-16T10:27:51.763Z"
   },
   {
    "duration": 10,
    "start_time": "2022-01-16T10:27:52.046Z"
   },
   {
    "duration": 348,
    "start_time": "2022-01-16T10:27:52.057Z"
   },
   {
    "duration": 8,
    "start_time": "2022-01-16T10:27:52.407Z"
   },
   {
    "duration": 355,
    "start_time": "2022-01-16T10:27:52.417Z"
   },
   {
    "duration": 705,
    "start_time": "2022-01-16T10:27:52.773Z"
   },
   {
    "duration": 19,
    "start_time": "2022-01-16T10:27:53.480Z"
   },
   {
    "duration": 9,
    "start_time": "2022-01-16T10:27:53.501Z"
   },
   {
    "duration": 7,
    "start_time": "2022-01-16T10:27:53.512Z"
   },
   {
    "duration": 261,
    "start_time": "2022-01-16T10:27:53.520Z"
   },
   {
    "duration": 208,
    "start_time": "2022-01-16T10:27:53.782Z"
   },
   {
    "duration": 195,
    "start_time": "2022-01-16T10:27:53.992Z"
   },
   {
    "duration": 190,
    "start_time": "2022-01-16T10:27:54.191Z"
   },
   {
    "duration": 199,
    "start_time": "2022-01-16T10:27:54.382Z"
   },
   {
    "duration": 48,
    "start_time": "2022-01-16T10:27:54.583Z"
   },
   {
    "duration": 220,
    "start_time": "2022-01-16T10:27:54.633Z"
   },
   {
    "duration": 259,
    "start_time": "2022-01-16T10:27:54.855Z"
   },
   {
    "duration": 197,
    "start_time": "2022-01-16T10:27:55.116Z"
   },
   {
    "duration": 17,
    "start_time": "2022-01-16T10:27:55.315Z"
   },
   {
    "duration": 395,
    "start_time": "2022-01-16T10:27:55.333Z"
   },
   {
    "duration": 15,
    "start_time": "2022-01-16T10:27:55.730Z"
   },
   {
    "duration": 11,
    "start_time": "2022-01-16T10:27:55.747Z"
   }
  ],
  "kernelspec": {
   "display_name": "Python 3 (ipykernel)",
   "language": "python",
   "name": "python3"
  },
  "language_info": {
   "codemirror_mode": {
    "name": "ipython",
    "version": 3
   },
   "file_extension": ".py",
   "mimetype": "text/x-python",
   "name": "python",
   "nbconvert_exporter": "python",
   "pygments_lexer": "ipython3",
   "version": "3.9.12"
  },
  "toc": {
   "base_numbering": 1,
   "nav_menu": {},
   "number_sections": false,
   "sideBar": true,
   "skip_h1_title": false,
   "title_cell": "Table of Contents",
   "title_sidebar": "Contents",
   "toc_cell": false,
   "toc_position": {
    "height": "calc(100% - 180px)",
    "left": "10px",
    "top": "150px",
    "width": "383.188px"
   },
   "toc_section_display": true,
   "toc_window_display": false
  }
 },
 "nbformat": 4,
 "nbformat_minor": 2
}
