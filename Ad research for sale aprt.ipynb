{
 "cells": [
  {
   "cell_type": "markdown",
   "metadata": {},
   "source": [
    "# Research of ads for the sale of apartments\n",
    "\n",
    "Dataset is an archive of advertisements for the sale of apartments in St. Petersburg and neighboring settlements for several years. It is necessary to determine which factors most influence the market value of real estate.\n",
    "\n",
    "# Columns:\n",
    "\n",
    "* airports_nearest - distance to the nearest airport in meters (m)\n",
    "* balcony — number of balconies\n",
    "* ceiling_height - ceiling height (m)\n",
    "* cityCenters_nearest - distance to the city center (m)\n",
    "* days_exposition - how many days the ad was placed (from publication to removal)\n",
    "* first_day_exposition - publication date\n",
    "* floor - floor\n",
    "* floors_total - total floors in the building\n",
    "* is_apartment - apartments (boolean)\n",
    "* kitchen_area - kitchen area in square meters (m²)\n",
    "* last_price - price at the time of unpublishing\n",
    "* living_area - living area in square meters (m²)\n",
    "* locality_name — name of the locality\n",
    "* open_plan - open plan (boolean)\n",
    "* parks_around3000 - number of parks within a 3 km radius\n",
    "* parks_nearest - distance to the nearest park (m)\n",
    "* ponds_around3000 - the number of ponds within a radius of 3 km\n",
    "* ponds_nearest — distance to the nearest body of water (m)\n",
    "* rooms - number of rooms\n",
    "* studio - studio apartment (boolean)\n",
    "* total_area - area of the apartment in square meters (m²)\n",
    "* total_images - the number of photos of the apartment in the ad"
   ]
  },
  {
   "cell_type": "markdown",
   "metadata": {},
   "source": [
    "## Examining data from a file"
   ]
  },
  {
   "cell_type": "code",
   "execution_count": 1,
   "metadata": {
    "scrolled": true
   },
   "outputs": [],
   "source": [
    "import pandas as pd\n",
    "import matplotlib.pyplot as plt\n",
    "import warnings\n",
    "warnings.filterwarnings('ignore')"
   ]
  },
  {
   "cell_type": "code",
   "execution_count": 2,
   "metadata": {},
   "outputs": [
    {
     "data": {
      "text/html": [
       "<div>\n",
       "<style scoped>\n",
       "    .dataframe tbody tr th:only-of-type {\n",
       "        vertical-align: middle;\n",
       "    }\n",
       "\n",
       "    .dataframe tbody tr th {\n",
       "        vertical-align: top;\n",
       "    }\n",
       "\n",
       "    .dataframe thead th {\n",
       "        text-align: right;\n",
       "    }\n",
       "</style>\n",
       "<table border=\"1\" class=\"dataframe\">\n",
       "  <thead>\n",
       "    <tr style=\"text-align: right;\">\n",
       "      <th></th>\n",
       "      <th>total_images</th>\n",
       "      <th>last_price</th>\n",
       "      <th>total_area</th>\n",
       "      <th>first_day_exposition</th>\n",
       "      <th>rooms</th>\n",
       "      <th>ceiling_height</th>\n",
       "      <th>floors_total</th>\n",
       "      <th>living_area</th>\n",
       "      <th>floor</th>\n",
       "      <th>is_apartment</th>\n",
       "      <th>...</th>\n",
       "      <th>kitchen_area</th>\n",
       "      <th>balcony</th>\n",
       "      <th>locality_name</th>\n",
       "      <th>airports_nearest</th>\n",
       "      <th>cityCenters_nearest</th>\n",
       "      <th>parks_around3000</th>\n",
       "      <th>parks_nearest</th>\n",
       "      <th>ponds_around3000</th>\n",
       "      <th>ponds_nearest</th>\n",
       "      <th>days_exposition</th>\n",
       "    </tr>\n",
       "  </thead>\n",
       "  <tbody>\n",
       "    <tr>\n",
       "      <th>0</th>\n",
       "      <td>20</td>\n",
       "      <td>13000000.0</td>\n",
       "      <td>108.0</td>\n",
       "      <td>2019-03-07T00:00:00</td>\n",
       "      <td>3</td>\n",
       "      <td>2.70</td>\n",
       "      <td>16.0</td>\n",
       "      <td>51.0</td>\n",
       "      <td>8</td>\n",
       "      <td>NaN</td>\n",
       "      <td>...</td>\n",
       "      <td>25.0</td>\n",
       "      <td>NaN</td>\n",
       "      <td>Санкт-Петербург</td>\n",
       "      <td>18863.0</td>\n",
       "      <td>16028.0</td>\n",
       "      <td>1.0</td>\n",
       "      <td>482.0</td>\n",
       "      <td>2.0</td>\n",
       "      <td>755.0</td>\n",
       "      <td>NaN</td>\n",
       "    </tr>\n",
       "    <tr>\n",
       "      <th>1</th>\n",
       "      <td>7</td>\n",
       "      <td>3350000.0</td>\n",
       "      <td>40.4</td>\n",
       "      <td>2018-12-04T00:00:00</td>\n",
       "      <td>1</td>\n",
       "      <td>NaN</td>\n",
       "      <td>11.0</td>\n",
       "      <td>18.6</td>\n",
       "      <td>1</td>\n",
       "      <td>NaN</td>\n",
       "      <td>...</td>\n",
       "      <td>11.0</td>\n",
       "      <td>2.0</td>\n",
       "      <td>посёлок Шушары</td>\n",
       "      <td>12817.0</td>\n",
       "      <td>18603.0</td>\n",
       "      <td>0.0</td>\n",
       "      <td>NaN</td>\n",
       "      <td>0.0</td>\n",
       "      <td>NaN</td>\n",
       "      <td>81.0</td>\n",
       "    </tr>\n",
       "    <tr>\n",
       "      <th>2</th>\n",
       "      <td>10</td>\n",
       "      <td>5196000.0</td>\n",
       "      <td>56.0</td>\n",
       "      <td>2015-08-20T00:00:00</td>\n",
       "      <td>2</td>\n",
       "      <td>NaN</td>\n",
       "      <td>5.0</td>\n",
       "      <td>34.3</td>\n",
       "      <td>4</td>\n",
       "      <td>NaN</td>\n",
       "      <td>...</td>\n",
       "      <td>8.3</td>\n",
       "      <td>0.0</td>\n",
       "      <td>Санкт-Петербург</td>\n",
       "      <td>21741.0</td>\n",
       "      <td>13933.0</td>\n",
       "      <td>1.0</td>\n",
       "      <td>90.0</td>\n",
       "      <td>2.0</td>\n",
       "      <td>574.0</td>\n",
       "      <td>558.0</td>\n",
       "    </tr>\n",
       "    <tr>\n",
       "      <th>3</th>\n",
       "      <td>0</td>\n",
       "      <td>64900000.0</td>\n",
       "      <td>159.0</td>\n",
       "      <td>2015-07-24T00:00:00</td>\n",
       "      <td>3</td>\n",
       "      <td>NaN</td>\n",
       "      <td>14.0</td>\n",
       "      <td>NaN</td>\n",
       "      <td>9</td>\n",
       "      <td>NaN</td>\n",
       "      <td>...</td>\n",
       "      <td>NaN</td>\n",
       "      <td>0.0</td>\n",
       "      <td>Санкт-Петербург</td>\n",
       "      <td>28098.0</td>\n",
       "      <td>6800.0</td>\n",
       "      <td>2.0</td>\n",
       "      <td>84.0</td>\n",
       "      <td>3.0</td>\n",
       "      <td>234.0</td>\n",
       "      <td>424.0</td>\n",
       "    </tr>\n",
       "    <tr>\n",
       "      <th>4</th>\n",
       "      <td>2</td>\n",
       "      <td>10000000.0</td>\n",
       "      <td>100.0</td>\n",
       "      <td>2018-06-19T00:00:00</td>\n",
       "      <td>2</td>\n",
       "      <td>3.03</td>\n",
       "      <td>14.0</td>\n",
       "      <td>32.0</td>\n",
       "      <td>13</td>\n",
       "      <td>NaN</td>\n",
       "      <td>...</td>\n",
       "      <td>41.0</td>\n",
       "      <td>NaN</td>\n",
       "      <td>Санкт-Петербург</td>\n",
       "      <td>31856.0</td>\n",
       "      <td>8098.0</td>\n",
       "      <td>2.0</td>\n",
       "      <td>112.0</td>\n",
       "      <td>1.0</td>\n",
       "      <td>48.0</td>\n",
       "      <td>121.0</td>\n",
       "    </tr>\n",
       "  </tbody>\n",
       "</table>\n",
       "<p>5 rows × 22 columns</p>\n",
       "</div>"
      ],
      "text/plain": [
       "   total_images  last_price  total_area first_day_exposition  rooms  \\\n",
       "0            20  13000000.0       108.0  2019-03-07T00:00:00      3   \n",
       "1             7   3350000.0        40.4  2018-12-04T00:00:00      1   \n",
       "2            10   5196000.0        56.0  2015-08-20T00:00:00      2   \n",
       "3             0  64900000.0       159.0  2015-07-24T00:00:00      3   \n",
       "4             2  10000000.0       100.0  2018-06-19T00:00:00      2   \n",
       "\n",
       "   ceiling_height  floors_total  living_area  floor is_apartment  ...  \\\n",
       "0            2.70          16.0         51.0      8          NaN  ...   \n",
       "1             NaN          11.0         18.6      1          NaN  ...   \n",
       "2             NaN           5.0         34.3      4          NaN  ...   \n",
       "3             NaN          14.0          NaN      9          NaN  ...   \n",
       "4            3.03          14.0         32.0     13          NaN  ...   \n",
       "\n",
       "   kitchen_area  balcony    locality_name  airports_nearest  \\\n",
       "0          25.0      NaN  Санкт-Петербург           18863.0   \n",
       "1          11.0      2.0   посёлок Шушары           12817.0   \n",
       "2           8.3      0.0  Санкт-Петербург           21741.0   \n",
       "3           NaN      0.0  Санкт-Петербург           28098.0   \n",
       "4          41.0      NaN  Санкт-Петербург           31856.0   \n",
       "\n",
       "  cityCenters_nearest  parks_around3000  parks_nearest  ponds_around3000  \\\n",
       "0             16028.0               1.0          482.0               2.0   \n",
       "1             18603.0               0.0            NaN               0.0   \n",
       "2             13933.0               1.0           90.0               2.0   \n",
       "3              6800.0               2.0           84.0               3.0   \n",
       "4              8098.0               2.0          112.0               1.0   \n",
       "\n",
       "   ponds_nearest  days_exposition  \n",
       "0          755.0              NaN  \n",
       "1            NaN             81.0  \n",
       "2          574.0            558.0  \n",
       "3          234.0            424.0  \n",
       "4           48.0            121.0  \n",
       "\n",
       "[5 rows x 22 columns]"
      ]
     },
     "metadata": {},
     "output_type": "display_data"
    },
    {
     "name": "stdout",
     "output_type": "stream",
     "text": [
      "<class 'pandas.core.frame.DataFrame'>\n",
      "RangeIndex: 23699 entries, 0 to 23698\n",
      "Data columns (total 22 columns):\n",
      " #   Column                Non-Null Count  Dtype  \n",
      "---  ------                --------------  -----  \n",
      " 0   total_images          23699 non-null  int64  \n",
      " 1   last_price            23699 non-null  float64\n",
      " 2   total_area            23699 non-null  float64\n",
      " 3   first_day_exposition  23699 non-null  object \n",
      " 4   rooms                 23699 non-null  int64  \n",
      " 5   ceiling_height        14504 non-null  float64\n",
      " 6   floors_total          23613 non-null  float64\n",
      " 7   living_area           21796 non-null  float64\n",
      " 8   floor                 23699 non-null  int64  \n",
      " 9   is_apartment          2775 non-null   object \n",
      " 10  studio                23699 non-null  bool   \n",
      " 11  open_plan             23699 non-null  bool   \n",
      " 12  kitchen_area          21421 non-null  float64\n",
      " 13  balcony               12180 non-null  float64\n",
      " 14  locality_name         23650 non-null  object \n",
      " 15  airports_nearest      18157 non-null  float64\n",
      " 16  cityCenters_nearest   18180 non-null  float64\n",
      " 17  parks_around3000      18181 non-null  float64\n",
      " 18  parks_nearest         8079 non-null   float64\n",
      " 19  ponds_around3000      18181 non-null  float64\n",
      " 20  ponds_nearest         9110 non-null   float64\n",
      " 21  days_exposition       20518 non-null  float64\n",
      "dtypes: bool(2), float64(14), int64(3), object(3)\n",
      "memory usage: 3.7+ MB\n"
     ]
    },
    {
     "data": {
      "text/plain": [
       "None"
      ]
     },
     "metadata": {},
     "output_type": "display_data"
    }
   ],
   "source": [
    "data = pd.read_csv('real_estate_data.csv', sep='\\t')\n",
    "display(data.head())\n",
    "display(data.info())"
   ]
  },
  {
   "cell_type": "markdown",
   "metadata": {},
   "source": [
    "### Conclusion\n",
    "1. Of the 22 columns in the dataset, 14 contain gaps, and in some of them (is_apartment, parks_nearest, ponds_nearest) gaps make up most of the data.\n",
    "To handle gaps, it will be possible to use the following methods: global median over the entire dataframe, median by groups, replace with 0, replace with False, delete rows with gaps.\n",
    "2. The cityCenters_nearest column will need to be renamed.\n",
    "3. Column types floors_total, balcony, parks_around3000, ponds_around3000, days_exposition should be replaced with an integer."
   ]
  },
  {
   "cell_type": "markdown",
   "metadata": {},
   "source": [
    "## Data preprocessing"
   ]
  },
  {
   "cell_type": "code",
   "execution_count": 3,
   "metadata": {},
   "outputs": [
    {
     "data": {
      "text/plain": [
       "0    2.70\n",
       "1    2.65\n",
       "2    2.65\n",
       "3    2.65\n",
       "4    3.03\n",
       "Name: ceiling_height, dtype: float64"
      ]
     },
     "execution_count": 3,
     "metadata": {},
     "output_type": "execute_result"
    }
   ],
   "source": [
    "# start handling gaps from the first column where they occur - ceiling_height\n",
    "data.loc[data['ceiling_height'].isna(), 'ceiling_height'] = data['ceiling_height'].median()\n",
    "data['ceiling_height'].head()"
   ]
  },
  {
   "cell_type": "code",
   "execution_count": 4,
   "metadata": {},
   "outputs": [
    {
     "data": {
      "text/plain": [
       "0"
      ]
     },
     "execution_count": 4,
     "metadata": {},
     "output_type": "execute_result"
    }
   ],
   "source": [
    "data['ceiling_height'].isna().sum()"
   ]
  },
  {
   "cell_type": "markdown",
   "metadata": {},
   "source": [
    "Since every apartment has a ceiling, and its height is approximately the same, filling in \"0\" would be incorrect. Delete lines with gaps too, because this column is missing about 40% of the data. As a result, it is filled with medians, throughout the dataset, excluding groups, because the height of ceilings in St. Petersburg differs upwards from the average value only in a small number of houses of the old fanda in the city center."
   ]
  },
  {
   "cell_type": "code",
   "execution_count": 5,
   "metadata": {},
   "outputs": [
    {
     "data": {
      "text/plain": [
       "0"
      ]
     },
     "execution_count": 5,
     "metadata": {},
     "output_type": "execute_result"
    }
   ],
   "source": [
    "#rows with empty values in floors_total can be deleted, because their share in the dataset is only 0.4%\n",
    "data = data.dropna(subset=['floors_total'])\n",
    "data['floors_total'].isna().sum()"
   ]
  },
  {
   "cell_type": "code",
   "execution_count": 6,
   "metadata": {},
   "outputs": [
    {
     "data": {
      "text/plain": [
       "0"
      ]
     },
     "execution_count": 6,
     "metadata": {},
     "output_type": "execute_result"
    }
   ],
   "source": [
    "# in the living area column, you can replace gaps with medians grouped by the number of rooms\n",
    "for rooms in data['rooms'].unique(): \n",
    "    median = data.loc[data['rooms'] == rooms, 'living_area'].median()\n",
    "    data.loc[(data['living_area'].isna()) & (data['rooms'] == rooms), 'living_area'] = median\n",
    "data['living_area'].isna().sum()"
   ]
  },
  {
   "cell_type": "markdown",
   "metadata": {},
   "source": [
    "Gaps in column is_apartment needs to be replaced with False, as gaps are most likely where the type is not an apartment, it's just not specified."
   ]
  },
  {
   "cell_type": "code",
   "execution_count": 7,
   "metadata": {},
   "outputs": [
    {
     "data": {
      "text/plain": [
       "False    23563\n",
       "True        50\n",
       "Name: is_apartment, dtype: int64"
      ]
     },
     "execution_count": 7,
     "metadata": {},
     "output_type": "execute_result"
    }
   ],
   "source": [
    "data['is_apartment'] = data['is_apartment'].fillna(False)\n",
    "data['is_apartment'].value_counts()"
   ]
  },
  {
   "cell_type": "code",
   "execution_count": 8,
   "metadata": {},
   "outputs": [
    {
     "data": {
      "text/plain": [
       "0"
      ]
     },
     "execution_count": 8,
     "metadata": {},
     "output_type": "execute_result"
    }
   ],
   "source": [
    "# gaps in kitchen_area replace with median values\n",
    "data.loc[data['kitchen_area'].isna(), 'kitchen_area'] = data['kitchen_area'].median()\n",
    "data['kitchen_area'].head()\n",
    "data['kitchen_area'].isna().sum()"
   ]
  },
  {
   "cell_type": "markdown",
   "metadata": {},
   "source": [
    "Gaps in balconies should probably be replaced with 0, if there is no information about them, then there are probably no balconies."
   ]
  },
  {
   "cell_type": "code",
   "execution_count": 9,
   "metadata": {},
   "outputs": [
    {
     "data": {
      "text/plain": [
       "0"
      ]
     },
     "execution_count": 9,
     "metadata": {},
     "output_type": "execute_result"
    }
   ],
   "source": [
    "data['balcony'] = data['balcony'].fillna(0)\n",
    "data['balcony'].isna().sum()"
   ]
  },
  {
   "cell_type": "markdown",
   "metadata": {},
   "source": [
    "Lines with gaps in locality_name will be deleted, because there are few gaps, and there is no existing correct way of processing"
   ]
  },
  {
   "cell_type": "code",
   "execution_count": 10,
   "metadata": {},
   "outputs": [
    {
     "data": {
      "text/plain": [
       "0"
      ]
     },
     "execution_count": 10,
     "metadata": {},
     "output_type": "execute_result"
    }
   ],
   "source": [
    "data = data.dropna(subset=['locality_name'])\n",
    "data['locality_name'].isna().sum()"
   ]
  },
  {
   "cell_type": "code",
   "execution_count": 11,
   "metadata": {},
   "outputs": [
    {
     "data": {
      "text/plain": [
       "0"
      ]
     },
     "execution_count": 11,
     "metadata": {},
     "output_type": "execute_result"
    }
   ],
   "source": [
    "data.loc[data['airports_nearest'].isna(), 'airports_nearest'] = data['airports_nearest'].median()\n",
    "data['airports_nearest'].isna().sum()"
   ]
  },
  {
   "cell_type": "code",
   "execution_count": 12,
   "metadata": {},
   "outputs": [
    {
     "data": {
      "text/plain": [
       "0"
      ]
     },
     "execution_count": 12,
     "metadata": {},
     "output_type": "execute_result"
    }
   ],
   "source": [
    "data.loc[data['cityCenters_nearest'].isna(), 'cityCenters_nearest'] = data['cityCenters_nearest'].median()\n",
    "data['cityCenters_nearest'].isna().sum()"
   ]
  },
  {
   "cell_type": "code",
   "execution_count": 13,
   "metadata": {},
   "outputs": [
    {
     "data": {
      "text/plain": [
       "total_images            0\n",
       "last_price              0\n",
       "total_area              0\n",
       "first_day_exposition    0\n",
       "rooms                   0\n",
       "ceiling_height          0\n",
       "floors_total            0\n",
       "living_area             0\n",
       "floor                   0\n",
       "is_apartment            0\n",
       "studio                  0\n",
       "open_plan               0\n",
       "kitchen_area            0\n",
       "balcony                 0\n",
       "locality_name           0\n",
       "airports_nearest        0\n",
       "cityCenters_nearest     0\n",
       "parks_around3000        0\n",
       "parks_nearest           0\n",
       "ponds_around3000        0\n",
       "ponds_nearest           0\n",
       "days_exposition         0\n",
       "dtype: int64"
      ]
     },
     "execution_count": 13,
     "metadata": {},
     "output_type": "execute_result"
    }
   ],
   "source": [
    "data.loc[data['parks_around3000'].isna(), 'parks_around3000'] = data['parks_around3000'].median()\n",
    "data.loc[data['parks_nearest'].isna(), 'parks_nearest'] = data['parks_nearest'].median()\n",
    "data.loc[data['ponds_around3000'].isna(), 'ponds_around3000'] = data['ponds_around3000'].median()\n",
    "data.loc[data['ponds_nearest'].isna(), 'ponds_nearest'] = data['ponds_nearest'].median()\n",
    "data.loc[data['days_exposition'].isna(), 'days_exposition'] = data['days_exposition'].fillna(0)\n",
    "data.isna().sum()"
   ]
  },
  {
   "cell_type": "code",
   "execution_count": 14,
   "metadata": {},
   "outputs": [
    {
     "name": "stdout",
     "output_type": "stream",
     "text": [
      "<class 'pandas.core.frame.DataFrame'>\n",
      "Int64Index: 23565 entries, 0 to 23698\n",
      "Data columns (total 22 columns):\n",
      " #   Column                Non-Null Count  Dtype  \n",
      "---  ------                --------------  -----  \n",
      " 0   total_images          23565 non-null  int64  \n",
      " 1   last_price            23565 non-null  float64\n",
      " 2   total_area            23565 non-null  float64\n",
      " 3   first_day_exposition  23565 non-null  object \n",
      " 4   rooms                 23565 non-null  int64  \n",
      " 5   ceiling_height        23565 non-null  float64\n",
      " 6   floors_total          23565 non-null  float64\n",
      " 7   living_area           23565 non-null  float64\n",
      " 8   floor                 23565 non-null  int64  \n",
      " 9   is_apartment          23565 non-null  bool   \n",
      " 10  studio                23565 non-null  bool   \n",
      " 11  open_plan             23565 non-null  bool   \n",
      " 12  kitchen_area          23565 non-null  float64\n",
      " 13  balcony               23565 non-null  float64\n",
      " 14  locality_name         23565 non-null  object \n",
      " 15  airports_nearest      23565 non-null  float64\n",
      " 16  cityCenters_nearest   23565 non-null  float64\n",
      " 17  parks_around3000      23565 non-null  float64\n",
      " 18  parks_nearest         23565 non-null  float64\n",
      " 19  ponds_around3000      23565 non-null  float64\n",
      " 20  ponds_nearest         23565 non-null  float64\n",
      " 21  days_exposition       23565 non-null  float64\n",
      "dtypes: bool(3), float64(14), int64(3), object(2)\n",
      "memory usage: 4.2+ MB\n"
     ]
    }
   ],
   "source": [
    "data.info()"
   ]
  },
  {
   "cell_type": "markdown",
   "metadata": {},
   "source": [
    "All gaps in the dataframe are processed, in the days_exposition column we also had to replace the gaps with medians, because this is necessary for further elimination of outliers. However, I think the replacement in this column is not entirely correct, since this column shows the number of days from publication to removal, the absence of a value in the column may indicate that the announcement has not yet been removed."
   ]
  },
  {
   "cell_type": "markdown",
   "metadata": {},
   "source": [
    "Column values: floors_total, balcony, parks_around3000, ponds_around3000 - must be integer, so it is necessary to change the data type."
   ]
  },
  {
   "cell_type": "code",
   "execution_count": 15,
   "metadata": {},
   "outputs": [],
   "source": [
    "data['floors_total'] = data['floors_total'].astype('int64')\n",
    "data['balcony'] = data['balcony'].astype('int64')\n",
    "data['parks_around3000'] = data['parks_around3000'].astype('int64')\n",
    "data['ponds_around3000'] = data['ponds_around3000'].astype('int64')"
   ]
  },
  {
   "cell_type": "markdown",
   "metadata": {},
   "source": [
    "The last thing I would like to do in preprocessing is to change the name of the cityCenters_nearest column."
   ]
  },
  {
   "cell_type": "code",
   "execution_count": 16,
   "metadata": {},
   "outputs": [],
   "source": [
    "data.rename(columns={'cityCenters_nearest': 'city_centers_nearest'}, inplace=True)"
   ]
  },
  {
   "cell_type": "markdown",
   "metadata": {},
   "source": [
    "## Calculations and adding results to the table"
   ]
  },
  {
   "cell_type": "markdown",
   "metadata": {},
   "source": [
    "Add a new column with price per square meter."
   ]
  },
  {
   "cell_type": "code",
   "execution_count": 17,
   "metadata": {},
   "outputs": [
    {
     "data": {
      "text/plain": [
       "0    120370.370370\n",
       "1     82920.792079\n",
       "2     92785.714286\n",
       "3    408176.100629\n",
       "4    100000.000000\n",
       "Name: price_for_metre, dtype: float64"
      ]
     },
     "execution_count": 17,
     "metadata": {},
     "output_type": "execute_result"
    }
   ],
   "source": [
    "data['price_for_metre'] = data['last_price'] / data['total_area']\n",
    "data['price_for_metre'].head()"
   ]
  },
  {
   "cell_type": "markdown",
   "metadata": {},
   "source": [
    "Add a column with the day of the week the announcement was published, first you need to convert the column into a format for working with date and time."
   ]
  },
  {
   "cell_type": "code",
   "execution_count": 18,
   "metadata": {},
   "outputs": [
    {
     "data": {
      "text/plain": [
       "0    3\n",
       "1    1\n",
       "2    3\n",
       "Name: week_day_exp, dtype: int64"
      ]
     },
     "execution_count": 18,
     "metadata": {},
     "output_type": "execute_result"
    }
   ],
   "source": [
    "data['first_day_exposition'] = pd.to_datetime(data['first_day_exposition'], format='%Y-%m-%dT%H:%M:%S')\n",
    "data['week_day_exp'] = data['first_day_exposition'].dt.weekday\n",
    "data['week_day_exp'].head(3)"
   ]
  },
  {
   "cell_type": "markdown",
   "metadata": {},
   "source": [
    "Add a column with the month of publication of the ad."
   ]
  },
  {
   "cell_type": "code",
   "execution_count": 19,
   "metadata": {},
   "outputs": [
    {
     "data": {
      "text/plain": [
       "0     3\n",
       "1    12\n",
       "2     8\n",
       "Name: month_exp, dtype: int64"
      ]
     },
     "execution_count": 19,
     "metadata": {},
     "output_type": "execute_result"
    }
   ],
   "source": [
    "data['month_exp'] = data['first_day_exposition'].dt.month\n",
    "data['month_exp'].head(3)"
   ]
  },
  {
   "cell_type": "markdown",
   "metadata": {},
   "source": [
    "Add a column with the year of publication of the announcement."
   ]
  },
  {
   "cell_type": "code",
   "execution_count": 20,
   "metadata": {},
   "outputs": [
    {
     "data": {
      "text/plain": [
       "0    2019\n",
       "1    2018\n",
       "2    2015\n",
       "Name: year_exp, dtype: int64"
      ]
     },
     "execution_count": 20,
     "metadata": {},
     "output_type": "execute_result"
    }
   ],
   "source": [
    "data['year_exp'] = data['first_day_exposition'].dt.year\n",
    "data['year_exp'].head(3)"
   ]
  },
  {
   "cell_type": "markdown",
   "metadata": {},
   "source": [
    "Add a column with the apartment floor option: first, last, other."
   ]
  },
  {
   "cell_type": "code",
   "execution_count": 21,
   "metadata": {},
   "outputs": [
    {
     "data": {
      "text/plain": [
       "other    17326\n",
       "last      3330\n",
       "first     2909\n",
       "Name: floor_type, dtype: int64"
      ]
     },
     "execution_count": 21,
     "metadata": {},
     "output_type": "execute_result"
    }
   ],
   "source": [
    "data.loc[data['floor'] == 1, 'floor_type'] = 'first'\n",
    "data.loc[~ (data['floor_type'] == 'first') & (data['floor'] == data['floors_total']), 'floor_type'] = 'last'\n",
    "data.loc[~ (data['floor_type'] == 'first') & ~(data['floor_type'] == 'last'), 'floor_type'] = 'other'\n",
    "data['floor_type'].value_counts()"
   ]
  },
  {
   "cell_type": "markdown",
   "metadata": {},
   "source": [
    "Сolumn with the ratio of residential and total area:"
   ]
  },
  {
   "cell_type": "code",
   "execution_count": 22,
   "metadata": {},
   "outputs": [
    {
     "data": {
      "text/plain": [
       "0    0.472222\n",
       "1    0.460396\n",
       "2    0.612500\n",
       "Name: living_area_rate, dtype: float64"
      ]
     },
     "execution_count": 22,
     "metadata": {},
     "output_type": "execute_result"
    }
   ],
   "source": [
    "data['living_area_rate'] = data['living_area'] / data['total_area']\n",
    "data['living_area_rate'].head(3)"
   ]
  },
  {
   "cell_type": "markdown",
   "metadata": {},
   "source": [
    "Сolumn with the ratio of kitchen area to total:"
   ]
  },
  {
   "cell_type": "code",
   "execution_count": 23,
   "metadata": {},
   "outputs": [
    {
     "data": {
      "text/plain": [
       "0    0.231481\n",
       "1    0.272277\n",
       "2    0.148214\n",
       "Name: kitchen_area_rate, dtype: float64"
      ]
     },
     "execution_count": 23,
     "metadata": {},
     "output_type": "execute_result"
    }
   ],
   "source": [
    "data['kitchen_area_rate'] = data['kitchen_area'] / data['total_area']\n",
    "data['kitchen_area_rate'].head(3)"
   ]
  },
  {
   "cell_type": "markdown",
   "metadata": {},
   "source": [
    "Histogram for price per square meter."
   ]
  },
  {
   "cell_type": "code",
   "execution_count": 24,
   "metadata": {},
   "outputs": [
    {
     "data": {
      "image/png": "[encoded data removed]",
      "text/plain": [
       "<Figure size 432x288 with 1 Axes>"
      ]
     },
     "metadata": {
      "needs_background": "light"
     },
     "output_type": "display_data"
    }
   ],
   "source": [
    "data['price_for_metre'].hist(bins=50, range=(0, 200000)).set_title(\"Price per square meter, rub.\");"
   ]
  },
  {
   "cell_type": "markdown",
   "metadata": {},
   "source": [
    "Histogram for area parameter."
   ]
  },
  {
   "cell_type": "code",
   "execution_count": 25,
   "metadata": {},
   "outputs": [
    {
     "data": {
      "image/png": "[encoded data removed]",
      "text/plain": [
       "<Figure size 432x288 with 1 Axes>"
      ]
     },
     "metadata": {
      "needs_background": "light"
     },
     "output_type": "display_data"
    }
   ],
   "source": [
    "data['total_area'].hist(bins=50, range=(0, 150)).set_title(\"Area, sq. m\");"
   ]
  },
  {
   "cell_type": "code",
   "execution_count": 26,
   "metadata": {},
   "outputs": [
    {
     "data": {
      "text/plain": [
       "count    23565.000000\n",
       "mean        60.322824\n",
       "std         35.657060\n",
       "min         12.000000\n",
       "25%         40.000000\n",
       "50%         52.000000\n",
       "75%         69.700000\n",
       "max        900.000000\n",
       "Name: total_area, dtype: float64"
      ]
     },
     "execution_count": 26,
     "metadata": {},
     "output_type": "execute_result"
    }
   ],
   "source": [
    "data['total_area'].describe()"
   ]
  },
  {
   "cell_type": "markdown",
   "metadata": {},
   "source": [
    "Histogram for the number of rooms."
   ]
  },
  {
   "cell_type": "code",
   "execution_count": 27,
   "metadata": {},
   "outputs": [
    {
     "data": {
      "image/png": "[encoded data removed]",
      "text/plain": [
       "<Figure size 432x288 with 1 Axes>"
      ]
     },
     "metadata": {
      "needs_background": "light"
     },
     "output_type": "display_data"
    }
   ],
   "source": [
    "data.plot(kind = 'hist', y = 'rooms', bins=6, grid = True, range=(0, 6)).set_title(\"Number of rooms\");"
   ]
  },
  {
   "cell_type": "markdown",
   "metadata": {},
   "source": [
    "Histogram for ceiling height."
   ]
  },
  {
   "cell_type": "code",
   "execution_count": 28,
   "metadata": {},
   "outputs": [
    {
     "data": {
      "image/png": "[encoded data removed]",
      "text/plain": [
       "<Figure size 432x288 with 1 Axes>"
      ]
     },
     "metadata": {
      "needs_background": "light"
     },
     "output_type": "display_data"
    }
   ],
   "source": [
    "data['ceiling_height'].hist(bins=50, range=(2, 4)).set_title(\"Ceiling height, m\");"
   ]
  },
  {
   "cell_type": "markdown",
   "metadata": {},
   "source": [
    "Histogram for apartment sale time."
   ]
  },
  {
   "cell_type": "code",
   "execution_count": 29,
   "metadata": {},
   "outputs": [
    {
     "data": {
      "image/png": "[encoded data removed]",
      "text/plain": [
       "<Figure size 432x288 with 1 Axes>"
      ]
     },
     "metadata": {
      "needs_background": "light"
     },
     "output_type": "display_data"
    }
   ],
   "source": [
    "data['days_exposition'].hist(bins=100, range=(0, 1000)).set_title(\"Apartment sale time, days\");"
   ]
  },
  {
   "cell_type": "code",
   "execution_count": 30,
   "metadata": {},
   "outputs": [
    {
     "data": {
      "image/png": "[encoded data removed]",
      "text/plain": [
       "<Figure size 432x288 with 1 Axes>"
      ]
     },
     "metadata": {
      "needs_background": "light"
     },
     "output_type": "display_data"
    }
   ],
   "source": [
    "data.boxplot(column=['days_exposition']).set_title(\"Apartment sale time, days\");"
   ]
  },
  {
   "cell_type": "markdown",
   "metadata": {},
   "source": [
    "The boxplot shows that there are a lot of outliers (everything above 440 days)."
   ]
  },
  {
   "cell_type": "code",
   "execution_count": 31,
   "metadata": {},
   "outputs": [
    {
     "data": {
      "text/plain": [
       "count    23565.000000\n",
       "mean       156.420115\n",
       "std        213.517293\n",
       "min          0.000000\n",
       "25%         22.000000\n",
       "50%         73.000000\n",
       "75%        198.000000\n",
       "max       1580.000000\n",
       "Name: days_exposition, dtype: float64"
      ]
     },
     "execution_count": 31,
     "metadata": {},
     "output_type": "execute_result"
    }
   ],
   "source": [
    "data['days_exposition'].describe()"
   ]
  },
  {
   "cell_type": "markdown",
   "metadata": {},
   "source": [
    "**Conclusion:** \n",
    "\n",
    "Usually the sale takes 95 days. From 1 to 45 days - means a quick sale, values more than 400 - unusually long.\n",
    "The mean (156) is twice the median, which means there is a tail with high values that strongly influences the mean."
   ]
  },
  {
   "cell_type": "markdown",
   "metadata": {},
   "source": [
    "## Exploratory data analysis"
   ]
  },
  {
   "cell_type": "markdown",
   "metadata": {},
   "source": [
    "Calculate the boundaries of the interval of the most probable values.\n",
    "\n",
    "iqr for total_area"
   ]
  },
  {
   "cell_type": "code",
   "execution_count": 32,
   "metadata": {},
   "outputs": [
    {
     "data": {
      "text/plain": [
       "114.25"
      ]
     },
     "execution_count": 32,
     "metadata": {},
     "output_type": "execute_result"
    }
   ],
   "source": [
    "q1 = data['total_area'].quantile(0.25)\n",
    "q3 = data['total_area'].quantile(0.75)\n",
    "iqr = q3 - q1\n",
    "total_area_iqr = q3 + 1.5 * iqr\n",
    "total_area_iqr"
   ]
  },
  {
   "cell_type": "code",
   "execution_count": 33,
   "metadata": {},
   "outputs": [
    {
     "data": {
      "text/plain": [
       "6.0"
      ]
     },
     "execution_count": 33,
     "metadata": {},
     "output_type": "execute_result"
    }
   ],
   "source": [
    "#iqr for rooms\n",
    "q1 = data['rooms'].quantile(0.25)\n",
    "q3 = data['rooms'].quantile(0.75)\n",
    "iqr = q3 - q1\n",
    "total_area_iqr = q3 + 1.5 * iqr\n",
    "total_area_iqr"
   ]
  },
  {
   "cell_type": "code",
   "execution_count": 34,
   "metadata": {},
   "outputs": [
    {
     "data": {
      "text/plain": [
       "170683.80698882308"
      ]
     },
     "execution_count": 34,
     "metadata": {},
     "output_type": "execute_result"
    }
   ],
   "source": [
    "#iqr for price_for_metre\n",
    "q1 = data['price_for_metre'].quantile(0.25)\n",
    "q3 = data['price_for_metre'].quantile(0.75)\n",
    "iqr = q3 - q1\n",
    "total_area_iqr = q3 + 1.5 * iqr\n",
    "total_area_iqr"
   ]
  },
  {
   "cell_type": "code",
   "execution_count": 35,
   "metadata": {},
   "outputs": [
    {
     "data": {
      "text/plain": [
       "2.8500000000000005"
      ]
     },
     "execution_count": 35,
     "metadata": {},
     "output_type": "execute_result"
    }
   ],
   "source": [
    "#iqr for ceiling_height\n",
    "q1 = data['ceiling_height'].quantile(0.25)\n",
    "q3 = data['ceiling_height'].quantile(0.75)\n",
    "iqr = q3 - q1\n",
    "total_area_iqr = q3 + 1.5 * iqr\n",
    "total_area_iqr"
   ]
  },
  {
   "cell_type": "code",
   "execution_count": 36,
   "metadata": {},
   "outputs": [
    {
     "data": {
      "text/plain": [
       "462.0"
      ]
     },
     "execution_count": 36,
     "metadata": {},
     "output_type": "execute_result"
    }
   ],
   "source": [
    "#iqr for days_exposition\n",
    "q1 = data['days_exposition'].quantile(0.25)\n",
    "q3 = data['days_exposition'].quantile(0.75)\n",
    "iqr = q3 - q1\n",
    "total_area_iqr = q3 + 1.5 * iqr\n",
    "total_area_iqr"
   ]
  },
  {
   "cell_type": "markdown",
   "metadata": {},
   "source": [
    "Remove rare and abnormally large values from the dataset."
   ]
  },
  {
   "cell_type": "code",
   "execution_count": 37,
   "metadata": {},
   "outputs": [],
   "source": [
    "data_new = data.query('12 < total_area < 115 and 20000 < price_for_metre < 171000 and 1 < rooms < 6 and 2.4 < ceiling_height < 3 and days_exposition < 462')"
   ]
  },
  {
   "cell_type": "code",
   "execution_count": 38,
   "metadata": {},
   "outputs": [
    {
     "name": "stdout",
     "output_type": "stream",
     "text": [
      "<class 'pandas.core.frame.DataFrame'>\n",
      "Int64Index: 11088 entries, 0 to 23696\n",
      "Data columns (total 29 columns):\n",
      " #   Column                Non-Null Count  Dtype         \n",
      "---  ------                --------------  -----         \n",
      " 0   total_images          11088 non-null  int64         \n",
      " 1   last_price            11088 non-null  float64       \n",
      " 2   total_area            11088 non-null  float64       \n",
      " 3   first_day_exposition  11088 non-null  datetime64[ns]\n",
      " 4   rooms                 11088 non-null  int64         \n",
      " 5   ceiling_height        11088 non-null  float64       \n",
      " 6   floors_total          11088 non-null  int64         \n",
      " 7   living_area           11088 non-null  float64       \n",
      " 8   floor                 11088 non-null  int64         \n",
      " 9   is_apartment          11088 non-null  bool          \n",
      " 10  studio                11088 non-null  bool          \n",
      " 11  open_plan             11088 non-null  bool          \n",
      " 12  kitchen_area          11088 non-null  float64       \n",
      " 13  balcony               11088 non-null  int64         \n",
      " 14  locality_name         11088 non-null  object        \n",
      " 15  airports_nearest      11088 non-null  float64       \n",
      " 16  city_centers_nearest  11088 non-null  float64       \n",
      " 17  parks_around3000      11088 non-null  int64         \n",
      " 18  parks_nearest         11088 non-null  float64       \n",
      " 19  ponds_around3000      11088 non-null  int64         \n",
      " 20  ponds_nearest         11088 non-null  float64       \n",
      " 21  days_exposition       11088 non-null  float64       \n",
      " 22  price_for_metre       11088 non-null  float64       \n",
      " 23  week_day_exp          11088 non-null  int64         \n",
      " 24  month_exp             11088 non-null  int64         \n",
      " 25  year_exp              11088 non-null  int64         \n",
      " 26  floor_type            11088 non-null  object        \n",
      " 27  living_area_rate      11088 non-null  float64       \n",
      " 28  kitchen_area_rate     11088 non-null  float64       \n",
      "dtypes: bool(3), datetime64[ns](1), float64(13), int64(10), object(2)\n",
      "memory usage: 2.3+ MB\n"
     ]
    }
   ],
   "source": [
    "data_new.info()"
   ]
  },
  {
   "cell_type": "markdown",
   "metadata": {},
   "source": [
    "**Conclusion:**\n",
    "\n",
    "By calculating the limits of outlines for each of the parameters, the boundaries of the intervals of the most probable values were found. Having fulfilled all the necessary conditions using the query method, the values in data_new were halved relative to the original data, but the selection became more representative."
   ]
  },
  {
   "cell_type": "markdown",
   "metadata": {},
   "source": [
    "Invistigate what factors most affect the cost of an apartment.\n",
    "\n",
    "Start from area factor"
   ]
  },
  {
   "cell_type": "code",
   "execution_count": 39,
   "metadata": {},
   "outputs": [
    {
     "data": {
      "image/png": "[encoded data removed]",
      "text/plain": [
       "<Figure size 1080x216 with 1 Axes>"
      ]
     },
     "metadata": {
      "needs_background": "light"
     },
     "output_type": "display_data"
    }
   ],
   "source": [
    "data_new.groupby('total_area').agg({'price_for_metre': 'median'}).plot(grid=True, figsize=(15,3)).set_title(\"The influence of the area on the price per square meter\");"
   ]
  },
  {
   "cell_type": "code",
   "execution_count": 40,
   "metadata": {},
   "outputs": [
    {
     "data": {
      "image/png": "[encoded data removed]",
      "text/plain": [
       "<Figure size 1080x216 with 1 Axes>"
      ]
     },
     "metadata": {
      "needs_background": "light"
     },
     "output_type": "display_data"
    }
   ],
   "source": [
    "data_new.groupby('total_area').agg({'last_price': 'median'}).plot(grid=True, figsize=(15,3)).set_title(\"The influence of the area on the total cost of the apartment\");"
   ]
  },
  {
   "cell_type": "code",
   "execution_count": 41,
   "metadata": {},
   "outputs": [
    {
     "data": {
      "text/plain": [
       "0.21295617892982166"
      ]
     },
     "execution_count": 41,
     "metadata": {},
     "output_type": "execute_result"
    }
   ],
   "source": [
    "data_new['price_for_metre'].corr(data_new['total_area'])"
   ]
  },
  {
   "cell_type": "code",
   "execution_count": 42,
   "metadata": {},
   "outputs": [
    {
     "data": {
      "text/plain": [
       "0.718841508724494"
      ]
     },
     "execution_count": 42,
     "metadata": {},
     "output_type": "execute_result"
    }
   ],
   "source": [
    "data_new['last_price'].corr(data_new['total_area'])"
   ]
  },
  {
   "cell_type": "markdown",
   "metadata": {},
   "source": [
    "Based on the graphs obtained and the correlation value, it can be seen that the area of the apartment has a low effect on the price per square meter, but the area has a strong effect on the total cost of the apartment."
   ]
  },
  {
   "cell_type": "markdown",
   "metadata": {},
   "source": [
    "Parametr: number of rooms."
   ]
  },
  {
   "cell_type": "code",
   "execution_count": 43,
   "metadata": {},
   "outputs": [
    {
     "data": {
      "image/png": "[encoded data removed]",
      "text/plain": [
       "<Figure size 1080x216 with 1 Axes>"
      ]
     },
     "metadata": {
      "needs_background": "light"
     },
     "output_type": "display_data"
    }
   ],
   "source": [
    "data_new.groupby('rooms').agg({'price_for_metre': 'median'}).plot(grid=True, figsize=(15,3)).set_title(\"The influence of the number of rooms on the price per square meter\");"
   ]
  },
  {
   "cell_type": "code",
   "execution_count": 44,
   "metadata": {},
   "outputs": [
    {
     "data": {
      "text/plain": [
       "-0.07743408960165273"
      ]
     },
     "execution_count": 44,
     "metadata": {},
     "output_type": "execute_result"
    }
   ],
   "source": [
    "data_new['price_for_metre'].corr(data_new['rooms'])"
   ]
  },
  {
   "cell_type": "code",
   "execution_count": 45,
   "metadata": {},
   "outputs": [
    {
     "data": {
      "image/png": "[encoded data removed]",
      "text/plain": [
       "<Figure size 1080x216 with 1 Axes>"
      ]
     },
     "metadata": {
      "needs_background": "light"
     },
     "output_type": "display_data"
    }
   ],
   "source": [
    "data_new.groupby('rooms').agg({'last_price': 'median'}).plot(grid=True, figsize=(15,3)).set_title(\"The impact of the number of rooms on the total cost of the apartment\");"
   ]
  },
  {
   "cell_type": "markdown",
   "metadata": {},
   "source": [
    "The price per square meter is higher in apartments with a small number of rooms, while at the same time, with an increase in the number of rooms, the total cost of the apartment increases."
   ]
  },
  {
   "cell_type": "markdown",
   "metadata": {},
   "source": [
    "Distance factor from the center."
   ]
  },
  {
   "cell_type": "code",
   "execution_count": 46,
   "metadata": {},
   "outputs": [
    {
     "data": {
      "image/png": "[encoded data removed]",
      "text/plain": [
       "<Figure size 1080x216 with 1 Axes>"
      ]
     },
     "metadata": {
      "needs_background": "light"
     },
     "output_type": "display_data"
    }
   ],
   "source": [
    "data_new['centre_km'] = data_new['city_centers_nearest'] // 1000\n",
    "\n",
    "data_new.query('locality_name == \"Санкт-Петербург\"').groupby('centre_km').agg({'price_for_metre': 'mean'}).plot(grid=True, figsize=(15,3)).set_title(\"Influence of distance from the center on the price per square meter\");"
   ]
  },
  {
   "cell_type": "code",
   "execution_count": 47,
   "metadata": {},
   "outputs": [
    {
     "data": {
      "text/plain": [
       "-0.18735544786408723"
      ]
     },
     "execution_count": 47,
     "metadata": {},
     "output_type": "execute_result"
    }
   ],
   "source": [
    "data_new['price_for_metre'].corr(data_new['city_centers_nearest'])"
   ]
  },
  {
   "cell_type": "markdown",
   "metadata": {},
   "source": [
    "The graph shows a clear influence of the distance of the apartment from the center on the price per square meter. The closer to the center, the higher the price."
   ]
  },
  {
   "cell_type": "markdown",
   "metadata": {},
   "source": [
    "Factor of location of the apartment on the floor: first / last / other."
   ]
  },
  {
   "cell_type": "code",
   "execution_count": 48,
   "metadata": {},
   "outputs": [
    {
     "data": {
      "image/png": "[encoded data removed]",
      "text/plain": [
       "<Figure size 576x432 with 1 Axes>"
      ]
     },
     "metadata": {
      "needs_background": "light"
     },
     "output_type": "display_data"
    }
   ],
   "source": [
    "data_new.boxplot(column='price_for_metre', by='floor_type', figsize=(8,6)).set_title(\"Influence of the location on the floor on the price per square meter\");"
   ]
  },
  {
   "cell_type": "markdown",
   "metadata": {},
   "source": [
    "The highest price of an apartment on a floor different from the first and last. The lowest price for an apartment on the first floor."
   ]
  },
  {
   "cell_type": "markdown",
   "metadata": {},
   "source": [
    "Influence on the price of the placement date: day of the week, month, year."
   ]
  },
  {
   "cell_type": "code",
   "execution_count": 49,
   "metadata": {},
   "outputs": [
    {
     "data": {
      "image/png": "[encoded data removed]",
      "text/plain": [
       "<Figure size 432x288 with 1 Axes>"
      ]
     },
     "metadata": {
      "needs_background": "light"
     },
     "output_type": "display_data"
    },
    {
     "data": {
      "image/png": "[encoded data removed]",
      "text/plain": [
       "<Figure size 432x288 with 1 Axes>"
      ]
     },
     "metadata": {
      "needs_background": "light"
     },
     "output_type": "display_data"
    },
    {
     "data": {
      "image/png": "[encoded data removed]",
      "text/plain": [
       "<Figure size 432x288 with 1 Axes>"
      ]
     },
     "metadata": {
      "needs_background": "light"
     },
     "output_type": "display_data"
    }
   ],
   "source": [
    "date_list = ['week_day_exp', 'month_exp', 'year_exp']\n",
    "for period in date_list:\n",
    "    data_new.pivot_table(index=period,values = 'price_for_metre', aggfunc = 'median').plot(kind='bar')\n",
    "    plt.show()"
   ]
  },
  {
   "cell_type": "markdown",
   "metadata": {},
   "source": [
    "The graphs show that the price per square meter does not depend on the day of the week, but the more current the year, the higher the price."
   ]
  },
  {
   "cell_type": "markdown",
   "metadata": {},
   "source": [
    "Analysis of 10 settlements with the largest number of ads (because we are looking for the largest number of ads - we take the original table)."
   ]
  },
  {
   "cell_type": "code",
   "execution_count": 50,
   "metadata": {},
   "outputs": [
    {
     "data": {
      "text/plain": [
       "array(['Санкт-Петербург', 'посёлок Мурино', 'посёлок Шушары',\n",
       "       'Всеволожск', 'Пушкин', 'Колпино', 'посёлок Парголово', 'Гатчина',\n",
       "       'деревня Кудрово', 'Выборг'], dtype=object)"
      ]
     },
     "execution_count": 50,
     "metadata": {},
     "output_type": "execute_result"
    }
   ],
   "source": [
    "top_10_location = data['locality_name'].value_counts().head(10).index.values\n",
    "top_10_location"
   ]
  },
  {
   "cell_type": "code",
   "execution_count": 51,
   "metadata": {},
   "outputs": [
    {
     "data": {
      "text/html": [
       "<div>\n",
       "<style scoped>\n",
       "    .dataframe tbody tr th:only-of-type {\n",
       "        vertical-align: middle;\n",
       "    }\n",
       "\n",
       "    .dataframe tbody tr th {\n",
       "        vertical-align: top;\n",
       "    }\n",
       "\n",
       "    .dataframe thead th {\n",
       "        text-align: right;\n",
       "    }\n",
       "</style>\n",
       "<table border=\"1\" class=\"dataframe\">\n",
       "  <thead>\n",
       "    <tr style=\"text-align: right;\">\n",
       "      <th></th>\n",
       "      <th>price_for_metre</th>\n",
       "    </tr>\n",
       "    <tr>\n",
       "      <th>locality_name</th>\n",
       "      <th></th>\n",
       "    </tr>\n",
       "  </thead>\n",
       "  <tbody>\n",
       "    <tr>\n",
       "      <th>Санкт-Петербург</th>\n",
       "      <td>114868.877341</td>\n",
       "    </tr>\n",
       "    <tr>\n",
       "      <th>Пушкин</th>\n",
       "      <td>103125.819291</td>\n",
       "    </tr>\n",
       "    <tr>\n",
       "      <th>деревня Кудрово</th>\n",
       "      <td>92473.547576</td>\n",
       "    </tr>\n",
       "    <tr>\n",
       "      <th>посёлок Парголово</th>\n",
       "      <td>90175.913458</td>\n",
       "    </tr>\n",
       "    <tr>\n",
       "      <th>посёлок Мурино</th>\n",
       "      <td>85673.259928</td>\n",
       "    </tr>\n",
       "    <tr>\n",
       "      <th>посёлок Шушары</th>\n",
       "      <td>78551.344545</td>\n",
       "    </tr>\n",
       "    <tr>\n",
       "      <th>Колпино</th>\n",
       "      <td>75424.579098</td>\n",
       "    </tr>\n",
       "    <tr>\n",
       "      <th>Гатчина</th>\n",
       "      <td>68746.146763</td>\n",
       "    </tr>\n",
       "    <tr>\n",
       "      <th>Всеволожск</th>\n",
       "      <td>68654.473986</td>\n",
       "    </tr>\n",
       "    <tr>\n",
       "      <th>Выборг</th>\n",
       "      <td>58141.909153</td>\n",
       "    </tr>\n",
       "  </tbody>\n",
       "</table>\n",
       "</div>"
      ],
      "text/plain": [
       "                   price_for_metre\n",
       "locality_name                     \n",
       "Санкт-Петербург      114868.877341\n",
       "Пушкин               103125.819291\n",
       "деревня Кудрово       92473.547576\n",
       "посёлок Парголово     90175.913458\n",
       "посёлок Мурино        85673.259928\n",
       "посёлок Шушары        78551.344545\n",
       "Колпино               75424.579098\n",
       "Гатчина               68746.146763\n",
       "Всеволожск            68654.473986\n",
       "Выборг                58141.909153"
      ]
     },
     "execution_count": 51,
     "metadata": {},
     "output_type": "execute_result"
    }
   ],
   "source": [
    "data[data['locality_name'].isin(top_10_location)].groupby('locality_name').agg({'price_for_metre':'mean'}).sort_values('price_for_metre', ascending=False)"
   ]
  },
  {
   "cell_type": "markdown",
   "metadata": {},
   "source": [
    "The highest price per square meter obviously is in St. Petersburg itself, the price per square meter in Vyborg is almost two times lower, which is probably due to the fact that Vyborg is the farthest of all settlements."
   ]
  },
  {
   "cell_type": "markdown",
   "metadata": {},
   "source": [
    "Analysis of price changes by degree of distance from the center."
   ]
  },
  {
   "cell_type": "code",
   "execution_count": 52,
   "metadata": {},
   "outputs": [
    {
     "data": {
      "image/png": "[encoded data removed]",
      "text/plain": [
       "<Figure size 1080x216 with 1 Axes>"
      ]
     },
     "metadata": {
      "needs_background": "light"
     },
     "output_type": "display_data"
    }
   ],
   "source": [
    "data_new.query('locality_name == \"Санкт-Петербург\"').groupby('centre_km').agg({'price_for_metre':'median'}).plot(grid=True, figsize=(15,3)).set_title(\"Change in price per sq. m depending on the distance from the center\");"
   ]
  },
  {
   "cell_type": "code",
   "execution_count": 53,
   "metadata": {},
   "outputs": [
    {
     "data": {
      "image/png": "[encoded data removed]",
      "text/plain": [
       "<Figure size 1080x216 with 1 Axes>"
      ]
     },
     "metadata": {
      "needs_background": "light"
     },
     "output_type": "display_data"
    }
   ],
   "source": [
    "data_new.query('locality_name == \"Санкт-Петербург\"').groupby('centre_km').agg({'last_price':'median'}).plot(grid=True, figsize=(15,3)).set_title(\"Change in the total cost of the apartment as far as the distance from the center\");"
   ]
  },
  {
   "cell_type": "markdown",
   "metadata": {},
   "source": [
    "Both graphs show that at a distance of about 6 km from the center - the price per meter / total cost of the apartment starts to decrease, so we will assume that the central zone is within 6 km."
   ]
  },
  {
   "cell_type": "markdown",
   "metadata": {},
   "source": [
    "Research of parameters for apartments in the center (remoteness no more than 6 km).\n",
    "\n",
    "Histogram for price per square meter."
   ]
  },
  {
   "cell_type": "code",
   "execution_count": 54,
   "metadata": {},
   "outputs": [
    {
     "data": {
      "image/png": "[encoded data removed]",
      "text/plain": [
       "<Figure size 432x288 with 1 Axes>"
      ]
     },
     "metadata": {
      "needs_background": "light"
     },
     "output_type": "display_data"
    }
   ],
   "source": [
    "data_new.query('centre_km <= 6')['price_for_metre'].plot(kind='hist', bins=50, grid = True).set_title(\"Price per square meter in the center\");"
   ]
  },
  {
   "cell_type": "markdown",
   "metadata": {},
   "source": [
    "Histogram for area parameter."
   ]
  },
  {
   "cell_type": "code",
   "execution_count": 55,
   "metadata": {},
   "outputs": [
    {
     "data": {
      "image/png": "[encoded data removed]",
      "text/plain": [
       "<Figure size 432x288 with 1 Axes>"
      ]
     },
     "metadata": {
      "needs_background": "light"
     },
     "output_type": "display_data"
    }
   ],
   "source": [
    "data_new.query('centre_km <= 6')['total_area'].plot(kind='hist', bins=40, grid = True, range=(0, 150)).set_title(\"Apartment area in the city center\");"
   ]
  },
  {
   "cell_type": "markdown",
   "metadata": {},
   "source": [
    "Histogram for the number of rooms."
   ]
  },
  {
   "cell_type": "code",
   "execution_count": 56,
   "metadata": {},
   "outputs": [
    {
     "data": {
      "image/png": "[encoded data removed]",
      "text/plain": [
       "<Figure size 432x288 with 1 Axes>"
      ]
     },
     "metadata": {
      "needs_background": "light"
     },
     "output_type": "display_data"
    }
   ],
   "source": [
    "data_new.query('centre_km <= 6')['rooms'].plot(kind = 'hist', bins=6, grid = True, range=(0, 6)).set_title(\"Number of apartment rooms in the city center\");"
   ]
  },
  {
   "cell_type": "markdown",
   "metadata": {},
   "source": [
    "Histogram for ceiling height."
   ]
  },
  {
   "cell_type": "code",
   "execution_count": 57,
   "metadata": {},
   "outputs": [
    {
     "data": {
      "image/png": "[encoded data removed]",
      "text/plain": [
       "<Figure size 432x288 with 1 Axes>"
      ]
     },
     "metadata": {
      "needs_background": "light"
     },
     "output_type": "display_data"
    }
   ],
   "source": [
    "data_new.query('centre_km <= 6')['ceiling_height'].hist(bins=20, range=(2, 4)).set_title(\"Ceiling height of apartments in the city center\");"
   ]
  },
  {
   "cell_type": "markdown",
   "metadata": {},
   "source": [
    "Histogram for apartment sale time."
   ]
  },
  {
   "cell_type": "code",
   "execution_count": 58,
   "metadata": {},
   "outputs": [
    {
     "data": {
      "image/png": "[encoded data removed]",
      "text/plain": [
       "<Figure size 432x288 with 1 Axes>"
      ]
     },
     "metadata": {
      "needs_background": "light"
     },
     "output_type": "display_data"
    }
   ],
   "source": [
    "data_new.query('centre_km <= 6')['days_exposition'].hist(bins=50, range=(0, 500)).set_title(\"Time of sale of apartments in the center\");"
   ]
  },
  {
   "cell_type": "markdown",
   "metadata": {},
   "source": [
    "**Conclusion:**\n",
    "\n",
    "The factor that most distinguishes apartments in the center is the price per square meter. If in the general sample the price starts from 25k rub per meter, then in the center - from 60 k rub. Also, in the center of the apartment in the filtered sample, they start with two-room apartments, the total area of apartments is larger, but the ceiling height practically does not differ from the general sample."
   ]
  },
  {
   "cell_type": "markdown",
   "metadata": {},
   "source": [
    "## General conclusion"
   ]
  },
  {
   "cell_type": "markdown",
   "metadata": {},
   "source": [
    "As part of the project, first of all, all gaps that were in more than half of the columns were processed. The intervals of the most probable values ​​for each of the parameters, and the factors that most affect the price are determined:\n",
    "* the area of the apartment and the number of rooms greatly affect the total cost of the apartment and less on the price per square meter\n",
    "* Significantly influencing factor - distance from the city center; in addition, the settlements with the highest and lowest prices were identified (St. Petersburg and Vyborg, respectively)\n",
    "* the location of the apartment on the floor is also a significant factor: not the first and not the last floor increase the price of the apartment per square meter, the apartments on the first floor are the cheapest.\n",
    "\n",
    "The price per square meter in the city center is much higher than in the general sample, there are no apartments cheaper than about 60k rub per square meter, the area and the number of rooms in apartments in the city center are on average larger."
   ]
  }
 ],
 "metadata": {
  "ExecuteTimeLog": [
   {
    "duration": 826,
    "start_time": "2021-12-18T18:17:25.379Z"
   },
   {
    "duration": 72,
    "start_time": "2021-12-18T18:20:36.715Z"
   },
   {
    "duration": 113,
    "start_time": "2021-12-18T18:23:33.554Z"
   },
   {
    "duration": 16,
    "start_time": "2021-12-18T18:33:46.142Z"
   },
   {
    "duration": 365,
    "start_time": "2021-12-18T19:19:38.738Z"
   },
   {
    "duration": 254,
    "start_time": "2021-12-18T19:19:53.409Z"
   },
   {
    "duration": 10,
    "start_time": "2021-12-18T19:21:02.606Z"
   },
   {
    "duration": 8,
    "start_time": "2021-12-18T19:21:49.650Z"
   },
   {
    "duration": 12,
    "start_time": "2021-12-18T19:27:40.254Z"
   },
   {
    "duration": 7,
    "start_time": "2021-12-18T19:31:37.220Z"
   },
   {
    "duration": 14,
    "start_time": "2021-12-18T20:06:58.106Z"
   },
   {
    "duration": 56,
    "start_time": "2021-12-18T20:07:55.542Z"
   },
   {
    "duration": 67,
    "start_time": "2021-12-18T20:07:58.186Z"
   },
   {
    "duration": 16,
    "start_time": "2021-12-18T20:12:20.685Z"
   },
   {
    "duration": 78,
    "start_time": "2021-12-18T20:26:51.145Z"
   },
   {
    "duration": 9,
    "start_time": "2021-12-18T20:38:17.420Z"
   },
   {
    "duration": 99,
    "start_time": "2021-12-18T20:40:21.111Z"
   },
   {
    "duration": 13,
    "start_time": "2021-12-18T20:40:28.567Z"
   },
   {
    "duration": 15,
    "start_time": "2021-12-18T20:40:54.175Z"
   },
   {
    "duration": 12,
    "start_time": "2021-12-18T20:43:07.931Z"
   },
   {
    "duration": 8,
    "start_time": "2021-12-18T20:47:28.347Z"
   },
   {
    "duration": 10,
    "start_time": "2021-12-18T20:47:32.234Z"
   },
   {
    "duration": 13,
    "start_time": "2021-12-18T20:49:20.147Z"
   },
   {
    "duration": 9,
    "start_time": "2021-12-18T20:49:47.239Z"
   },
   {
    "duration": 6,
    "start_time": "2021-12-18T20:50:10.587Z"
   },
   {
    "duration": 8,
    "start_time": "2021-12-18T20:50:57.506Z"
   },
   {
    "duration": 8,
    "start_time": "2021-12-18T20:52:26.430Z"
   },
   {
    "duration": 92,
    "start_time": "2021-12-18T20:55:47.686Z"
   },
   {
    "duration": 12,
    "start_time": "2021-12-18T21:21:05.060Z"
   },
   {
    "duration": 11,
    "start_time": "2021-12-18T21:21:22.212Z"
   },
   {
    "duration": 8,
    "start_time": "2021-12-18T21:22:49.148Z"
   },
   {
    "duration": 8,
    "start_time": "2021-12-18T21:23:05.432Z"
   },
   {
    "duration": 10,
    "start_time": "2021-12-18T21:23:56.436Z"
   },
   {
    "duration": 8,
    "start_time": "2021-12-18T21:25:00.027Z"
   },
   {
    "duration": 80,
    "start_time": "2021-12-18T21:25:18.915Z"
   },
   {
    "duration": 8,
    "start_time": "2021-12-18T21:25:23.976Z"
   },
   {
    "duration": 833,
    "start_time": "2021-12-18T21:25:41.884Z"
   },
   {
    "duration": 14,
    "start_time": "2021-12-18T21:25:42.723Z"
   },
   {
    "duration": 10,
    "start_time": "2021-12-18T21:25:42.740Z"
   },
   {
    "duration": 5,
    "start_time": "2021-12-18T21:25:42.752Z"
   },
   {
    "duration": 19,
    "start_time": "2021-12-18T21:25:42.759Z"
   },
   {
    "duration": 116,
    "start_time": "2021-12-18T21:25:42.780Z"
   },
   {
    "duration": 9,
    "start_time": "2021-12-18T21:25:42.898Z"
   },
   {
    "duration": 13,
    "start_time": "2021-12-18T21:27:23.886Z"
   },
   {
    "duration": 8,
    "start_time": "2021-12-18T21:27:42.148Z"
   },
   {
    "duration": 11,
    "start_time": "2021-12-18T21:28:10.548Z"
   },
   {
    "duration": 10,
    "start_time": "2021-12-18T21:29:40.860Z"
   },
   {
    "duration": 16,
    "start_time": "2021-12-18T21:30:17.416Z"
   },
   {
    "duration": 9,
    "start_time": "2021-12-18T21:30:36.576Z"
   },
   {
    "duration": 4,
    "start_time": "2021-12-18T21:30:44.472Z"
   },
   {
    "duration": 12,
    "start_time": "2021-12-18T21:31:33.092Z"
   },
   {
    "duration": 1070,
    "start_time": "2021-12-18T21:31:43.044Z"
   },
   {
    "duration": 14,
    "start_time": "2021-12-18T21:31:44.123Z"
   },
   {
    "duration": 11,
    "start_time": "2021-12-18T21:31:44.140Z"
   },
   {
    "duration": 6,
    "start_time": "2021-12-18T21:31:44.153Z"
   },
   {
    "duration": 13,
    "start_time": "2021-12-18T21:31:44.161Z"
   },
   {
    "duration": 110,
    "start_time": "2021-12-18T21:31:44.176Z"
   },
   {
    "duration": 11,
    "start_time": "2021-12-18T21:31:44.288Z"
   },
   {
    "duration": 705,
    "start_time": "2021-12-19T09:19:57.064Z"
   },
   {
    "duration": 1460,
    "start_time": "2021-12-19T09:20:08.713Z"
   },
   {
    "duration": 16,
    "start_time": "2021-12-19T09:20:10.175Z"
   },
   {
    "duration": 31,
    "start_time": "2021-12-19T09:20:10.194Z"
   },
   {
    "duration": 6,
    "start_time": "2021-12-19T09:20:10.228Z"
   },
   {
    "duration": 24,
    "start_time": "2021-12-19T09:20:10.237Z"
   },
   {
    "duration": 116,
    "start_time": "2021-12-19T09:20:10.265Z"
   },
   {
    "duration": 12,
    "start_time": "2021-12-19T09:20:10.384Z"
   },
   {
    "duration": 26,
    "start_time": "2021-12-19T09:20:10.399Z"
   },
   {
    "duration": 8,
    "start_time": "2021-12-19T09:20:56.133Z"
   },
   {
    "duration": 8,
    "start_time": "2021-12-19T09:23:42.661Z"
   },
   {
    "duration": 8590,
    "start_time": "2021-12-19T09:30:37.833Z"
   },
   {
    "duration": 8444,
    "start_time": "2021-12-19T09:31:10.417Z"
   },
   {
    "duration": 8509,
    "start_time": "2021-12-19T09:37:07.532Z"
   },
   {
    "duration": 783,
    "start_time": "2021-12-19T09:38:44.461Z"
   },
   {
    "duration": 15,
    "start_time": "2021-12-19T09:38:45.247Z"
   },
   {
    "duration": 12,
    "start_time": "2021-12-19T09:38:45.265Z"
   },
   {
    "duration": 45,
    "start_time": "2021-12-19T09:38:45.279Z"
   },
   {
    "duration": 14,
    "start_time": "2021-12-19T09:38:45.327Z"
   },
   {
    "duration": 105,
    "start_time": "2021-12-19T09:38:45.344Z"
   },
   {
    "duration": 11,
    "start_time": "2021-12-19T09:38:45.451Z"
   },
   {
    "duration": 8160,
    "start_time": "2021-12-19T09:38:45.465Z"
   },
   {
    "duration": 2416,
    "start_time": "2021-12-19T09:46:26.097Z"
   },
   {
    "duration": 415,
    "start_time": "2021-12-19T09:48:06.680Z"
   },
   {
    "duration": 7,
    "start_time": "2021-12-19T09:48:13.116Z"
   },
   {
    "duration": 10,
    "start_time": "2021-12-19T09:48:30.572Z"
   },
   {
    "duration": 267,
    "start_time": "2021-12-19T09:52:03.036Z"
   },
   {
    "duration": 11,
    "start_time": "2021-12-19T09:59:51.597Z"
   },
   {
    "duration": 78,
    "start_time": "2021-12-19T10:15:06.346Z"
   },
   {
    "duration": 10,
    "start_time": "2021-12-19T10:17:18.130Z"
   },
   {
    "duration": 99,
    "start_time": "2021-12-19T10:22:45.358Z"
   },
   {
    "duration": 557,
    "start_time": "2021-12-19T10:22:50.887Z"
   },
   {
    "duration": 570,
    "start_time": "2021-12-19T10:23:05.109Z"
   },
   {
    "duration": 1247,
    "start_time": "2021-12-19T10:24:13.314Z"
   },
   {
    "duration": 16,
    "start_time": "2021-12-19T10:24:14.564Z"
   },
   {
    "duration": 44,
    "start_time": "2021-12-19T10:24:14.583Z"
   },
   {
    "duration": 7,
    "start_time": "2021-12-19T10:24:14.631Z"
   },
   {
    "duration": 22,
    "start_time": "2021-12-19T10:24:14.641Z"
   },
   {
    "duration": 116,
    "start_time": "2021-12-19T10:24:14.665Z"
   },
   {
    "duration": 16,
    "start_time": "2021-12-19T10:24:14.784Z"
   },
   {
    "duration": 15,
    "start_time": "2021-12-19T10:24:14.824Z"
   },
   {
    "duration": 105,
    "start_time": "2021-12-19T10:24:14.844Z"
   },
   {
    "duration": 10,
    "start_time": "2021-12-19T10:24:14.952Z"
   },
   {
    "duration": 85,
    "start_time": "2021-12-19T10:25:22.282Z"
   },
   {
    "duration": 74,
    "start_time": "2021-12-19T10:26:39.313Z"
   },
   {
    "duration": 8,
    "start_time": "2021-12-19T10:26:47.886Z"
   },
   {
    "duration": 15,
    "start_time": "2021-12-19T10:29:15.857Z"
   },
   {
    "duration": 8,
    "start_time": "2021-12-19T10:43:42.976Z"
   },
   {
    "duration": 16,
    "start_time": "2021-12-19T11:00:47.163Z"
   },
   {
    "duration": 370,
    "start_time": "2021-12-19T11:07:22.974Z"
   },
   {
    "duration": 2264,
    "start_time": "2021-12-19T11:07:33.386Z"
   },
   {
    "duration": 996,
    "start_time": "2021-12-19T11:11:49.132Z"
   },
   {
    "duration": 24,
    "start_time": "2021-12-19T11:11:50.131Z"
   },
   {
    "duration": 14,
    "start_time": "2021-12-19T11:11:50.160Z"
   },
   {
    "duration": 47,
    "start_time": "2021-12-19T11:11:50.178Z"
   },
   {
    "duration": 18,
    "start_time": "2021-12-19T11:11:50.227Z"
   },
   {
    "duration": 138,
    "start_time": "2021-12-19T11:11:50.249Z"
   },
   {
    "duration": 18,
    "start_time": "2021-12-19T11:11:50.390Z"
   },
   {
    "duration": 18,
    "start_time": "2021-12-19T11:11:50.425Z"
   },
   {
    "duration": 13,
    "start_time": "2021-12-19T11:11:50.446Z"
   },
   {
    "duration": 33,
    "start_time": "2021-12-19T11:11:50.463Z"
   },
   {
    "duration": 2890,
    "start_time": "2021-12-19T11:11:50.523Z"
   },
   {
    "duration": 381,
    "start_time": "2021-12-19T11:17:19.960Z"
   },
   {
    "duration": 11,
    "start_time": "2021-12-19T11:18:44.770Z"
   },
   {
    "duration": 10,
    "start_time": "2021-12-19T11:20:14.680Z"
   },
   {
    "duration": 2257,
    "start_time": "2021-12-19T11:30:55.230Z"
   },
   {
    "duration": 12,
    "start_time": "2021-12-19T11:32:53.537Z"
   },
   {
    "duration": 30,
    "start_time": "2021-12-19T15:21:57.236Z"
   },
   {
    "duration": 32,
    "start_time": "2021-12-19T15:22:46.976Z"
   },
   {
    "duration": 8,
    "start_time": "2021-12-19T15:34:43.767Z"
   },
   {
    "duration": 64,
    "start_time": "2021-12-19T15:36:21.684Z"
   },
   {
    "duration": 53,
    "start_time": "2021-12-19T15:44:10.215Z"
   },
   {
    "duration": 29,
    "start_time": "2021-12-19T15:44:39.086Z"
   },
   {
    "duration": 33,
    "start_time": "2021-12-19T16:04:53.396Z"
   },
   {
    "duration": 31,
    "start_time": "2021-12-19T16:05:01.572Z"
   },
   {
    "duration": 861,
    "start_time": "2021-12-19T16:05:36.945Z"
   },
   {
    "duration": 29,
    "start_time": "2021-12-19T16:05:37.810Z"
   },
   {
    "duration": 13,
    "start_time": "2021-12-19T16:05:37.843Z"
   },
   {
    "duration": 15,
    "start_time": "2021-12-19T16:05:37.859Z"
   },
   {
    "duration": 49,
    "start_time": "2021-12-19T16:05:37.877Z"
   },
   {
    "duration": 105,
    "start_time": "2021-12-19T16:05:37.930Z"
   },
   {
    "duration": 16,
    "start_time": "2021-12-19T16:05:38.038Z"
   },
   {
    "duration": 43,
    "start_time": "2021-12-19T16:05:38.057Z"
   },
   {
    "duration": 34,
    "start_time": "2021-12-19T16:05:38.102Z"
   },
   {
    "duration": 40,
    "start_time": "2021-12-19T16:05:38.139Z"
   },
   {
    "duration": 31,
    "start_time": "2021-12-19T16:05:38.181Z"
   },
   {
    "duration": 27,
    "start_time": "2021-12-19T16:05:38.214Z"
   },
   {
    "duration": 41,
    "start_time": "2021-12-19T16:05:38.243Z"
   },
   {
    "duration": 113,
    "start_time": "2021-12-19T16:05:38.287Z"
   },
   {
    "duration": -2152,
    "start_time": "2021-12-19T16:05:40.555Z"
   },
   {
    "duration": 26,
    "start_time": "2021-12-19T16:06:25.329Z"
   },
   {
    "duration": 398,
    "start_time": "2021-12-19T16:15:50.225Z"
   },
   {
    "duration": 9,
    "start_time": "2021-12-19T16:16:02.752Z"
   },
   {
    "duration": 22,
    "start_time": "2021-12-19T16:16:21.432Z"
   },
   {
    "duration": 8,
    "start_time": "2021-12-19T16:16:54.308Z"
   },
   {
    "duration": 27,
    "start_time": "2021-12-19T16:23:44.233Z"
   },
   {
    "duration": 7,
    "start_time": "2021-12-19T16:23:54.592Z"
   },
   {
    "duration": 13,
    "start_time": "2021-12-19T16:36:59.115Z"
   },
   {
    "duration": 8,
    "start_time": "2021-12-19T16:40:33.922Z"
   },
   {
    "duration": 9,
    "start_time": "2021-12-19T16:55:26.145Z"
   },
   {
    "duration": 291,
    "start_time": "2021-12-19T17:02:28.601Z"
   },
   {
    "duration": 293,
    "start_time": "2021-12-19T17:02:34.037Z"
   },
   {
    "duration": 19,
    "start_time": "2021-12-19T17:06:15.957Z"
   },
   {
    "duration": 8,
    "start_time": "2021-12-19T17:07:32.184Z"
   },
   {
    "duration": 8,
    "start_time": "2021-12-19T17:08:26.381Z"
   },
   {
    "duration": 12,
    "start_time": "2021-12-19T17:09:02.897Z"
   },
   {
    "duration": 15,
    "start_time": "2021-12-19T17:09:47.939Z"
   },
   {
    "duration": 14,
    "start_time": "2021-12-19T17:09:59.372Z"
   },
   {
    "duration": 13,
    "start_time": "2021-12-19T17:10:02.274Z"
   },
   {
    "duration": 11,
    "start_time": "2021-12-19T17:10:04.108Z"
   },
   {
    "duration": 36,
    "start_time": "2021-12-19T17:14:14.812Z"
   },
   {
    "duration": 5,
    "start_time": "2021-12-19T17:23:40.327Z"
   },
   {
    "duration": 4,
    "start_time": "2021-12-19T17:25:03.551Z"
   },
   {
    "duration": 30,
    "start_time": "2021-12-19T17:37:40.030Z"
   },
   {
    "duration": 30,
    "start_time": "2021-12-19T17:38:27.822Z"
   },
   {
    "duration": 9,
    "start_time": "2021-12-19T17:49:01.493Z"
   },
   {
    "duration": 10,
    "start_time": "2021-12-19T17:50:21.317Z"
   },
   {
    "duration": 409,
    "start_time": "2021-12-19T17:56:41.745Z"
   },
   {
    "duration": 377,
    "start_time": "2021-12-19T17:57:54.125Z"
   },
   {
    "duration": 684,
    "start_time": "2021-12-19T17:58:27.868Z"
   },
   {
    "duration": 407,
    "start_time": "2021-12-19T17:59:12.281Z"
   },
   {
    "duration": 400,
    "start_time": "2021-12-19T18:01:48.137Z"
   },
   {
    "duration": 380,
    "start_time": "2021-12-19T18:01:59.145Z"
   },
   {
    "duration": 420,
    "start_time": "2021-12-19T18:02:16.140Z"
   },
   {
    "duration": 425,
    "start_time": "2021-12-19T18:02:33.032Z"
   },
   {
    "duration": 333,
    "start_time": "2021-12-19T18:03:08.524Z"
   },
   {
    "duration": 561,
    "start_time": "2021-12-19T18:03:17.011Z"
   },
   {
    "duration": 386,
    "start_time": "2021-12-19T18:03:29.069Z"
   },
   {
    "duration": 487,
    "start_time": "2021-12-19T18:04:44.700Z"
   },
   {
    "duration": 303,
    "start_time": "2021-12-19T18:05:01.780Z"
   },
   {
    "duration": 284,
    "start_time": "2021-12-19T18:05:28.648Z"
   },
   {
    "duration": 300,
    "start_time": "2021-12-19T18:06:00.880Z"
   },
   {
    "duration": 309,
    "start_time": "2021-12-19T18:06:19.224Z"
   },
   {
    "duration": 8,
    "start_time": "2021-12-19T18:09:13.380Z"
   },
   {
    "duration": 297,
    "start_time": "2021-12-19T18:11:04.716Z"
   },
   {
    "duration": 274,
    "start_time": "2021-12-19T18:11:15.143Z"
   },
   {
    "duration": 290,
    "start_time": "2021-12-19T18:11:24.635Z"
   },
   {
    "duration": 286,
    "start_time": "2021-12-19T18:11:30.680Z"
   },
   {
    "duration": 269,
    "start_time": "2021-12-19T18:11:36.804Z"
   },
   {
    "duration": 295,
    "start_time": "2021-12-19T18:11:41.899Z"
   },
   {
    "duration": 332,
    "start_time": "2021-12-19T18:12:33.332Z"
   },
   {
    "duration": 690,
    "start_time": "2021-12-19T18:12:42.304Z"
   },
   {
    "duration": 519,
    "start_time": "2021-12-19T18:12:49.795Z"
   },
   {
    "duration": 374,
    "start_time": "2021-12-19T18:13:07.731Z"
   },
   {
    "duration": 9,
    "start_time": "2021-12-19T18:14:34.627Z"
   },
   {
    "duration": 389,
    "start_time": "2021-12-19T18:15:14.379Z"
   },
   {
    "duration": 559,
    "start_time": "2021-12-19T18:17:12.311Z"
   },
   {
    "duration": 338,
    "start_time": "2021-12-19T18:18:28.090Z"
   },
   {
    "duration": 320,
    "start_time": "2021-12-19T18:18:56.319Z"
   },
   {
    "duration": 358,
    "start_time": "2021-12-19T18:19:10.831Z"
   },
   {
    "duration": 314,
    "start_time": "2021-12-19T18:19:37.019Z"
   },
   {
    "duration": 449,
    "start_time": "2021-12-19T18:19:44.283Z"
   },
   {
    "duration": 302,
    "start_time": "2021-12-19T18:19:55.650Z"
   },
   {
    "duration": 297,
    "start_time": "2021-12-19T18:20:09.942Z"
   },
   {
    "duration": 314,
    "start_time": "2021-12-19T18:20:48.312Z"
   },
   {
    "duration": 13,
    "start_time": "2021-12-19T18:24:01.039Z"
   },
   {
    "duration": 356,
    "start_time": "2021-12-25T14:54:08.825Z"
   },
   {
    "duration": 721,
    "start_time": "2021-12-25T14:54:23.717Z"
   },
   {
    "duration": 10,
    "start_time": "2021-12-25T14:54:24.440Z"
   },
   {
    "duration": 8,
    "start_time": "2021-12-25T14:54:24.452Z"
   },
   {
    "duration": 4,
    "start_time": "2021-12-25T14:54:24.462Z"
   },
   {
    "duration": 11,
    "start_time": "2021-12-25T14:54:24.468Z"
   },
   {
    "duration": 83,
    "start_time": "2021-12-25T14:54:24.480Z"
   },
   {
    "duration": 7,
    "start_time": "2021-12-25T14:54:24.564Z"
   },
   {
    "duration": 6,
    "start_time": "2021-12-25T14:54:24.573Z"
   },
   {
    "duration": 4,
    "start_time": "2021-12-25T14:54:24.582Z"
   },
   {
    "duration": 12,
    "start_time": "2021-12-25T14:54:24.587Z"
   },
   {
    "duration": 6,
    "start_time": "2021-12-25T14:54:24.627Z"
   },
   {
    "duration": 8,
    "start_time": "2021-12-25T14:54:24.635Z"
   },
   {
    "duration": 16,
    "start_time": "2021-12-25T14:54:24.644Z"
   },
   {
    "duration": 8,
    "start_time": "2021-12-25T14:54:24.662Z"
   },
   {
    "duration": 5,
    "start_time": "2021-12-25T14:54:24.672Z"
   },
   {
    "duration": 49,
    "start_time": "2021-12-25T14:54:24.679Z"
   },
   {
    "duration": 14,
    "start_time": "2021-12-25T14:54:24.730Z"
   },
   {
    "duration": 7,
    "start_time": "2021-12-25T14:54:24.746Z"
   },
   {
    "duration": 8,
    "start_time": "2021-12-25T14:54:24.755Z"
   },
   {
    "duration": 68,
    "start_time": "2021-12-25T14:54:24.765Z"
   },
   {
    "duration": 7,
    "start_time": "2021-12-25T14:54:24.835Z"
   },
   {
    "duration": 5,
    "start_time": "2021-12-25T14:54:24.844Z"
   },
   {
    "duration": 318,
    "start_time": "2021-12-25T14:54:24.851Z"
   },
   {
    "duration": 233,
    "start_time": "2021-12-25T14:54:25.171Z"
   },
   {
    "duration": 231,
    "start_time": "2021-12-25T14:54:25.406Z"
   },
   {
    "duration": 228,
    "start_time": "2021-12-25T14:54:25.639Z"
   },
   {
    "duration": 210,
    "start_time": "2021-12-25T14:59:40.403Z"
   },
   {
    "duration": 208,
    "start_time": "2021-12-25T14:59:51.093Z"
   },
   {
    "duration": 211,
    "start_time": "2021-12-25T15:00:55.469Z"
   },
   {
    "duration": 289,
    "start_time": "2021-12-25T15:01:09.548Z"
   },
   {
    "duration": 428,
    "start_time": "2021-12-25T15:17:49.203Z"
   },
   {
    "duration": 511,
    "start_time": "2021-12-25T15:20:41.683Z"
   },
   {
    "duration": 25,
    "start_time": "2021-12-25T15:21:00.623Z"
   },
   {
    "duration": 928,
    "start_time": "2021-12-25T15:21:10.271Z"
   },
   {
    "duration": 192,
    "start_time": "2021-12-25T15:26:14.471Z"
   },
   {
    "duration": 334,
    "start_time": "2021-12-25T15:42:45.417Z"
   },
   {
    "duration": 386,
    "start_time": "2021-12-25T15:43:09.285Z"
   },
   {
    "duration": 9,
    "start_time": "2021-12-25T15:44:04.150Z"
   },
   {
    "duration": 300,
    "start_time": "2021-12-25T19:41:19.768Z"
   },
   {
    "duration": 661,
    "start_time": "2021-12-25T19:41:29.201Z"
   },
   {
    "duration": 11,
    "start_time": "2021-12-25T19:41:29.864Z"
   },
   {
    "duration": 10,
    "start_time": "2021-12-25T19:41:29.879Z"
   },
   {
    "duration": 4,
    "start_time": "2021-12-25T19:41:29.891Z"
   },
   {
    "duration": 9,
    "start_time": "2021-12-25T19:41:29.896Z"
   },
   {
    "duration": 82,
    "start_time": "2021-12-25T19:41:29.907Z"
   },
   {
    "duration": 7,
    "start_time": "2021-12-25T19:41:29.991Z"
   },
   {
    "duration": 15,
    "start_time": "2021-12-25T19:41:30.000Z"
   },
   {
    "duration": 24,
    "start_time": "2021-12-25T19:41:30.017Z"
   },
   {
    "duration": 12,
    "start_time": "2021-12-25T19:41:30.042Z"
   },
   {
    "duration": 6,
    "start_time": "2021-12-25T19:41:30.055Z"
   },
   {
    "duration": 9,
    "start_time": "2021-12-25T19:41:30.063Z"
   },
   {
    "duration": 17,
    "start_time": "2021-12-25T19:41:30.074Z"
   },
   {
    "duration": 7,
    "start_time": "2021-12-25T19:41:30.092Z"
   },
   {
    "duration": 40,
    "start_time": "2021-12-25T19:41:30.101Z"
   },
   {
    "duration": 6,
    "start_time": "2021-12-25T19:41:30.143Z"
   },
   {
    "duration": 25,
    "start_time": "2021-12-25T19:41:30.150Z"
   },
   {
    "duration": 27,
    "start_time": "2021-12-25T19:41:30.177Z"
   },
   {
    "duration": 9,
    "start_time": "2021-12-25T19:41:30.206Z"
   },
   {
    "duration": 45,
    "start_time": "2021-12-25T19:41:30.217Z"
   },
   {
    "duration": 5,
    "start_time": "2021-12-25T19:41:30.264Z"
   },
   {
    "duration": 18,
    "start_time": "2021-12-25T19:41:30.272Z"
   },
   {
    "duration": 339,
    "start_time": "2021-12-25T19:41:30.292Z"
   },
   {
    "duration": 396,
    "start_time": "2021-12-25T19:41:30.634Z"
   },
   {
    "duration": 367,
    "start_time": "2021-12-25T19:41:31.032Z"
   },
   {
    "duration": 229,
    "start_time": "2021-12-25T19:41:31.401Z"
   },
   {
    "duration": 334,
    "start_time": "2021-12-25T19:41:31.632Z"
   },
   {
    "duration": 168,
    "start_time": "2021-12-25T19:41:31.968Z"
   },
   {
    "duration": 9,
    "start_time": "2021-12-25T19:41:32.140Z"
   },
   {
    "duration": 94,
    "start_time": "2021-12-25T19:41:32.151Z"
   },
   {
    "duration": 491,
    "start_time": "2021-12-25T19:43:18.126Z"
   },
   {
    "duration": 451,
    "start_time": "2021-12-25T19:43:50.114Z"
   },
   {
    "duration": 942,
    "start_time": "2021-12-25T19:47:14.341Z"
   },
   {
    "duration": 539,
    "start_time": "2021-12-25T19:47:58.757Z"
   },
   {
    "duration": 408,
    "start_time": "2021-12-25T19:48:48.042Z"
   },
   {
    "duration": -751,
    "start_time": "2021-12-25T19:51:37.551Z"
   },
   {
    "duration": 605,
    "start_time": "2021-12-25T19:51:51.072Z"
   },
   {
    "duration": 11,
    "start_time": "2021-12-25T19:51:51.680Z"
   },
   {
    "duration": 7,
    "start_time": "2021-12-25T19:51:51.693Z"
   },
   {
    "duration": 4,
    "start_time": "2021-12-25T19:51:51.702Z"
   },
   {
    "duration": 12,
    "start_time": "2021-12-25T19:51:51.707Z"
   },
   {
    "duration": 64,
    "start_time": "2021-12-25T19:51:51.720Z"
   },
   {
    "duration": 8,
    "start_time": "2021-12-25T19:51:51.785Z"
   },
   {
    "duration": 7,
    "start_time": "2021-12-25T19:51:51.795Z"
   },
   {
    "duration": 5,
    "start_time": "2021-12-25T19:51:51.804Z"
   },
   {
    "duration": 36,
    "start_time": "2021-12-25T19:51:51.810Z"
   },
   {
    "duration": 7,
    "start_time": "2021-12-25T19:51:51.848Z"
   },
   {
    "duration": 6,
    "start_time": "2021-12-25T19:51:51.857Z"
   },
   {
    "duration": 7071,
    "start_time": "2021-12-25T19:51:51.864Z"
   },
   {
    "duration": -569,
    "start_time": "2021-12-25T19:51:59.506Z"
   },
   {
    "duration": -571,
    "start_time": "2021-12-25T19:51:59.509Z"
   },
   {
    "duration": -572,
    "start_time": "2021-12-25T19:51:59.511Z"
   },
   {
    "duration": -627,
    "start_time": "2021-12-25T19:51:59.567Z"
   },
   {
    "duration": -628,
    "start_time": "2021-12-25T19:51:59.569Z"
   },
   {
    "duration": -630,
    "start_time": "2021-12-25T19:51:59.572Z"
   },
   {
    "duration": -631,
    "start_time": "2021-12-25T19:51:59.574Z"
   },
   {
    "duration": -632,
    "start_time": "2021-12-25T19:51:59.576Z"
   },
   {
    "duration": -633,
    "start_time": "2021-12-25T19:51:59.578Z"
   },
   {
    "duration": -634,
    "start_time": "2021-12-25T19:51:59.580Z"
   },
   {
    "duration": -635,
    "start_time": "2021-12-25T19:51:59.582Z"
   },
   {
    "duration": -636,
    "start_time": "2021-12-25T19:51:59.584Z"
   },
   {
    "duration": -637,
    "start_time": "2021-12-25T19:51:59.586Z"
   },
   {
    "duration": -719,
    "start_time": "2021-12-25T19:51:59.669Z"
   },
   {
    "duration": -721,
    "start_time": "2021-12-25T19:51:59.672Z"
   },
   {
    "duration": -723,
    "start_time": "2021-12-25T19:51:59.675Z"
   },
   {
    "duration": -724,
    "start_time": "2021-12-25T19:51:59.677Z"
   },
   {
    "duration": 19,
    "start_time": "2021-12-25T19:52:28.830Z"
   },
   {
    "duration": 9,
    "start_time": "2021-12-25T19:55:09.481Z"
   },
   {
    "duration": 7,
    "start_time": "2021-12-25T19:55:11.997Z"
   },
   {
    "duration": 11,
    "start_time": "2021-12-25T19:55:13.609Z"
   },
   {
    "duration": 13,
    "start_time": "2021-12-25T19:55:15.861Z"
   },
   {
    "duration": 8,
    "start_time": "2021-12-25T19:55:17.281Z"
   },
   {
    "duration": 9,
    "start_time": "2021-12-25T19:55:19.317Z"
   },
   {
    "duration": 8,
    "start_time": "2021-12-25T19:55:20.733Z"
   },
   {
    "duration": 7,
    "start_time": "2021-12-25T19:55:22.309Z"
   },
   {
    "duration": 292,
    "start_time": "2021-12-25T19:55:24.241Z"
   },
   {
    "duration": 215,
    "start_time": "2021-12-25T19:55:27.193Z"
   },
   {
    "duration": 240,
    "start_time": "2021-12-25T19:55:30.045Z"
   },
   {
    "duration": 212,
    "start_time": "2021-12-25T19:55:32.117Z"
   },
   {
    "duration": 300,
    "start_time": "2021-12-25T19:55:35.594Z"
   },
   {
    "duration": 129,
    "start_time": "2021-12-25T19:55:38.117Z"
   },
   {
    "duration": 8,
    "start_time": "2021-12-25T19:56:07.913Z"
   },
   {
    "duration": 131,
    "start_time": "2021-12-25T19:58:38.205Z"
   },
   {
    "duration": 1242,
    "start_time": "2021-12-25T19:58:57.965Z"
   },
   {
    "duration": 990,
    "start_time": "2021-12-25T19:59:25.808Z"
   },
   {
    "duration": 1025,
    "start_time": "2021-12-25T19:59:34.925Z"
   },
   {
    "duration": 1123,
    "start_time": "2021-12-25T19:59:41.385Z"
   },
   {
    "duration": 984,
    "start_time": "2021-12-25T20:00:11.348Z"
   },
   {
    "duration": 979,
    "start_time": "2021-12-25T20:14:26.160Z"
   },
   {
    "duration": 1207,
    "start_time": "2021-12-25T20:14:53.243Z"
   },
   {
    "duration": 658,
    "start_time": "2021-12-25T20:16:38.844Z"
   },
   {
    "duration": 9,
    "start_time": "2021-12-25T20:16:39.503Z"
   },
   {
    "duration": 7,
    "start_time": "2021-12-25T20:16:39.514Z"
   },
   {
    "duration": 4,
    "start_time": "2021-12-25T20:16:39.523Z"
   },
   {
    "duration": 19,
    "start_time": "2021-12-25T20:16:39.528Z"
   },
   {
    "duration": 47,
    "start_time": "2021-12-25T20:16:39.549Z"
   },
   {
    "duration": 7,
    "start_time": "2021-12-25T20:16:39.598Z"
   },
   {
    "duration": 7,
    "start_time": "2021-12-25T20:16:39.608Z"
   },
   {
    "duration": 26,
    "start_time": "2021-12-25T20:16:39.617Z"
   },
   {
    "duration": 11,
    "start_time": "2021-12-25T20:16:39.645Z"
   },
   {
    "duration": 7,
    "start_time": "2021-12-25T20:16:39.658Z"
   },
   {
    "duration": 7,
    "start_time": "2021-12-25T20:16:39.666Z"
   },
   {
    "duration": 20,
    "start_time": "2021-12-25T20:16:39.674Z"
   },
   {
    "duration": 8,
    "start_time": "2021-12-25T20:16:39.695Z"
   },
   {
    "duration": 41,
    "start_time": "2021-12-25T20:16:39.705Z"
   },
   {
    "duration": 7,
    "start_time": "2021-12-25T20:16:39.747Z"
   },
   {
    "duration": 14,
    "start_time": "2021-12-25T20:16:39.755Z"
   },
   {
    "duration": 8,
    "start_time": "2021-12-25T20:16:39.770Z"
   },
   {
    "duration": 10,
    "start_time": "2021-12-25T20:16:39.779Z"
   },
   {
    "duration": 28,
    "start_time": "2021-12-25T20:16:39.790Z"
   },
   {
    "duration": 24,
    "start_time": "2021-12-25T20:16:39.820Z"
   },
   {
    "duration": 7,
    "start_time": "2021-12-25T20:16:39.846Z"
   },
   {
    "duration": 301,
    "start_time": "2021-12-25T20:16:39.856Z"
   },
   {
    "duration": 219,
    "start_time": "2021-12-25T20:16:40.159Z"
   },
   {
    "duration": 230,
    "start_time": "2021-12-25T20:16:40.379Z"
   },
   {
    "duration": 215,
    "start_time": "2021-12-25T20:16:40.610Z"
   },
   {
    "duration": 297,
    "start_time": "2021-12-25T20:16:40.826Z"
   },
   {
    "duration": 135,
    "start_time": "2021-12-25T20:16:41.124Z"
   },
   {
    "duration": 8,
    "start_time": "2021-12-25T20:16:41.260Z"
   },
   {
    "duration": 112,
    "start_time": "2021-12-25T20:16:41.270Z"
   },
   {
    "duration": 553,
    "start_time": "2021-12-25T20:17:00.728Z"
   },
   {
    "duration": 168,
    "start_time": "2021-12-25T20:17:57.037Z"
   },
   {
    "duration": 14,
    "start_time": "2021-12-25T20:18:18.413Z"
   },
   {
    "duration": 94,
    "start_time": "2021-12-25T20:21:08.500Z"
   },
   {
    "duration": 20,
    "start_time": "2021-12-25T20:22:57.792Z"
   },
   {
    "duration": 392,
    "start_time": "2021-12-25T20:23:49.345Z"
   },
   {
    "duration": 387,
    "start_time": "2021-12-25T20:24:05.100Z"
   },
   {
    "duration": 404,
    "start_time": "2021-12-25T20:24:44.309Z"
   },
   {
    "duration": 19,
    "start_time": "2021-12-25T20:26:33.372Z"
   },
   {
    "duration": 98,
    "start_time": "2021-12-25T20:27:49.696Z"
   },
   {
    "duration": 12,
    "start_time": "2021-12-25T20:28:47.488Z"
   },
   {
    "duration": 115,
    "start_time": "2021-12-25T20:31:01.620Z"
   },
   {
    "duration": 177,
    "start_time": "2021-12-25T20:33:26.673Z"
   },
   {
    "duration": 3,
    "start_time": "2021-12-25T20:33:59.552Z"
   },
   {
    "duration": 119,
    "start_time": "2021-12-25T20:36:13.207Z"
   },
   {
    "duration": 230,
    "start_time": "2021-12-25T20:36:37.044Z"
   },
   {
    "duration": 9,
    "start_time": "2021-12-25T20:37:13.727Z"
   },
   {
    "duration": 13,
    "start_time": "2021-12-25T20:41:24.835Z"
   },
   {
    "duration": 19,
    "start_time": "2021-12-25T20:41:52.219Z"
   },
   {
    "duration": 119,
    "start_time": "2021-12-25T20:43:20.570Z"
   },
   {
    "duration": 291,
    "start_time": "2021-12-25T20:43:52.587Z"
   },
   {
    "duration": 285,
    "start_time": "2021-12-25T20:44:14.574Z"
   },
   {
    "duration": 7,
    "start_time": "2021-12-25T20:44:39.575Z"
   },
   {
    "duration": 10,
    "start_time": "2021-12-25T20:45:49.210Z"
   },
   {
    "duration": 22,
    "start_time": "2021-12-25T20:46:27.426Z"
   },
   {
    "duration": 11,
    "start_time": "2021-12-25T20:46:33.534Z"
   },
   {
    "duration": 18,
    "start_time": "2021-12-25T20:46:54.618Z"
   },
   {
    "duration": 21,
    "start_time": "2021-12-25T20:48:43.242Z"
   },
   {
    "duration": 10,
    "start_time": "2021-12-25T20:48:49.174Z"
   },
   {
    "duration": 20,
    "start_time": "2021-12-25T20:49:43.842Z"
   },
   {
    "duration": 15,
    "start_time": "2021-12-25T20:49:48.774Z"
   },
   {
    "duration": 22,
    "start_time": "2021-12-25T20:50:58.614Z"
   },
   {
    "duration": 11,
    "start_time": "2021-12-25T20:51:00.930Z"
   },
   {
    "duration": 673,
    "start_time": "2021-12-25T20:51:57.406Z"
   },
   {
    "duration": 10,
    "start_time": "2021-12-25T20:51:58.081Z"
   },
   {
    "duration": 7,
    "start_time": "2021-12-25T20:51:58.093Z"
   },
   {
    "duration": 4,
    "start_time": "2021-12-25T20:51:58.102Z"
   },
   {
    "duration": 13,
    "start_time": "2021-12-25T20:51:58.108Z"
   },
   {
    "duration": 62,
    "start_time": "2021-12-25T20:51:58.122Z"
   },
   {
    "duration": 7,
    "start_time": "2021-12-25T20:51:58.186Z"
   },
   {
    "duration": 26,
    "start_time": "2021-12-25T20:51:58.195Z"
   },
   {
    "duration": 6,
    "start_time": "2021-12-25T20:51:58.223Z"
   },
   {
    "duration": 16,
    "start_time": "2021-12-25T20:51:58.231Z"
   },
   {
    "duration": 8,
    "start_time": "2021-12-25T20:51:58.249Z"
   },
   {
    "duration": 13,
    "start_time": "2021-12-25T20:51:58.259Z"
   },
   {
    "duration": 22,
    "start_time": "2021-12-25T20:51:58.274Z"
   },
   {
    "duration": 8,
    "start_time": "2021-12-25T20:51:58.297Z"
   },
   {
    "duration": 37,
    "start_time": "2021-12-25T20:51:58.307Z"
   },
   {
    "duration": 5,
    "start_time": "2021-12-25T20:51:58.346Z"
   },
   {
    "duration": 7,
    "start_time": "2021-12-25T20:51:58.352Z"
   },
   {
    "duration": 18,
    "start_time": "2021-12-25T20:51:58.361Z"
   },
   {
    "duration": 9,
    "start_time": "2021-12-25T20:51:58.381Z"
   },
   {
    "duration": 15,
    "start_time": "2021-12-25T20:51:58.392Z"
   },
   {
    "duration": 49,
    "start_time": "2021-12-25T20:51:58.409Z"
   },
   {
    "duration": 5,
    "start_time": "2021-12-25T20:51:58.460Z"
   },
   {
    "duration": 6,
    "start_time": "2021-12-25T20:51:58.467Z"
   },
   {
    "duration": 435,
    "start_time": "2021-12-25T20:51:58.475Z"
   },
   {
    "duration": 246,
    "start_time": "2021-12-25T20:51:58.912Z"
   },
   {
    "duration": 8,
    "start_time": "2021-12-25T20:51:59.160Z"
   },
   {
    "duration": 251,
    "start_time": "2021-12-25T20:51:59.173Z"
   },
   {
    "duration": 235,
    "start_time": "2021-12-25T20:51:59.426Z"
   },
   {
    "duration": 286,
    "start_time": "2021-12-25T20:51:59.663Z"
   },
   {
    "duration": 145,
    "start_time": "2021-12-25T20:51:59.951Z"
   },
   {
    "duration": 8,
    "start_time": "2021-12-25T20:52:00.098Z"
   },
   {
    "duration": 20,
    "start_time": "2021-12-25T20:52:00.107Z"
   },
   {
    "duration": 17,
    "start_time": "2021-12-25T20:52:00.129Z"
   },
   {
    "duration": 668,
    "start_time": "2021-12-25T20:52:47.255Z"
   },
   {
    "duration": 9,
    "start_time": "2021-12-25T20:52:47.925Z"
   },
   {
    "duration": 8,
    "start_time": "2021-12-25T20:52:47.936Z"
   },
   {
    "duration": 4,
    "start_time": "2021-12-25T20:52:47.946Z"
   },
   {
    "duration": 10,
    "start_time": "2021-12-25T20:52:47.951Z"
   },
   {
    "duration": 44,
    "start_time": "2021-12-25T20:52:47.962Z"
   },
   {
    "duration": 33,
    "start_time": "2021-12-25T20:52:48.008Z"
   },
   {
    "duration": 8,
    "start_time": "2021-12-25T20:52:48.043Z"
   },
   {
    "duration": 4,
    "start_time": "2021-12-25T20:52:48.052Z"
   },
   {
    "duration": 11,
    "start_time": "2021-12-25T20:52:48.058Z"
   },
   {
    "duration": 7,
    "start_time": "2021-12-25T20:52:48.070Z"
   },
   {
    "duration": 8,
    "start_time": "2021-12-25T20:52:48.078Z"
   },
   {
    "duration": 22,
    "start_time": "2021-12-25T20:52:48.087Z"
   },
   {
    "duration": 37,
    "start_time": "2021-12-25T20:52:48.110Z"
   },
   {
    "duration": 7,
    "start_time": "2021-12-25T20:52:48.149Z"
   },
   {
    "duration": 5,
    "start_time": "2021-12-25T20:52:48.157Z"
   },
   {
    "duration": 7,
    "start_time": "2021-12-25T20:52:48.163Z"
   },
   {
    "duration": 14,
    "start_time": "2021-12-25T20:52:48.172Z"
   },
   {
    "duration": 6,
    "start_time": "2021-12-25T20:52:48.188Z"
   },
   {
    "duration": 12,
    "start_time": "2021-12-25T20:52:48.195Z"
   },
   {
    "duration": 51,
    "start_time": "2021-12-25T20:52:48.208Z"
   },
   {
    "duration": 5,
    "start_time": "2021-12-25T20:52:48.262Z"
   },
   {
    "duration": 7,
    "start_time": "2021-12-25T20:52:48.271Z"
   },
   {
    "duration": 315,
    "start_time": "2021-12-25T20:52:48.279Z"
   },
   {
    "duration": 230,
    "start_time": "2021-12-25T20:52:48.595Z"
   },
   {
    "duration": 15,
    "start_time": "2021-12-25T20:52:48.827Z"
   },
   {
    "duration": 219,
    "start_time": "2021-12-25T20:52:48.844Z"
   },
   {
    "duration": 220,
    "start_time": "2021-12-25T20:52:49.064Z"
   },
   {
    "duration": 286,
    "start_time": "2021-12-25T20:52:49.285Z"
   },
   {
    "duration": 136,
    "start_time": "2021-12-25T20:52:49.573Z"
   },
   {
    "duration": 8,
    "start_time": "2021-12-25T20:52:49.711Z"
   },
   {
    "duration": 25,
    "start_time": "2021-12-25T20:52:49.720Z"
   },
   {
    "duration": 6,
    "start_time": "2021-12-25T20:52:49.746Z"
   },
   {
    "duration": 124,
    "start_time": "2021-12-25T20:54:45.271Z"
   },
   {
    "duration": 14,
    "start_time": "2021-12-25T20:55:18.267Z"
   },
   {
    "duration": 123,
    "start_time": "2021-12-25T20:55:25.767Z"
   },
   {
    "duration": 13,
    "start_time": "2021-12-25T20:55:34.020Z"
   },
   {
    "duration": 117,
    "start_time": "2021-12-25T20:55:39.135Z"
   },
   {
    "duration": 132,
    "start_time": "2021-12-25T20:56:06.204Z"
   },
   {
    "duration": 115,
    "start_time": "2021-12-25T20:56:36.071Z"
   },
   {
    "duration": 13,
    "start_time": "2021-12-25T20:56:50.287Z"
   },
   {
    "duration": 347,
    "start_time": "2021-12-26T14:49:27.063Z"
   },
   {
    "duration": 892,
    "start_time": "2021-12-26T14:49:37.194Z"
   },
   {
    "duration": 15,
    "start_time": "2021-12-26T14:49:38.089Z"
   },
   {
    "duration": 10,
    "start_time": "2021-12-26T14:49:38.125Z"
   },
   {
    "duration": 6,
    "start_time": "2021-12-26T14:49:38.139Z"
   },
   {
    "duration": 19,
    "start_time": "2021-12-26T14:49:38.147Z"
   },
   {
    "duration": 123,
    "start_time": "2021-12-26T14:49:38.169Z"
   },
   {
    "duration": 33,
    "start_time": "2021-12-26T14:49:38.294Z"
   },
   {
    "duration": 14,
    "start_time": "2021-12-26T14:49:38.331Z"
   },
   {
    "duration": 7,
    "start_time": "2021-12-26T14:49:38.348Z"
   },
   {
    "duration": 17,
    "start_time": "2021-12-26T14:49:38.357Z"
   },
   {
    "duration": 53,
    "start_time": "2021-12-26T14:49:38.377Z"
   },
   {
    "duration": 10,
    "start_time": "2021-12-26T14:49:38.433Z"
   },
   {
    "duration": 31,
    "start_time": "2021-12-26T14:49:38.446Z"
   },
   {
    "duration": 55,
    "start_time": "2021-12-26T14:49:38.480Z"
   },
   {
    "duration": 11,
    "start_time": "2021-12-26T14:49:38.538Z"
   },
   {
    "duration": 8,
    "start_time": "2021-12-26T14:49:38.551Z"
   },
   {
    "duration": 13,
    "start_time": "2021-12-26T14:49:38.561Z"
   },
   {
    "duration": 62,
    "start_time": "2021-12-26T14:49:38.576Z"
   },
   {
    "duration": 10,
    "start_time": "2021-12-26T14:49:38.641Z"
   },
   {
    "duration": 11,
    "start_time": "2021-12-26T14:49:38.653Z"
   },
   {
    "duration": 87,
    "start_time": "2021-12-26T14:49:38.666Z"
   },
   {
    "duration": 8,
    "start_time": "2021-12-26T14:49:38.755Z"
   },
   {
    "duration": 8,
    "start_time": "2021-12-26T14:49:38.768Z"
   },
   {
    "duration": 560,
    "start_time": "2021-12-26T14:49:38.778Z"
   },
   {
    "duration": 461,
    "start_time": "2021-12-26T14:49:39.340Z"
   },
   {
    "duration": 11,
    "start_time": "2021-12-26T14:49:39.803Z"
   },
   {
    "duration": 377,
    "start_time": "2021-12-26T14:49:39.816Z"
   },
   {
    "duration": 406,
    "start_time": "2021-12-26T14:49:40.195Z"
   },
   {
    "duration": 649,
    "start_time": "2021-12-26T14:49:40.603Z"
   },
   {
    "duration": 237,
    "start_time": "2021-12-26T14:49:41.254Z"
   },
   {
    "duration": 30,
    "start_time": "2021-12-26T14:49:41.494Z"
   },
   {
    "duration": 7,
    "start_time": "2021-12-26T14:49:41.526Z"
   },
   {
    "duration": 18,
    "start_time": "2021-12-26T14:49:41.536Z"
   },
   {
    "duration": 257,
    "start_time": "2021-12-26T14:49:41.557Z"
   },
   {
    "duration": 12,
    "start_time": "2021-12-26T14:51:14.103Z"
   },
   {
    "duration": 12,
    "start_time": "2021-12-26T14:54:07.010Z"
   },
   {
    "duration": 10,
    "start_time": "2021-12-26T14:55:03.649Z"
   },
   {
    "duration": 10,
    "start_time": "2021-12-26T14:55:52.916Z"
   },
   {
    "duration": 11,
    "start_time": "2021-12-26T14:57:22.937Z"
   },
   {
    "duration": 10,
    "start_time": "2021-12-26T14:57:25.307Z"
   },
   {
    "duration": 19,
    "start_time": "2021-12-26T14:59:41.300Z"
   },
   {
    "duration": 218,
    "start_time": "2021-12-26T14:59:45.771Z"
   },
   {
    "duration": 14,
    "start_time": "2021-12-26T15:00:05.051Z"
   },
   {
    "duration": 559,
    "start_time": "2021-12-26T15:42:17.239Z"
   },
   {
    "duration": 560,
    "start_time": "2021-12-26T15:43:00.749Z"
   },
   {
    "duration": 211,
    "start_time": "2021-12-26T15:57:18.232Z"
   },
   {
    "duration": 354,
    "start_time": "2021-12-26T16:07:50.988Z"
   },
   {
    "duration": 438,
    "start_time": "2021-12-26T16:08:30.426Z"
   },
   {
    "duration": 348,
    "start_time": "2021-12-26T16:10:14.105Z"
   },
   {
    "duration": 335,
    "start_time": "2021-12-26T16:12:01.767Z"
   },
   {
    "duration": 527,
    "start_time": "2021-12-26T16:12:07.216Z"
   },
   {
    "duration": 7,
    "start_time": "2021-12-26T16:12:21.608Z"
   },
   {
    "duration": 7,
    "start_time": "2021-12-26T16:12:54.126Z"
   },
   {
    "duration": 347,
    "start_time": "2021-12-26T16:17:00.556Z"
   },
   {
    "duration": 6,
    "start_time": "2021-12-26T16:17:40.244Z"
   },
   {
    "duration": 330,
    "start_time": "2021-12-26T16:18:11.408Z"
   },
   {
    "duration": 7,
    "start_time": "2021-12-26T16:18:41.469Z"
   },
   {
    "duration": 7,
    "start_time": "2021-12-26T16:19:10.897Z"
   },
   {
    "duration": 674,
    "start_time": "2021-12-26T16:21:30.822Z"
   },
   {
    "duration": 829,
    "start_time": "2021-12-26T16:22:00.119Z"
   },
   {
    "duration": 346,
    "start_time": "2021-12-26T16:22:17.099Z"
   },
   {
    "duration": 356,
    "start_time": "2021-12-26T16:28:06.679Z"
   },
   {
    "duration": 358,
    "start_time": "2021-12-26T16:58:27.931Z"
   },
   {
    "duration": 349,
    "start_time": "2021-12-26T16:58:56.905Z"
   },
   {
    "duration": 334,
    "start_time": "2021-12-26T17:00:40.190Z"
   },
   {
    "duration": 7,
    "start_time": "2021-12-26T17:01:24.042Z"
   },
   {
    "duration": 935,
    "start_time": "2021-12-26T17:01:48.704Z"
   },
   {
    "duration": 23,
    "start_time": "2021-12-26T17:01:49.643Z"
   },
   {
    "duration": 12,
    "start_time": "2021-12-26T17:01:49.671Z"
   },
   {
    "duration": 8,
    "start_time": "2021-12-26T17:01:49.724Z"
   },
   {
    "duration": 14,
    "start_time": "2021-12-26T17:01:49.735Z"
   },
   {
    "duration": 133,
    "start_time": "2021-12-26T17:01:49.753Z"
   },
   {
    "duration": 17,
    "start_time": "2021-12-26T17:01:49.891Z"
   },
   {
    "duration": 17,
    "start_time": "2021-12-26T17:01:49.927Z"
   },
   {
    "duration": 7,
    "start_time": "2021-12-26T17:01:49.948Z"
   },
   {
    "duration": 16,
    "start_time": "2021-12-26T17:01:49.958Z"
   },
   {
    "duration": 55,
    "start_time": "2021-12-26T17:01:49.976Z"
   },
   {
    "duration": 16,
    "start_time": "2021-12-26T17:01:50.033Z"
   },
   {
    "duration": 72,
    "start_time": "2021-12-26T17:01:50.051Z"
   },
   {
    "duration": 14,
    "start_time": "2021-12-26T17:01:50.125Z"
   },
   {
    "duration": 11,
    "start_time": "2021-12-26T17:01:50.141Z"
   },
   {
    "duration": 7,
    "start_time": "2021-12-26T17:01:50.154Z"
   },
   {
    "duration": 66,
    "start_time": "2021-12-26T17:01:50.164Z"
   },
   {
    "duration": 20,
    "start_time": "2021-12-26T17:01:50.232Z"
   },
   {
    "duration": 9,
    "start_time": "2021-12-26T17:01:50.255Z"
   },
   {
    "duration": 63,
    "start_time": "2021-12-26T17:01:50.267Z"
   },
   {
    "duration": 39,
    "start_time": "2021-12-26T17:01:50.333Z"
   },
   {
    "duration": 51,
    "start_time": "2021-12-26T17:01:50.374Z"
   },
   {
    "duration": 9,
    "start_time": "2021-12-26T17:01:50.431Z"
   },
   {
    "duration": 595,
    "start_time": "2021-12-26T17:01:50.443Z"
   },
   {
    "duration": 724,
    "start_time": "2021-12-26T17:01:51.041Z"
   },
   {
    "duration": 16,
    "start_time": "2021-12-26T17:01:51.769Z"
   },
   {
    "duration": 595,
    "start_time": "2021-12-26T17:01:51.788Z"
   },
   {
    "duration": 696,
    "start_time": "2021-12-26T17:01:52.386Z"
   },
   {
    "duration": 586,
    "start_time": "2021-12-26T17:01:53.086Z"
   },
   {
    "duration": 259,
    "start_time": "2021-12-26T17:01:53.675Z"
   },
   {
    "duration": 17,
    "start_time": "2021-12-26T17:01:53.937Z"
   },
   {
    "duration": 13,
    "start_time": "2021-12-26T17:01:53.956Z"
   },
   {
    "duration": 53,
    "start_time": "2021-12-26T17:01:53.972Z"
   },
   {
    "duration": 13,
    "start_time": "2021-12-26T17:01:54.028Z"
   },
   {
    "duration": 13,
    "start_time": "2021-12-26T17:01:54.044Z"
   },
   {
    "duration": 69,
    "start_time": "2021-12-26T17:01:54.060Z"
   },
   {
    "duration": 20,
    "start_time": "2021-12-26T17:01:54.133Z"
   },
   {
    "duration": 14,
    "start_time": "2021-12-26T17:01:54.155Z"
   },
   {
    "duration": 421,
    "start_time": "2021-12-26T17:01:54.171Z"
   },
   {
    "duration": 359,
    "start_time": "2021-12-26T17:01:54.595Z"
   },
   {
    "duration": 7,
    "start_time": "2021-12-26T17:01:54.957Z"
   },
   {
    "duration": 15,
    "start_time": "2021-12-26T17:01:54.967Z"
   },
   {
    "duration": 372,
    "start_time": "2021-12-26T17:01:54.985Z"
   },
   {
    "duration": 7,
    "start_time": "2021-12-26T17:01:55.359Z"
   },
   {
    "duration": 362,
    "start_time": "2021-12-26T17:01:55.369Z"
   },
   {
    "duration": 359,
    "start_time": "2021-12-26T17:01:55.735Z"
   },
   {
    "duration": 9,
    "start_time": "2021-12-26T17:01:56.097Z"
   },
   {
    "duration": 338,
    "start_time": "2021-12-26T17:20:57.458Z"
   },
   {
    "duration": 908,
    "start_time": "2021-12-26T17:38:56.806Z"
   },
   {
    "duration": 17,
    "start_time": "2021-12-26T17:38:57.722Z"
   },
   {
    "duration": 12,
    "start_time": "2021-12-26T17:38:57.741Z"
   },
   {
    "duration": 5,
    "start_time": "2021-12-26T17:38:57.755Z"
   },
   {
    "duration": 12,
    "start_time": "2021-12-26T17:38:57.763Z"
   },
   {
    "duration": 125,
    "start_time": "2021-12-26T17:38:57.777Z"
   },
   {
    "duration": 24,
    "start_time": "2021-12-26T17:38:57.905Z"
   },
   {
    "duration": 23,
    "start_time": "2021-12-26T17:38:57.932Z"
   },
   {
    "duration": 8,
    "start_time": "2021-12-26T17:38:57.961Z"
   },
   {
    "duration": 50,
    "start_time": "2021-12-26T17:38:57.973Z"
   },
   {
    "duration": 10,
    "start_time": "2021-12-26T17:38:58.026Z"
   },
   {
    "duration": 25,
    "start_time": "2021-12-26T17:38:58.039Z"
   },
   {
    "duration": 55,
    "start_time": "2021-12-26T17:38:58.066Z"
   },
   {
    "duration": 19,
    "start_time": "2021-12-26T17:38:58.124Z"
   },
   {
    "duration": 19,
    "start_time": "2021-12-26T17:38:58.145Z"
   },
   {
    "duration": 21,
    "start_time": "2021-12-26T17:38:58.183Z"
   },
   {
    "duration": 27,
    "start_time": "2021-12-26T17:38:58.207Z"
   },
   {
    "duration": 31,
    "start_time": "2021-12-26T17:38:58.238Z"
   },
   {
    "duration": 13,
    "start_time": "2021-12-26T17:38:58.272Z"
   },
   {
    "duration": 14,
    "start_time": "2021-12-26T17:38:58.288Z"
   },
   {
    "duration": 53,
    "start_time": "2021-12-26T17:38:58.325Z"
   },
   {
    "duration": 10,
    "start_time": "2021-12-26T17:38:58.381Z"
   },
   {
    "duration": 37,
    "start_time": "2021-12-26T17:38:58.394Z"
   },
   {
    "duration": 558,
    "start_time": "2021-12-26T17:38:58.433Z"
   },
   {
    "duration": 442,
    "start_time": "2021-12-26T17:38:58.993Z"
   },
   {
    "duration": 12,
    "start_time": "2021-12-26T17:38:59.438Z"
   },
   {
    "duration": 399,
    "start_time": "2021-12-26T17:38:59.455Z"
   },
   {
    "duration": 420,
    "start_time": "2021-12-26T17:38:59.858Z"
   },
   {
    "duration": 552,
    "start_time": "2021-12-26T17:39:00.281Z"
   },
   {
    "duration": 304,
    "start_time": "2021-12-26T17:39:00.836Z"
   },
   {
    "duration": 19,
    "start_time": "2021-12-26T17:39:01.144Z"
   },
   {
    "duration": 15,
    "start_time": "2021-12-26T17:39:01.166Z"
   },
   {
    "duration": 42,
    "start_time": "2021-12-26T17:39:01.184Z"
   },
   {
    "duration": 11,
    "start_time": "2021-12-26T17:39:01.229Z"
   },
   {
    "duration": 21,
    "start_time": "2021-12-26T17:39:01.244Z"
   },
   {
    "duration": 57,
    "start_time": "2021-12-26T17:39:01.268Z"
   },
   {
    "duration": 23,
    "start_time": "2021-12-26T17:39:01.328Z"
   },
   {
    "duration": 16,
    "start_time": "2021-12-26T17:39:01.354Z"
   },
   {
    "duration": 430,
    "start_time": "2021-12-26T17:39:01.373Z"
   },
   {
    "duration": 381,
    "start_time": "2021-12-26T17:39:01.806Z"
   },
   {
    "duration": 8,
    "start_time": "2021-12-26T17:39:02.189Z"
   },
   {
    "duration": 29,
    "start_time": "2021-12-26T17:39:02.199Z"
   },
   {
    "duration": 372,
    "start_time": "2021-12-26T17:39:02.231Z"
   },
   {
    "duration": 19,
    "start_time": "2021-12-26T17:39:02.606Z"
   },
   {
    "duration": 357,
    "start_time": "2021-12-26T17:39:02.628Z"
   },
   {
    "duration": 341,
    "start_time": "2021-12-26T17:39:02.987Z"
   },
   {
    "duration": 7,
    "start_time": "2021-12-26T17:39:03.330Z"
   },
   {
    "duration": 359,
    "start_time": "2021-12-26T17:39:03.339Z"
   },
   {
    "duration": 397,
    "start_time": "2021-12-26T17:39:03.701Z"
   },
   {
    "duration": 300,
    "start_time": "2021-12-26T17:39:22.855Z"
   },
   {
    "duration": 647,
    "start_time": "2021-12-26T17:41:22.225Z"
   },
   {
    "duration": 809,
    "start_time": "2021-12-26T17:43:58.577Z"
   },
   {
    "duration": 9,
    "start_time": "2021-12-26T19:54:22.506Z"
   },
   {
    "duration": 11,
    "start_time": "2021-12-26T19:55:06.157Z"
   },
   {
    "duration": 91,
    "start_time": "2021-12-26T20:00:41.889Z"
   },
   {
    "duration": 294,
    "start_time": "2021-12-26T20:01:05.337Z"
   },
   {
    "duration": 23,
    "start_time": "2021-12-26T20:01:18.729Z"
   },
   {
    "duration": 20,
    "start_time": "2021-12-26T20:03:20.480Z"
   },
   {
    "duration": 21,
    "start_time": "2021-12-26T20:03:47.068Z"
   },
   {
    "duration": 324,
    "start_time": "2021-12-26T20:18:28.475Z"
   },
   {
    "duration": 323,
    "start_time": "2021-12-26T20:31:38.782Z"
   },
   {
    "duration": 7048,
    "start_time": "2021-12-26T20:58:01.557Z"
   },
   {
    "duration": 876,
    "start_time": "2021-12-26T20:59:15.055Z"
   },
   {
    "duration": 16,
    "start_time": "2021-12-26T20:59:15.933Z"
   },
   {
    "duration": 11,
    "start_time": "2021-12-26T20:59:15.952Z"
   },
   {
    "duration": 6,
    "start_time": "2021-12-26T20:59:15.965Z"
   },
   {
    "duration": 55,
    "start_time": "2021-12-26T20:59:15.973Z"
   },
   {
    "duration": 93,
    "start_time": "2021-12-26T20:59:16.031Z"
   },
   {
    "duration": 11,
    "start_time": "2021-12-26T20:59:16.126Z"
   },
   {
    "duration": 11,
    "start_time": "2021-12-26T20:59:16.142Z"
   },
   {
    "duration": 7,
    "start_time": "2021-12-26T20:59:16.156Z"
   },
   {
    "duration": 59,
    "start_time": "2021-12-26T20:59:16.165Z"
   },
   {
    "duration": 11,
    "start_time": "2021-12-26T20:59:16.227Z"
   },
   {
    "duration": 10,
    "start_time": "2021-12-26T20:59:16.240Z"
   },
   {
    "duration": 72,
    "start_time": "2021-12-26T20:59:16.253Z"
   },
   {
    "duration": 20,
    "start_time": "2021-12-26T20:59:16.328Z"
   },
   {
    "duration": 10,
    "start_time": "2021-12-26T20:59:16.350Z"
   },
   {
    "duration": 6,
    "start_time": "2021-12-26T20:59:16.363Z"
   },
   {
    "duration": 13,
    "start_time": "2021-12-26T20:59:16.372Z"
   },
   {
    "duration": 51,
    "start_time": "2021-12-26T20:59:16.388Z"
   },
   {
    "duration": 11,
    "start_time": "2021-12-26T20:59:16.442Z"
   },
   {
    "duration": 13,
    "start_time": "2021-12-26T20:59:16.456Z"
   },
   {
    "duration": 88,
    "start_time": "2021-12-26T20:59:16.472Z"
   },
   {
    "duration": 10,
    "start_time": "2021-12-26T20:59:16.563Z"
   },
   {
    "duration": 10,
    "start_time": "2021-12-26T20:59:16.583Z"
   },
   {
    "duration": 696,
    "start_time": "2021-12-26T20:59:16.625Z"
   },
   {
    "duration": 455,
    "start_time": "2021-12-26T20:59:17.324Z"
   },
   {
    "duration": 14,
    "start_time": "2021-12-26T20:59:17.781Z"
   },
   {
    "duration": 483,
    "start_time": "2021-12-26T20:59:17.798Z"
   },
   {
    "duration": 431,
    "start_time": "2021-12-26T20:59:18.284Z"
   },
   {
    "duration": 530,
    "start_time": "2021-12-26T20:59:18.717Z"
   },
   {
    "duration": 265,
    "start_time": "2021-12-26T20:59:19.250Z"
   },
   {
    "duration": 15,
    "start_time": "2021-12-26T20:59:19.518Z"
   },
   {
    "duration": 16,
    "start_time": "2021-12-26T20:59:19.536Z"
   },
   {
    "duration": 35,
    "start_time": "2021-12-26T20:59:19.554Z"
   },
   {
    "duration": 9,
    "start_time": "2021-12-26T20:59:19.592Z"
   },
   {
    "duration": 24,
    "start_time": "2021-12-26T20:59:19.603Z"
   },
   {
    "duration": 15,
    "start_time": "2021-12-26T20:59:19.630Z"
   },
   {
    "duration": 30,
    "start_time": "2021-12-26T20:59:19.647Z"
   },
   {
    "duration": 28,
    "start_time": "2021-12-26T20:59:19.679Z"
   },
   {
    "duration": 368,
    "start_time": "2021-12-26T20:59:19.710Z"
   },
   {
    "duration": 359,
    "start_time": "2021-12-26T20:59:20.081Z"
   },
   {
    "duration": 8,
    "start_time": "2021-12-26T20:59:20.442Z"
   },
   {
    "duration": 15,
    "start_time": "2021-12-26T20:59:20.452Z"
   },
   {
    "duration": 343,
    "start_time": "2021-12-26T20:59:20.470Z"
   },
   {
    "duration": 12,
    "start_time": "2021-12-26T20:59:20.815Z"
   },
   {
    "duration": 355,
    "start_time": "2021-12-26T20:59:20.830Z"
   },
   {
    "duration": 340,
    "start_time": "2021-12-26T20:59:21.188Z"
   },
   {
    "duration": 7,
    "start_time": "2021-12-26T20:59:21.531Z"
   },
   {
    "duration": 323,
    "start_time": "2021-12-26T20:59:21.540Z"
   },
   {
    "duration": 1281,
    "start_time": "2021-12-26T20:59:21.866Z"
   },
   {
    "duration": 15,
    "start_time": "2021-12-26T20:59:23.150Z"
   },
   {
    "duration": 25,
    "start_time": "2021-12-26T20:59:23.168Z"
   },
   {
    "duration": 343,
    "start_time": "2021-12-26T20:59:23.223Z"
   },
   {
    "duration": 471,
    "start_time": "2021-12-26T20:59:23.568Z"
   },
   {
    "duration": 10483,
    "start_time": "2021-12-26T20:59:24.042Z"
   },
   {
    "duration": -61,
    "start_time": "2021-12-26T20:59:34.589Z"
   },
   {
    "duration": -83,
    "start_time": "2021-12-26T20:59:34.612Z"
   },
   {
    "duration": -94,
    "start_time": "2021-12-26T20:59:34.624Z"
   },
   {
    "duration": -100,
    "start_time": "2021-12-26T20:59:34.632Z"
   },
   {
    "duration": 9188,
    "start_time": "2021-12-26T21:00:47.120Z"
   },
   {
    "duration": 7652,
    "start_time": "2021-12-26T21:02:27.980Z"
   },
   {
    "duration": 8538,
    "start_time": "2021-12-26T21:02:47.268Z"
   },
   {
    "duration": 316,
    "start_time": "2021-12-27T19:45:00.090Z"
   },
   {
    "duration": 722,
    "start_time": "2021-12-27T19:45:13.701Z"
   },
   {
    "duration": 17,
    "start_time": "2021-12-27T19:45:14.426Z"
   },
   {
    "duration": 27,
    "start_time": "2021-12-27T19:45:14.446Z"
   },
   {
    "duration": 6,
    "start_time": "2021-12-27T19:45:14.476Z"
   },
   {
    "duration": 12,
    "start_time": "2021-12-27T19:45:14.484Z"
   },
   {
    "duration": 87,
    "start_time": "2021-12-27T19:45:14.498Z"
   },
   {
    "duration": 9,
    "start_time": "2021-12-27T19:45:14.587Z"
   },
   {
    "duration": 13,
    "start_time": "2021-12-27T19:45:14.598Z"
   },
   {
    "duration": 5,
    "start_time": "2021-12-27T19:45:14.614Z"
   },
   {
    "duration": 42,
    "start_time": "2021-12-27T19:45:14.621Z"
   },
   {
    "duration": 7,
    "start_time": "2021-12-27T19:45:14.665Z"
   },
   {
    "duration": 7,
    "start_time": "2021-12-27T19:45:14.674Z"
   },
   {
    "duration": 27,
    "start_time": "2021-12-27T19:45:14.683Z"
   },
   {
    "duration": 50,
    "start_time": "2021-12-27T19:45:14.712Z"
   },
   {
    "duration": 14,
    "start_time": "2021-12-27T19:45:14.764Z"
   },
   {
    "duration": 8,
    "start_time": "2021-12-27T19:45:14.781Z"
   },
   {
    "duration": 12,
    "start_time": "2021-12-27T19:45:14.791Z"
   },
   {
    "duration": 13,
    "start_time": "2021-12-27T19:45:14.805Z"
   },
   {
    "duration": 45,
    "start_time": "2021-12-27T19:45:14.820Z"
   },
   {
    "duration": 8,
    "start_time": "2021-12-27T19:45:14.867Z"
   },
   {
    "duration": 31,
    "start_time": "2021-12-27T19:45:14.877Z"
   },
   {
    "duration": 6,
    "start_time": "2021-12-27T19:45:14.910Z"
   },
   {
    "duration": 9,
    "start_time": "2021-12-27T19:45:14.919Z"
   },
   {
    "duration": 380,
    "start_time": "2021-12-27T19:45:14.930Z"
   },
   {
    "duration": 284,
    "start_time": "2021-12-27T19:45:15.312Z"
   },
   {
    "duration": 10,
    "start_time": "2021-12-27T19:45:15.598Z"
   },
   {
    "duration": 283,
    "start_time": "2021-12-27T19:45:15.613Z"
   },
   {
    "duration": 276,
    "start_time": "2021-12-27T19:45:15.898Z"
   },
   {
    "duration": 333,
    "start_time": "2021-12-27T19:45:16.176Z"
   },
   {
    "duration": 176,
    "start_time": "2021-12-27T19:45:16.511Z"
   },
   {
    "duration": 9,
    "start_time": "2021-12-27T19:45:16.689Z"
   },
   {
    "duration": 11,
    "start_time": "2021-12-27T19:45:16.700Z"
   },
   {
    "duration": 29,
    "start_time": "2021-12-27T19:45:16.713Z"
   },
   {
    "duration": 33,
    "start_time": "2021-12-27T19:45:16.744Z"
   },
   {
    "duration": 26,
    "start_time": "2021-12-27T19:45:16.780Z"
   },
   {
    "duration": 11,
    "start_time": "2021-12-27T19:45:16.808Z"
   },
   {
    "duration": 20,
    "start_time": "2021-12-27T19:45:16.822Z"
   },
   {
    "duration": 14,
    "start_time": "2021-12-27T19:45:16.844Z"
   },
   {
    "duration": 376,
    "start_time": "2021-12-27T19:45:16.861Z"
   },
   {
    "duration": 344,
    "start_time": "2021-12-27T19:45:17.240Z"
   },
   {
    "duration": 6,
    "start_time": "2021-12-27T19:45:17.587Z"
   },
   {
    "duration": 8,
    "start_time": "2021-12-27T19:45:17.594Z"
   },
   {
    "duration": 257,
    "start_time": "2021-12-27T19:45:17.604Z"
   },
   {
    "duration": 7,
    "start_time": "2021-12-27T19:45:17.877Z"
   },
   {
    "duration": 226,
    "start_time": "2021-12-27T19:45:17.886Z"
   },
   {
    "duration": 225,
    "start_time": "2021-12-27T19:45:18.114Z"
   },
   {
    "duration": 19,
    "start_time": "2021-12-27T19:45:18.341Z"
   },
   {
    "duration": 224,
    "start_time": "2021-12-27T19:45:18.363Z"
   },
   {
    "duration": 633,
    "start_time": "2021-12-27T19:45:18.590Z"
   },
   {
    "duration": 9,
    "start_time": "2021-12-27T19:45:19.225Z"
   },
   {
    "duration": 39,
    "start_time": "2021-12-27T19:45:19.235Z"
   },
   {
    "duration": 214,
    "start_time": "2021-12-27T19:45:19.276Z"
   },
   {
    "duration": 223,
    "start_time": "2021-12-27T19:45:19.492Z"
   },
   {
    "duration": 308,
    "start_time": "2021-12-27T19:45:19.717Z"
   },
   {
    "duration": 285,
    "start_time": "2021-12-27T19:45:20.027Z"
   },
   {
    "duration": 232,
    "start_time": "2021-12-27T19:45:20.314Z"
   },
   {
    "duration": 270,
    "start_time": "2021-12-27T19:45:20.548Z"
   },
   {
    "duration": 370,
    "start_time": "2021-12-27T19:45:20.820Z"
   },
   {
    "duration": 353,
    "start_time": "2021-12-27T19:48:35.148Z"
   },
   {
    "duration": 256,
    "start_time": "2021-12-27T19:50:33.388Z"
   },
   {
    "duration": 266,
    "start_time": "2021-12-27T19:51:36.012Z"
   },
   {
    "duration": 255,
    "start_time": "2021-12-27T19:51:38.471Z"
   },
   {
    "duration": 242,
    "start_time": "2021-12-27T19:51:47.523Z"
   },
   {
    "duration": 168,
    "start_time": "2021-12-27T19:53:20.099Z"
   },
   {
    "duration": 170,
    "start_time": "2021-12-27T19:53:42.587Z"
   },
   {
    "duration": 182,
    "start_time": "2021-12-27T19:53:48.595Z"
   },
   {
    "duration": 168,
    "start_time": "2021-12-27T19:53:53.703Z"
   },
   {
    "duration": 180,
    "start_time": "2021-12-27T19:54:01.056Z"
   },
   {
    "duration": 177,
    "start_time": "2021-12-27T19:54:18.683Z"
   },
   {
    "duration": 277,
    "start_time": "2021-12-27T19:54:25.851Z"
   },
   {
    "duration": 226,
    "start_time": "2021-12-27T19:55:21.331Z"
   },
   {
    "duration": 238,
    "start_time": "2021-12-27T19:55:37.295Z"
   },
   {
    "duration": 183,
    "start_time": "2021-12-27T19:55:42.755Z"
   },
   {
    "duration": 204,
    "start_time": "2021-12-27T19:55:48.335Z"
   },
   {
    "duration": 315,
    "start_time": "2021-12-27T19:56:56.479Z"
   },
   {
    "duration": 310,
    "start_time": "2021-12-27T19:57:19.335Z"
   },
   {
    "duration": 307,
    "start_time": "2021-12-27T19:57:45.879Z"
   },
   {
    "duration": 297,
    "start_time": "2021-12-27T19:58:06.775Z"
   },
   {
    "duration": 409,
    "start_time": "2021-12-27T19:59:39.247Z"
   },
   {
    "duration": 9,
    "start_time": "2021-12-27T20:10:28.258Z"
   },
   {
    "duration": 365,
    "start_time": "2021-12-27T20:11:30.471Z"
   },
   {
    "duration": 182,
    "start_time": "2021-12-27T20:11:44.835Z"
   },
   {
    "duration": 260,
    "start_time": "2021-12-27T20:24:00.921Z"
   },
   {
    "duration": 231,
    "start_time": "2021-12-27T20:24:19.177Z"
   },
   {
    "duration": 182,
    "start_time": "2021-12-27T20:24:30.641Z"
   },
   {
    "duration": 197,
    "start_time": "2021-12-27T20:24:36.613Z"
   },
   {
    "duration": 229,
    "start_time": "2021-12-27T20:24:43.721Z"
   },
   {
    "duration": 1002,
    "start_time": "2021-12-27T20:28:12.029Z"
   },
   {
    "duration": 11,
    "start_time": "2021-12-27T20:28:13.033Z"
   },
   {
    "duration": 8,
    "start_time": "2021-12-27T20:28:13.046Z"
   },
   {
    "duration": 6,
    "start_time": "2021-12-27T20:28:13.056Z"
   },
   {
    "duration": 12,
    "start_time": "2021-12-27T20:28:13.063Z"
   },
   {
    "duration": 49,
    "start_time": "2021-12-27T20:28:13.077Z"
   },
   {
    "duration": 33,
    "start_time": "2021-12-27T20:28:13.128Z"
   },
   {
    "duration": 8,
    "start_time": "2021-12-27T20:28:13.162Z"
   },
   {
    "duration": 5,
    "start_time": "2021-12-27T20:28:13.173Z"
   },
   {
    "duration": 13,
    "start_time": "2021-12-27T20:28:13.180Z"
   },
   {
    "duration": 7,
    "start_time": "2021-12-27T20:28:13.195Z"
   },
   {
    "duration": 7,
    "start_time": "2021-12-27T20:28:13.204Z"
   },
   {
    "duration": 52,
    "start_time": "2021-12-27T20:28:13.213Z"
   },
   {
    "duration": 9,
    "start_time": "2021-12-27T20:28:13.267Z"
   },
   {
    "duration": 9,
    "start_time": "2021-12-27T20:28:13.277Z"
   },
   {
    "duration": 6,
    "start_time": "2021-12-27T20:28:13.288Z"
   },
   {
    "duration": 11,
    "start_time": "2021-12-27T20:28:13.295Z"
   },
   {
    "duration": 13,
    "start_time": "2021-12-27T20:28:13.308Z"
   },
   {
    "duration": 40,
    "start_time": "2021-12-27T20:28:13.322Z"
   },
   {
    "duration": 8,
    "start_time": "2021-12-27T20:28:13.363Z"
   },
   {
    "duration": 28,
    "start_time": "2021-12-27T20:28:13.372Z"
   },
   {
    "duration": 6,
    "start_time": "2021-12-27T20:28:13.403Z"
   },
   {
    "duration": 8,
    "start_time": "2021-12-27T20:28:13.411Z"
   },
   {
    "duration": 347,
    "start_time": "2021-12-27T20:28:13.421Z"
   },
   {
    "duration": 253,
    "start_time": "2021-12-27T20:28:13.770Z"
   },
   {
    "duration": 10,
    "start_time": "2021-12-27T20:28:14.025Z"
   },
   {
    "duration": 271,
    "start_time": "2021-12-27T20:28:14.040Z"
   },
   {
    "duration": 258,
    "start_time": "2021-12-27T20:28:14.314Z"
   },
   {
    "duration": 308,
    "start_time": "2021-12-27T20:28:14.574Z"
   },
   {
    "duration": 163,
    "start_time": "2021-12-27T20:28:14.884Z"
   },
   {
    "duration": 12,
    "start_time": "2021-12-27T20:28:15.049Z"
   },
   {
    "duration": 7,
    "start_time": "2021-12-27T20:28:15.063Z"
   },
   {
    "duration": 7,
    "start_time": "2021-12-27T20:28:15.072Z"
   },
   {
    "duration": 9,
    "start_time": "2021-12-27T20:28:15.081Z"
   },
   {
    "duration": 11,
    "start_time": "2021-12-27T20:28:15.092Z"
   },
   {
    "duration": 29,
    "start_time": "2021-12-27T20:28:15.104Z"
   },
   {
    "duration": 15,
    "start_time": "2021-12-27T20:28:15.135Z"
   },
   {
    "duration": 10,
    "start_time": "2021-12-27T20:28:15.160Z"
   },
   {
    "duration": 236,
    "start_time": "2021-12-27T20:28:15.172Z"
   },
   {
    "duration": 240,
    "start_time": "2021-12-27T20:28:15.410Z"
   },
   {
    "duration": 11,
    "start_time": "2021-12-27T20:28:15.652Z"
   },
   {
    "duration": 11,
    "start_time": "2021-12-27T20:28:15.665Z"
   },
   {
    "duration": 210,
    "start_time": "2021-12-27T20:28:15.678Z"
   },
   {
    "duration": 5,
    "start_time": "2021-12-27T20:28:15.890Z"
   },
   {
    "duration": 211,
    "start_time": "2021-12-27T20:28:15.897Z"
   },
   {
    "duration": 202,
    "start_time": "2021-12-27T20:28:16.109Z"
   },
   {
    "duration": 6,
    "start_time": "2021-12-27T20:28:16.313Z"
   },
   {
    "duration": 214,
    "start_time": "2021-12-27T20:28:16.321Z"
   },
   {
    "duration": 569,
    "start_time": "2021-12-27T20:28:16.537Z"
   },
   {
    "duration": 8,
    "start_time": "2021-12-27T20:28:17.107Z"
   },
   {
    "duration": 19,
    "start_time": "2021-12-27T20:28:17.116Z"
   },
   {
    "duration": 224,
    "start_time": "2021-12-27T20:28:17.136Z"
   },
   {
    "duration": 203,
    "start_time": "2021-12-27T20:28:17.362Z"
   },
   {
    "duration": 264,
    "start_time": "2021-12-27T20:28:17.567Z"
   },
   {
    "duration": 246,
    "start_time": "2021-12-27T20:28:17.833Z"
   },
   {
    "duration": 189,
    "start_time": "2021-12-27T20:28:18.080Z"
   },
   {
    "duration": 211,
    "start_time": "2021-12-27T20:28:18.271Z"
   },
   {
    "duration": 256,
    "start_time": "2021-12-27T20:28:18.483Z"
   },
   {
    "duration": 704,
    "start_time": "2021-12-28T18:57:46.779Z"
   },
   {
    "duration": 10,
    "start_time": "2021-12-28T18:57:47.485Z"
   },
   {
    "duration": 7,
    "start_time": "2021-12-28T18:57:47.497Z"
   },
   {
    "duration": 5,
    "start_time": "2021-12-28T18:57:47.506Z"
   },
   {
    "duration": 9,
    "start_time": "2021-12-28T18:57:47.513Z"
   },
   {
    "duration": 72,
    "start_time": "2021-12-28T18:57:47.524Z"
   },
   {
    "duration": 8,
    "start_time": "2021-12-28T18:57:47.598Z"
   },
   {
    "duration": 9,
    "start_time": "2021-12-28T18:57:47.607Z"
   },
   {
    "duration": 5,
    "start_time": "2021-12-28T18:57:47.619Z"
   },
   {
    "duration": 36,
    "start_time": "2021-12-28T18:57:47.626Z"
   },
   {
    "duration": 7,
    "start_time": "2021-12-28T18:57:47.664Z"
   },
   {
    "duration": 7,
    "start_time": "2021-12-28T18:57:47.673Z"
   },
   {
    "duration": 21,
    "start_time": "2021-12-28T18:57:47.681Z"
   },
   {
    "duration": 9,
    "start_time": "2021-12-28T18:57:47.703Z"
   },
   {
    "duration": 10,
    "start_time": "2021-12-28T18:57:47.713Z"
   },
   {
    "duration": 35,
    "start_time": "2021-12-28T18:57:47.725Z"
   },
   {
    "duration": 16,
    "start_time": "2021-12-28T18:57:47.762Z"
   },
   {
    "duration": 15,
    "start_time": "2021-12-28T18:57:47.779Z"
   },
   {
    "duration": 8,
    "start_time": "2021-12-28T18:57:47.795Z"
   },
   {
    "duration": 7,
    "start_time": "2021-12-28T18:57:47.805Z"
   },
   {
    "duration": 48,
    "start_time": "2021-12-28T18:57:47.814Z"
   },
   {
    "duration": 7,
    "start_time": "2021-12-28T18:57:47.863Z"
   },
   {
    "duration": 15,
    "start_time": "2021-12-28T18:57:47.871Z"
   },
   {
    "duration": 324,
    "start_time": "2021-12-28T18:57:47.888Z"
   },
   {
    "duration": 249,
    "start_time": "2021-12-28T18:57:48.214Z"
   },
   {
    "duration": 7,
    "start_time": "2021-12-28T18:57:48.465Z"
   },
   {
    "duration": 252,
    "start_time": "2021-12-28T18:57:48.476Z"
   },
   {
    "duration": 248,
    "start_time": "2021-12-28T18:57:48.731Z"
   },
   {
    "duration": 307,
    "start_time": "2021-12-28T18:57:48.981Z"
   },
   {
    "duration": 152,
    "start_time": "2021-12-28T18:57:49.289Z"
   },
   {
    "duration": 8,
    "start_time": "2021-12-28T18:57:49.442Z"
   },
   {
    "duration": 14,
    "start_time": "2021-12-28T18:57:49.451Z"
   },
   {
    "duration": 7,
    "start_time": "2021-12-28T18:57:49.466Z"
   },
   {
    "duration": 9,
    "start_time": "2021-12-28T18:57:49.475Z"
   },
   {
    "duration": 6,
    "start_time": "2021-12-28T18:57:49.486Z"
   },
   {
    "duration": 6,
    "start_time": "2021-12-28T18:57:49.494Z"
   },
   {
    "duration": 13,
    "start_time": "2021-12-28T18:57:49.501Z"
   },
   {
    "duration": 8,
    "start_time": "2021-12-28T18:57:49.516Z"
   },
   {
    "duration": 259,
    "start_time": "2021-12-28T18:57:49.526Z"
   },
   {
    "duration": 234,
    "start_time": "2021-12-28T18:57:49.786Z"
   },
   {
    "duration": 6,
    "start_time": "2021-12-28T18:57:50.021Z"
   },
   {
    "duration": 10,
    "start_time": "2021-12-28T18:57:50.029Z"
   },
   {
    "duration": 224,
    "start_time": "2021-12-28T18:57:50.041Z"
   },
   {
    "duration": 5,
    "start_time": "2021-12-28T18:57:50.267Z"
   },
   {
    "duration": 206,
    "start_time": "2021-12-28T18:57:50.273Z"
   },
   {
    "duration": 207,
    "start_time": "2021-12-28T18:57:50.481Z"
   },
   {
    "duration": 5,
    "start_time": "2021-12-28T18:57:50.690Z"
   },
   {
    "duration": 207,
    "start_time": "2021-12-28T18:57:50.697Z"
   },
   {
    "duration": 547,
    "start_time": "2021-12-28T18:57:50.906Z"
   },
   {
    "duration": 11,
    "start_time": "2021-12-28T18:57:51.455Z"
   },
   {
    "duration": 30,
    "start_time": "2021-12-28T18:57:51.468Z"
   },
   {
    "duration": 195,
    "start_time": "2021-12-28T18:57:51.500Z"
   },
   {
    "duration": 206,
    "start_time": "2021-12-28T18:57:51.697Z"
   },
   {
    "duration": 259,
    "start_time": "2021-12-28T18:57:51.905Z"
   },
   {
    "duration": 245,
    "start_time": "2021-12-28T18:57:52.165Z"
   },
   {
    "duration": 189,
    "start_time": "2021-12-28T18:57:52.412Z"
   },
   {
    "duration": 208,
    "start_time": "2021-12-28T18:57:52.603Z"
   },
   {
    "duration": 243,
    "start_time": "2021-12-28T18:57:52.813Z"
   },
   {
    "duration": 326,
    "start_time": "2021-12-29T12:57:11.903Z"
   },
   {
    "duration": 907,
    "start_time": "2021-12-29T12:57:23.820Z"
   },
   {
    "duration": 19,
    "start_time": "2021-12-29T12:57:24.730Z"
   },
   {
    "duration": 14,
    "start_time": "2021-12-29T12:57:24.769Z"
   },
   {
    "duration": 7,
    "start_time": "2021-12-29T12:57:24.787Z"
   },
   {
    "duration": 19,
    "start_time": "2021-12-29T12:57:24.797Z"
   },
   {
    "duration": 122,
    "start_time": "2021-12-29T12:57:24.819Z"
   },
   {
    "duration": 29,
    "start_time": "2021-12-29T12:57:24.944Z"
   },
   {
    "duration": 14,
    "start_time": "2021-12-29T12:57:24.976Z"
   },
   {
    "duration": 8,
    "start_time": "2021-12-29T12:57:24.996Z"
   },
   {
    "duration": 61,
    "start_time": "2021-12-29T12:57:25.008Z"
   },
   {
    "duration": 13,
    "start_time": "2021-12-29T12:57:25.072Z"
   },
   {
    "duration": 13,
    "start_time": "2021-12-29T12:57:25.088Z"
   },
   {
    "duration": 76,
    "start_time": "2021-12-29T12:57:25.103Z"
   },
   {
    "duration": 14,
    "start_time": "2021-12-29T12:57:25.181Z"
   },
   {
    "duration": 12,
    "start_time": "2021-12-29T12:57:25.197Z"
   },
   {
    "duration": 8,
    "start_time": "2021-12-29T12:57:25.211Z"
   },
   {
    "duration": 48,
    "start_time": "2021-12-29T12:57:25.221Z"
   },
   {
    "duration": 20,
    "start_time": "2021-12-29T12:57:25.271Z"
   },
   {
    "duration": 11,
    "start_time": "2021-12-29T12:57:25.294Z"
   },
   {
    "duration": 11,
    "start_time": "2021-12-29T12:57:25.307Z"
   },
   {
    "duration": 76,
    "start_time": "2021-12-29T12:57:25.320Z"
   },
   {
    "duration": 8,
    "start_time": "2021-12-29T12:57:25.398Z"
   },
   {
    "duration": 8,
    "start_time": "2021-12-29T12:57:25.409Z"
   },
   {
    "duration": 1053,
    "start_time": "2021-12-29T12:57:25.419Z"
   },
   {
    "duration": 181,
    "start_time": "2021-12-29T12:57:26.296Z"
   },
   {
    "duration": 178,
    "start_time": "2021-12-29T12:57:26.301Z"
   },
   {
    "duration": 172,
    "start_time": "2021-12-29T12:57:26.308Z"
   },
   {
    "duration": 160,
    "start_time": "2021-12-29T12:57:26.321Z"
   },
   {
    "duration": 158,
    "start_time": "2021-12-29T12:57:26.325Z"
   },
   {
    "duration": 156,
    "start_time": "2021-12-29T12:57:26.328Z"
   },
   {
    "duration": 155,
    "start_time": "2021-12-29T12:57:26.331Z"
   },
   {
    "duration": 152,
    "start_time": "2021-12-29T12:57:26.335Z"
   },
   {
    "duration": 150,
    "start_time": "2021-12-29T12:57:26.338Z"
   },
   {
    "duration": 149,
    "start_time": "2021-12-29T12:57:26.341Z"
   },
   {
    "duration": 134,
    "start_time": "2021-12-29T12:57:26.357Z"
   },
   {
    "duration": 131,
    "start_time": "2021-12-29T12:57:26.361Z"
   },
   {
    "duration": 129,
    "start_time": "2021-12-29T12:57:26.364Z"
   },
   {
    "duration": 127,
    "start_time": "2021-12-29T12:57:26.368Z"
   },
   {
    "duration": 125,
    "start_time": "2021-12-29T12:57:26.371Z"
   },
   {
    "duration": 121,
    "start_time": "2021-12-29T12:57:26.376Z"
   },
   {
    "duration": 109,
    "start_time": "2021-12-29T12:57:26.390Z"
   },
   {
    "duration": 106,
    "start_time": "2021-12-29T12:57:26.394Z"
   },
   {
    "duration": 104,
    "start_time": "2021-12-29T12:57:26.397Z"
   },
   {
    "duration": 101,
    "start_time": "2021-12-29T12:57:26.402Z"
   },
   {
    "duration": 98,
    "start_time": "2021-12-29T12:57:26.406Z"
   },
   {
    "duration": 95,
    "start_time": "2021-12-29T12:57:26.410Z"
   },
   {
    "duration": 92,
    "start_time": "2021-12-29T12:57:26.414Z"
   },
   {
    "duration": 90,
    "start_time": "2021-12-29T12:57:26.418Z"
   },
   {
    "duration": 88,
    "start_time": "2021-12-29T12:57:26.421Z"
   },
   {
    "duration": 86,
    "start_time": "2021-12-29T12:57:26.425Z"
   },
   {
    "duration": 84,
    "start_time": "2021-12-29T12:57:26.428Z"
   },
   {
    "duration": 82,
    "start_time": "2021-12-29T12:57:26.431Z"
   },
   {
    "duration": 127,
    "start_time": "2021-12-29T12:57:26.440Z"
   },
   {
    "duration": 125,
    "start_time": "2021-12-29T12:57:26.444Z"
   },
   {
    "duration": 123,
    "start_time": "2021-12-29T12:57:26.447Z"
   },
   {
    "duration": 121,
    "start_time": "2021-12-29T12:57:26.451Z"
   },
   {
    "duration": 115,
    "start_time": "2021-12-29T12:57:26.458Z"
   },
   {
    "duration": 113,
    "start_time": "2021-12-29T12:57:26.462Z"
   },
   {
    "duration": 686,
    "start_time": "2021-12-29T12:58:54.408Z"
   },
   {
    "duration": 745,
    "start_time": "2021-12-29T13:01:59.939Z"
   },
   {
    "duration": 515,
    "start_time": "2021-12-29T13:02:23.779Z"
   },
   {
    "duration": 453,
    "start_time": "2021-12-29T13:02:39.455Z"
   },
   {
    "duration": 902,
    "start_time": "2021-12-29T13:03:33.281Z"
   },
   {
    "duration": 16,
    "start_time": "2021-12-29T13:03:34.186Z"
   },
   {
    "duration": 12,
    "start_time": "2021-12-29T13:03:34.205Z"
   },
   {
    "duration": 8,
    "start_time": "2021-12-29T13:03:34.220Z"
   },
   {
    "duration": 46,
    "start_time": "2021-12-29T13:03:34.230Z"
   },
   {
    "duration": 102,
    "start_time": "2021-12-29T13:03:34.278Z"
   },
   {
    "duration": 13,
    "start_time": "2021-12-29T13:03:34.383Z"
   },
   {
    "duration": 11,
    "start_time": "2021-12-29T13:03:34.400Z"
   },
   {
    "duration": 8,
    "start_time": "2021-12-29T13:03:34.415Z"
   },
   {
    "duration": 53,
    "start_time": "2021-12-29T13:03:34.426Z"
   },
   {
    "duration": 10,
    "start_time": "2021-12-29T13:03:34.481Z"
   },
   {
    "duration": 10,
    "start_time": "2021-12-29T13:03:34.493Z"
   },
   {
    "duration": 67,
    "start_time": "2021-12-29T13:03:34.505Z"
   },
   {
    "duration": 13,
    "start_time": "2021-12-29T13:03:34.575Z"
   },
   {
    "duration": 11,
    "start_time": "2021-12-29T13:03:34.590Z"
   },
   {
    "duration": 10,
    "start_time": "2021-12-29T13:03:34.603Z"
   },
   {
    "duration": 10,
    "start_time": "2021-12-29T13:03:34.615Z"
   },
   {
    "duration": 56,
    "start_time": "2021-12-29T13:03:34.628Z"
   },
   {
    "duration": 12,
    "start_time": "2021-12-29T13:03:34.687Z"
   },
   {
    "duration": 11,
    "start_time": "2021-12-29T13:03:34.701Z"
   },
   {
    "duration": 77,
    "start_time": "2021-12-29T13:03:34.714Z"
   },
   {
    "duration": 9,
    "start_time": "2021-12-29T13:03:34.793Z"
   },
   {
    "duration": 8,
    "start_time": "2021-12-29T13:03:34.808Z"
   },
   {
    "duration": 587,
    "start_time": "2021-12-29T13:03:34.819Z"
   },
   {
    "duration": 445,
    "start_time": "2021-12-29T13:03:35.409Z"
   },
   {
    "duration": 21,
    "start_time": "2021-12-29T13:03:35.856Z"
   },
   {
    "duration": 407,
    "start_time": "2021-12-29T13:03:35.879Z"
   },
   {
    "duration": 443,
    "start_time": "2021-12-29T13:03:36.288Z"
   },
   {
    "duration": 543,
    "start_time": "2021-12-29T13:03:36.734Z"
   },
   {
    "duration": 264,
    "start_time": "2021-12-29T13:03:37.279Z"
   },
   {
    "duration": 25,
    "start_time": "2021-12-29T13:03:37.546Z"
   },
   {
    "duration": 10,
    "start_time": "2021-12-29T13:03:37.573Z"
   },
   {
    "duration": 9,
    "start_time": "2021-12-29T13:03:37.586Z"
   },
   {
    "duration": 10,
    "start_time": "2021-12-29T13:03:37.597Z"
   },
   {
    "duration": 10,
    "start_time": "2021-12-29T13:03:37.610Z"
   },
   {
    "duration": 14,
    "start_time": "2021-12-29T13:03:37.668Z"
   },
   {
    "duration": 22,
    "start_time": "2021-12-29T13:03:37.685Z"
   },
   {
    "duration": 16,
    "start_time": "2021-12-29T13:03:37.709Z"
   },
   {
    "duration": 392,
    "start_time": "2021-12-29T13:03:37.768Z"
   },
   {
    "duration": 381,
    "start_time": "2021-12-29T13:03:38.162Z"
   },
   {
    "duration": 22,
    "start_time": "2021-12-29T13:03:38.546Z"
   },
   {
    "duration": 8,
    "start_time": "2021-12-29T13:03:38.571Z"
   },
   {
    "duration": 389,
    "start_time": "2021-12-29T13:03:38.582Z"
   },
   {
    "duration": 7,
    "start_time": "2021-12-29T13:03:38.973Z"
   },
   {
    "duration": 392,
    "start_time": "2021-12-29T13:03:38.982Z"
   },
   {
    "duration": 371,
    "start_time": "2021-12-29T13:03:39.376Z"
   },
   {
    "duration": 6,
    "start_time": "2021-12-29T13:03:39.750Z"
   },
   {
    "duration": 329,
    "start_time": "2021-12-29T13:03:39.758Z"
   },
   {
    "duration": 1032,
    "start_time": "2021-12-29T13:03:40.091Z"
   },
   {
    "duration": 11,
    "start_time": "2021-12-29T13:03:41.125Z"
   },
   {
    "duration": 39,
    "start_time": "2021-12-29T13:03:41.138Z"
   },
   {
    "duration": 349,
    "start_time": "2021-12-29T13:03:41.179Z"
   },
   {
    "duration": 341,
    "start_time": "2021-12-29T13:03:41.530Z"
   },
   {
    "duration": 443,
    "start_time": "2021-12-29T13:03:41.874Z"
   },
   {
    "duration": 436,
    "start_time": "2021-12-29T13:03:42.320Z"
   },
   {
    "duration": 351,
    "start_time": "2021-12-29T13:03:42.758Z"
   },
   {
    "duration": 371,
    "start_time": "2021-12-29T13:03:43.112Z"
   },
   {
    "duration": 427,
    "start_time": "2021-12-29T13:03:43.487Z"
   },
   {
    "duration": 431,
    "start_time": "2021-12-29T13:04:50.322Z"
   },
   {
    "duration": 429,
    "start_time": "2021-12-29T13:05:18.173Z"
   },
   {
    "duration": 422,
    "start_time": "2021-12-29T13:05:47.241Z"
   },
   {
    "duration": 528,
    "start_time": "2021-12-29T13:05:53.381Z"
   },
   {
    "duration": 556,
    "start_time": "2021-12-29T13:06:18.665Z"
   },
   {
    "duration": 249,
    "start_time": "2021-12-29T13:06:45.641Z"
   },
   {
    "duration": 130,
    "start_time": "2021-12-29T13:07:44.848Z"
   },
   {
    "duration": 494,
    "start_time": "2021-12-29T13:07:55.041Z"
   },
   {
    "duration": 373,
    "start_time": "2021-12-29T13:08:33.486Z"
   },
   {
    "duration": 351,
    "start_time": "2021-12-29T13:09:28.481Z"
   },
   {
    "duration": 361,
    "start_time": "2021-12-29T13:10:03.308Z"
   },
   {
    "duration": 348,
    "start_time": "2021-12-29T13:10:41.057Z"
   },
   {
    "duration": 324,
    "start_time": "2021-12-29T13:11:06.977Z"
   },
   {
    "duration": 684,
    "start_time": "2021-12-29T13:11:54.008Z"
   },
   {
    "duration": 514,
    "start_time": "2021-12-29T13:12:08.305Z"
   },
   {
    "duration": 308,
    "start_time": "2021-12-29T13:12:23.053Z"
   },
   {
    "duration": 359,
    "start_time": "2021-12-29T13:12:35.436Z"
   },
   {
    "duration": 376,
    "start_time": "2021-12-29T13:12:47.225Z"
   },
   {
    "duration": 348,
    "start_time": "2021-12-29T13:13:01.401Z"
   },
   {
    "duration": 351,
    "start_time": "2021-12-29T13:13:08.356Z"
   },
   {
    "duration": 335,
    "start_time": "2021-12-29T13:13:16.408Z"
   },
   {
    "duration": 354,
    "start_time": "2021-12-29T13:13:27.108Z"
   },
   {
    "duration": 343,
    "start_time": "2021-12-29T13:15:14.956Z"
   },
   {
    "duration": 350,
    "start_time": "2021-12-29T13:16:11.592Z"
   },
   {
    "duration": 547,
    "start_time": "2021-12-29T13:16:43.679Z"
   },
   {
    "duration": 424,
    "start_time": "2021-12-29T13:17:03.008Z"
   },
   {
    "duration": 412,
    "start_time": "2021-12-29T13:17:23.308Z"
   },
   {
    "duration": 463,
    "start_time": "2021-12-29T13:17:40.724Z"
   },
   {
    "duration": 563,
    "start_time": "2021-12-29T13:18:01.277Z"
   },
   {
    "duration": 385,
    "start_time": "2022-06-23T19:59:23.638Z"
   },
   {
    "duration": 422,
    "start_time": "2022-06-23T19:59:24.025Z"
   },
   {
    "duration": 9,
    "start_time": "2022-06-23T19:59:24.449Z"
   },
   {
    "duration": 8,
    "start_time": "2022-06-23T19:59:24.459Z"
   },
   {
    "duration": 35,
    "start_time": "2022-06-23T19:59:24.473Z"
   },
   {
    "duration": 31,
    "start_time": "2022-06-23T19:59:24.509Z"
   },
   {
    "duration": 8,
    "start_time": "2022-06-23T19:59:24.542Z"
   },
   {
    "duration": 20,
    "start_time": "2022-06-23T19:59:24.552Z"
   },
   {
    "duration": 27,
    "start_time": "2022-06-23T19:59:24.574Z"
   },
   {
    "duration": 18,
    "start_time": "2022-06-23T19:59:24.606Z"
   },
   {
    "duration": 7,
    "start_time": "2022-06-23T19:59:24.626Z"
   },
   {
    "duration": 8,
    "start_time": "2022-06-23T19:59:24.635Z"
   },
   {
    "duration": 22,
    "start_time": "2022-06-23T19:59:24.645Z"
   },
   {
    "duration": 20,
    "start_time": "2022-06-23T19:59:24.675Z"
   },
   {
    "duration": 16,
    "start_time": "2022-06-23T19:59:24.698Z"
   },
   {
    "duration": 5,
    "start_time": "2022-06-23T19:59:24.715Z"
   },
   {
    "duration": 8,
    "start_time": "2022-06-23T19:59:24.721Z"
   },
   {
    "duration": 16,
    "start_time": "2022-06-23T19:59:24.730Z"
   },
   {
    "duration": 20,
    "start_time": "2022-06-23T19:59:24.748Z"
   },
   {
    "duration": 8,
    "start_time": "2022-06-23T19:59:24.770Z"
   },
   {
    "duration": 46,
    "start_time": "2022-06-23T19:59:24.779Z"
   },
   {
    "duration": 5,
    "start_time": "2022-06-23T19:59:24.827Z"
   },
   {
    "duration": 10,
    "start_time": "2022-06-23T19:59:24.834Z"
   },
   {
    "duration": 689,
    "start_time": "2022-06-23T19:59:24.845Z"
   },
   {
    "duration": 263,
    "start_time": "2022-06-23T19:59:25.537Z"
   },
   {
    "duration": 10,
    "start_time": "2022-06-23T19:59:25.802Z"
   },
   {
    "duration": 244,
    "start_time": "2022-06-23T19:59:25.814Z"
   },
   {
    "duration": 215,
    "start_time": "2022-06-23T19:59:26.068Z"
   },
   {
    "duration": 240,
    "start_time": "2022-06-23T19:59:26.285Z"
   },
   {
    "duration": 155,
    "start_time": "2022-06-23T19:59:26.526Z"
   },
   {
    "duration": 24,
    "start_time": "2022-06-23T19:59:26.683Z"
   },
   {
    "duration": 7,
    "start_time": "2022-06-23T19:59:26.709Z"
   },
   {
    "duration": 8,
    "start_time": "2022-06-23T19:59:26.717Z"
   },
   {
    "duration": 10,
    "start_time": "2022-06-23T19:59:26.727Z"
   },
   {
    "duration": 6,
    "start_time": "2022-06-23T19:59:26.738Z"
   },
   {
    "duration": 7,
    "start_time": "2022-06-23T19:59:26.746Z"
   },
   {
    "duration": 36,
    "start_time": "2022-06-23T19:59:26.754Z"
   },
   {
    "duration": 25,
    "start_time": "2022-06-23T19:59:26.795Z"
   },
   {
    "duration": 221,
    "start_time": "2022-06-23T19:59:26.821Z"
   },
   {
    "duration": 175,
    "start_time": "2022-06-23T19:59:27.043Z"
   },
   {
    "duration": 5,
    "start_time": "2022-06-23T19:59:27.220Z"
   },
   {
    "duration": 7,
    "start_time": "2022-06-23T19:59:27.226Z"
   },
   {
    "duration": 187,
    "start_time": "2022-06-23T19:59:27.234Z"
   },
   {
    "duration": 5,
    "start_time": "2022-06-23T19:59:27.422Z"
   },
   {
    "duration": 179,
    "start_time": "2022-06-23T19:59:27.429Z"
   },
   {
    "duration": 161,
    "start_time": "2022-06-23T19:59:27.610Z"
   },
   {
    "duration": 9,
    "start_time": "2022-06-23T19:59:27.779Z"
   },
   {
    "duration": 238,
    "start_time": "2022-06-23T19:59:27.789Z"
   },
   {
    "duration": 447,
    "start_time": "2022-06-23T19:59:28.028Z"
   },
   {
    "duration": 18,
    "start_time": "2022-06-23T19:59:28.476Z"
   },
   {
    "duration": 21,
    "start_time": "2022-06-23T19:59:28.496Z"
   },
   {
    "duration": 153,
    "start_time": "2022-06-23T19:59:28.518Z"
   },
   {
    "duration": 169,
    "start_time": "2022-06-23T19:59:28.675Z"
   },
   {
    "duration": 254,
    "start_time": "2022-06-23T19:59:28.846Z"
   },
   {
    "duration": 232,
    "start_time": "2022-06-23T19:59:29.103Z"
   },
   {
    "duration": 169,
    "start_time": "2022-06-23T19:59:29.336Z"
   },
   {
    "duration": 204,
    "start_time": "2022-06-23T19:59:29.507Z"
   },
   {
    "duration": 190,
    "start_time": "2022-06-23T19:59:29.713Z"
   }
  ],
  "kernelspec": {
   "display_name": "Python 3 (ipykernel)",
   "language": "python",
   "name": "python3"
  },
  "language_info": {
   "codemirror_mode": {
    "name": "ipython",
    "version": 3
   },
   "file_extension": ".py",
   "mimetype": "text/x-python",
   "name": "python",
   "nbconvert_exporter": "python",
   "pygments_lexer": "ipython3",
   "version": "3.9.12"
  },
  "toc": {
   "base_numbering": 1,
   "nav_menu": {},
   "number_sections": true,
   "sideBar": true,
   "skip_h1_title": true,
   "title_cell": "Содержание",
   "title_sidebar": "Contents",
   "toc_cell": true,
   "toc_position": {
    "height": "calc(100% - 180px)",
    "left": "10px",
    "top": "150px",
    "width": "235.594px"
   },
   "toc_section_display": true,
   "toc_window_display": true
  }
 },
 "nbformat": 4,
 "nbformat_minor": 2
}
