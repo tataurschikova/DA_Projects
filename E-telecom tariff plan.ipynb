{
 "cells": [
  {
   "cell_type": "markdown",
   "metadata": {},
   "source": [
    "# Defining the most suitable plan for telecom company\n",
    "\n",
    "Preliminary tariff plans analysis needed based on the small customers selection sample. \n",
    "There are 500 'MegaLine' Users: who they are? where are they from? which plan have they been using? how many calls and messages each one sent for 2018 year? It is necessary to conduct Users' behavior analysis and make a conclusion which plan is the most suitable one.\n",
    "\n",
    "Plans description\n",
    "\n",
    "Plan «Smart»\n",
    "* Monthly payment: 550 RUR\n",
    "* Included: 500 minutes talk time; 50 SMS & 15 GB of internet traffic\n",
    "* Services cost in excess of the plan: \n",
    "1. 1 minute talk: 3 RUR ('MegaLine' always rounds numbers up for minutes and megabytes. If the user has been talking just for 1 second then it is counted as 1 whole minute in the plan);\n",
    "2. SMS: 3 RUR;\n",
    "3. 1 GB of internet-traffic: 200 RUR;\n",
    "\n",
    "Plan «Ultra»\n",
    "* Monthly payment: 1950 RUR\n",
    "* Included: 3000 minutes talk time; 1000 SMS & 30 GB of internet traffic\n",
    "* Services cost in excess of the plan:\n",
    "1. 1 minute talk: 1 RUR\n",
    "2. SMS: 1 RUR;\n",
    "3. 1 GB of internet-traffic: 150 RUR"
   ]
  },
  {
   "cell_type": "markdown",
   "metadata": {},
   "source": [
    "## Examining data from a file"
   ]
  },
  {
   "cell_type": "markdown",
   "metadata": {},
   "source": [
    "Importing all the data available, then we will decide on the most suitable data aggregation approach.\n",
    "Lets convert date column to the datetime format for all the tables & add 'month' column to enable grouping tables based on the user and month."
   ]
  },
  {
   "cell_type": "code",
   "execution_count": 1,
   "metadata": {
    "scrolled": true
   },
   "outputs": [],
   "source": [
    "import pandas as pd\n",
    "import numpy as np\n",
    "import matplotlib.pyplot as plt"
   ]
  },
  {
   "cell_type": "markdown",
   "metadata": {},
   "source": [
    "'MegaLine' always rounds up seconds to minutes so every call duration will be rounded upwards."
   ]
  },
  {
   "cell_type": "code",
   "execution_count": 2,
   "metadata": {},
   "outputs": [
    {
     "name": "stdout",
     "output_type": "stream",
     "text": [
      "<class 'pandas.core.frame.DataFrame'>\n",
      "RangeIndex: 202607 entries, 0 to 202606\n",
      "Data columns (total 4 columns):\n",
      " #   Column     Non-Null Count   Dtype  \n",
      "---  ------     --------------   -----  \n",
      " 0   id         202607 non-null  object \n",
      " 1   call_date  202607 non-null  object \n",
      " 2   duration   202607 non-null  float64\n",
      " 3   user_id    202607 non-null  int64  \n",
      "dtypes: float64(1), int64(1), object(2)\n",
      "memory usage: 6.2+ MB\n"
     ]
    }
   ],
   "source": [
    "calls= pd.read_csv('calls.csv')\n",
    "calls['duration'] = np.ceil(calls['duration'])\n",
    "calls.info()"
   ]
  },
  {
   "cell_type": "code",
   "execution_count": 3,
   "metadata": {},
   "outputs": [
    {
     "data": {
      "text/html": [
       "<div>\n",
       "<style scoped>\n",
       "    .dataframe tbody tr th:only-of-type {\n",
       "        vertical-align: middle;\n",
       "    }\n",
       "\n",
       "    .dataframe tbody tr th {\n",
       "        vertical-align: top;\n",
       "    }\n",
       "\n",
       "    .dataframe thead th {\n",
       "        text-align: right;\n",
       "    }\n",
       "</style>\n",
       "<table border=\"1\" class=\"dataframe\">\n",
       "  <thead>\n",
       "    <tr style=\"text-align: right;\">\n",
       "      <th></th>\n",
       "      <th>id</th>\n",
       "      <th>call_date</th>\n",
       "      <th>duration</th>\n",
       "      <th>user_id</th>\n",
       "      <th>month</th>\n",
       "    </tr>\n",
       "  </thead>\n",
       "  <tbody>\n",
       "    <tr>\n",
       "      <th>0</th>\n",
       "      <td>1000_0</td>\n",
       "      <td>2018-07-25</td>\n",
       "      <td>0.0</td>\n",
       "      <td>1000</td>\n",
       "      <td>2018-07-01</td>\n",
       "    </tr>\n",
       "    <tr>\n",
       "      <th>1</th>\n",
       "      <td>1000_1</td>\n",
       "      <td>2018-08-17</td>\n",
       "      <td>0.0</td>\n",
       "      <td>1000</td>\n",
       "      <td>2018-08-01</td>\n",
       "    </tr>\n",
       "    <tr>\n",
       "      <th>2</th>\n",
       "      <td>1000_2</td>\n",
       "      <td>2018-06-11</td>\n",
       "      <td>3.0</td>\n",
       "      <td>1000</td>\n",
       "      <td>2018-06-01</td>\n",
       "    </tr>\n",
       "    <tr>\n",
       "      <th>3</th>\n",
       "      <td>1000_3</td>\n",
       "      <td>2018-09-21</td>\n",
       "      <td>14.0</td>\n",
       "      <td>1000</td>\n",
       "      <td>2018-09-01</td>\n",
       "    </tr>\n",
       "    <tr>\n",
       "      <th>4</th>\n",
       "      <td>1000_4</td>\n",
       "      <td>2018-12-15</td>\n",
       "      <td>6.0</td>\n",
       "      <td>1000</td>\n",
       "      <td>2018-12-01</td>\n",
       "    </tr>\n",
       "  </tbody>\n",
       "</table>\n",
       "</div>"
      ],
      "text/plain": [
       "       id  call_date  duration  user_id      month\n",
       "0  1000_0 2018-07-25       0.0     1000 2018-07-01\n",
       "1  1000_1 2018-08-17       0.0     1000 2018-08-01\n",
       "2  1000_2 2018-06-11       3.0     1000 2018-06-01\n",
       "3  1000_3 2018-09-21      14.0     1000 2018-09-01\n",
       "4  1000_4 2018-12-15       6.0     1000 2018-12-01"
      ]
     },
     "execution_count": 3,
     "metadata": {},
     "output_type": "execute_result"
    }
   ],
   "source": [
    "calls['call_date'] = pd.to_datetime(calls['call_date'], format='%Y-%m-%d')\n",
    "calls['month'] = calls['call_date'].astype('datetime64[M]')\n",
    "calls.head()"
   ]
  },
  {
   "cell_type": "code",
   "execution_count": 4,
   "metadata": {},
   "outputs": [
    {
     "name": "stdout",
     "output_type": "stream",
     "text": [
      "<class 'pandas.core.frame.DataFrame'>\n",
      "RangeIndex: 149396 entries, 0 to 149395\n",
      "Data columns (total 6 columns):\n",
      " #   Column        Non-Null Count   Dtype         \n",
      "---  ------        --------------   -----         \n",
      " 0   Unnamed: 0    149396 non-null  int64         \n",
      " 1   id            149396 non-null  object        \n",
      " 2   mb_used       149396 non-null  float64       \n",
      " 3   session_date  149396 non-null  datetime64[ns]\n",
      " 4   user_id       149396 non-null  int64         \n",
      " 5   month         149396 non-null  datetime64[ns]\n",
      "dtypes: datetime64[ns](2), float64(1), int64(2), object(1)\n",
      "memory usage: 6.8+ MB\n"
     ]
    },
    {
     "data": {
      "text/html": [
       "<div>\n",
       "<style scoped>\n",
       "    .dataframe tbody tr th:only-of-type {\n",
       "        vertical-align: middle;\n",
       "    }\n",
       "\n",
       "    .dataframe tbody tr th {\n",
       "        vertical-align: top;\n",
       "    }\n",
       "\n",
       "    .dataframe thead th {\n",
       "        text-align: right;\n",
       "    }\n",
       "</style>\n",
       "<table border=\"1\" class=\"dataframe\">\n",
       "  <thead>\n",
       "    <tr style=\"text-align: right;\">\n",
       "      <th></th>\n",
       "      <th>Unnamed: 0</th>\n",
       "      <th>id</th>\n",
       "      <th>mb_used</th>\n",
       "      <th>session_date</th>\n",
       "      <th>user_id</th>\n",
       "      <th>month</th>\n",
       "    </tr>\n",
       "  </thead>\n",
       "  <tbody>\n",
       "    <tr>\n",
       "      <th>0</th>\n",
       "      <td>0</td>\n",
       "      <td>1000_0</td>\n",
       "      <td>112.95</td>\n",
       "      <td>2018-11-25</td>\n",
       "      <td>1000</td>\n",
       "      <td>2018-11-01</td>\n",
       "    </tr>\n",
       "    <tr>\n",
       "      <th>1</th>\n",
       "      <td>1</td>\n",
       "      <td>1000_1</td>\n",
       "      <td>1052.81</td>\n",
       "      <td>2018-09-07</td>\n",
       "      <td>1000</td>\n",
       "      <td>2018-09-01</td>\n",
       "    </tr>\n",
       "    <tr>\n",
       "      <th>2</th>\n",
       "      <td>2</td>\n",
       "      <td>1000_2</td>\n",
       "      <td>1197.26</td>\n",
       "      <td>2018-06-25</td>\n",
       "      <td>1000</td>\n",
       "      <td>2018-06-01</td>\n",
       "    </tr>\n",
       "    <tr>\n",
       "      <th>3</th>\n",
       "      <td>3</td>\n",
       "      <td>1000_3</td>\n",
       "      <td>550.27</td>\n",
       "      <td>2018-08-22</td>\n",
       "      <td>1000</td>\n",
       "      <td>2018-08-01</td>\n",
       "    </tr>\n",
       "    <tr>\n",
       "      <th>4</th>\n",
       "      <td>4</td>\n",
       "      <td>1000_4</td>\n",
       "      <td>302.56</td>\n",
       "      <td>2018-09-24</td>\n",
       "      <td>1000</td>\n",
       "      <td>2018-09-01</td>\n",
       "    </tr>\n",
       "  </tbody>\n",
       "</table>\n",
       "</div>"
      ],
      "text/plain": [
       "   Unnamed: 0      id  mb_used session_date  user_id      month\n",
       "0           0  1000_0   112.95   2018-11-25     1000 2018-11-01\n",
       "1           1  1000_1  1052.81   2018-09-07     1000 2018-09-01\n",
       "2           2  1000_2  1197.26   2018-06-25     1000 2018-06-01\n",
       "3           3  1000_3   550.27   2018-08-22     1000 2018-08-01\n",
       "4           4  1000_4   302.56   2018-09-24     1000 2018-09-01"
      ]
     },
     "execution_count": 4,
     "metadata": {},
     "output_type": "execute_result"
    }
   ],
   "source": [
    "internet = pd.read_csv('internet.csv')\n",
    "internet['session_date'] = pd.to_datetime(internet['session_date'], format='%Y-%m-%d')\n",
    "internet['month'] = internet['session_date'].astype('datetime64[M]')\n",
    "internet.info()\n",
    "internet.head()"
   ]
  },
  {
   "cell_type": "code",
   "execution_count": 5,
   "metadata": {},
   "outputs": [
    {
     "name": "stdout",
     "output_type": "stream",
     "text": [
      "<class 'pandas.core.frame.DataFrame'>\n",
      "RangeIndex: 123036 entries, 0 to 123035\n",
      "Data columns (total 4 columns):\n",
      " #   Column        Non-Null Count   Dtype         \n",
      "---  ------        --------------   -----         \n",
      " 0   id            123036 non-null  object        \n",
      " 1   message_date  123036 non-null  datetime64[ns]\n",
      " 2   user_id       123036 non-null  int64         \n",
      " 3   month         123036 non-null  datetime64[ns]\n",
      "dtypes: datetime64[ns](2), int64(1), object(1)\n",
      "memory usage: 3.8+ MB\n"
     ]
    },
    {
     "data": {
      "text/html": [
       "<div>\n",
       "<style scoped>\n",
       "    .dataframe tbody tr th:only-of-type {\n",
       "        vertical-align: middle;\n",
       "    }\n",
       "\n",
       "    .dataframe tbody tr th {\n",
       "        vertical-align: top;\n",
       "    }\n",
       "\n",
       "    .dataframe thead th {\n",
       "        text-align: right;\n",
       "    }\n",
       "</style>\n",
       "<table border=\"1\" class=\"dataframe\">\n",
       "  <thead>\n",
       "    <tr style=\"text-align: right;\">\n",
       "      <th></th>\n",
       "      <th>id</th>\n",
       "      <th>message_date</th>\n",
       "      <th>user_id</th>\n",
       "      <th>month</th>\n",
       "    </tr>\n",
       "  </thead>\n",
       "  <tbody>\n",
       "    <tr>\n",
       "      <th>0</th>\n",
       "      <td>1000_0</td>\n",
       "      <td>2018-06-27</td>\n",
       "      <td>1000</td>\n",
       "      <td>2018-06-01</td>\n",
       "    </tr>\n",
       "    <tr>\n",
       "      <th>1</th>\n",
       "      <td>1000_1</td>\n",
       "      <td>2018-10-08</td>\n",
       "      <td>1000</td>\n",
       "      <td>2018-10-01</td>\n",
       "    </tr>\n",
       "    <tr>\n",
       "      <th>2</th>\n",
       "      <td>1000_2</td>\n",
       "      <td>2018-08-04</td>\n",
       "      <td>1000</td>\n",
       "      <td>2018-08-01</td>\n",
       "    </tr>\n",
       "    <tr>\n",
       "      <th>3</th>\n",
       "      <td>1000_3</td>\n",
       "      <td>2018-06-16</td>\n",
       "      <td>1000</td>\n",
       "      <td>2018-06-01</td>\n",
       "    </tr>\n",
       "    <tr>\n",
       "      <th>4</th>\n",
       "      <td>1000_4</td>\n",
       "      <td>2018-12-05</td>\n",
       "      <td>1000</td>\n",
       "      <td>2018-12-01</td>\n",
       "    </tr>\n",
       "  </tbody>\n",
       "</table>\n",
       "</div>"
      ],
      "text/plain": [
       "       id message_date  user_id      month\n",
       "0  1000_0   2018-06-27     1000 2018-06-01\n",
       "1  1000_1   2018-10-08     1000 2018-10-01\n",
       "2  1000_2   2018-08-04     1000 2018-08-01\n",
       "3  1000_3   2018-06-16     1000 2018-06-01\n",
       "4  1000_4   2018-12-05     1000 2018-12-01"
      ]
     },
     "execution_count": 5,
     "metadata": {},
     "output_type": "execute_result"
    }
   ],
   "source": [
    "messages = pd.read_csv('messages.csv')\n",
    "messages['message_date'] = pd.to_datetime(messages['message_date'], format='%Y-%m-%d')\n",
    "messages['month'] = messages['message_date'].astype('datetime64[M]')\n",
    "messages.info()\n",
    "messages.head()"
   ]
  },
  {
   "cell_type": "code",
   "execution_count": 6,
   "metadata": {},
   "outputs": [
    {
     "name": "stdout",
     "output_type": "stream",
     "text": [
      "<class 'pandas.core.frame.DataFrame'>\n",
      "RangeIndex: 2 entries, 0 to 1\n",
      "Data columns (total 8 columns):\n",
      " #   Column                 Non-Null Count  Dtype \n",
      "---  ------                 --------------  ----- \n",
      " 0   messages_included      2 non-null      int64 \n",
      " 1   mb_per_month_included  2 non-null      int64 \n",
      " 2   minutes_included       2 non-null      int64 \n",
      " 3   rub_monthly_fee        2 non-null      int64 \n",
      " 4   rub_per_gb             2 non-null      int64 \n",
      " 5   rub_per_message        2 non-null      int64 \n",
      " 6   rub_per_minute         2 non-null      int64 \n",
      " 7   tariff                 2 non-null      object\n",
      "dtypes: int64(7), object(1)\n",
      "memory usage: 256.0+ bytes\n"
     ]
    },
    {
     "data": {
      "text/html": [
       "<div>\n",
       "<style scoped>\n",
       "    .dataframe tbody tr th:only-of-type {\n",
       "        vertical-align: middle;\n",
       "    }\n",
       "\n",
       "    .dataframe tbody tr th {\n",
       "        vertical-align: top;\n",
       "    }\n",
       "\n",
       "    .dataframe thead th {\n",
       "        text-align: right;\n",
       "    }\n",
       "</style>\n",
       "<table border=\"1\" class=\"dataframe\">\n",
       "  <thead>\n",
       "    <tr style=\"text-align: right;\">\n",
       "      <th></th>\n",
       "      <th>messages_included</th>\n",
       "      <th>mb_per_month_included</th>\n",
       "      <th>minutes_included</th>\n",
       "      <th>rub_monthly_fee</th>\n",
       "      <th>rub_per_gb</th>\n",
       "      <th>rub_per_message</th>\n",
       "      <th>rub_per_minute</th>\n",
       "      <th>tariff</th>\n",
       "    </tr>\n",
       "  </thead>\n",
       "  <tbody>\n",
       "    <tr>\n",
       "      <th>0</th>\n",
       "      <td>50</td>\n",
       "      <td>15360</td>\n",
       "      <td>500</td>\n",
       "      <td>550</td>\n",
       "      <td>200</td>\n",
       "      <td>3</td>\n",
       "      <td>3</td>\n",
       "      <td>smart</td>\n",
       "    </tr>\n",
       "    <tr>\n",
       "      <th>1</th>\n",
       "      <td>1000</td>\n",
       "      <td>30720</td>\n",
       "      <td>3000</td>\n",
       "      <td>1950</td>\n",
       "      <td>150</td>\n",
       "      <td>1</td>\n",
       "      <td>1</td>\n",
       "      <td>ultra</td>\n",
       "    </tr>\n",
       "  </tbody>\n",
       "</table>\n",
       "</div>"
      ],
      "text/plain": [
       "   messages_included  mb_per_month_included  minutes_included  \\\n",
       "0                 50                  15360               500   \n",
       "1               1000                  30720              3000   \n",
       "\n",
       "   rub_monthly_fee  rub_per_gb  rub_per_message  rub_per_minute tariff  \n",
       "0              550         200                3               3  smart  \n",
       "1             1950         150                1               1  ultra  "
      ]
     },
     "execution_count": 6,
     "metadata": {},
     "output_type": "execute_result"
    }
   ],
   "source": [
    "tariffs = pd.read_csv('tariffs.csv')\n",
    "tariffs.rename(columns={'tariff_name': 'tariff'}, inplace=True) #replaced the column name to then merge with the users table \n",
    "tariffs.info()\n",
    "tariffs.head()"
   ]
  },
  {
   "cell_type": "code",
   "execution_count": 7,
   "metadata": {},
   "outputs": [
    {
     "name": "stdout",
     "output_type": "stream",
     "text": [
      "<class 'pandas.core.frame.DataFrame'>\n",
      "RangeIndex: 500 entries, 0 to 499\n",
      "Data columns (total 8 columns):\n",
      " #   Column      Non-Null Count  Dtype \n",
      "---  ------      --------------  ----- \n",
      " 0   user_id     500 non-null    int64 \n",
      " 1   age         500 non-null    int64 \n",
      " 2   churn_date  38 non-null     object\n",
      " 3   city        500 non-null    object\n",
      " 4   first_name  500 non-null    object\n",
      " 5   last_name   500 non-null    object\n",
      " 6   reg_date    500 non-null    object\n",
      " 7   tariff      500 non-null    object\n",
      "dtypes: int64(2), object(6)\n",
      "memory usage: 31.4+ KB\n"
     ]
    }
   ],
   "source": [
    "users = pd.read_csv('users.csv')\n",
    "users.info()"
   ]
  },
  {
   "cell_type": "markdown",
   "metadata": {},
   "source": [
    "Lets group tables, first based on the calls, messages and internet usage. All the tables contain common column user_id & month column added previously."
   ]
  },
  {
   "cell_type": "code",
   "execution_count": 8,
   "metadata": {},
   "outputs": [],
   "source": [
    "calls = calls.groupby(['user_id', 'month']).agg({'duration':'sum'}).reset_index()\n",
    "internet = internet.groupby(['user_id', 'month']).agg({'mb_used':'sum'}).reset_index()\n",
    "messages = messages.groupby(['user_id', 'month']).agg({'message_date':'count'}).reset_index()"
   ]
  },
  {
   "cell_type": "markdown",
   "metadata": {},
   "source": [
    "Now lets unite tables with calls, SMS, internet."
   ]
  },
  {
   "cell_type": "code",
   "execution_count": 9,
   "metadata": {},
   "outputs": [],
   "source": [
    "data = calls.merge(internet, on = ['user_id', 'month'], how = 'outer')\n",
    "data = messages.merge(data, on = ['user_id', 'month'], how = 'outer')"
   ]
  },
  {
   "cell_type": "markdown",
   "metadata": {},
   "source": [
    "Lets unite tables with plans info & customers info, then add to the main data."
   ]
  },
  {
   "cell_type": "code",
   "execution_count": 10,
   "metadata": {},
   "outputs": [
    {
     "data": {
      "text/html": [
       "<div>\n",
       "<style scoped>\n",
       "    .dataframe tbody tr th:only-of-type {\n",
       "        vertical-align: middle;\n",
       "    }\n",
       "\n",
       "    .dataframe tbody tr th {\n",
       "        vertical-align: top;\n",
       "    }\n",
       "\n",
       "    .dataframe thead th {\n",
       "        text-align: right;\n",
       "    }\n",
       "</style>\n",
       "<table border=\"1\" class=\"dataframe\">\n",
       "  <thead>\n",
       "    <tr style=\"text-align: right;\">\n",
       "      <th></th>\n",
       "      <th>messages_included</th>\n",
       "      <th>mb_per_month_included</th>\n",
       "      <th>minutes_included</th>\n",
       "      <th>rub_monthly_fee</th>\n",
       "      <th>rub_per_gb</th>\n",
       "      <th>rub_per_message</th>\n",
       "      <th>rub_per_minute</th>\n",
       "      <th>tariff</th>\n",
       "      <th>user_id</th>\n",
       "      <th>age</th>\n",
       "      <th>churn_date</th>\n",
       "      <th>city</th>\n",
       "      <th>first_name</th>\n",
       "      <th>last_name</th>\n",
       "      <th>reg_date</th>\n",
       "      <th>month</th>\n",
       "      <th>message_date</th>\n",
       "      <th>duration</th>\n",
       "      <th>mb_used</th>\n",
       "    </tr>\n",
       "  </thead>\n",
       "  <tbody>\n",
       "    <tr>\n",
       "      <th>0</th>\n",
       "      <td>50</td>\n",
       "      <td>15360</td>\n",
       "      <td>500</td>\n",
       "      <td>550</td>\n",
       "      <td>200</td>\n",
       "      <td>3</td>\n",
       "      <td>3</td>\n",
       "      <td>smart</td>\n",
       "      <td>1001</td>\n",
       "      <td>41</td>\n",
       "      <td>NaN</td>\n",
       "      <td>Москва</td>\n",
       "      <td>Иван</td>\n",
       "      <td>Ежов</td>\n",
       "      <td>2018-11-01</td>\n",
       "      <td>2018-11-01</td>\n",
       "      <td>NaN</td>\n",
       "      <td>430.0</td>\n",
       "      <td>18429.34</td>\n",
       "    </tr>\n",
       "    <tr>\n",
       "      <th>1</th>\n",
       "      <td>50</td>\n",
       "      <td>15360</td>\n",
       "      <td>500</td>\n",
       "      <td>550</td>\n",
       "      <td>200</td>\n",
       "      <td>3</td>\n",
       "      <td>3</td>\n",
       "      <td>smart</td>\n",
       "      <td>1001</td>\n",
       "      <td>41</td>\n",
       "      <td>NaN</td>\n",
       "      <td>Москва</td>\n",
       "      <td>Иван</td>\n",
       "      <td>Ежов</td>\n",
       "      <td>2018-11-01</td>\n",
       "      <td>2018-12-01</td>\n",
       "      <td>NaN</td>\n",
       "      <td>414.0</td>\n",
       "      <td>14036.66</td>\n",
       "    </tr>\n",
       "    <tr>\n",
       "      <th>2</th>\n",
       "      <td>50</td>\n",
       "      <td>15360</td>\n",
       "      <td>500</td>\n",
       "      <td>550</td>\n",
       "      <td>200</td>\n",
       "      <td>3</td>\n",
       "      <td>3</td>\n",
       "      <td>smart</td>\n",
       "      <td>1002</td>\n",
       "      <td>59</td>\n",
       "      <td>NaN</td>\n",
       "      <td>Стерлитамак</td>\n",
       "      <td>Евгений</td>\n",
       "      <td>Абрамович</td>\n",
       "      <td>2018-06-17</td>\n",
       "      <td>2018-06-01</td>\n",
       "      <td>4.0</td>\n",
       "      <td>117.0</td>\n",
       "      <td>10856.82</td>\n",
       "    </tr>\n",
       "    <tr>\n",
       "      <th>3</th>\n",
       "      <td>50</td>\n",
       "      <td>15360</td>\n",
       "      <td>500</td>\n",
       "      <td>550</td>\n",
       "      <td>200</td>\n",
       "      <td>3</td>\n",
       "      <td>3</td>\n",
       "      <td>smart</td>\n",
       "      <td>1002</td>\n",
       "      <td>59</td>\n",
       "      <td>NaN</td>\n",
       "      <td>Стерлитамак</td>\n",
       "      <td>Евгений</td>\n",
       "      <td>Абрамович</td>\n",
       "      <td>2018-06-17</td>\n",
       "      <td>2018-07-01</td>\n",
       "      <td>11.0</td>\n",
       "      <td>214.0</td>\n",
       "      <td>17580.10</td>\n",
       "    </tr>\n",
       "    <tr>\n",
       "      <th>4</th>\n",
       "      <td>50</td>\n",
       "      <td>15360</td>\n",
       "      <td>500</td>\n",
       "      <td>550</td>\n",
       "      <td>200</td>\n",
       "      <td>3</td>\n",
       "      <td>3</td>\n",
       "      <td>smart</td>\n",
       "      <td>1002</td>\n",
       "      <td>59</td>\n",
       "      <td>NaN</td>\n",
       "      <td>Стерлитамак</td>\n",
       "      <td>Евгений</td>\n",
       "      <td>Абрамович</td>\n",
       "      <td>2018-06-17</td>\n",
       "      <td>2018-08-01</td>\n",
       "      <td>13.0</td>\n",
       "      <td>289.0</td>\n",
       "      <td>20319.26</td>\n",
       "    </tr>\n",
       "  </tbody>\n",
       "</table>\n",
       "</div>"
      ],
      "text/plain": [
       "   messages_included  mb_per_month_included  minutes_included  \\\n",
       "0                 50                  15360               500   \n",
       "1                 50                  15360               500   \n",
       "2                 50                  15360               500   \n",
       "3                 50                  15360               500   \n",
       "4                 50                  15360               500   \n",
       "\n",
       "   rub_monthly_fee  rub_per_gb  rub_per_message  rub_per_minute tariff  \\\n",
       "0              550         200                3               3  smart   \n",
       "1              550         200                3               3  smart   \n",
       "2              550         200                3               3  smart   \n",
       "3              550         200                3               3  smart   \n",
       "4              550         200                3               3  smart   \n",
       "\n",
       "   user_id  age churn_date         city first_name  last_name    reg_date  \\\n",
       "0     1001   41        NaN       Москва       Иван       Ежов  2018-11-01   \n",
       "1     1001   41        NaN       Москва       Иван       Ежов  2018-11-01   \n",
       "2     1002   59        NaN  Стерлитамак    Евгений  Абрамович  2018-06-17   \n",
       "3     1002   59        NaN  Стерлитамак    Евгений  Абрамович  2018-06-17   \n",
       "4     1002   59        NaN  Стерлитамак    Евгений  Абрамович  2018-06-17   \n",
       "\n",
       "       month  message_date  duration   mb_used  \n",
       "0 2018-11-01           NaN     430.0  18429.34  \n",
       "1 2018-12-01           NaN     414.0  14036.66  \n",
       "2 2018-06-01           4.0     117.0  10856.82  \n",
       "3 2018-07-01          11.0     214.0  17580.10  \n",
       "4 2018-08-01          13.0     289.0  20319.26  "
      ]
     },
     "execution_count": 10,
     "metadata": {},
     "output_type": "execute_result"
    }
   ],
   "source": [
    "data_users_tariffs = tariffs.merge(users, on='tariff', how = 'outer')\n",
    "data = data_users_tariffs.merge(data, on = ['user_id'], how = 'outer')\n",
    "data.head()"
   ]
  },
  {
   "cell_type": "markdown",
   "metadata": {},
   "source": [
    "Cheching retrieved dataset for values' gaps."
   ]
  },
  {
   "cell_type": "code",
   "execution_count": 11,
   "metadata": {},
   "outputs": [
    {
     "data": {
      "text/plain": [
       "messages_included           0\n",
       "mb_per_month_included       0\n",
       "minutes_included            0\n",
       "rub_monthly_fee             0\n",
       "rub_per_gb                  0\n",
       "rub_per_message             0\n",
       "rub_per_minute              0\n",
       "tariff                      0\n",
       "user_id                     0\n",
       "age                         0\n",
       "churn_date               3027\n",
       "city                        0\n",
       "first_name                  0\n",
       "last_name                   0\n",
       "reg_date                    0\n",
       "month                       2\n",
       "message_date              499\n",
       "duration                   42\n",
       "mb_used                    13\n",
       "dtype: int64"
      ]
     },
     "execution_count": 11,
     "metadata": {},
     "output_type": "execute_result"
    }
   ],
   "source": [
    "data.isna().sum()"
   ]
  },
  {
   "cell_type": "markdown",
   "metadata": {},
   "source": [
    "Substitude gaps with 0 in month,message_date, duration, mb_used, because the subscriber idd not use services.\n",
    "That is not needed to substitude gaps in churn_date, because once there is a value gap then the plan was in effect for the moment of data upload."
   ]
  },
  {
   "cell_type": "code",
   "execution_count": 12,
   "metadata": {},
   "outputs": [],
   "source": [
    "data.loc[data['month'].isna(), 'month'] = data['month'].fillna(0)\n",
    "data.loc[data['message_date'].isna(), 'message_date'] = data['message_date'].fillna(0)\n",
    "data.loc[data['duration'].isna(), 'duration'] = data['duration'].fillna(0)\n",
    "data.loc[data['mb_used'].isna(), 'mb_used'] = data['mb_used'].fillna(0)"
   ]
  },
  {
   "cell_type": "markdown",
   "metadata": {},
   "source": [
    "Secton 1 conclusion: there is a common table was made from 5 initial ones in order to enable further analysis, data is grouped based on user_id and month of operations performing. Data columns in all the tables are converted to the format needed, there is a month column added for grouping enablement. Data gaps are filled with 0 where needed.\n",
    "There are calls with zero-duration , there is no need to delete/substitude them bcs those are missed calls. "
   ]
  },
  {
   "cell_type": "markdown",
   "metadata": {},
   "source": [
    "## Calculations and adding results to the table"
   ]
  },
  {
   "cell_type": "markdown",
   "metadata": {},
   "source": [
    "In the previous section there calculations made for every customer: \n",
    "* quantity of calls made & minutes spent by months (with rounding seconds up to minutes);\n",
    "* quantity of messages sent by months;\n",
    "* volume of internet-traffic spent by months;\n",
    "\n",
    "Lets calculate monthly revenue for each user: the difference of free limit from summarized calls quantity, messages and internet traffic; remainder lets multiply by the value from the plan; lets add subscription fee, corresponding to the plan."
   ]
  },
  {
   "cell_type": "code",
   "execution_count": 13,
   "metadata": {},
   "outputs": [
    {
     "data": {
      "text/html": [
       "<div>\n",
       "<style scoped>\n",
       "    .dataframe tbody tr th:only-of-type {\n",
       "        vertical-align: middle;\n",
       "    }\n",
       "\n",
       "    .dataframe tbody tr th {\n",
       "        vertical-align: top;\n",
       "    }\n",
       "\n",
       "    .dataframe thead th {\n",
       "        text-align: right;\n",
       "    }\n",
       "</style>\n",
       "<table border=\"1\" class=\"dataframe\">\n",
       "  <thead>\n",
       "    <tr style=\"text-align: right;\">\n",
       "      <th></th>\n",
       "      <th>messages_included</th>\n",
       "      <th>mb_per_month_included</th>\n",
       "      <th>minutes_included</th>\n",
       "      <th>rub_monthly_fee</th>\n",
       "      <th>rub_per_gb</th>\n",
       "      <th>rub_per_message</th>\n",
       "      <th>rub_per_minute</th>\n",
       "      <th>tariff</th>\n",
       "      <th>user_id</th>\n",
       "      <th>age</th>\n",
       "      <th>churn_date</th>\n",
       "      <th>city</th>\n",
       "      <th>first_name</th>\n",
       "      <th>last_name</th>\n",
       "      <th>reg_date</th>\n",
       "      <th>month</th>\n",
       "      <th>message_date</th>\n",
       "      <th>duration</th>\n",
       "      <th>mb_used</th>\n",
       "      <th>minutes_over</th>\n",
       "      <th>messages_over</th>\n",
       "      <th>internet_over</th>\n",
       "      <th>revenue</th>\n",
       "    </tr>\n",
       "  </thead>\n",
       "  <tbody>\n",
       "    <tr>\n",
       "      <th>3211</th>\n",
       "      <td>1000</td>\n",
       "      <td>30720</td>\n",
       "      <td>3000</td>\n",
       "      <td>1950</td>\n",
       "      <td>150</td>\n",
       "      <td>1</td>\n",
       "      <td>1</td>\n",
       "      <td>ultra</td>\n",
       "      <td>1495</td>\n",
       "      <td>65</td>\n",
       "      <td>NaN</td>\n",
       "      <td>Иркутск</td>\n",
       "      <td>Авксентий</td>\n",
       "      <td>Фокин</td>\n",
       "      <td>2018-08-28</td>\n",
       "      <td>2018-08-01 00:00:00</td>\n",
       "      <td>13.0</td>\n",
       "      <td>92.0</td>\n",
       "      <td>2614.07</td>\n",
       "      <td>0.0</td>\n",
       "      <td>0.0</td>\n",
       "      <td>0.0</td>\n",
       "      <td>1950.0</td>\n",
       "    </tr>\n",
       "    <tr>\n",
       "      <th>3212</th>\n",
       "      <td>1000</td>\n",
       "      <td>30720</td>\n",
       "      <td>3000</td>\n",
       "      <td>1950</td>\n",
       "      <td>150</td>\n",
       "      <td>1</td>\n",
       "      <td>1</td>\n",
       "      <td>ultra</td>\n",
       "      <td>1495</td>\n",
       "      <td>65</td>\n",
       "      <td>NaN</td>\n",
       "      <td>Иркутск</td>\n",
       "      <td>Авксентий</td>\n",
       "      <td>Фокин</td>\n",
       "      <td>2018-08-28</td>\n",
       "      <td>2018-09-01 00:00:00</td>\n",
       "      <td>82.0</td>\n",
       "      <td>813.0</td>\n",
       "      <td>33067.62</td>\n",
       "      <td>0.0</td>\n",
       "      <td>0.0</td>\n",
       "      <td>450.0</td>\n",
       "      <td>2400.0</td>\n",
       "    </tr>\n",
       "    <tr>\n",
       "      <th>3213</th>\n",
       "      <td>1000</td>\n",
       "      <td>30720</td>\n",
       "      <td>3000</td>\n",
       "      <td>1950</td>\n",
       "      <td>150</td>\n",
       "      <td>1</td>\n",
       "      <td>1</td>\n",
       "      <td>ultra</td>\n",
       "      <td>1495</td>\n",
       "      <td>65</td>\n",
       "      <td>NaN</td>\n",
       "      <td>Иркутск</td>\n",
       "      <td>Авксентий</td>\n",
       "      <td>Фокин</td>\n",
       "      <td>2018-08-28</td>\n",
       "      <td>2018-10-01 00:00:00</td>\n",
       "      <td>82.0</td>\n",
       "      <td>1030.0</td>\n",
       "      <td>29363.00</td>\n",
       "      <td>0.0</td>\n",
       "      <td>0.0</td>\n",
       "      <td>0.0</td>\n",
       "      <td>1950.0</td>\n",
       "    </tr>\n",
       "    <tr>\n",
       "      <th>3214</th>\n",
       "      <td>1000</td>\n",
       "      <td>30720</td>\n",
       "      <td>3000</td>\n",
       "      <td>1950</td>\n",
       "      <td>150</td>\n",
       "      <td>1</td>\n",
       "      <td>1</td>\n",
       "      <td>ultra</td>\n",
       "      <td>1495</td>\n",
       "      <td>65</td>\n",
       "      <td>NaN</td>\n",
       "      <td>Иркутск</td>\n",
       "      <td>Авксентий</td>\n",
       "      <td>Фокин</td>\n",
       "      <td>2018-08-28</td>\n",
       "      <td>2018-11-01 00:00:00</td>\n",
       "      <td>79.0</td>\n",
       "      <td>954.0</td>\n",
       "      <td>38939.11</td>\n",
       "      <td>0.0</td>\n",
       "      <td>0.0</td>\n",
       "      <td>1350.0</td>\n",
       "      <td>3300.0</td>\n",
       "    </tr>\n",
       "    <tr>\n",
       "      <th>3215</th>\n",
       "      <td>1000</td>\n",
       "      <td>30720</td>\n",
       "      <td>3000</td>\n",
       "      <td>1950</td>\n",
       "      <td>150</td>\n",
       "      <td>1</td>\n",
       "      <td>1</td>\n",
       "      <td>ultra</td>\n",
       "      <td>1495</td>\n",
       "      <td>65</td>\n",
       "      <td>NaN</td>\n",
       "      <td>Иркутск</td>\n",
       "      <td>Авксентий</td>\n",
       "      <td>Фокин</td>\n",
       "      <td>2018-08-28</td>\n",
       "      <td>2018-12-01 00:00:00</td>\n",
       "      <td>84.0</td>\n",
       "      <td>1031.0</td>\n",
       "      <td>23426.76</td>\n",
       "      <td>0.0</td>\n",
       "      <td>0.0</td>\n",
       "      <td>0.0</td>\n",
       "      <td>1950.0</td>\n",
       "    </tr>\n",
       "  </tbody>\n",
       "</table>\n",
       "</div>"
      ],
      "text/plain": [
       "      messages_included  mb_per_month_included  minutes_included  \\\n",
       "3211               1000                  30720              3000   \n",
       "3212               1000                  30720              3000   \n",
       "3213               1000                  30720              3000   \n",
       "3214               1000                  30720              3000   \n",
       "3215               1000                  30720              3000   \n",
       "\n",
       "      rub_monthly_fee  rub_per_gb  rub_per_message  rub_per_minute tariff  \\\n",
       "3211             1950         150                1               1  ultra   \n",
       "3212             1950         150                1               1  ultra   \n",
       "3213             1950         150                1               1  ultra   \n",
       "3214             1950         150                1               1  ultra   \n",
       "3215             1950         150                1               1  ultra   \n",
       "\n",
       "      user_id  age churn_date     city first_name last_name    reg_date  \\\n",
       "3211     1495   65        NaN  Иркутск  Авксентий     Фокин  2018-08-28   \n",
       "3212     1495   65        NaN  Иркутск  Авксентий     Фокин  2018-08-28   \n",
       "3213     1495   65        NaN  Иркутск  Авксентий     Фокин  2018-08-28   \n",
       "3214     1495   65        NaN  Иркутск  Авксентий     Фокин  2018-08-28   \n",
       "3215     1495   65        NaN  Иркутск  Авксентий     Фокин  2018-08-28   \n",
       "\n",
       "                    month  message_date  duration   mb_used  minutes_over  \\\n",
       "3211  2018-08-01 00:00:00          13.0      92.0   2614.07           0.0   \n",
       "3212  2018-09-01 00:00:00          82.0     813.0  33067.62           0.0   \n",
       "3213  2018-10-01 00:00:00          82.0    1030.0  29363.00           0.0   \n",
       "3214  2018-11-01 00:00:00          79.0     954.0  38939.11           0.0   \n",
       "3215  2018-12-01 00:00:00          84.0    1031.0  23426.76           0.0   \n",
       "\n",
       "      messages_over  internet_over  revenue  \n",
       "3211            0.0            0.0   1950.0  \n",
       "3212            0.0          450.0   2400.0  \n",
       "3213            0.0            0.0   1950.0  \n",
       "3214            0.0         1350.0   3300.0  \n",
       "3215            0.0            0.0   1950.0  "
      ]
     },
     "execution_count": 13,
     "metadata": {},
     "output_type": "execute_result"
    }
   ],
   "source": [
    "# calculating overspending (overdrafts) for every user for calls\n",
    "data['minutes_over'] = (data['duration'] - data['minutes_included']) * data['rub_per_minute']\n",
    "# removing negative drafts\n",
    "data.loc[data['minutes_over'] < 0, 'minutes_over'] = 0\n",
    "# calculating overspending (overdrafts) by every user for SMS\n",
    "data['messages_over'] = (data['message_date'] - data['messages_included']) * data['rub_per_message']\n",
    "data.loc[data['messages_over'] < 0, 'messages_over'] = 0\n",
    "# calculating overspending (overdrafts) by every user for internet, traffic should be converted into GB and rounded upwards\n",
    "data['internet_over'] = np.ceil((data['mb_used'] - data['mb_per_month_included'])/1024) * data['rub_per_gb']\n",
    "data.loc[data['internet_over'] < 0, 'internet_over'] = 0\n",
    "#calculating revenue\n",
    "data['revenue'] = data['minutes_over'] + data['messages_over'] + data['internet_over'] + data['rub_monthly_fee']\n",
    "pd.set_option('display.max_columns', None)\n",
    "data.tail()"
   ]
  },
  {
   "cell_type": "markdown",
   "metadata": {},
   "source": [
    "Section 2 conclusion: monthy revenue calculated for every user taking into account 'MegaLine' services' conditions: internet payment is calculated for GB, calls' seconds rounded up to minutes. If user did not go out of stated boundaries for calls/sms/internet, then the User's revenue is equal to monthly plan payment."
   ]
  },
  {
   "cell_type": "markdown",
   "metadata": {},
   "source": [
    "## Data analysis & description"
   ]
  },
  {
   "cell_type": "markdown",
   "metadata": {},
   "source": [
    "Users' behavior description in the selection: amount of talking minutes, amount of messages and internet traffic volume required for Users of every monthly plan."
   ]
  },
  {
   "cell_type": "markdown",
   "metadata": {},
   "source": [
    "Claculating average quantity, dispersion and standard deviation of talking minutes for every plan."
   ]
  },
  {
   "cell_type": "code",
   "execution_count": 14,
   "metadata": {
    "scrolled": true
   },
   "outputs": [
    {
     "data": {
      "text/html": [
       "<div>\n",
       "<style scoped>\n",
       "    .dataframe tbody tr th:only-of-type {\n",
       "        vertical-align: middle;\n",
       "    }\n",
       "\n",
       "    .dataframe tbody tr th {\n",
       "        vertical-align: top;\n",
       "    }\n",
       "\n",
       "    .dataframe thead tr th {\n",
       "        text-align: left;\n",
       "    }\n",
       "\n",
       "    .dataframe thead tr:last-of-type th {\n",
       "        text-align: right;\n",
       "    }\n",
       "</style>\n",
       "<table border=\"1\" class=\"dataframe\">\n",
       "  <thead>\n",
       "    <tr>\n",
       "      <th></th>\n",
       "      <th colspan=\"3\" halign=\"left\">duration</th>\n",
       "    </tr>\n",
       "    <tr>\n",
       "      <th></th>\n",
       "      <th>mean</th>\n",
       "      <th>var</th>\n",
       "      <th>std</th>\n",
       "    </tr>\n",
       "    <tr>\n",
       "      <th>tariff</th>\n",
       "      <th></th>\n",
       "      <th></th>\n",
       "      <th></th>\n",
       "    </tr>\n",
       "  </thead>\n",
       "  <tbody>\n",
       "    <tr>\n",
       "      <th>smart</th>\n",
       "      <td>417.75</td>\n",
       "      <td>36281.39</td>\n",
       "      <td>190.48</td>\n",
       "    </tr>\n",
       "    <tr>\n",
       "      <th>ultra</th>\n",
       "      <td>526.09</td>\n",
       "      <td>101052.49</td>\n",
       "      <td>317.89</td>\n",
       "    </tr>\n",
       "  </tbody>\n",
       "</table>\n",
       "</div>"
      ],
      "text/plain": [
       "       duration                   \n",
       "           mean        var     std\n",
       "tariff                            \n",
       "smart    417.75   36281.39  190.48\n",
       "ultra    526.09  101052.49  317.89"
      ]
     },
     "execution_count": 14,
     "metadata": {},
     "output_type": "execute_result"
    }
   ],
   "source": [
    "data.groupby('tariff').agg({'duration': ['mean', 'var', 'std']}).round(2)"
   ]
  },
  {
   "cell_type": "markdown",
   "metadata": {},
   "source": [
    "Statistical data for 'Smart' plan calls."
   ]
  },
  {
   "cell_type": "code",
   "execution_count": 15,
   "metadata": {},
   "outputs": [
    {
     "data": {
      "text/plain": [
       "count    2230.000000\n",
       "mean      417.747534\n",
       "std       190.476754\n",
       "min         0.000000\n",
       "25%       282.000000\n",
       "50%       421.500000\n",
       "75%       545.000000\n",
       "max      1435.000000\n",
       "Name: duration, dtype: float64"
      ]
     },
     "execution_count": 15,
     "metadata": {},
     "output_type": "execute_result"
    }
   ],
   "source": [
    "data[data['tariff'] == 'smart']['duration'].describe()"
   ]
  },
  {
   "cell_type": "code",
   "execution_count": 16,
   "metadata": {},
   "outputs": [
    {
     "data": {
      "image/png": "[encoded data removed]",
      "text/plain": [
       "<Figure size 432x288 with 1 Axes>"
      ]
     },
     "metadata": {
      "needs_background": "light"
     },
     "output_type": "display_data"
    }
   ],
   "source": [
    "data[data['tariff'] == 'smart']['duration'].hist(bins=20, range=(1, 1000)).set_title(\"Smart plan calls duration, min\");"
   ]
  },
  {
   "cell_type": "markdown",
   "metadata": {},
   "source": [
    "Statistical data for 'Ultra' plan calls."
   ]
  },
  {
   "cell_type": "code",
   "execution_count": 17,
   "metadata": {},
   "outputs": [
    {
     "data": {
      "text/plain": [
       "count     986.000000\n",
       "mean      526.089249\n",
       "std       317.887549\n",
       "min         0.000000\n",
       "25%       282.500000\n",
       "50%       518.000000\n",
       "75%       751.750000\n",
       "max      1673.000000\n",
       "Name: duration, dtype: float64"
      ]
     },
     "execution_count": 17,
     "metadata": {},
     "output_type": "execute_result"
    }
   ],
   "source": [
    "data[data['tariff'] == 'ultra']['duration'].describe()"
   ]
  },
  {
   "cell_type": "code",
   "execution_count": 18,
   "metadata": {},
   "outputs": [
    {
     "data": {
      "image/png": "[encoded data removed]",
      "text/plain": [
       "<Figure size 432x288 with 1 Axes>"
      ]
     },
     "metadata": {
      "needs_background": "light"
     },
     "output_type": "display_data"
    }
   ],
   "source": [
    "data[data['tariff'] == 'ultra']['duration'].hist(bins=30, range=(1, 1400)).set_title(\"Ultra plan calls duration, min\");"
   ]
  },
  {
   "cell_type": "markdown",
   "metadata": {},
   "source": [
    "Histogram of calls duration for both plans (comparement)."
   ]
  },
  {
   "cell_type": "code",
   "execution_count": 19,
   "metadata": {},
   "outputs": [
    {
     "data": {
      "image/png": "[encoded data removed]",
      "text/plain": [
       "<Figure size 432x288 with 1 Axes>"
      ]
     },
     "metadata": {
      "needs_background": "light"
     },
     "output_type": "display_data"
    }
   ],
   "source": [
    "data[data['tariff'] == 'smart']['duration'].hist(bins=30, range=(1, 1400))\n",
    "data[data['tariff'] == 'ultra']['duration'].hist(bins=20, range=(1, 1400))\n",
    "plt.title('Monthly calls duration, min')\n",
    "plt.legend(['smart', 'ultra'])\n",
    "plt.show()"
   ]
  },
  {
   "cell_type": "markdown",
   "metadata": {},
   "source": [
    "First of all, the average and median value of the tariff calls duration is distinguished: smart - average and median at the level of 400 minutes, ultra - 500 minutes. The deviation of values from the average value in smart is almost two times less than in ultra (190 and 318, respectively)."
   ]
  },
  {
   "cell_type": "markdown",
   "metadata": {},
   "source": [
    "Calculating average quantity, dispersion and standart deviation of messages quantity for every plan."
   ]
  },
  {
   "cell_type": "code",
   "execution_count": 20,
   "metadata": {},
   "outputs": [
    {
     "data": {
      "text/html": [
       "<div>\n",
       "<style scoped>\n",
       "    .dataframe tbody tr th:only-of-type {\n",
       "        vertical-align: middle;\n",
       "    }\n",
       "\n",
       "    .dataframe tbody tr th {\n",
       "        vertical-align: top;\n",
       "    }\n",
       "\n",
       "    .dataframe thead tr th {\n",
       "        text-align: left;\n",
       "    }\n",
       "\n",
       "    .dataframe thead tr:last-of-type th {\n",
       "        text-align: right;\n",
       "    }\n",
       "</style>\n",
       "<table border=\"1\" class=\"dataframe\">\n",
       "  <thead>\n",
       "    <tr>\n",
       "      <th></th>\n",
       "      <th colspan=\"3\" halign=\"left\">message_date</th>\n",
       "    </tr>\n",
       "    <tr>\n",
       "      <th></th>\n",
       "      <th>mean</th>\n",
       "      <th>var</th>\n",
       "      <th>std</th>\n",
       "    </tr>\n",
       "    <tr>\n",
       "      <th>tariff</th>\n",
       "      <th></th>\n",
       "      <th></th>\n",
       "      <th></th>\n",
       "    </tr>\n",
       "  </thead>\n",
       "  <tbody>\n",
       "    <tr>\n",
       "      <th>smart</th>\n",
       "      <td>33.37</td>\n",
       "      <td>796.96</td>\n",
       "      <td>28.23</td>\n",
       "    </tr>\n",
       "    <tr>\n",
       "      <th>ultra</th>\n",
       "      <td>49.31</td>\n",
       "      <td>2285.42</td>\n",
       "      <td>47.81</td>\n",
       "    </tr>\n",
       "  </tbody>\n",
       "</table>\n",
       "</div>"
      ],
      "text/plain": [
       "       message_date                \n",
       "               mean      var    std\n",
       "tariff                             \n",
       "smart         33.37   796.96  28.23\n",
       "ultra         49.31  2285.42  47.81"
      ]
     },
     "execution_count": 20,
     "metadata": {},
     "output_type": "execute_result"
    }
   ],
   "source": [
    "data.groupby('tariff').agg({'message_date': ['mean', 'var', 'std']}).round(2)"
   ]
  },
  {
   "cell_type": "markdown",
   "metadata": {},
   "source": [
    "Statistical data for messages quantity for Smart plan."
   ]
  },
  {
   "cell_type": "code",
   "execution_count": 21,
   "metadata": {},
   "outputs": [
    {
     "data": {
      "text/plain": [
       "count    2230.000000\n",
       "mean       33.369058\n",
       "std        28.230396\n",
       "min         0.000000\n",
       "25%        10.000000\n",
       "50%        28.000000\n",
       "75%        51.000000\n",
       "max       143.000000\n",
       "Name: message_date, dtype: float64"
      ]
     },
     "execution_count": 21,
     "metadata": {},
     "output_type": "execute_result"
    }
   ],
   "source": [
    "data[data['tariff'] == 'smart']['message_date'].describe()"
   ]
  },
  {
   "cell_type": "markdown",
   "metadata": {},
   "source": [
    "Statistical data for messages quantity for Ultra plan."
   ]
  },
  {
   "cell_type": "code",
   "execution_count": 22,
   "metadata": {},
   "outputs": [
    {
     "data": {
      "text/plain": [
       "count    986.000000\n",
       "mean      49.313387\n",
       "std       47.806040\n",
       "min        0.000000\n",
       "25%        6.000000\n",
       "50%       38.000000\n",
       "75%       78.750000\n",
       "max      224.000000\n",
       "Name: message_date, dtype: float64"
      ]
     },
     "execution_count": 22,
     "metadata": {},
     "output_type": "execute_result"
    }
   ],
   "source": [
    "data[data['tariff'] == 'ultra']['message_date'].describe()"
   ]
  },
  {
   "cell_type": "markdown",
   "metadata": {},
   "source": [
    "Histogram of messages quantity for both plans (comparement)."
   ]
  },
  {
   "cell_type": "code",
   "execution_count": 23,
   "metadata": {},
   "outputs": [
    {
     "data": {
      "image/png": "[encoded data removed]",
      "text/plain": [
       "<Figure size 432x288 with 1 Axes>"
      ]
     },
     "metadata": {
      "needs_background": "light"
     },
     "output_type": "display_data"
    }
   ],
   "source": [
    "data[data['tariff'] == 'smart']['message_date'].hist(bins=30, range=(1, 200))\n",
    "data[data['tariff'] == 'ultra']['message_date'].hist(bins=20, range=(1, 200))\n",
    "plt.title('Number of messages per month')\n",
    "plt.legend(['smart', 'ultra'])\n",
    "plt.show()"
   ]
  },
  {
   "cell_type": "markdown",
   "metadata": {},
   "source": [
    "The case is likwise with messages quantity: for Ultra plan the average & median if higher, than in Smart,  while the values' deviation from the average - almost two times less, so data is more homogeneous."
   ]
  },
  {
   "cell_type": "markdown",
   "metadata": {},
   "source": [
    "Calculating average quantity, dispersion and standart deviation of internet traffic usage for every plan."
   ]
  },
  {
   "cell_type": "code",
   "execution_count": 24,
   "metadata": {},
   "outputs": [
    {
     "data": {
      "text/html": [
       "<div>\n",
       "<style scoped>\n",
       "    .dataframe tbody tr th:only-of-type {\n",
       "        vertical-align: middle;\n",
       "    }\n",
       "\n",
       "    .dataframe tbody tr th {\n",
       "        vertical-align: top;\n",
       "    }\n",
       "\n",
       "    .dataframe thead tr th {\n",
       "        text-align: left;\n",
       "    }\n",
       "\n",
       "    .dataframe thead tr:last-of-type th {\n",
       "        text-align: right;\n",
       "    }\n",
       "</style>\n",
       "<table border=\"1\" class=\"dataframe\">\n",
       "  <thead>\n",
       "    <tr>\n",
       "      <th></th>\n",
       "      <th colspan=\"3\" halign=\"left\">mb_used</th>\n",
       "    </tr>\n",
       "    <tr>\n",
       "      <th></th>\n",
       "      <th>mean</th>\n",
       "      <th>var</th>\n",
       "      <th>std</th>\n",
       "    </tr>\n",
       "    <tr>\n",
       "      <th>tariff</th>\n",
       "      <th></th>\n",
       "      <th></th>\n",
       "      <th></th>\n",
       "    </tr>\n",
       "  </thead>\n",
       "  <tbody>\n",
       "    <tr>\n",
       "      <th>smart</th>\n",
       "      <td>16201.12</td>\n",
       "      <td>3.456484e+07</td>\n",
       "      <td>5879.19</td>\n",
       "    </tr>\n",
       "    <tr>\n",
       "      <th>ultra</th>\n",
       "      <td>19449.06</td>\n",
       "      <td>1.020321e+08</td>\n",
       "      <td>10101.10</td>\n",
       "    </tr>\n",
       "  </tbody>\n",
       "</table>\n",
       "</div>"
      ],
      "text/plain": [
       "         mb_used                        \n",
       "            mean           var       std\n",
       "tariff                                  \n",
       "smart   16201.12  3.456484e+07   5879.19\n",
       "ultra   19449.06  1.020321e+08  10101.10"
      ]
     },
     "execution_count": 24,
     "metadata": {},
     "output_type": "execute_result"
    }
   ],
   "source": [
    "data.groupby('tariff').agg({'mb_used': ['mean', 'var', 'std']}).round(2)"
   ]
  },
  {
   "cell_type": "markdown",
   "metadata": {},
   "source": [
    "Statistical data for internet traffic usage for 'Smart' plan."
   ]
  },
  {
   "cell_type": "code",
   "execution_count": 25,
   "metadata": {},
   "outputs": [
    {
     "data": {
      "text/plain": [
       "count     2230.000000\n",
       "mean     16201.118655\n",
       "std       5879.187315\n",
       "min          0.000000\n",
       "25%      12630.035000\n",
       "50%      16505.475000\n",
       "75%      20042.107500\n",
       "max      38552.450000\n",
       "Name: mb_used, dtype: float64"
      ]
     },
     "execution_count": 25,
     "metadata": {},
     "output_type": "execute_result"
    }
   ],
   "source": [
    "data[data['tariff'] == 'smart']['mb_used'].describe()"
   ]
  },
  {
   "cell_type": "markdown",
   "metadata": {},
   "source": [
    "Statistical data for internet traffic usage for 'Ultra' plan."
   ]
  },
  {
   "cell_type": "code",
   "execution_count": 26,
   "metadata": {},
   "outputs": [
    {
     "data": {
      "text/plain": [
       "count      986.000000\n",
       "mean     19449.059970\n",
       "std      10101.095459\n",
       "min          0.000000\n",
       "25%      11748.585000\n",
       "50%      19304.020000\n",
       "75%      26835.885000\n",
       "max      49745.690000\n",
       "Name: mb_used, dtype: float64"
      ]
     },
     "execution_count": 26,
     "metadata": {},
     "output_type": "execute_result"
    }
   ],
   "source": [
    "data[data['tariff'] == 'ultra']['mb_used'].describe()"
   ]
  },
  {
   "cell_type": "markdown",
   "metadata": {},
   "source": [
    "Histogram on internet usage for both plans (comparement)."
   ]
  },
  {
   "cell_type": "code",
   "execution_count": 27,
   "metadata": {},
   "outputs": [
    {
     "data": {
      "image/png": "[encoded data removed]",
      "text/plain": [
       "<Figure size 432x288 with 1 Axes>"
      ]
     },
     "metadata": {
      "needs_background": "light"
     },
     "output_type": "display_data"
    }
   ],
   "source": [
    "data[data['tariff'] == 'smart']['mb_used'].hist(bins=50, range=(1, 50000))\n",
    "data[data['tariff'] == 'ultra']['mb_used'].hist(bins=50, range=(1, 50000))\n",
    "plt.title('The amount of internet used per month')\n",
    "plt.legend(['smart', 'ultra'])\n",
    "plt.show()"
   ]
  },
  {
   "cell_type": "markdown",
   "metadata": {},
   "source": [
    "Used internet traffic scatter from the average value in Ultra is also two time bigger than the standart Smart plan deviation. In average, users consume more internet traffic in Ultra plan, than in Smart plan (19k mb and 16k mb accordingly). "
   ]
  },
  {
   "cell_type": "markdown",
   "metadata": {},
   "source": [
    "Lets see now statisitcal indicators for revenue based on the plan; calculate the average, dispersion and revenue standart deviation for each Plan."
   ]
  },
  {
   "cell_type": "code",
   "execution_count": 28,
   "metadata": {},
   "outputs": [
    {
     "data": {
      "text/html": [
       "<div>\n",
       "<style scoped>\n",
       "    .dataframe tbody tr th:only-of-type {\n",
       "        vertical-align: middle;\n",
       "    }\n",
       "\n",
       "    .dataframe tbody tr th {\n",
       "        vertical-align: top;\n",
       "    }\n",
       "\n",
       "    .dataframe thead tr th {\n",
       "        text-align: left;\n",
       "    }\n",
       "\n",
       "    .dataframe thead tr:last-of-type th {\n",
       "        text-align: right;\n",
       "    }\n",
       "</style>\n",
       "<table border=\"1\" class=\"dataframe\">\n",
       "  <thead>\n",
       "    <tr>\n",
       "      <th></th>\n",
       "      <th colspan=\"3\" halign=\"left\">revenue</th>\n",
       "    </tr>\n",
       "    <tr>\n",
       "      <th></th>\n",
       "      <th>mean</th>\n",
       "      <th>var</th>\n",
       "      <th>std</th>\n",
       "    </tr>\n",
       "    <tr>\n",
       "      <th>tariff</th>\n",
       "      <th></th>\n",
       "      <th></th>\n",
       "      <th></th>\n",
       "    </tr>\n",
       "  </thead>\n",
       "  <tbody>\n",
       "    <tr>\n",
       "      <th>smart</th>\n",
       "      <td>1289.64</td>\n",
       "      <td>669730.76</td>\n",
       "      <td>818.37</td>\n",
       "    </tr>\n",
       "    <tr>\n",
       "      <th>ultra</th>\n",
       "      <td>2070.03</td>\n",
       "      <td>141387.71</td>\n",
       "      <td>376.02</td>\n",
       "    </tr>\n",
       "  </tbody>\n",
       "</table>\n",
       "</div>"
      ],
      "text/plain": [
       "        revenue                   \n",
       "           mean        var     std\n",
       "tariff                            \n",
       "smart   1289.64  669730.76  818.37\n",
       "ultra   2070.03  141387.71  376.02"
      ]
     },
     "execution_count": 28,
     "metadata": {},
     "output_type": "execute_result"
    }
   ],
   "source": [
    "data.groupby('tariff').agg({'revenue': ['mean', 'var', 'std']}).round(2)"
   ]
  },
  {
   "cell_type": "markdown",
   "metadata": {},
   "source": [
    "Statistical data for Smart plan revenue."
   ]
  },
  {
   "cell_type": "code",
   "execution_count": 29,
   "metadata": {},
   "outputs": [
    {
     "data": {
      "text/plain": [
       "count    2230.000000\n",
       "mean     1289.641704\n",
       "std       818.370799\n",
       "min       550.000000\n",
       "25%       550.000000\n",
       "50%      1021.000000\n",
       "75%      1750.000000\n",
       "max      6770.000000\n",
       "Name: revenue, dtype: float64"
      ]
     },
     "execution_count": 29,
     "metadata": {},
     "output_type": "execute_result"
    }
   ],
   "source": [
    "data[data['tariff'] == 'smart']['revenue'].describe()"
   ]
  },
  {
   "cell_type": "markdown",
   "metadata": {},
   "source": [
    "Statistical data for Ultra plan revenue."
   ]
  },
  {
   "cell_type": "code",
   "execution_count": 30,
   "metadata": {},
   "outputs": [
    {
     "data": {
      "text/plain": [
       "count     986.000000\n",
       "mean     2070.030426\n",
       "std       376.015578\n",
       "min      1950.000000\n",
       "25%      1950.000000\n",
       "50%      1950.000000\n",
       "75%      1950.000000\n",
       "max      4800.000000\n",
       "Name: revenue, dtype: float64"
      ]
     },
     "execution_count": 30,
     "metadata": {},
     "output_type": "execute_result"
    }
   ],
   "source": [
    "data[data['tariff'] == 'ultra']['revenue'].describe()"
   ]
  },
  {
   "cell_type": "markdown",
   "metadata": {},
   "source": [
    "Revenues histogram for both Plans (comparement)."
   ]
  },
  {
   "cell_type": "code",
   "execution_count": 31,
   "metadata": {},
   "outputs": [
    {
     "data": {
      "image/png": "[encoded data removed]",
      "text/plain": [
       "<Figure size 432x288 with 1 Axes>"
      ]
     },
     "metadata": {
      "needs_background": "light"
     },
     "output_type": "display_data"
    }
   ],
   "source": [
    "data[data['tariff'] == 'smart']['revenue'].hist(bins=10, range=(550, 4000))\n",
    "data[data['tariff'] == 'ultra']['revenue'].hist(bins=10, range=(550, 4000))\n",
    "plt.title('Revenue per user per month')\n",
    "plt.legend(['smart', 'ultra'])\n",
    "plt.show()"
   ]
  },
  {
   "cell_type": "markdown",
   "metadata": {},
   "source": [
    "It is more interesting for revenue: standart deviation in Smart plan is 2 times higher than in Ultra, while the average monthly revenue for a User is two times higher than the plan price. Median revenue value in Ultra plan is correspondent to the subsrption fee. Consequently, most of the Ultra users have enough minutes, sms and internet traffic allocated in the plan, while for Smart users those amounts are not enough, and in average it is needed to pay the same amount more (the amount as the plan price)."
   ]
  },
  {
   "cell_type": "markdown",
   "metadata": {},
   "source": [
    "## Hypothesis testing"
   ]
  },
  {
   "cell_type": "markdown",
   "metadata": {},
   "source": [
    "Hypotheses:\n",
    "* the average revenue of users of the \"Ultra\" and \"Smart\" tariffs differ;\n",
    "* the average revenue of users from Moscow differs from the revenue of users from other regions."
   ]
  },
  {
   "cell_type": "markdown",
   "metadata": {},
   "source": [
    "1: Testing the hypothesis about the equality of the average revenue of users of two tariffs.\n",
    "\n",
    "Formulating the null hypothesis H₀: The average revenue of users of the \"Ultra\" and \"Smart\" tariffs are equal.\n",
    "\n",
    "Alternative hypothesis H₁: The average revenue of users of \"Ultra\" and \"Smart\" tariffs differ."
   ]
  },
  {
   "cell_type": "code",
   "execution_count": 32,
   "metadata": {},
   "outputs": [
    {
     "name": "stdout",
     "output_type": "stream",
     "text": [
      "p-value:  8.081909555489933e-161\n",
      "Rejecting the null hypothesis\n"
     ]
    }
   ],
   "source": [
    "from scipy import stats as st\n",
    "revenue_ultra = data[data['tariff'] == 'ultra']['revenue']\n",
    "revenue_smart = data[data['tariff'] == 'smart']['revenue']\n",
    "\n",
    "alpha = 0.01 # critical level of statistical significance\n",
    "# if p-value is less than it, the hypothesis will be rejected\n",
    "\n",
    "results = st.ttest_ind(revenue_ultra, revenue_smart)\n",
    "\n",
    "print('p-value: ', results.pvalue)\n",
    "\n",
    "if results.pvalue < alpha:\n",
    "    print(\"Rejecting the null hypothesis\")\n",
    "else:\n",
    "    print(\"Failed to reject the null hypothesis\")"
   ]
  },
  {
   "cell_type": "markdown",
   "metadata": {},
   "source": [
    "**Conclusion:**\n",
    "\n",
    "The resulting p-value indicates that the probability of getting the same average revenues for two tariffs is practically zero (and less than the given statistical significance level of 1%), which allows us to reject the null hypothesis in favor of the alternative one: the average revenues of the tariffs are not equal."
   ]
  },
  {
   "cell_type": "markdown",
   "metadata": {},
   "source": [
    "2: Testing the hypothesis about the equality of the average revenue of users from Moscow and other regions.\n",
    "\n",
    "The null hypothesis H₀: The average revenue of users in Moscow and other regions is equal to.\n",
    "\n",
    "Alternative hypothesis H₁: The average revenue of users in Moscow and other regions differ."
   ]
  },
  {
   "cell_type": "code",
   "execution_count": 33,
   "metadata": {},
   "outputs": [
    {
     "name": "stdout",
     "output_type": "stream",
     "text": [
      "p-value:  8.081909555489933e-161\n",
      "Rejecting the null hypothesis\n"
     ]
    }
   ],
   "source": [
    "revenue_moscow = data[data['city'] == 'Москва']['revenue']\n",
    "revenue_region = data[data['city'] != 'Москва']['revenue']\n",
    "\n",
    "alpha = 0.01 # critical level of statistical significance\n",
    "# if p-value is less than it, the hypothesis will be rejected\n",
    "\n",
    "results = st.ttest_ind(revenue_ultra, revenue_smart)\n",
    "\n",
    "print('p-value: ', results.pvalue)\n",
    "\n",
    "if results.pvalue < alpha:\n",
    "    print(\"Rejecting the null hypothesis\")\n",
    "else:\n",
    "    print(\"Failed to reject the null hypothesis\")"
   ]
  },
  {
   "cell_type": "code",
   "execution_count": 34,
   "metadata": {},
   "outputs": [
    {
     "data": {
      "text/html": [
       "<div>\n",
       "<style scoped>\n",
       "    .dataframe tbody tr th:only-of-type {\n",
       "        vertical-align: middle;\n",
       "    }\n",
       "\n",
       "    .dataframe tbody tr th {\n",
       "        vertical-align: top;\n",
       "    }\n",
       "\n",
       "    .dataframe thead th {\n",
       "        text-align: right;\n",
       "    }\n",
       "</style>\n",
       "<table border=\"1\" class=\"dataframe\">\n",
       "  <thead>\n",
       "    <tr style=\"text-align: right;\">\n",
       "      <th></th>\n",
       "      <th>revenue</th>\n",
       "    </tr>\n",
       "  </thead>\n",
       "  <tbody>\n",
       "    <tr>\n",
       "      <th>mean</th>\n",
       "      <td>1546.71</td>\n",
       "    </tr>\n",
       "    <tr>\n",
       "      <th>median</th>\n",
       "      <td>1750.00</td>\n",
       "    </tr>\n",
       "    <tr>\n",
       "      <th>var</th>\n",
       "      <td>565636.47</td>\n",
       "    </tr>\n",
       "    <tr>\n",
       "      <th>std</th>\n",
       "      <td>752.09</td>\n",
       "    </tr>\n",
       "  </tbody>\n",
       "</table>\n",
       "</div>"
      ],
      "text/plain": [
       "          revenue\n",
       "mean      1546.71\n",
       "median    1750.00\n",
       "var     565636.47\n",
       "std        752.09"
      ]
     },
     "execution_count": 34,
     "metadata": {},
     "output_type": "execute_result"
    }
   ],
   "source": [
    "data.query('city == \"Москва\"').agg({'revenue': ['mean', 'median', 'var', 'std']}).round(2)"
   ]
  },
  {
   "cell_type": "code",
   "execution_count": 35,
   "metadata": {},
   "outputs": [
    {
     "data": {
      "text/html": [
       "<div>\n",
       "<style scoped>\n",
       "    .dataframe tbody tr th:only-of-type {\n",
       "        vertical-align: middle;\n",
       "    }\n",
       "\n",
       "    .dataframe tbody tr th {\n",
       "        vertical-align: top;\n",
       "    }\n",
       "\n",
       "    .dataframe thead th {\n",
       "        text-align: right;\n",
       "    }\n",
       "</style>\n",
       "<table border=\"1\" class=\"dataframe\">\n",
       "  <thead>\n",
       "    <tr style=\"text-align: right;\">\n",
       "      <th></th>\n",
       "      <th>revenue</th>\n",
       "    </tr>\n",
       "  </thead>\n",
       "  <tbody>\n",
       "    <tr>\n",
       "      <th>mean</th>\n",
       "      <td>1524.73</td>\n",
       "    </tr>\n",
       "    <tr>\n",
       "      <th>median</th>\n",
       "      <td>1583.00</td>\n",
       "    </tr>\n",
       "    <tr>\n",
       "      <th>var</th>\n",
       "      <td>654069.57</td>\n",
       "    </tr>\n",
       "    <tr>\n",
       "      <th>std</th>\n",
       "      <td>808.75</td>\n",
       "    </tr>\n",
       "  </tbody>\n",
       "</table>\n",
       "</div>"
      ],
      "text/plain": [
       "          revenue\n",
       "mean      1524.73\n",
       "median    1583.00\n",
       "var     654069.57\n",
       "std        808.75"
      ]
     },
     "execution_count": 35,
     "metadata": {},
     "output_type": "execute_result"
    }
   ],
   "source": [
    "data.query('city != \"Москва\"').agg({'revenue': ['mean','median', 'var', 'std']}).round(2)"
   ]
  },
  {
   "cell_type": "markdown",
   "metadata": {},
   "source": [
    "**Conclusion:**\n",
    "\n",
    "We reject the null hypothesis about the equality of the average revenue per user in Moscow and the regions, the probability of getting the same average in these two samples is less than the established statistical significance of 1% and is close to 0."
   ]
  },
  {
   "cell_type": "markdown",
   "metadata": {},
   "source": [
    "## General conclusion"
   ]
  },
  {
   "cell_type": "markdown",
   "metadata": {},
   "source": [
    "On a small sample of Megaline's clients of 500 users, an analysis of the Smart and Ultra tariffs was carried out. The following results are obtained:\n",
    "\n",
    "* users of the \"Ultra\" tariff have more calls, the number of sent messages and the amount of Internet used per month on average than the users of the \"Smart\" tariff\n",
    "\n",
    "* the standard deviation from the average value in the \"Ultra\" tariff in terms of calls, SMS and Internet is almost twice as high as that of the users of the \"Smart\" tariff, i.e. the spread of data in the \"Ultra\" tariff is greater.\n",
    "\n",
    "* the average revenue per user in the \"Ultra\" tariff is two times higher than the average revenue in the \"Smart\" tariff. At the same time, in the \"Smart\" tariff, the spread of data on revenue is more than 2 times higher than the standard deviation of revenue in the \"Ultra\" tariff. This is due to the fact that the median value of the Ultra tariff revenue corresponds to the monthly subscription fee in 1950 rubles, i.e. most users have enough limits for calls, SMS and the Internet, and do not have to pay extra. And for Smart users, the opposite is true: the average revenue is 1290 rubles. twice the established subscription fee of 550 rubles.\n",
    "\n",
    "Two hypotheses were tested:\n",
    "\n",
    "1. On the equality of the average revenue of two tariffs\n",
    "2. On equality of average revenue in Moscow and other regions\n",
    "\n",
    "Both \"null\" hypotheses about the equality of means are rejected, because average revenues by tariffs and by Moscow and regions are not equal with a probability of more than 99%.\n",
    "\n",
    "Based on the data obtained, it is possible to answer the customer's question (which tariff brings more money) as follows: on average, the monthly revenue per user of the \"Ultra\" tariff is almost twice the revenue of the \"Smart\" tariff: 2070 rubles. and 1290 r. Accordingly, the \"Ultra\" tariff can be considered more profitable. However, this project analyzes the average revenue per user on a sample of 500 people. It would be interesting to compare the total monthly sales volume for both tariffs so that not only the price factor but also the volume factor is included in the analysis. It is possible that in this case the result will change, and the cheaper \"Smart\" tariff will bring more money due to the larger volume of sales."
   ]
  }
 ],
 "metadata": {
  "ExecuteTimeLog": [
   {
    "duration": 949,
    "start_time": "2021-12-30T16:34:48.933Z"
   },
   {
    "duration": 150,
    "start_time": "2021-12-30T16:35:49.085Z"
   },
   {
    "duration": 145,
    "start_time": "2021-12-30T16:38:51.113Z"
   },
   {
    "duration": 131,
    "start_time": "2021-12-30T16:39:33.389Z"
   },
   {
    "duration": 95,
    "start_time": "2021-12-30T16:40:28.671Z"
   },
   {
    "duration": 19,
    "start_time": "2021-12-30T16:41:16.149Z"
   },
   {
    "duration": 39,
    "start_time": "2021-12-30T16:42:22.408Z"
   },
   {
    "duration": 151,
    "start_time": "2021-12-30T16:43:57.760Z"
   },
   {
    "duration": 396,
    "start_time": "2021-12-30T16:44:07.143Z"
   },
   {
    "duration": -1741,
    "start_time": "2021-12-30T16:44:09.282Z"
   },
   {
    "duration": -1749,
    "start_time": "2021-12-30T16:44:09.290Z"
   },
   {
    "duration": -1757,
    "start_time": "2021-12-30T16:44:09.299Z"
   },
   {
    "duration": -1759,
    "start_time": "2021-12-30T16:44:09.302Z"
   },
   {
    "duration": 746,
    "start_time": "2021-12-30T16:44:39.904Z"
   },
   {
    "duration": 123,
    "start_time": "2021-12-30T16:44:40.652Z"
   },
   {
    "duration": 83,
    "start_time": "2021-12-30T16:44:40.778Z"
   },
   {
    "duration": 18,
    "start_time": "2021-12-30T16:44:40.863Z"
   },
   {
    "duration": 30,
    "start_time": "2021-12-30T16:44:40.883Z"
   },
   {
    "duration": 146,
    "start_time": "2021-12-30T16:51:39.474Z"
   },
   {
    "duration": 750,
    "start_time": "2022-01-03T08:53:11.621Z"
   },
   {
    "duration": 129,
    "start_time": "2022-01-03T08:53:12.373Z"
   },
   {
    "duration": 89,
    "start_time": "2022-01-03T08:53:12.504Z"
   },
   {
    "duration": 20,
    "start_time": "2022-01-03T08:53:12.595Z"
   },
   {
    "duration": 38,
    "start_time": "2022-01-03T08:53:12.616Z"
   },
   {
    "duration": 2,
    "start_time": "2022-01-03T08:53:12.656Z"
   },
   {
    "duration": 171,
    "start_time": "2022-01-03T09:15:17.051Z"
   },
   {
    "duration": 26,
    "start_time": "2022-01-03T09:17:04.127Z"
   },
   {
    "duration": 19,
    "start_time": "2022-01-03T09:17:20.363Z"
   },
   {
    "duration": 394,
    "start_time": "2022-01-03T09:18:35.807Z"
   },
   {
    "duration": 27,
    "start_time": "2022-01-03T09:18:49.283Z"
   },
   {
    "duration": 37,
    "start_time": "2022-01-03T09:19:04.583Z"
   },
   {
    "duration": 150,
    "start_time": "2022-01-03T09:21:08.699Z"
   },
   {
    "duration": 263,
    "start_time": "2022-01-03T09:23:19.191Z"
   },
   {
    "duration": 175,
    "start_time": "2022-01-03T09:23:36.194Z"
   },
   {
    "duration": 6556,
    "start_time": "2022-01-03T09:24:49.166Z"
   },
   {
    "duration": 125,
    "start_time": "2022-01-03T09:25:01.890Z"
   },
   {
    "duration": 770,
    "start_time": "2022-01-03T09:33:53.450Z"
   },
   {
    "duration": 56,
    "start_time": "2022-01-03T09:33:54.222Z"
   },
   {
    "duration": 169,
    "start_time": "2022-01-03T09:33:54.280Z"
   },
   {
    "duration": 119,
    "start_time": "2022-01-03T09:33:54.450Z"
   },
   {
    "duration": 20,
    "start_time": "2022-01-03T09:33:54.570Z"
   },
   {
    "duration": 38,
    "start_time": "2022-01-03T09:33:54.592Z"
   },
   {
    "duration": 7031,
    "start_time": "2022-01-03T09:33:54.631Z"
   },
   {
    "duration": 5993,
    "start_time": "2022-01-03T09:39:23.622Z"
   },
   {
    "duration": 488,
    "start_time": "2022-01-03T09:46:02.698Z"
   },
   {
    "duration": 19,
    "start_time": "2022-01-03T09:48:28.898Z"
   },
   {
    "duration": 743,
    "start_time": "2022-01-03T09:48:56.817Z"
   },
   {
    "duration": 59,
    "start_time": "2022-01-03T09:48:57.561Z"
   },
   {
    "duration": 179,
    "start_time": "2022-01-03T09:48:57.622Z"
   },
   {
    "duration": 139,
    "start_time": "2022-01-03T09:48:57.803Z"
   },
   {
    "duration": 20,
    "start_time": "2022-01-03T09:48:57.943Z"
   },
   {
    "duration": 32,
    "start_time": "2022-01-03T09:48:57.964Z"
   },
   {
    "duration": 35,
    "start_time": "2022-01-03T09:48:57.998Z"
   },
   {
    "duration": 14,
    "start_time": "2022-01-03T09:57:04.104Z"
   },
   {
    "duration": 26,
    "start_time": "2022-01-03T09:59:15.304Z"
   },
   {
    "duration": 38,
    "start_time": "2022-01-03T09:59:27.808Z"
   },
   {
    "duration": 26,
    "start_time": "2022-01-03T10:02:12.028Z"
   },
   {
    "duration": 34,
    "start_time": "2022-01-03T10:02:28.624Z"
   },
   {
    "duration": 3,
    "start_time": "2022-01-03T10:03:06.196Z"
   },
   {
    "duration": 1622,
    "start_time": "2022-01-03T10:09:16.275Z"
   },
   {
    "duration": 23,
    "start_time": "2022-01-03T10:09:48.343Z"
   },
   {
    "duration": 30,
    "start_time": "2022-01-03T10:13:55.583Z"
   },
   {
    "duration": 10,
    "start_time": "2022-01-03T10:14:37.642Z"
   },
   {
    "duration": 254,
    "start_time": "2022-01-03T10:16:56.222Z"
   },
   {
    "duration": 9,
    "start_time": "2022-01-03T10:16:59.746Z"
   },
   {
    "duration": 30,
    "start_time": "2022-01-03T10:19:14.190Z"
   },
   {
    "duration": 730,
    "start_time": "2022-01-03T10:19:41.352Z"
   },
   {
    "duration": 80,
    "start_time": "2022-01-03T10:19:42.085Z"
   },
   {
    "duration": 190,
    "start_time": "2022-01-03T10:19:42.167Z"
   },
   {
    "duration": 126,
    "start_time": "2022-01-03T10:19:42.358Z"
   },
   {
    "duration": 26,
    "start_time": "2022-01-03T10:19:42.486Z"
   },
   {
    "duration": 34,
    "start_time": "2022-01-03T10:19:42.514Z"
   },
   {
    "duration": 34,
    "start_time": "2022-01-03T10:19:42.550Z"
   },
   {
    "duration": 13,
    "start_time": "2022-01-03T10:19:42.587Z"
   },
   {
    "duration": 45,
    "start_time": "2022-01-03T10:19:42.602Z"
   },
   {
    "duration": 7,
    "start_time": "2022-01-03T10:19:42.649Z"
   },
   {
    "duration": 371,
    "start_time": "2022-01-03T10:23:23.004Z"
   },
   {
    "duration": 29,
    "start_time": "2022-01-03T10:24:23.452Z"
   },
   {
    "duration": 13,
    "start_time": "2022-01-03T10:30:42.379Z"
   },
   {
    "duration": 18,
    "start_time": "2022-01-03T10:30:52.870Z"
   },
   {
    "duration": 12,
    "start_time": "2022-01-03T10:31:10.715Z"
   },
   {
    "duration": 699,
    "start_time": "2022-01-04T11:31:29.368Z"
   },
   {
    "duration": 59,
    "start_time": "2022-01-04T11:31:30.069Z"
   },
   {
    "duration": 211,
    "start_time": "2022-01-04T11:31:30.130Z"
   },
   {
    "duration": 117,
    "start_time": "2022-01-04T11:31:30.343Z"
   },
   {
    "duration": 25,
    "start_time": "2022-01-04T11:31:30.462Z"
   },
   {
    "duration": 34,
    "start_time": "2022-01-04T11:31:30.489Z"
   },
   {
    "duration": 34,
    "start_time": "2022-01-04T11:31:30.524Z"
   },
   {
    "duration": 13,
    "start_time": "2022-01-04T11:31:30.560Z"
   },
   {
    "duration": 22,
    "start_time": "2022-01-04T11:31:30.574Z"
   },
   {
    "duration": 6,
    "start_time": "2022-01-04T11:31:30.597Z"
   },
   {
    "duration": 12,
    "start_time": "2022-01-04T11:31:30.604Z"
   },
   {
    "duration": 29,
    "start_time": "2022-01-04T11:45:55.291Z"
   },
   {
    "duration": 435,
    "start_time": "2022-01-04T12:05:24.685Z"
   },
   {
    "duration": 155,
    "start_time": "2022-01-04T12:06:46.997Z"
   },
   {
    "duration": 688,
    "start_time": "2022-01-04T12:06:58.782Z"
   },
   {
    "duration": 57,
    "start_time": "2022-01-04T12:06:59.472Z"
   },
   {
    "duration": 173,
    "start_time": "2022-01-04T12:06:59.531Z"
   },
   {
    "duration": 125,
    "start_time": "2022-01-04T12:06:59.706Z"
   },
   {
    "duration": 24,
    "start_time": "2022-01-04T12:06:59.833Z"
   },
   {
    "duration": 33,
    "start_time": "2022-01-04T12:06:59.858Z"
   },
   {
    "duration": 34,
    "start_time": "2022-01-04T12:06:59.893Z"
   },
   {
    "duration": 12,
    "start_time": "2022-01-04T12:06:59.930Z"
   },
   {
    "duration": 22,
    "start_time": "2022-01-04T12:06:59.943Z"
   },
   {
    "duration": 6,
    "start_time": "2022-01-04T12:06:59.966Z"
   },
   {
    "duration": 12,
    "start_time": "2022-01-04T12:06:59.973Z"
   },
   {
    "duration": 23,
    "start_time": "2022-01-04T12:06:59.986Z"
   },
   {
    "duration": 162,
    "start_time": "2022-01-04T12:08:45.310Z"
   },
   {
    "duration": 784,
    "start_time": "2022-01-04T12:08:53.037Z"
   },
   {
    "duration": 58,
    "start_time": "2022-01-04T12:08:53.823Z"
   },
   {
    "duration": 173,
    "start_time": "2022-01-04T12:08:53.884Z"
   },
   {
    "duration": 121,
    "start_time": "2022-01-04T12:08:54.059Z"
   },
   {
    "duration": 25,
    "start_time": "2022-01-04T12:08:54.182Z"
   },
   {
    "duration": 31,
    "start_time": "2022-01-04T12:08:54.208Z"
   },
   {
    "duration": 38,
    "start_time": "2022-01-04T12:08:54.241Z"
   },
   {
    "duration": 12,
    "start_time": "2022-01-04T12:08:54.281Z"
   },
   {
    "duration": 22,
    "start_time": "2022-01-04T12:08:54.295Z"
   },
   {
    "duration": 22,
    "start_time": "2022-01-04T12:08:54.319Z"
   },
   {
    "duration": 12,
    "start_time": "2022-01-04T12:08:54.343Z"
   },
   {
    "duration": 17,
    "start_time": "2022-01-04T12:08:54.357Z"
   },
   {
    "duration": 14,
    "start_time": "2022-01-04T12:18:49.041Z"
   },
   {
    "duration": 14,
    "start_time": "2022-01-04T12:19:27.165Z"
   },
   {
    "duration": 307,
    "start_time": "2022-01-04T12:30:36.207Z"
   },
   {
    "duration": 4,
    "start_time": "2022-01-04T12:31:42.248Z"
   },
   {
    "duration": 6,
    "start_time": "2022-01-04T12:32:05.012Z"
   },
   {
    "duration": 9,
    "start_time": "2022-01-04T12:34:55.223Z"
   },
   {
    "duration": 21,
    "start_time": "2022-01-04T12:43:41.899Z"
   },
   {
    "duration": 85,
    "start_time": "2022-01-04T12:49:02.598Z"
   },
   {
    "duration": 77,
    "start_time": "2022-01-04T12:49:31.618Z"
   },
   {
    "duration": 77,
    "start_time": "2022-01-04T12:49:59.146Z"
   },
   {
    "duration": 21,
    "start_time": "2022-01-04T12:50:26.490Z"
   },
   {
    "duration": 22,
    "start_time": "2022-01-04T12:50:44.770Z"
   },
   {
    "duration": 20,
    "start_time": "2022-01-04T13:09:05.573Z"
   },
   {
    "duration": 768,
    "start_time": "2022-01-04T13:09:32.238Z"
   },
   {
    "duration": 68,
    "start_time": "2022-01-04T13:09:33.008Z"
   },
   {
    "duration": 208,
    "start_time": "2022-01-04T13:09:33.079Z"
   },
   {
    "duration": 137,
    "start_time": "2022-01-04T13:09:33.290Z"
   },
   {
    "duration": 29,
    "start_time": "2022-01-04T13:09:33.429Z"
   },
   {
    "duration": 34,
    "start_time": "2022-01-04T13:09:33.461Z"
   },
   {
    "duration": 36,
    "start_time": "2022-01-04T13:09:33.497Z"
   },
   {
    "duration": 13,
    "start_time": "2022-01-04T13:09:33.535Z"
   },
   {
    "duration": 25,
    "start_time": "2022-01-04T13:09:33.550Z"
   },
   {
    "duration": 6,
    "start_time": "2022-01-04T13:09:33.577Z"
   },
   {
    "duration": 12,
    "start_time": "2022-01-04T13:09:33.584Z"
   },
   {
    "duration": 13,
    "start_time": "2022-01-04T13:09:33.597Z"
   },
   {
    "duration": 43,
    "start_time": "2022-01-04T13:09:33.611Z"
   },
   {
    "duration": 9,
    "start_time": "2022-01-04T13:10:01.354Z"
   },
   {
    "duration": 23,
    "start_time": "2022-01-04T13:10:18.585Z"
   },
   {
    "duration": 22,
    "start_time": "2022-01-04T13:11:11.253Z"
   },
   {
    "duration": 21,
    "start_time": "2022-01-04T13:11:59.625Z"
   },
   {
    "duration": 25,
    "start_time": "2022-01-04T13:19:06.104Z"
   },
   {
    "duration": 820,
    "start_time": "2022-01-04T13:19:40.219Z"
   },
   {
    "duration": 60,
    "start_time": "2022-01-04T13:19:41.041Z"
   },
   {
    "duration": 194,
    "start_time": "2022-01-04T13:19:41.103Z"
   },
   {
    "duration": 128,
    "start_time": "2022-01-04T13:19:41.299Z"
   },
   {
    "duration": 27,
    "start_time": "2022-01-04T13:19:41.429Z"
   },
   {
    "duration": 33,
    "start_time": "2022-01-04T13:19:41.458Z"
   },
   {
    "duration": 47,
    "start_time": "2022-01-04T13:19:41.493Z"
   },
   {
    "duration": 14,
    "start_time": "2022-01-04T13:19:41.543Z"
   },
   {
    "duration": 25,
    "start_time": "2022-01-04T13:19:41.559Z"
   },
   {
    "duration": 8,
    "start_time": "2022-01-04T13:19:41.586Z"
   },
   {
    "duration": 19,
    "start_time": "2022-01-04T13:19:41.596Z"
   },
   {
    "duration": 35,
    "start_time": "2022-01-04T13:19:41.617Z"
   },
   {
    "duration": 46,
    "start_time": "2022-01-04T13:19:41.654Z"
   },
   {
    "duration": 39,
    "start_time": "2022-01-04T13:20:02.395Z"
   },
   {
    "duration": 42,
    "start_time": "2022-01-04T13:30:36.674Z"
   },
   {
    "duration": 44,
    "start_time": "2022-01-04T13:32:31.782Z"
   },
   {
    "duration": 338,
    "start_time": "2022-01-05T10:58:31.860Z"
   },
   {
    "duration": 705,
    "start_time": "2022-01-05T10:58:41.226Z"
   },
   {
    "duration": 54,
    "start_time": "2022-01-05T10:58:41.933Z"
   },
   {
    "duration": 153,
    "start_time": "2022-01-05T10:58:41.989Z"
   },
   {
    "duration": 108,
    "start_time": "2022-01-05T10:58:42.144Z"
   },
   {
    "duration": 23,
    "start_time": "2022-01-05T10:58:42.254Z"
   },
   {
    "duration": 29,
    "start_time": "2022-01-05T10:58:42.279Z"
   },
   {
    "duration": 28,
    "start_time": "2022-01-05T10:58:42.309Z"
   },
   {
    "duration": 11,
    "start_time": "2022-01-05T10:58:42.339Z"
   },
   {
    "duration": 20,
    "start_time": "2022-01-05T10:58:42.351Z"
   },
   {
    "duration": 5,
    "start_time": "2022-01-05T10:58:42.372Z"
   },
   {
    "duration": 10,
    "start_time": "2022-01-05T10:58:42.378Z"
   },
   {
    "duration": 62,
    "start_time": "2022-01-05T10:58:42.389Z"
   },
   {
    "duration": 10,
    "start_time": "2022-01-05T10:58:42.453Z"
   },
   {
    "duration": 269,
    "start_time": "2022-01-05T11:04:40.540Z"
   },
   {
    "duration": 186,
    "start_time": "2022-01-05T11:05:00.189Z"
   },
   {
    "duration": 197,
    "start_time": "2022-01-05T11:05:33.958Z"
   },
   {
    "duration": 171,
    "start_time": "2022-01-05T11:06:34.376Z"
   },
   {
    "duration": 173,
    "start_time": "2022-01-05T11:06:54.649Z"
   },
   {
    "duration": 186,
    "start_time": "2022-01-05T11:07:12.417Z"
   },
   {
    "duration": 184,
    "start_time": "2022-01-05T11:07:31.537Z"
   },
   {
    "duration": 183,
    "start_time": "2022-01-05T11:07:42.185Z"
   },
   {
    "duration": 202,
    "start_time": "2022-01-05T11:08:13.016Z"
   },
   {
    "duration": 185,
    "start_time": "2022-01-05T11:08:29.624Z"
   },
   {
    "duration": 185,
    "start_time": "2022-01-05T11:08:58.069Z"
   },
   {
    "duration": 165,
    "start_time": "2022-01-05T11:09:08.197Z"
   },
   {
    "duration": 8,
    "start_time": "2022-01-05T11:10:28.168Z"
   },
   {
    "duration": 8,
    "start_time": "2022-01-05T11:12:21.089Z"
   },
   {
    "duration": 843,
    "start_time": "2022-01-05T13:06:55.986Z"
   },
   {
    "duration": 176,
    "start_time": "2022-01-05T13:07:11.266Z"
   },
   {
    "duration": 232,
    "start_time": "2022-01-05T13:08:08.973Z"
   },
   {
    "duration": 201,
    "start_time": "2022-01-05T13:09:45.945Z"
   },
   {
    "duration": 124,
    "start_time": "2022-01-05T13:10:07.741Z"
   },
   {
    "duration": 115,
    "start_time": "2022-01-05T13:16:46.801Z"
   },
   {
    "duration": 119,
    "start_time": "2022-01-05T13:17:42.182Z"
   },
   {
    "duration": 751,
    "start_time": "2022-01-05T13:18:02.790Z"
   },
   {
    "duration": 53,
    "start_time": "2022-01-05T13:18:03.542Z"
   },
   {
    "duration": 153,
    "start_time": "2022-01-05T13:18:03.597Z"
   },
   {
    "duration": 113,
    "start_time": "2022-01-05T13:18:03.752Z"
   },
   {
    "duration": 24,
    "start_time": "2022-01-05T13:18:03.867Z"
   },
   {
    "duration": 68,
    "start_time": "2022-01-05T13:18:03.892Z"
   },
   {
    "duration": 29,
    "start_time": "2022-01-05T13:18:03.962Z"
   },
   {
    "duration": 11,
    "start_time": "2022-01-05T13:18:03.993Z"
   },
   {
    "duration": 20,
    "start_time": "2022-01-05T13:18:04.006Z"
   },
   {
    "duration": 5,
    "start_time": "2022-01-05T13:18:04.027Z"
   },
   {
    "duration": 16,
    "start_time": "2022-01-05T13:18:04.033Z"
   },
   {
    "duration": 43,
    "start_time": "2022-01-05T13:18:04.050Z"
   },
   {
    "duration": 11,
    "start_time": "2022-01-05T13:18:04.094Z"
   },
   {
    "duration": 25,
    "start_time": "2022-01-05T13:18:04.107Z"
   },
   {
    "duration": 242,
    "start_time": "2022-01-05T13:18:04.134Z"
   },
   {
    "duration": 8,
    "start_time": "2022-01-05T13:18:04.378Z"
   },
   {
    "duration": 224,
    "start_time": "2022-01-05T13:18:04.387Z"
   },
   {
    "duration": 116,
    "start_time": "2022-01-05T13:18:04.612Z"
   },
   {
    "duration": 292,
    "start_time": "2022-01-05T13:18:30.090Z"
   },
   {
    "duration": 235,
    "start_time": "2022-01-05T13:18:49.641Z"
   },
   {
    "duration": 237,
    "start_time": "2022-01-05T13:20:07.905Z"
   },
   {
    "duration": 11,
    "start_time": "2022-01-05T13:35:04.312Z"
   },
   {
    "duration": 8,
    "start_time": "2022-01-05T13:35:08.056Z"
   },
   {
    "duration": 8,
    "start_time": "2022-01-05T13:35:11.068Z"
   },
   {
    "duration": 248,
    "start_time": "2022-01-05T13:35:14.268Z"
   },
   {
    "duration": 248,
    "start_time": "2022-01-05T13:35:30.140Z"
   },
   {
    "duration": 11,
    "start_time": "2022-01-05T13:43:44.664Z"
   },
   {
    "duration": 8,
    "start_time": "2022-01-05T13:43:50.239Z"
   },
   {
    "duration": 8,
    "start_time": "2022-01-05T13:43:54.780Z"
   },
   {
    "duration": 245,
    "start_time": "2022-01-05T13:43:59.076Z"
   },
   {
    "duration": 296,
    "start_time": "2022-01-05T13:44:21.164Z"
   },
   {
    "duration": 344,
    "start_time": "2022-01-05T13:44:38.352Z"
   },
   {
    "duration": 13,
    "start_time": "2022-01-05T13:55:05.383Z"
   },
   {
    "duration": 9,
    "start_time": "2022-01-05T13:55:07.707Z"
   },
   {
    "duration": 9,
    "start_time": "2022-01-05T13:55:09.847Z"
   },
   {
    "duration": 444,
    "start_time": "2022-01-05T13:55:12.319Z"
   },
   {
    "duration": 496,
    "start_time": "2022-01-05T13:55:52.870Z"
   },
   {
    "duration": 9,
    "start_time": "2022-01-05T13:58:08.774Z"
   },
   {
    "duration": 13,
    "start_time": "2022-01-05T14:00:03.846Z"
   },
   {
    "duration": 489,
    "start_time": "2022-01-05T14:06:08.145Z"
   },
   {
    "duration": 572,
    "start_time": "2022-01-05T14:06:20.498Z"
   },
   {
    "duration": 193,
    "start_time": "2022-01-05T14:06:39.738Z"
   },
   {
    "duration": 225,
    "start_time": "2022-01-05T14:06:51.528Z"
   },
   {
    "duration": 224,
    "start_time": "2022-01-05T14:07:17.898Z"
   },
   {
    "duration": 6,
    "start_time": "2022-01-05T14:08:05.770Z"
   },
   {
    "duration": 11,
    "start_time": "2022-01-05T14:08:24.330Z"
   },
   {
    "duration": 4,
    "start_time": "2022-01-05T14:09:01.262Z"
   },
   {
    "duration": 377,
    "start_time": "2022-01-05T14:09:11.373Z"
   },
   {
    "duration": 334,
    "start_time": "2022-01-05T14:09:16.498Z"
   },
   {
    "duration": 31,
    "start_time": "2022-01-05T14:10:35.189Z"
   },
   {
    "duration": 31,
    "start_time": "2022-01-05T14:11:12.649Z"
   },
   {
    "duration": 31,
    "start_time": "2022-01-05T14:11:30.761Z"
   },
   {
    "duration": 28,
    "start_time": "2022-01-05T14:12:22.773Z"
   },
   {
    "duration": 725,
    "start_time": "2022-01-05T14:15:40.925Z"
   },
   {
    "duration": 54,
    "start_time": "2022-01-05T14:15:41.652Z"
   },
   {
    "duration": 155,
    "start_time": "2022-01-05T14:15:41.708Z"
   },
   {
    "duration": 112,
    "start_time": "2022-01-05T14:15:41.865Z"
   },
   {
    "duration": 23,
    "start_time": "2022-01-05T14:15:41.979Z"
   },
   {
    "duration": 39,
    "start_time": "2022-01-05T14:15:42.004Z"
   },
   {
    "duration": 29,
    "start_time": "2022-01-05T14:15:42.045Z"
   },
   {
    "duration": 11,
    "start_time": "2022-01-05T14:15:42.076Z"
   },
   {
    "duration": 19,
    "start_time": "2022-01-05T14:15:42.089Z"
   },
   {
    "duration": 5,
    "start_time": "2022-01-05T14:15:42.110Z"
   },
   {
    "duration": 18,
    "start_time": "2022-01-05T14:15:42.116Z"
   },
   {
    "duration": 28,
    "start_time": "2022-01-05T14:15:42.136Z"
   },
   {
    "duration": 11,
    "start_time": "2022-01-05T14:15:42.165Z"
   },
   {
    "duration": 7,
    "start_time": "2022-01-05T14:15:42.177Z"
   },
   {
    "duration": 247,
    "start_time": "2022-01-05T14:15:42.185Z"
   },
   {
    "duration": 8,
    "start_time": "2022-01-05T14:15:42.434Z"
   },
   {
    "duration": 208,
    "start_time": "2022-01-05T14:15:42.443Z"
   },
   {
    "duration": 236,
    "start_time": "2022-01-05T14:15:42.653Z"
   },
   {
    "duration": 11,
    "start_time": "2022-01-05T14:15:42.890Z"
   },
   {
    "duration": 7,
    "start_time": "2022-01-05T14:15:42.903Z"
   },
   {
    "duration": 21,
    "start_time": "2022-01-05T14:15:42.912Z"
   },
   {
    "duration": 295,
    "start_time": "2022-01-05T14:15:42.935Z"
   },
   {
    "duration": 12,
    "start_time": "2022-01-05T14:15:43.233Z"
   },
   {
    "duration": 8,
    "start_time": "2022-01-05T14:15:43.247Z"
   },
   {
    "duration": 8,
    "start_time": "2022-01-05T14:15:43.257Z"
   },
   {
    "duration": 354,
    "start_time": "2022-01-05T14:15:43.266Z"
   },
   {
    "duration": 14,
    "start_time": "2022-01-05T14:15:43.622Z"
   },
   {
    "duration": 7,
    "start_time": "2022-01-05T14:15:43.637Z"
   },
   {
    "duration": 7,
    "start_time": "2022-01-05T14:15:43.646Z"
   },
   {
    "duration": 314,
    "start_time": "2022-01-05T14:15:43.654Z"
   },
   {
    "duration": 312,
    "start_time": "2022-01-05T14:28:34.900Z"
   },
   {
    "duration": 318,
    "start_time": "2022-01-05T14:28:51.063Z"
   },
   {
    "duration": 233,
    "start_time": "2022-01-05T14:29:12.076Z"
   },
   {
    "duration": 291,
    "start_time": "2022-01-05T14:29:21.311Z"
   },
   {
    "duration": 680,
    "start_time": "2022-01-05T14:29:55.647Z"
   },
   {
    "duration": 53,
    "start_time": "2022-01-05T14:29:56.328Z"
   },
   {
    "duration": 155,
    "start_time": "2022-01-05T14:29:56.383Z"
   },
   {
    "duration": 108,
    "start_time": "2022-01-05T14:29:56.540Z"
   },
   {
    "duration": 24,
    "start_time": "2022-01-05T14:29:56.650Z"
   },
   {
    "duration": 40,
    "start_time": "2022-01-05T14:29:56.676Z"
   },
   {
    "duration": 30,
    "start_time": "2022-01-05T14:29:56.717Z"
   },
   {
    "duration": 12,
    "start_time": "2022-01-05T14:29:56.749Z"
   },
   {
    "duration": 20,
    "start_time": "2022-01-05T14:29:56.763Z"
   },
   {
    "duration": 5,
    "start_time": "2022-01-05T14:29:56.784Z"
   },
   {
    "duration": 10,
    "start_time": "2022-01-05T14:29:56.791Z"
   },
   {
    "duration": 52,
    "start_time": "2022-01-05T14:29:56.802Z"
   },
   {
    "duration": 10,
    "start_time": "2022-01-05T14:29:56.855Z"
   },
   {
    "duration": 6,
    "start_time": "2022-01-05T14:29:56.866Z"
   },
   {
    "duration": 243,
    "start_time": "2022-01-05T14:29:56.874Z"
   },
   {
    "duration": 14,
    "start_time": "2022-01-05T14:29:57.119Z"
   },
   {
    "duration": 197,
    "start_time": "2022-01-05T14:29:57.134Z"
   },
   {
    "duration": 244,
    "start_time": "2022-01-05T14:29:57.332Z"
   },
   {
    "duration": 11,
    "start_time": "2022-01-05T14:29:57.577Z"
   },
   {
    "duration": 9,
    "start_time": "2022-01-05T14:29:57.589Z"
   },
   {
    "duration": 6,
    "start_time": "2022-01-05T14:29:57.600Z"
   },
   {
    "duration": 269,
    "start_time": "2022-01-05T14:29:57.627Z"
   },
   {
    "duration": 11,
    "start_time": "2022-01-05T14:29:57.899Z"
   },
   {
    "duration": 19,
    "start_time": "2022-01-05T14:29:57.911Z"
   },
   {
    "duration": 8,
    "start_time": "2022-01-05T14:29:57.931Z"
   },
   {
    "duration": 331,
    "start_time": "2022-01-05T14:29:57.941Z"
   },
   {
    "duration": 11,
    "start_time": "2022-01-05T14:29:58.273Z"
   },
   {
    "duration": 8,
    "start_time": "2022-01-05T14:29:58.285Z"
   },
   {
    "duration": 6,
    "start_time": "2022-01-05T14:29:58.295Z"
   },
   {
    "duration": 211,
    "start_time": "2022-01-05T14:29:58.302Z"
   },
   {
    "duration": 335,
    "start_time": "2022-01-05T15:01:54.620Z"
   },
   {
    "duration": 8,
    "start_time": "2022-01-05T15:03:39.740Z"
   },
   {
    "duration": 9,
    "start_time": "2022-01-05T15:12:57.788Z"
   },
   {
    "duration": 4,
    "start_time": "2022-01-05T15:13:20.312Z"
   },
   {
    "duration": 7,
    "start_time": "2022-01-05T15:13:29.819Z"
   },
   {
    "duration": 6,
    "start_time": "2022-01-05T15:13:52.951Z"
   },
   {
    "duration": 5,
    "start_time": "2022-01-05T15:14:03.424Z"
   },
   {
    "duration": 6,
    "start_time": "2022-01-05T15:14:36.432Z"
   },
   {
    "duration": 7,
    "start_time": "2022-01-05T15:15:19.036Z"
   },
   {
    "duration": 114,
    "start_time": "2022-01-05T15:15:59.199Z"
   },
   {
    "duration": 17,
    "start_time": "2022-01-05T15:16:11.931Z"
   },
   {
    "duration": 34,
    "start_time": "2022-01-05T15:23:39.467Z"
   },
   {
    "duration": 14,
    "start_time": "2022-01-05T15:25:37.482Z"
   },
   {
    "duration": 8,
    "start_time": "2022-01-05T15:28:21.163Z"
   },
   {
    "duration": 8,
    "start_time": "2022-01-05T15:28:35.931Z"
   },
   {
    "duration": 240,
    "start_time": "2022-01-05T15:29:18.450Z"
   },
   {
    "duration": 10,
    "start_time": "2022-01-05T15:30:40.390Z"
   },
   {
    "duration": 10,
    "start_time": "2022-01-05T15:30:48.994Z"
   },
   {
    "duration": 10,
    "start_time": "2022-01-05T15:32:01.391Z"
   },
   {
    "duration": 10,
    "start_time": "2022-01-05T15:32:03.958Z"
   },
   {
    "duration": 727,
    "start_time": "2022-01-05T15:32:16.107Z"
   },
   {
    "duration": 52,
    "start_time": "2022-01-05T15:32:16.835Z"
   },
   {
    "duration": 161,
    "start_time": "2022-01-05T15:32:16.888Z"
   },
   {
    "duration": 109,
    "start_time": "2022-01-05T15:32:17.051Z"
   },
   {
    "duration": 23,
    "start_time": "2022-01-05T15:32:17.162Z"
   },
   {
    "duration": 29,
    "start_time": "2022-01-05T15:32:17.186Z"
   },
   {
    "duration": 30,
    "start_time": "2022-01-05T15:32:17.217Z"
   },
   {
    "duration": 11,
    "start_time": "2022-01-05T15:32:17.249Z"
   },
   {
    "duration": 20,
    "start_time": "2022-01-05T15:32:17.262Z"
   },
   {
    "duration": 5,
    "start_time": "2022-01-05T15:32:17.283Z"
   },
   {
    "duration": 10,
    "start_time": "2022-01-05T15:32:17.289Z"
   },
   {
    "duration": 46,
    "start_time": "2022-01-05T15:32:17.301Z"
   },
   {
    "duration": 12,
    "start_time": "2022-01-05T15:32:17.349Z"
   },
   {
    "duration": 8,
    "start_time": "2022-01-05T15:32:17.362Z"
   },
   {
    "duration": 256,
    "start_time": "2022-01-05T15:32:17.372Z"
   },
   {
    "duration": 9,
    "start_time": "2022-01-05T15:32:17.630Z"
   },
   {
    "duration": 202,
    "start_time": "2022-01-05T15:32:17.641Z"
   },
   {
    "duration": 277,
    "start_time": "2022-01-05T15:32:17.844Z"
   },
   {
    "duration": 17,
    "start_time": "2022-01-05T15:32:18.123Z"
   },
   {
    "duration": 10,
    "start_time": "2022-01-05T15:32:18.141Z"
   },
   {
    "duration": 7,
    "start_time": "2022-01-05T15:32:18.153Z"
   },
   {
    "duration": 301,
    "start_time": "2022-01-05T15:32:18.161Z"
   },
   {
    "duration": 11,
    "start_time": "2022-01-05T15:32:18.465Z"
   },
   {
    "duration": 10,
    "start_time": "2022-01-05T15:32:18.478Z"
   },
   {
    "duration": 9,
    "start_time": "2022-01-05T15:32:18.489Z"
   },
   {
    "duration": 340,
    "start_time": "2022-01-05T15:32:18.499Z"
   },
   {
    "duration": 11,
    "start_time": "2022-01-05T15:32:18.841Z"
   },
   {
    "duration": 12,
    "start_time": "2022-01-05T15:32:18.853Z"
   },
   {
    "duration": 16,
    "start_time": "2022-01-05T15:32:18.866Z"
   },
   {
    "duration": 196,
    "start_time": "2022-01-05T15:32:18.883Z"
   },
   {
    "duration": 370,
    "start_time": "2022-01-05T15:32:19.080Z"
   },
   {
    "duration": 8,
    "start_time": "2022-01-05T15:32:19.451Z"
   },
   {
    "duration": 15,
    "start_time": "2022-01-05T15:32:19.460Z"
   },
   {
    "duration": 9,
    "start_time": "2022-01-05T15:32:19.476Z"
   },
   {
    "duration": 17,
    "start_time": "2022-01-06T21:31:19.842Z"
   },
   {
    "duration": 719,
    "start_time": "2022-01-07T08:14:17.405Z"
   },
   {
    "duration": 169,
    "start_time": "2022-01-07T08:26:44.620Z"
   },
   {
    "duration": 52,
    "start_time": "2022-01-07T08:26:44.792Z"
   },
   {
    "duration": 170,
    "start_time": "2022-01-07T08:27:52.188Z"
   },
   {
    "duration": 140,
    "start_time": "2022-01-07T08:28:05.308Z"
   },
   {
    "duration": 810,
    "start_time": "2022-01-07T08:28:31.732Z"
   },
   {
    "duration": 61,
    "start_time": "2022-01-07T08:28:32.543Z"
   },
   {
    "duration": 172,
    "start_time": "2022-01-07T08:28:32.606Z"
   },
   {
    "duration": 135,
    "start_time": "2022-01-07T08:28:32.780Z"
   },
   {
    "duration": 24,
    "start_time": "2022-01-07T08:28:32.916Z"
   },
   {
    "duration": 28,
    "start_time": "2022-01-07T08:28:32.942Z"
   },
   {
    "duration": 47,
    "start_time": "2022-01-07T08:28:32.972Z"
   },
   {
    "duration": 12,
    "start_time": "2022-01-07T08:28:33.022Z"
   },
   {
    "duration": 45,
    "start_time": "2022-01-07T08:28:33.037Z"
   },
   {
    "duration": 7,
    "start_time": "2022-01-07T08:28:33.083Z"
   },
   {
    "duration": 36,
    "start_time": "2022-01-07T08:28:33.091Z"
   },
   {
    "duration": 59,
    "start_time": "2022-01-07T08:28:33.129Z"
   },
   {
    "duration": 12,
    "start_time": "2022-01-07T08:28:33.190Z"
   },
   {
    "duration": 9,
    "start_time": "2022-01-07T08:28:33.204Z"
   },
   {
    "duration": 451,
    "start_time": "2022-01-07T08:28:33.215Z"
   },
   {
    "duration": 12,
    "start_time": "2022-01-07T08:28:33.669Z"
   },
   {
    "duration": 377,
    "start_time": "2022-01-07T08:28:33.683Z"
   },
   {
    "duration": 526,
    "start_time": "2022-01-07T08:28:34.063Z"
   },
   {
    "duration": 16,
    "start_time": "2022-01-07T08:28:34.591Z"
   },
   {
    "duration": 9,
    "start_time": "2022-01-07T08:28:34.609Z"
   },
   {
    "duration": 9,
    "start_time": "2022-01-07T08:28:34.620Z"
   },
   {
    "duration": 317,
    "start_time": "2022-01-07T08:28:34.630Z"
   },
   {
    "duration": 13,
    "start_time": "2022-01-07T08:28:34.960Z"
   },
   {
    "duration": 9,
    "start_time": "2022-01-07T08:28:34.975Z"
   },
   {
    "duration": 10,
    "start_time": "2022-01-07T08:28:34.986Z"
   },
   {
    "duration": 385,
    "start_time": "2022-01-07T08:28:34.998Z"
   },
   {
    "duration": 13,
    "start_time": "2022-01-07T08:28:35.385Z"
   },
   {
    "duration": 8,
    "start_time": "2022-01-07T08:28:35.400Z"
   },
   {
    "duration": 8,
    "start_time": "2022-01-07T08:28:35.410Z"
   },
   {
    "duration": 247,
    "start_time": "2022-01-07T08:28:35.420Z"
   },
   {
    "duration": 445,
    "start_time": "2022-01-07T08:28:35.669Z"
   },
   {
    "duration": 8,
    "start_time": "2022-01-07T08:28:36.116Z"
   },
   {
    "duration": 13,
    "start_time": "2022-01-07T08:28:36.126Z"
   },
   {
    "duration": 22,
    "start_time": "2022-01-07T08:28:36.140Z"
   },
   {
    "duration": 858,
    "start_time": "2022-01-07T08:35:51.680Z"
   },
   {
    "duration": 65,
    "start_time": "2022-01-07T08:35:52.540Z"
   },
   {
    "duration": 182,
    "start_time": "2022-01-07T08:35:52.608Z"
   },
   {
    "duration": 133,
    "start_time": "2022-01-07T08:35:52.792Z"
   },
   {
    "duration": 25,
    "start_time": "2022-01-07T08:35:52.927Z"
   },
   {
    "duration": 315,
    "start_time": "2022-01-07T08:35:52.961Z"
   },
   {
    "duration": -8,
    "start_time": "2022-01-07T08:35:53.287Z"
   },
   {
    "duration": -21,
    "start_time": "2022-01-07T08:35:53.301Z"
   },
   {
    "duration": -23,
    "start_time": "2022-01-07T08:35:53.304Z"
   },
   {
    "duration": -25,
    "start_time": "2022-01-07T08:35:53.307Z"
   },
   {
    "duration": -29,
    "start_time": "2022-01-07T08:35:53.312Z"
   },
   {
    "duration": -30,
    "start_time": "2022-01-07T08:35:53.314Z"
   },
   {
    "duration": -32,
    "start_time": "2022-01-07T08:35:53.317Z"
   },
   {
    "duration": -33,
    "start_time": "2022-01-07T08:35:53.319Z"
   },
   {
    "duration": -35,
    "start_time": "2022-01-07T08:35:53.322Z"
   },
   {
    "duration": -37,
    "start_time": "2022-01-07T08:35:53.325Z"
   },
   {
    "duration": -39,
    "start_time": "2022-01-07T08:35:53.328Z"
   },
   {
    "duration": -40,
    "start_time": "2022-01-07T08:35:53.330Z"
   },
   {
    "duration": -42,
    "start_time": "2022-01-07T08:35:53.333Z"
   },
   {
    "duration": -43,
    "start_time": "2022-01-07T08:35:53.335Z"
   },
   {
    "duration": -45,
    "start_time": "2022-01-07T08:35:53.338Z"
   },
   {
    "duration": -47,
    "start_time": "2022-01-07T08:35:53.341Z"
   },
   {
    "duration": -50,
    "start_time": "2022-01-07T08:35:53.345Z"
   },
   {
    "duration": -52,
    "start_time": "2022-01-07T08:35:53.348Z"
   },
   {
    "duration": -54,
    "start_time": "2022-01-07T08:35:53.351Z"
   },
   {
    "duration": -57,
    "start_time": "2022-01-07T08:35:53.355Z"
   },
   {
    "duration": -61,
    "start_time": "2022-01-07T08:35:53.360Z"
   },
   {
    "duration": -63,
    "start_time": "2022-01-07T08:35:53.363Z"
   },
   {
    "duration": -65,
    "start_time": "2022-01-07T08:35:53.366Z"
   },
   {
    "duration": -79,
    "start_time": "2022-01-07T08:35:53.381Z"
   },
   {
    "duration": -80,
    "start_time": "2022-01-07T08:35:53.384Z"
   },
   {
    "duration": -82,
    "start_time": "2022-01-07T08:35:53.386Z"
   },
   {
    "duration": -83,
    "start_time": "2022-01-07T08:35:53.388Z"
   },
   {
    "duration": -84,
    "start_time": "2022-01-07T08:35:53.390Z"
   },
   {
    "duration": -85,
    "start_time": "2022-01-07T08:35:53.393Z"
   },
   {
    "duration": -88,
    "start_time": "2022-01-07T08:35:53.396Z"
   },
   {
    "duration": 219,
    "start_time": "2022-01-07T08:36:54.066Z"
   },
   {
    "duration": 194,
    "start_time": "2022-01-07T08:37:03.591Z"
   },
   {
    "duration": 819,
    "start_time": "2022-01-07T08:38:35.890Z"
   },
   {
    "duration": 65,
    "start_time": "2022-01-07T08:38:36.711Z"
   },
   {
    "duration": 194,
    "start_time": "2022-01-07T08:38:36.778Z"
   },
   {
    "duration": 140,
    "start_time": "2022-01-07T08:38:36.974Z"
   },
   {
    "duration": 27,
    "start_time": "2022-01-07T08:38:37.116Z"
   },
   {
    "duration": 218,
    "start_time": "2022-01-07T08:38:37.145Z"
   },
   {
    "duration": 216,
    "start_time": "2022-01-07T08:38:37.364Z"
   },
   {
    "duration": 29,
    "start_time": "2022-01-07T08:38:37.582Z"
   },
   {
    "duration": 44,
    "start_time": "2022-01-07T08:38:37.614Z"
   },
   {
    "duration": 14,
    "start_time": "2022-01-07T08:38:37.660Z"
   },
   {
    "duration": 25,
    "start_time": "2022-01-07T08:38:37.675Z"
   },
   {
    "duration": 6,
    "start_time": "2022-01-07T08:38:37.702Z"
   },
   {
    "duration": 59,
    "start_time": "2022-01-07T08:38:37.710Z"
   },
   {
    "duration": 34,
    "start_time": "2022-01-07T08:38:37.771Z"
   },
   {
    "duration": 17,
    "start_time": "2022-01-07T08:38:37.807Z"
   },
   {
    "duration": 12,
    "start_time": "2022-01-07T08:38:37.826Z"
   },
   {
    "duration": 260,
    "start_time": "2022-01-07T08:38:37.840Z"
   },
   {
    "duration": 11,
    "start_time": "2022-01-07T08:38:38.102Z"
   },
   {
    "duration": 223,
    "start_time": "2022-01-07T08:38:38.114Z"
   },
   {
    "duration": 278,
    "start_time": "2022-01-07T08:38:38.339Z"
   },
   {
    "duration": 13,
    "start_time": "2022-01-07T08:38:38.619Z"
   },
   {
    "duration": 28,
    "start_time": "2022-01-07T08:38:38.635Z"
   },
   {
    "duration": 10,
    "start_time": "2022-01-07T08:38:38.666Z"
   },
   {
    "duration": 297,
    "start_time": "2022-01-07T08:38:38.678Z"
   },
   {
    "duration": 15,
    "start_time": "2022-01-07T08:38:38.978Z"
   },
   {
    "duration": 10,
    "start_time": "2022-01-07T08:38:38.995Z"
   },
   {
    "duration": 9,
    "start_time": "2022-01-07T08:38:39.009Z"
   },
   {
    "duration": 396,
    "start_time": "2022-01-07T08:38:39.020Z"
   },
   {
    "duration": 15,
    "start_time": "2022-01-07T08:38:39.418Z"
   },
   {
    "duration": 27,
    "start_time": "2022-01-07T08:38:39.435Z"
   },
   {
    "duration": 9,
    "start_time": "2022-01-07T08:38:39.463Z"
   },
   {
    "duration": 236,
    "start_time": "2022-01-07T08:38:39.474Z"
   },
   {
    "duration": 498,
    "start_time": "2022-01-07T08:38:39.712Z"
   },
   {
    "duration": 8,
    "start_time": "2022-01-07T08:38:40.212Z"
   },
   {
    "duration": 23,
    "start_time": "2022-01-07T08:38:40.222Z"
   },
   {
    "duration": 19,
    "start_time": "2022-01-07T08:38:40.247Z"
   },
   {
    "duration": 493,
    "start_time": "2022-01-07T08:40:54.526Z"
   },
   {
    "duration": 312,
    "start_time": "2022-01-07T08:41:07.729Z"
   },
   {
    "duration": 329,
    "start_time": "2022-01-07T08:41:15.031Z"
   },
   {
    "duration": 397,
    "start_time": "2022-01-07T08:42:43.178Z"
   },
   {
    "duration": 319,
    "start_time": "2022-01-07T08:42:46.997Z"
   },
   {
    "duration": 311,
    "start_time": "2022-01-07T08:47:59.568Z"
   },
   {
    "duration": 31,
    "start_time": "2022-01-07T08:53:41.228Z"
   },
   {
    "duration": 26,
    "start_time": "2022-01-07T08:53:55.220Z"
   },
   {
    "duration": 959,
    "start_time": "2022-01-07T09:23:48.781Z"
   },
   {
    "duration": 75,
    "start_time": "2022-01-07T09:23:49.742Z"
   },
   {
    "duration": 206,
    "start_time": "2022-01-07T09:23:49.820Z"
   },
   {
    "duration": 140,
    "start_time": "2022-01-07T09:23:50.028Z"
   },
   {
    "duration": 24,
    "start_time": "2022-01-07T09:23:50.170Z"
   },
   {
    "duration": 350,
    "start_time": "2022-01-07T09:23:50.196Z"
   },
   {
    "duration": 322,
    "start_time": "2022-01-07T09:23:50.548Z"
   },
   {
    "duration": 30,
    "start_time": "2022-01-07T09:23:50.872Z"
   },
   {
    "duration": 96,
    "start_time": "2022-01-07T09:23:50.905Z"
   },
   {
    "duration": 13,
    "start_time": "2022-01-07T09:23:51.004Z"
   },
   {
    "duration": 24,
    "start_time": "2022-01-07T09:23:51.019Z"
   },
   {
    "duration": 20,
    "start_time": "2022-01-07T09:23:51.045Z"
   },
   {
    "duration": 37,
    "start_time": "2022-01-07T09:23:51.067Z"
   },
   {
    "duration": 32,
    "start_time": "2022-01-07T09:23:51.105Z"
   },
   {
    "duration": 33,
    "start_time": "2022-01-07T09:23:51.139Z"
   },
   {
    "duration": 8,
    "start_time": "2022-01-07T09:23:51.174Z"
   },
   {
    "duration": 209,
    "start_time": "2022-01-07T09:23:51.184Z"
   },
   {
    "duration": 9,
    "start_time": "2022-01-07T09:23:51.396Z"
   },
   {
    "duration": 244,
    "start_time": "2022-01-07T09:23:51.407Z"
   },
   {
    "duration": 285,
    "start_time": "2022-01-07T09:23:51.653Z"
   },
   {
    "duration": 23,
    "start_time": "2022-01-07T09:23:51.940Z"
   },
   {
    "duration": 10,
    "start_time": "2022-01-07T09:23:51.965Z"
   },
   {
    "duration": 10,
    "start_time": "2022-01-07T09:23:51.977Z"
   },
   {
    "duration": 290,
    "start_time": "2022-01-07T09:23:51.989Z"
   },
   {
    "duration": 15,
    "start_time": "2022-01-07T09:23:52.281Z"
   },
   {
    "duration": 10,
    "start_time": "2022-01-07T09:23:52.298Z"
   },
   {
    "duration": 10,
    "start_time": "2022-01-07T09:23:52.312Z"
   },
   {
    "duration": 406,
    "start_time": "2022-01-07T09:23:52.325Z"
   },
   {
    "duration": 15,
    "start_time": "2022-01-07T09:23:52.733Z"
   },
   {
    "duration": 11,
    "start_time": "2022-01-07T09:23:52.761Z"
   },
   {
    "duration": 19,
    "start_time": "2022-01-07T09:23:52.773Z"
   },
   {
    "duration": 215,
    "start_time": "2022-01-07T09:23:52.794Z"
   },
   {
    "duration": 444,
    "start_time": "2022-01-07T09:23:53.011Z"
   },
   {
    "duration": 10,
    "start_time": "2022-01-07T09:23:53.457Z"
   },
   {
    "duration": 12,
    "start_time": "2022-01-07T09:23:53.469Z"
   },
   {
    "duration": 11,
    "start_time": "2022-01-07T09:23:53.483Z"
   },
   {
    "duration": 358,
    "start_time": "2022-01-07T09:26:01.745Z"
   },
   {
    "duration": 851,
    "start_time": "2022-01-07T09:26:19.398Z"
   },
   {
    "duration": 57,
    "start_time": "2022-01-07T09:26:20.251Z"
   },
   {
    "duration": 199,
    "start_time": "2022-01-07T09:26:20.310Z"
   },
   {
    "duration": 153,
    "start_time": "2022-01-07T09:26:20.511Z"
   },
   {
    "duration": 41,
    "start_time": "2022-01-07T09:26:20.666Z"
   },
   {
    "duration": 350,
    "start_time": "2022-01-07T09:26:20.709Z"
   },
   {
    "duration": 332,
    "start_time": "2022-01-07T09:26:21.061Z"
   },
   {
    "duration": 30,
    "start_time": "2022-01-07T09:26:21.396Z"
   },
   {
    "duration": 102,
    "start_time": "2022-01-07T09:26:21.429Z"
   },
   {
    "duration": 26,
    "start_time": "2022-01-07T09:26:21.534Z"
   },
   {
    "duration": 24,
    "start_time": "2022-01-07T09:26:21.562Z"
   },
   {
    "duration": 8,
    "start_time": "2022-01-07T09:26:21.587Z"
   },
   {
    "duration": 37,
    "start_time": "2022-01-07T09:26:21.596Z"
   },
   {
    "duration": 57,
    "start_time": "2022-01-07T09:26:21.634Z"
   },
   {
    "duration": 13,
    "start_time": "2022-01-07T09:26:21.692Z"
   },
   {
    "duration": 9,
    "start_time": "2022-01-07T09:26:21.707Z"
   },
   {
    "duration": 225,
    "start_time": "2022-01-07T09:26:21.718Z"
   },
   {
    "duration": 18,
    "start_time": "2022-01-07T09:26:21.945Z"
   },
   {
    "duration": 235,
    "start_time": "2022-01-07T09:26:21.965Z"
   },
   {
    "duration": 281,
    "start_time": "2022-01-07T09:26:22.202Z"
   },
   {
    "duration": 13,
    "start_time": "2022-01-07T09:26:22.485Z"
   },
   {
    "duration": 8,
    "start_time": "2022-01-07T09:26:22.500Z"
   },
   {
    "duration": 7,
    "start_time": "2022-01-07T09:26:22.511Z"
   },
   {
    "duration": 293,
    "start_time": "2022-01-07T09:26:22.520Z"
   },
   {
    "duration": 12,
    "start_time": "2022-01-07T09:26:22.814Z"
   },
   {
    "duration": 8,
    "start_time": "2022-01-07T09:26:22.827Z"
   },
   {
    "duration": 25,
    "start_time": "2022-01-07T09:26:22.836Z"
   },
   {
    "duration": 373,
    "start_time": "2022-01-07T09:26:22.862Z"
   },
   {
    "duration": 25,
    "start_time": "2022-01-07T09:26:23.236Z"
   },
   {
    "duration": 9,
    "start_time": "2022-01-07T09:26:23.263Z"
   },
   {
    "duration": 9,
    "start_time": "2022-01-07T09:26:23.273Z"
   },
   {
    "duration": 235,
    "start_time": "2022-01-07T09:26:23.284Z"
   },
   {
    "duration": 451,
    "start_time": "2022-01-07T09:26:23.520Z"
   },
   {
    "duration": 8,
    "start_time": "2022-01-07T09:26:23.973Z"
   },
   {
    "duration": 13,
    "start_time": "2022-01-07T09:26:23.983Z"
   },
   {
    "duration": 10,
    "start_time": "2022-01-07T09:26:23.997Z"
   },
   {
    "duration": 802,
    "start_time": "2022-01-07T09:28:52.695Z"
   },
   {
    "duration": 68,
    "start_time": "2022-01-07T09:28:53.499Z"
   },
   {
    "duration": 179,
    "start_time": "2022-01-07T09:28:53.569Z"
   },
   {
    "duration": 133,
    "start_time": "2022-01-07T09:28:53.750Z"
   },
   {
    "duration": 25,
    "start_time": "2022-01-07T09:28:53.885Z"
   },
   {
    "duration": 54,
    "start_time": "2022-01-07T09:28:53.911Z"
   },
   {
    "duration": 12,
    "start_time": "2022-01-07T09:28:53.967Z"
   },
   {
    "duration": 314,
    "start_time": "2022-01-07T09:28:53.982Z"
   },
   {
    "duration": -52,
    "start_time": "2022-01-07T09:28:54.351Z"
   },
   {
    "duration": -55,
    "start_time": "2022-01-07T09:28:54.355Z"
   },
   {
    "duration": -56,
    "start_time": "2022-01-07T09:28:54.357Z"
   },
   {
    "duration": -58,
    "start_time": "2022-01-07T09:28:54.360Z"
   },
   {
    "duration": -59,
    "start_time": "2022-01-07T09:28:54.362Z"
   },
   {
    "duration": -61,
    "start_time": "2022-01-07T09:28:54.365Z"
   },
   {
    "duration": -121,
    "start_time": "2022-01-07T09:28:54.426Z"
   },
   {
    "duration": -126,
    "start_time": "2022-01-07T09:28:54.432Z"
   },
   {
    "duration": -128,
    "start_time": "2022-01-07T09:28:54.435Z"
   },
   {
    "duration": -130,
    "start_time": "2022-01-07T09:28:54.438Z"
   },
   {
    "duration": -133,
    "start_time": "2022-01-07T09:28:54.441Z"
   },
   {
    "duration": -134,
    "start_time": "2022-01-07T09:28:54.443Z"
   },
   {
    "duration": -135,
    "start_time": "2022-01-07T09:28:54.445Z"
   },
   {
    "duration": -136,
    "start_time": "2022-01-07T09:28:54.447Z"
   },
   {
    "duration": -137,
    "start_time": "2022-01-07T09:28:54.449Z"
   },
   {
    "duration": -139,
    "start_time": "2022-01-07T09:28:54.452Z"
   },
   {
    "duration": -140,
    "start_time": "2022-01-07T09:28:54.454Z"
   },
   {
    "duration": -142,
    "start_time": "2022-01-07T09:28:54.456Z"
   },
   {
    "duration": -143,
    "start_time": "2022-01-07T09:28:54.458Z"
   },
   {
    "duration": -144,
    "start_time": "2022-01-07T09:28:54.460Z"
   },
   {
    "duration": -145,
    "start_time": "2022-01-07T09:28:54.462Z"
   },
   {
    "duration": -147,
    "start_time": "2022-01-07T09:28:54.465Z"
   },
   {
    "duration": -148,
    "start_time": "2022-01-07T09:28:54.467Z"
   },
   {
    "duration": -150,
    "start_time": "2022-01-07T09:28:54.470Z"
   },
   {
    "duration": -151,
    "start_time": "2022-01-07T09:28:54.472Z"
   },
   {
    "duration": 29,
    "start_time": "2022-01-07T09:34:03.682Z"
   },
   {
    "duration": 823,
    "start_time": "2022-01-07T09:34:27.070Z"
   },
   {
    "duration": 57,
    "start_time": "2022-01-07T09:34:27.896Z"
   },
   {
    "duration": 185,
    "start_time": "2022-01-07T09:34:27.961Z"
   },
   {
    "duration": 135,
    "start_time": "2022-01-07T09:34:28.147Z"
   },
   {
    "duration": 25,
    "start_time": "2022-01-07T09:34:28.284Z"
   },
   {
    "duration": 31,
    "start_time": "2022-01-07T09:34:28.311Z"
   },
   {
    "duration": 46,
    "start_time": "2022-01-07T09:34:28.344Z"
   },
   {
    "duration": 13,
    "start_time": "2022-01-07T09:34:28.392Z"
   },
   {
    "duration": 23,
    "start_time": "2022-01-07T09:34:28.407Z"
   },
   {
    "duration": 7,
    "start_time": "2022-01-07T09:34:28.432Z"
   },
   {
    "duration": 34,
    "start_time": "2022-01-07T09:34:29.903Z"
   },
   {
    "duration": 32,
    "start_time": "2022-01-07T09:34:29.939Z"
   },
   {
    "duration": 12,
    "start_time": "2022-01-07T09:34:29.974Z"
   },
   {
    "duration": 9,
    "start_time": "2022-01-07T09:34:29.988Z"
   },
   {
    "duration": 230,
    "start_time": "2022-01-07T09:34:29.999Z"
   },
   {
    "duration": 10,
    "start_time": "2022-01-07T09:34:30.231Z"
   },
   {
    "duration": 244,
    "start_time": "2022-01-07T09:34:30.242Z"
   },
   {
    "duration": 295,
    "start_time": "2022-01-07T09:34:30.488Z"
   },
   {
    "duration": 12,
    "start_time": "2022-01-07T09:34:30.786Z"
   },
   {
    "duration": 12,
    "start_time": "2022-01-07T09:34:30.800Z"
   },
   {
    "duration": 15,
    "start_time": "2022-01-07T09:34:30.813Z"
   },
   {
    "duration": 390,
    "start_time": "2022-01-07T09:34:30.830Z"
   },
   {
    "duration": 29,
    "start_time": "2022-01-07T09:34:31.229Z"
   },
   {
    "duration": 85,
    "start_time": "2022-01-07T09:34:31.260Z"
   },
   {
    "duration": 132,
    "start_time": "2022-01-07T09:34:31.349Z"
   },
   {
    "duration": 551,
    "start_time": "2022-01-07T09:34:31.483Z"
   },
   {
    "duration": 25,
    "start_time": "2022-01-07T09:34:32.036Z"
   },
   {
    "duration": 10,
    "start_time": "2022-01-07T09:34:32.063Z"
   },
   {
    "duration": 18,
    "start_time": "2022-01-07T09:34:32.074Z"
   },
   {
    "duration": 243,
    "start_time": "2022-01-07T09:34:32.094Z"
   },
   {
    "duration": 463,
    "start_time": "2022-01-07T09:34:32.339Z"
   },
   {
    "duration": 8,
    "start_time": "2022-01-07T09:34:32.804Z"
   },
   {
    "duration": 15,
    "start_time": "2022-01-07T09:34:32.813Z"
   },
   {
    "duration": 10,
    "start_time": "2022-01-07T09:34:32.829Z"
   },
   {
    "duration": 346,
    "start_time": "2022-01-08T09:37:11.071Z"
   },
   {
    "duration": 1145,
    "start_time": "2022-01-08T09:37:32.824Z"
   },
   {
    "duration": 98,
    "start_time": "2022-01-08T09:37:33.971Z"
   },
   {
    "duration": 236,
    "start_time": "2022-01-08T09:37:34.072Z"
   },
   {
    "duration": 257,
    "start_time": "2022-01-08T09:37:34.312Z"
   },
   {
    "duration": 51,
    "start_time": "2022-01-08T09:37:34.572Z"
   },
   {
    "duration": 42,
    "start_time": "2022-01-08T09:37:34.626Z"
   },
   {
    "duration": 67,
    "start_time": "2022-01-08T09:37:34.670Z"
   },
   {
    "duration": 19,
    "start_time": "2022-01-08T09:37:34.740Z"
   },
   {
    "duration": 36,
    "start_time": "2022-01-08T09:37:34.762Z"
   },
   {
    "duration": 9,
    "start_time": "2022-01-08T09:37:34.824Z"
   },
   {
    "duration": 49,
    "start_time": "2022-01-08T09:37:34.835Z"
   },
   {
    "duration": 73,
    "start_time": "2022-01-08T09:37:34.886Z"
   },
   {
    "duration": 19,
    "start_time": "2022-01-08T09:37:34.961Z"
   },
   {
    "duration": 12,
    "start_time": "2022-01-08T09:37:34.982Z"
   },
   {
    "duration": 352,
    "start_time": "2022-01-08T09:37:34.996Z"
   },
   {
    "duration": 14,
    "start_time": "2022-01-08T09:37:35.350Z"
   },
   {
    "duration": 376,
    "start_time": "2022-01-08T09:37:35.367Z"
   },
   {
    "duration": 489,
    "start_time": "2022-01-08T09:37:35.746Z"
   },
   {
    "duration": 19,
    "start_time": "2022-01-08T09:37:36.238Z"
   },
   {
    "duration": 12,
    "start_time": "2022-01-08T09:37:36.260Z"
   },
   {
    "duration": 53,
    "start_time": "2022-01-08T09:37:36.274Z"
   },
   {
    "duration": 462,
    "start_time": "2022-01-08T09:37:36.329Z"
   },
   {
    "duration": 32,
    "start_time": "2022-01-08T09:37:36.795Z"
   },
   {
    "duration": 11,
    "start_time": "2022-01-08T09:37:36.830Z"
   },
   {
    "duration": 11,
    "start_time": "2022-01-08T09:37:36.844Z"
   },
   {
    "duration": 668,
    "start_time": "2022-01-08T09:37:36.858Z"
   },
   {
    "duration": 22,
    "start_time": "2022-01-08T09:37:37.529Z"
   },
   {
    "duration": 19,
    "start_time": "2022-01-08T09:37:37.555Z"
   },
   {
    "duration": 51,
    "start_time": "2022-01-08T09:37:37.577Z"
   },
   {
    "duration": 436,
    "start_time": "2022-01-08T09:37:37.631Z"
   },
   {
    "duration": 562,
    "start_time": "2022-01-08T09:37:38.070Z"
   },
   {
    "duration": 12,
    "start_time": "2022-01-08T09:37:38.635Z"
   },
   {
    "duration": 19,
    "start_time": "2022-01-08T09:37:38.650Z"
   },
   {
    "duration": 54,
    "start_time": "2022-01-08T09:37:38.672Z"
   }
  ],
  "kernelspec": {
   "display_name": "Python 3 (ipykernel)",
   "language": "python",
   "name": "python3"
  },
  "language_info": {
   "codemirror_mode": {
    "name": "ipython",
    "version": 3
   },
   "file_extension": ".py",
   "mimetype": "text/x-python",
   "name": "python",
   "nbconvert_exporter": "python",
   "pygments_lexer": "ipython3",
   "version": "3.9.12"
  },
  "toc": {
   "base_numbering": 1,
   "nav_menu": {},
   "number_sections": true,
   "sideBar": true,
   "skip_h1_title": true,
   "title_cell": "Table of Contents",
   "title_sidebar": "Contents",
   "toc_cell": false,
   "toc_position": {},
   "toc_section_display": true,
   "toc_window_display": true
  }
 },
 "nbformat": 4,
 "nbformat_minor": 2
}
